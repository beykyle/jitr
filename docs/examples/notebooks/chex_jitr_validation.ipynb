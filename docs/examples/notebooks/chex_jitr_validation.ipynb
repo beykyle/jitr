{
 "cells": [
  {
   "cell_type": "markdown",
   "id": "674dae53-f322-4a7f-83ef-942ea1641ddc",
   "metadata": {},
   "source": [
    "## Comparison of quasi-elastic $(p,n)$ differential cross sections between jitR and CHEX\n",
    "\n",
    "CHEX uses more rudimentary kinematics, which leads to the slight difference."
   ]
  },
  {
   "cell_type": "code",
   "execution_count": 16,
   "id": "e6ba03f8",
   "metadata": {},
   "outputs": [],
   "source": [
    "import pickle\n",
    "from pathlib import Path\n",
    "\n",
    "import numpy as np\n",
    "import pandas as pd\n",
    "from matplotlib import pyplot as plt\n",
    "from matplotlib.lines import Line2D"
   ]
  },
  {
   "cell_type": "code",
   "execution_count": 17,
   "id": "fdd41822-23c4-4230-b119-fbced5089832",
   "metadata": {},
   "outputs": [],
   "source": [
    "import jitr"
   ]
  },
  {
   "cell_type": "code",
   "execution_count": 18,
   "id": "38a6f920",
   "metadata": {},
   "outputs": [],
   "source": [
    "# initial and final systems\n",
    "proton = (1, 1)\n",
    "neutron = (1, 0)\n",
    "\n",
    "# Core p + Ca48\n",
    "Ca48 = (48, 20)\n",
    "\n",
    "# n + IAS\n",
    "Sc48 = (48, 21)\n",
    "\n",
    "# lab bombarding energy\n",
    "E_lab = 35  # MeV\n",
    "\n",
    "# excitation energy to isobaric analog state\n",
    "E_IAS = 6.67  # MeV\n",
    "\n",
    "reaction = jitr.reactions.Reaction(\n",
    "    target=Ca48, projectile=proton, product=neutron, residual=Sc48\n",
    ")"
   ]
  },
  {
   "cell_type": "code",
   "execution_count": 19,
   "id": "adc61bc4-fd9f-459f-a496-424acd54d0be",
   "metadata": {},
   "outputs": [],
   "source": [
    "kd_default_p = jitr.optical_potentials.kduq.Global(\n",
    "    proton, jitr.data_dir / Path(\"KD_default.json\")\n",
    ")\n",
    "kd_default_n = jitr.optical_potentials.kduq.Global(\n",
    "    neutron, jitr.data_dir / Path(\"KD_default.json\")\n",
    ")"
   ]
  },
  {
   "cell_type": "code",
   "execution_count": 20,
   "id": "9c90f896-1b92-4c41-a1e7-1eab3392fdf1",
   "metadata": {},
   "outputs": [],
   "source": [
    "kinematics_entrance = reaction.kinematics(E_lab)\n",
    "kinematics_exit = reaction.kinematics_exit(\n",
    "    kinematics_entrance, residual_excitation_energy=E_IAS\n",
    ")"
   ]
  },
  {
   "cell_type": "code",
   "execution_count": 21,
   "id": "89e1f3fc-25cf-49e3-b7cd-a1faed13da22",
   "metadata": {},
   "outputs": [
    {
     "data": {
      "text/plain": [
       "ChannelKinematics(Elab=35, Ecm=34.27976496842483, mu=np.float64(951.4664814091528), k=np.float64(1.28287146975579), eta=np.float64(0.5485537668413036))"
      ]
     },
     "execution_count": 21,
     "metadata": {},
     "output_type": "execute_result"
    }
   ],
   "source": [
    "kinematics_entrance"
   ]
  },
  {
   "cell_type": "code",
   "execution_count": 22,
   "id": "08d7aa13-c56e-4b0f-9862-f3621b9c6e33",
   "metadata": {},
   "outputs": [
    {
     "data": {
      "text/plain": [
       "ChannelKinematics(Elab=27.676442482181717, Ecm=27.106217022054977, mu=np.float64(945.9138169852782), k=np.float64(1.13952205754593), eta=np.float64(0.0))"
      ]
     },
     "execution_count": 22,
     "metadata": {},
     "output_type": "execute_result"
    }
   ],
   "source": [
    "kinematics_exit"
   ]
  },
  {
   "cell_type": "code",
   "execution_count": 23,
   "id": "143ea4f8-9b66-4eb3-bbcf-22f8b3f1e1b4",
   "metadata": {},
   "outputs": [],
   "source": [
    "channel_radius_fm = 16  # fm\n",
    "lmax = 20\n",
    "angles = np.linspace(0.01, np.pi, 200)"
   ]
  },
  {
   "cell_type": "code",
   "execution_count": 24,
   "id": "af4644ae-80d6-4b4a-8afb-ea9e467ddd51",
   "metadata": {},
   "outputs": [],
   "source": [
    "core_solver = jitr.rmatrix.Solver(nbasis=30)"
   ]
  },
  {
   "cell_type": "code",
   "execution_count": 25,
   "id": "dc19976d-76f7-4401-925e-dd4a8d3a6d50",
   "metadata": {},
   "outputs": [],
   "source": [
    "workspace = jitr.xs.quasielastic_pn.Workspace(\n",
    "    reaction,\n",
    "    kinematics_entrance,\n",
    "    kinematics_exit,\n",
    "    core_solver,\n",
    "    angles,\n",
    "    lmax,\n",
    "    channel_radius_fm,\n",
    "    tmatrix_abs_tol=1.0e-16,\n",
    ")"
   ]
  },
  {
   "cell_type": "code",
   "execution_count": 26,
   "id": "44c2b2fa-3420-4081-b3dc-6f46c1e98fe4",
   "metadata": {},
   "outputs": [],
   "source": [
    "# get parameters\n",
    "coul_p, central_params_p, spin_orbit_params_p = kd_default_p.get_params(\n",
    "    *Ca48, kinematics_entrance.Elab\n",
    ")\n",
    "\n",
    "coul_n, central_params_n, spin_orbit_params_n = kd_default_n.get_params(\n",
    "    *Sc48, kinematics_exit.Elab\n",
    ")"
   ]
  },
  {
   "cell_type": "code",
   "execution_count": 27,
   "id": "cd68ff12-8ff4-4c20-82ca-8072885e56a9",
   "metadata": {},
   "outputs": [],
   "source": [
    "xs = workspace.xs(\n",
    "    jitr.optical_potentials.potential_forms.coulomb_charged_sphere,\n",
    "    jitr.optical_potentials.kduq.central,\n",
    "    jitr.optical_potentials.kduq.spin_orbit,\n",
    "    jitr.optical_potentials.kduq.central,\n",
    "    jitr.optical_potentials.kduq.spin_orbit,\n",
    "    args_p_coulomb=coul_p,\n",
    "    args_p_central=central_params_p,\n",
    "    args_p_spin_orbit=spin_orbit_params_p,\n",
    "    args_n_central=central_params_n,\n",
    "    args_n_spin_orbit=spin_orbit_params_n,\n",
    ")"
   ]
  },
  {
   "cell_type": "code",
   "execution_count": 28,
   "id": "26813ce5-298e-4e6e-a767-391df2590723",
   "metadata": {},
   "outputs": [],
   "source": [
    "xspn = pd.read_csv(\n",
    "    \"./chex_qepn_xs.txt\",\n",
    "    names=[\"theta\", \"dxs\", \"err\"],\n",
    "    sep=\"\\s+\",\n",
    ")"
   ]
  },
  {
   "cell_type": "code",
   "execution_count": 29,
   "id": "e07a8f8d-b8d5-48d5-a085-03dadb12fba2",
   "metadata": {},
   "outputs": [],
   "source": [
    "ca48_pn_ias = np.array(\n",
    "    [\n",
    "        [0.0000, 0.70000, 0.035000],\n",
    "        [3.0700, 0.61300, 0.047000],\n",
    "        [10.240, 0.68200, 0.050000],\n",
    "        [15.360, 1.1800, 0.061000],\n",
    "        [20.480, 2.5452, 0.073000],\n",
    "        [25.590, 3.4110, 0.090000],\n",
    "        [30.700, 2.9580, 0.084000],\n",
    "        [35.800, 1.7724, 0.063000],\n",
    "        [40.900, 1.1964, 0.053000],\n",
    "        [51.070, 1.0356, 0.040000],\n",
    "        [61.210, 1.0536, 0.035000],\n",
    "        [81.380, 0.23300, 0.020000],\n",
    "        [91.400, 0.22600, 0.017000],\n",
    "        [101.37, 0.15000, 0.016000],\n",
    "        [111.31, 0.064000, 0.0100000],\n",
    "        [121.21, 0.094000, 0.012000],\n",
    "        [131.07, 0.053000, 0.011000],\n",
    "    ]\n",
    ")"
   ]
  },
  {
   "cell_type": "code",
   "execution_count": 30,
   "id": "a2b503d1-5468-46bf-a884-ff5d0c8a719d",
   "metadata": {},
   "outputs": [
    {
     "data": {
      "text/plain": [
       "<matplotlib.legend.Legend at 0x7a12e106de50>"
      ]
     },
     "execution_count": 30,
     "metadata": {},
     "output_type": "execute_result"
    },
    {
     "data": {
      "image/png": "[encoded data removed]",
      "text/plain": [
       "<Figure size 640x480 with 1 Axes>"
      ]
     },
     "metadata": {},
     "output_type": "display_data"
    }
   ],
   "source": [
    "plt.errorbar(\n",
    "    ca48_pn_ias[:, 0],\n",
    "    ca48_pn_ias[:, 1],\n",
    "    yerr=ca48_pn_ias[:, 2],\n",
    "    label=\"Jon et al., \",\n",
    "    linestyle=\"none\",\n",
    "    marker=\".\",\n",
    ")\n",
    "\n",
    "plt.plot(workspace.angles * 180 / np.pi, xs, \"--\", label=\"JITR\")\n",
    "plt.plot(xspn[\"theta\"], xspn[\"dxs\"], label=\"CHEX\", alpha=0.5)\n",
    "plt.xlabel(r\"$\\theta$ [deg]\")\n",
    "plt.ylabel(r\" $d \\sigma / \\Omega$ [mb/Sr]\")\n",
    "plt.legend()"
   ]
  },
  {
   "cell_type": "code",
   "execution_count": null,
   "id": "664ef029-5399-4167-abb5-ea5104f2a9ac",
   "metadata": {},
   "outputs": [],
   "source": []
  }
 ],
 "metadata": {
  "kernelspec": {
   "display_name": "Python 3 (ipykernel)",
   "language": "python",
   "name": "python3"
  },
  "language_info": {
   "codemirror_mode": {
    "name": "ipython",
    "version": 3
   },
   "file_extension": ".py",
   "mimetype": "text/x-python",
   "name": "python",
   "nbconvert_exporter": "python",
   "pygments_lexer": "ipython3",
   "version": "3.11.9"
  }
 },
 "nbformat": 4,
 "nbformat_minor": 5
}
