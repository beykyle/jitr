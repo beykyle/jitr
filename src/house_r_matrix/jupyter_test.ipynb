{
 "cells": [
  {
   "cell_type": "code",
   "execution_count": null,
   "id": "c1d00311",
   "metadata": {},
   "outputs": [],
   "source": [
    "from jax_solver import batched_local_diagonal, batched_local_couplings\n",
    "import jax.numpy as jnp\n",
    "import jax\n",
    "from cc_couplings import CC_Couplings\n",
    "from rmatrix import Rmatrix_free\n",
    "from cc_constants import CC_Constants\n",
    "from cc_asymptotics import CC_Asymptotics\n",
    "import numpy as np\n",
    "from core_solver_jax import Core_Solver\n",
    "from radial_interactions import woods_saxon_potential, woods_saxon_deformed_interaction\n"
   ]
  },
  {
   "cell_type": "code",
   "execution_count": null,
   "id": "4142e21e",
   "metadata": {},
   "outputs": [],
   "source": [
    "nbasis = 50\n",
    "nchannels = 4\n",
    "n_int = 2\n",
    "a = 40.0 #channel radius"
   ]
  },
  {
   "cell_type": "code",
   "execution_count": null,
   "id": "0f255528",
   "metadata": {},
   "outputs": [
    {
     "name": "stderr",
     "output_type": "stream",
     "text": [
      "/Users/manuelcatacora/fewbody/house_r_matrix_root/house_r_matrix/cc_couplings.py:140: ComplexWarning: Casting complex values to real discards the imaginary part\n",
      "  E_ch = float(E_com[idx])\n"
     ]
    }
   ],
   "source": [
    "\n",
    "constants_class = CC_Constants(48.0, 1.0, 30.0, [0.0, 5.5])\n",
    "couplings_class = CC_Couplings(48.0, 1.0, [0.0, 5.5], [0.0, 2.0], 1.0, 1.0, 10.0)\n",
    "rmatrix_free_class = Rmatrix_free(nbasis)\n",
    "hbar_2mu = constants_class.h2_mass\n",
    "\n",
    "# dictionary of quantum number is matrix shape, the keys are the shapes of the matrices\n",
    "quantum_numbers_dict = couplings_class.batched_dict\n",
    "\n",
    "# dictionaries of energy, l, and k arrays, the keys are the shapes of the matrices\n",
    "E_dict, l_dict, k_dict, keys = couplings_class.generate_energy_centrifugal_mom_batched(30.0) #passs the energy of the system\n",
    "\n",
    "# dictionary of the coupling matrices, the keys are the shapes of the matrices\n",
    "couplings_dict, keys = couplings_class.generate_couplings_batched(2.0) #pass the order of the deformation\n",
    "\n",
    "Hp_dic, Hpp_dic, Hm_dic, Hmp_dic = CC_Asymptotics.generate_bessel_batched(a, l_dict, k_dict, keys)\n",
    "\n"
   ]
  },
  {
   "cell_type": "code",
   "execution_count": null,
   "id": "1cfe7492",
   "metadata": {},
   "outputs": [
    {
     "name": "stdout",
     "output_type": "stream",
     "text": [
      "(9, 4)\n"
     ]
    }
   ],
   "source": [
    "#extract the homogeneous shapes for testing:\n",
    "quantum_numbers_arr = quantum_numbers_dict.get(nchannels)\n",
    "E_arr = E_dict.get(nchannels)\n",
    "l_arr = l_dict.get(nchannels)\n",
    "k_arr = k_dict.get(nchannels)\n",
    "Hp_arr = Hp_dic.get(nchannels)\n",
    "Hpp_arr = Hpp_dic.get(nchannels)\n",
    "Hm_arr = Hm_dic.get(nchannels)\n",
    "Hmp_arr = Hmp_dic.get(nchannels)\n",
    "couplings_arr = couplings_dict.get(nchannels)\n",
    "\n",
    "#generate the free matrices:\n",
    "free_matrix_arr = []\n",
    "for E, l in zip(E_arr, l_arr):\n",
    "    free_matrix = rmatrix_free_class.free_matrix(a, l, E, hbar_2mu)\n",
    "    free_matrix_arr.append(free_matrix)\n",
    "free_matrix_arr = np.array(free_matrix_arr)\n",
    "\n",
    "b_arr = rmatrix_free_class.precompute_boundaries(a)\n",
    "\n",
    "batch, nch, nch = couplings_arr.shape\n",
    "diag = np.eye(nch, dtype=np.complex128)\n",
    "diag_couplings_arr = np.tile(diag, (batch, 1, 1)) \n",
    "\n",
    "total_couplings_arr = np.array([couplings_arr, diag_couplings_arr])"
   ]
  },
  {
   "cell_type": "code",
   "execution_count": null,
   "id": "2be95f3a",
   "metadata": {},
   "outputs": [],
   "source": [
    "core_solver_class = Core_Solver(free_matrix_arr, b_arr, Hp_arr, Hpp_arr, Hm_arr,\n",
    "                                Hmp_arr,total_couplings_arr, hbar_2mu, a, nbasis, nchannels, batch, 2)"
   ]
  },
  {
   "cell_type": "code",
   "execution_count": null,
   "id": "85e615b9",
   "metadata": {},
   "outputs": [],
   "source": [
    "abscissa = rmatrix_free_class.kernel.quadrature.abscissa\n",
    "abscissa = jnp.array(abscissa, dtype=jnp.complex64)\n",
    "interaction_sph = woods_saxon_potential(abscissa, 48.0, 4.5, 0.65)\n",
    "interaction_def = woods_saxon_deformed_interaction(abscissa, 1.2, 48.0, 4.5, 0.65)\n",
    "\n",
    "interaction_sph_matrix = jnp.diag(interaction_sph)\n",
    "interaction_def_matrix = jnp.diag(interaction_def)\n",
    "\n",
    "interaction_sph_matrix = jnp.tile(interaction_sph_matrix, (batch, 1, 1))\n",
    "interaction_def_matrix = jnp.tile(interaction_def_matrix, (batch, 1, 1))\n",
    "\n",
    "total_interaction_arr = jnp.array([interaction_sph_matrix, interaction_def_matrix])\n",
    "total_interaction_arr = np.array(total_interaction_arr, dtype=jnp.complex64)"
   ]
  },
  {
   "cell_type": "code",
   "execution_count": null,
   "id": "7fc2700e",
   "metadata": {},
   "outputs": [],
   "source": [
    "S_batch = core_solver_class.solver(appended_block_arr=total_interaction_arr,fn_core=core_solver_class.fn_core, fn_interaction=core_solver_class.fn_interaction)"
   ]
  }
 ],
 "metadata": {
  "kernelspec": {
   "display_name": "jax_cpu",
   "language": "python",
   "name": "python3"
  },
  "language_info": {
   "codemirror_mode": {
    "name": "ipython",
    "version": 3
   },
   "file_extension": ".py",
   "mimetype": "text/x-python",
   "name": "python",
   "nbconvert_exporter": "python",
   "pygments_lexer": "ipython3",
   "version": "3.11.13"
  }
 },
 "nbformat": 4,
 "nbformat_minor": 5
}
