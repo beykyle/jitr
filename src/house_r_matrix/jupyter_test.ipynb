{
 "cells": [
  {
   "cell_type": "code",
   "execution_count": 1,
   "id": "c1d00311",
   "metadata": {},
   "outputs": [],
   "source": [
    "from jax_solver import batched_local_diagonal, batched_local_couplings\n",
    "import jax.numpy as jnp\n",
    "import jax\n",
    "from cc_couplings import CC_Couplings\n",
    "from rmatrix import Rmatrix_free\n",
    "from cc_constants import CC_Constants\n",
    "from cc_asymptotics import CC_Asymptotics\n",
    "import numpy as np\n",
    "from core_solver_jax import Core_Solver\n",
    "from radial_interactions import woods_saxon_potential, woods_saxon_deformed_interaction\n"
   ]
  },
  {
   "cell_type": "code",
   "execution_count": 81,
   "id": "4142e21e",
   "metadata": {},
   "outputs": [],
   "source": [
    "nbasis = 2\n",
    "nchannels = 4\n",
    "n_int = 2\n",
    "a = 40.0 #channel radius"
   ]
  },
  {
   "cell_type": "code",
   "execution_count": 82,
   "id": "0f255528",
   "metadata": {},
   "outputs": [],
   "source": [
    "\n",
    "constants_class = CC_Constants(48.0, 1.0, 30.0, [0.0, 5.5])\n",
    "couplings_class = CC_Couplings(48.0, 1.0, [0.0, 5.5], [0.0, 2.0], 1.0, 1.0, 10.0)\n",
    "rmatrix_free_class = Rmatrix_free(nbasis)\n",
    "hbar_2mu = constants_class.h2_mass\n",
    "\n",
    "# dictionary of quantum number is matrix shape, the keys are the shapes of the matrices\n",
    "quantum_numbers_dict = couplings_class.batched_dict\n",
    "\n",
    "# dictionaries of energy, l, and k arrays, the keys are the shapes of the matrices\n",
    "E_dict, l_dict, k_dict, keys = couplings_class.generate_energy_centrifugal_mom_batched(30.0) #passs the energy of the system\n",
    "\n",
    "# dictionary of the coupling matrices, the keys are the shapes of the matrices\n",
    "couplings_dict, keys = couplings_class.generate_couplings_batched(2.0) #pass the order of the deformation\n",
    "\n",
    "Hp_dic, Hpp_dic, Hm_dic, Hmp_dic = CC_Asymptotics.generate_bessel_batched(a, l_dict, k_dict, keys)\n",
    "\n"
   ]
  },
  {
   "cell_type": "code",
   "execution_count": 83,
   "id": "63d6d854",
   "metadata": {},
   "outputs": [],
   "source": [
    "#extract the homogeneous shapes for testing:\n",
    "quantum_numbers_arr = quantum_numbers_dict.get(nchannels)\n",
    "E_arr = E_dict.get(nchannels)\n",
    "l_arr = l_dict.get(nchannels)\n",
    "k_arr = k_dict.get(nchannels)\n",
    "Hp_arr = Hp_dic.get(nchannels)\n",
    "Hpp_arr = Hpp_dic.get(nchannels)\n",
    "Hm_arr = Hm_dic.get(nchannels)\n",
    "Hmp_arr = Hmp_dic.get(nchannels)\n",
    "couplings_arr = couplings_dict.get(nchannels)\n",
    "\n",
    "#generate the free matrices:\n",
    "free_matrix_arr = []\n",
    "for E, l in zip(E_arr, l_arr):\n",
    "    free_matrix = rmatrix_free_class.free_matrix(a, l, E, hbar_2mu)\n",
    "    free_matrix_arr.append(free_matrix)\n",
    "free_matrix_arr = np.array(free_matrix_arr)\n",
    "\n",
    "b_arr = rmatrix_free_class.precompute_boundaries(a)\n",
    "\n",
    "batch, nch, nch = couplings_arr.shape\n",
    "diag = np.eye(nch, dtype=np.complex128)\n",
    "diag_couplings_arr = np.tile(diag, (batch, 1, 1)) \n",
    "\n",
    "total_couplings_arr = np.array([couplings_arr, diag_couplings_arr])"
   ]
  },
  {
   "cell_type": "code",
   "execution_count": 159,
   "id": "5dcb103f",
   "metadata": {},
   "outputs": [
    {
     "name": "stdout",
     "output_type": "stream",
     "text": [
      "[[-0.99401012+0.11535611j  0.        +0.j          0.        +0.j\n",
      "   0.        +0.j        ]\n",
      " [ 0.        +0.j          0.08719375+0.99619137j  0.        +0.j\n",
      "   0.        +0.j        ]\n",
      " [ 0.        +0.j          0.        +0.j         -0.01643625-1.00070344j\n",
      "   0.        +0.j        ]\n",
      " [ 0.        +0.j          0.        +0.j          0.        +0.j\n",
      "  -0.14898574+0.99167939j]]\n"
     ]
    }
   ],
   "source": [
    "print(Hm_arr[0])"
   ]
  },
  {
   "cell_type": "code",
   "execution_count": 84,
   "id": "a4b163a4",
   "metadata": {},
   "outputs": [
    {
     "name": "stdout",
     "output_type": "stream",
     "text": [
      " No GPU found. Using CPU.\n"
     ]
    }
   ],
   "source": [
    "core_solver_class = Core_Solver(free_matrix_arr, b_arr, Hp_arr, Hpp_arr, Hm_arr,\n",
    "                                Hmp_arr,total_couplings_arr, hbar_2mu, a, nbasis, nchannels, batch, 2)"
   ]
  },
  {
   "cell_type": "code",
   "execution_count": 85,
   "id": "97fcb88a",
   "metadata": {},
   "outputs": [],
   "source": [
    "abscissa = rmatrix_free_class.kernel.quadrature.abscissa\n",
    "abscissa = jnp.array(abscissa, dtype=jnp.complex64)\n",
    "interaction_sph = woods_saxon_potential(abscissa, 48.0, 4.5, 0.65)\n",
    "interaction_def = woods_saxon_deformed_interaction(abscissa, 1.2, 48.0, 4.5, 0.65)\n",
    "\n",
    "interaction_sph_matrix = jnp.diag(interaction_sph)\n",
    "interaction_def_matrix = jnp.diag(interaction_def)\n",
    "\n",
    "interaction_sph_matrix = jnp.tile(interaction_sph_matrix, (batch, 1, 1))\n",
    "interaction_def_matrix = jnp.tile(interaction_def_matrix, (batch, 1, 1))\n",
    "\n",
    "total_interaction_arr = jnp.array([interaction_sph_matrix, interaction_def_matrix])\n",
    "total_interaction_arr = np.array(total_interaction_arr, dtype=jnp.complex64)"
   ]
  },
  {
   "cell_type": "code",
   "execution_count": 86,
   "id": "2be95f3a",
   "metadata": {},
   "outputs": [],
   "source": [
    "S_batch = core_solver_class.solver(appended_block_arr=total_interaction_arr,fn_core=core_solver_class.fn_core, fn_interaction=core_solver_class.fn_interaction)"
   ]
  },
  {
   "cell_type": "code",
   "execution_count": null,
   "id": "eda8cdc6",
   "metadata": {},
   "outputs": [
    {
     "name": "stdout",
     "output_type": "stream",
     "text": [
      "1.66 ms ± 10.7 μs per loop (mean ± std. dev. of 7 runs, 1,000 loops each)\n"
     ]
    }
   ],
   "source": [
    "%%timeit\n",
    "S_batch = core_solver_class.solver(appended_block_arr=total_interaction_arr,fn_core=core_solver_class.fn_core, fn_interaction=core_solver_class.fn_interaction)"
   ]
  },
  {
   "cell_type": "code",
   "execution_count": 49,
   "id": "cadb0674",
   "metadata": {},
   "outputs": [
    {
     "ename": "ValueError",
     "evalue": "operands could not be broadcast together with shapes (1,9,1,30,30) (9,1,4,1,4) ",
     "output_type": "error",
     "traceback": [
      "\u001b[31m---------------------------------------------------------------------------\u001b[39m",
      "\u001b[31mValueError\u001b[39m                                Traceback (most recent call last)",
      "\u001b[36mCell\u001b[39m\u001b[36m \u001b[39m\u001b[32mIn[49]\u001b[39m\u001b[32m, line 1\u001b[39m\n\u001b[32m----> \u001b[39m\u001b[32m1\u001b[39m \u001b[38;5;28mprint\u001b[39m(\u001b[43mtotal_interaction_arr\u001b[49m\u001b[43m[\u001b[49m\u001b[32;43m0\u001b[39;49m\u001b[43m,\u001b[49m\u001b[43m \u001b[49m\u001b[38;5;28;43;01mNone\u001b[39;49;00m\u001b[43m,\u001b[49m\u001b[43m \u001b[49m\u001b[43m:\u001b[49m\u001b[43m,\u001b[49m\u001b[43m \u001b[49m\u001b[38;5;28;43;01mNone\u001b[39;49;00m\u001b[43m,\u001b[49m\u001b[43m \u001b[49m\u001b[43m:\u001b[49m\u001b[43m]\u001b[49m\u001b[43m*\u001b[49m\u001b[43mtotal_couplings_arr\u001b[49m\u001b[43m[\u001b[49m\u001b[32;43m0\u001b[39;49m\u001b[43m,\u001b[49m\u001b[43m \u001b[49m\u001b[43m:\u001b[49m\u001b[43m,\u001b[49m\u001b[43m \u001b[49m\u001b[38;5;28;43;01mNone\u001b[39;49;00m\u001b[43m,\u001b[49m\u001b[43m \u001b[49m\u001b[43m:\u001b[49m\u001b[43m,\u001b[49m\u001b[43m \u001b[49m\u001b[38;5;28;43;01mNone\u001b[39;49;00m\u001b[43m]\u001b[49m)\n",
      "\u001b[31mValueError\u001b[39m: operands could not be broadcast together with shapes (1,9,1,30,30) (9,1,4,1,4) "
     ]
    }
   ],
   "source": [
    "print(total_interaction_arr[0, None, :, None, :]*total_couplings_arr[0, :, None, :, None])"
   ]
  },
  {
   "cell_type": "code",
   "execution_count": 54,
   "id": "7f187cd0",
   "metadata": {},
   "outputs": [
    {
     "data": {
      "text/plain": [
       "(2, 1, 9, 1, 30, 30)"
      ]
     },
     "execution_count": 54,
     "metadata": {},
     "output_type": "execute_result"
    }
   ],
   "source": [
    "total_interaction_arr[:, None, :, None, :].shape"
   ]
  },
  {
   "cell_type": "code",
   "execution_count": 101,
   "id": "27c89493",
   "metadata": {},
   "outputs": [],
   "source": [
    "arr_couplings_seq = np.array([[1, 2, 3, 4],[5, 6, 7, 8], [9, 10, 11, 12], [13, 14, 15, 16]], dtype=np.complex64)\n",
    "arr_seq = np.tile(arr_couplings_seq, (batch, 1, 1))\n",
    "arr_diag = np.array([[1, 0, 0, 0],[0, 1, 0, 0],[0, 0, 1, 0],[0, 0, 0, 1]], dtype=np.complex64)\n",
    "arr_diag = np.tile(arr_diag, (batch, 1, 1))\n",
    "\n",
    "\n",
    "\n",
    "interaction_sph_matrix = jnp.eye(nbasis)\n",
    "interaction_def_matrix = jnp.eye(nbasis)\n",
    "\n",
    "interaction_sph_matrix = jnp.tile(interaction_sph_matrix, (batch, 1, 1))\n",
    "interaction_def_matrix = jnp.tile(interaction_def_matrix, (batch, 1, 1))\n",
    "\n",
    "total_interaction_arr = jnp.array([interaction_sph_matrix, interaction_def_matrix])\n",
    "total_interaction_arr = np.array(total_interaction_arr, dtype=jnp.complex64)\n",
    "\n",
    "total_couplings_arr = jnp.array([arr_seq, arr_diag])"
   ]
  },
  {
   "cell_type": "code",
   "execution_count": 105,
   "id": "01f6741d",
   "metadata": {},
   "outputs": [],
   "source": [
    "f_kernel = Core_Solver.make_coupling_kernel(nchannels, nbasis)\n",
    "int_builder = Core_Solver.generate_coupling_interaction\n",
    "\n",
    "\n",
    "total_interaction_arr = jnp.array(total_interaction_arr, dtype=jnp.complex64)\n",
    "total_couplings_arr = jnp.array(total_couplings_arr, dtype=jnp.complex64)\n",
    "\n",
    "interaction = int_builder(appended_couplings_jax = total_couplings_arr, \n",
    "                          appended_block_jax = total_interaction_arr, \n",
    "                          precomp_fill_fn = f_kernel)"
   ]
  },
  {
   "cell_type": "code",
   "execution_count": 108,
   "id": "6489328d",
   "metadata": {},
   "outputs": [
    {
     "name": "stdout",
     "output_type": "stream",
     "text": [
      "[[ 2.  0.  2.  0.  3.  0.  4.  0.]\n",
      " [ 0.  2.  0.  2.  0.  3.  0.  4.]\n",
      " [ 5.  0.  7.  0.  7.  0.  8.  0.]\n",
      " [ 0.  5.  0.  7.  0.  7.  0.  8.]\n",
      " [ 9.  0. 10.  0. 12.  0. 12.  0.]\n",
      " [ 0.  9.  0. 10.  0. 12.  0. 12.]\n",
      " [13.  0. 14.  0. 15.  0. 17.  0.]\n",
      " [ 0. 13.  0. 14.  0. 15.  0. 17.]]\n"
     ]
    },
    {
     "name": "stderr",
     "output_type": "stream",
     "text": [
      "/Users/manuelcatacora/miniconda3/envs/jax_cpu/lib/python3.11/site-packages/jax/_src/numpy/lax_numpy.py:5553: ComplexWarning: Casting complex values to real discards the imaginary part\n",
      "  out_array: Array = lax_internal._convert_element_type(\n"
     ]
    }
   ],
   "source": [
    "print(jnp.array(interaction[0], dtype=jnp.float32))"
   ]
  },
  {
   "cell_type": "code",
   "execution_count": 153,
   "id": "94e00644",
   "metadata": {},
   "outputs": [
    {
     "name": "stdout",
     "output_type": "stream",
     "text": [
      "Allclose: True\n"
     ]
    }
   ],
   "source": [
    "import jax.numpy as jnp\n",
    "import numpy as np\n",
    "\n",
    "# Parameters\n",
    "batch_size = 10\n",
    "matrix_size = 10\n",
    "nbasis = 5\n",
    "nchannels = 2\n",
    "\n",
    "# Random batch of invertible matrices (with added identity to ensure invertibility)\n",
    "key = jnp.array(np.random.default_rng(0).normal(size=(batch_size, matrix_size, matrix_size)).astype(np.complex64))\n",
    "A_batch = key + jnp.eye(matrix_size, dtype=jnp.complex64)[None, :, :] * 5.0\n",
    "\n",
    "# JAX batched inverse\n",
    "C_jax = jnp.linalg.inv(A_batch)\n",
    "\n",
    "# NumPy loop inverse\n",
    "A_np = np.array(A_batch, dtype=np.complex64)\n",
    "C_np = np.stack([np.linalg.inv(A_np[i]) for i in range(batch_size)], axis=0)\n",
    "\n",
    "# Comparison\n",
    "print(\"Allclose:\", np.allclose(C_jax, C_np, atol=1e-7))"
   ]
  },
  {
   "cell_type": "code",
   "execution_count": 154,
   "id": "264259d0",
   "metadata": {},
   "outputs": [],
   "source": [
    "b = jnp.array(np.random.default_rng(0).normal(size=(nbasis)).astype(np.complex64))\n",
    "b_np = np.array(b, dtype=np.complex64)"
   ]
  },
  {
   "cell_type": "code",
   "execution_count": 155,
   "id": "ab474931",
   "metadata": {},
   "outputs": [],
   "source": [
    "C_jax = C_jax.reshape(batch_size, nchannels, nbasis, nchannels, nbasis)\n",
    "R_ij_jax = jnp.einsum('m,bimjn,n->bij', b, C_jax, b)"
   ]
  },
  {
   "cell_type": "code",
   "execution_count": 156,
   "id": "94d12b55",
   "metadata": {},
   "outputs": [],
   "source": [
    "R_ij_np = np.zeros((batch_size, nchannels, nchannels), dtype=np.complex64)\n",
    "for b in range(batch_size):\n",
    "    for j in range(nchannels):\n",
    "        for m in range(nchannels):\n",
    "            C_block = C_np[b, j * nbasis : (j + 1) * nbasis, m * nbasis : (m + 1) * nbasis]\n",
    "            R_ij_np[b, j, m] = b_np.T @ C_block @ b_np\n",
    "            \n"
   ]
  },
  {
   "cell_type": "code",
   "execution_count": 158,
   "id": "4ec9e0f3",
   "metadata": {},
   "outputs": [
    {
     "name": "stdout",
     "output_type": "stream",
     "text": [
      "Allclose: True\n"
     ]
    }
   ],
   "source": [
    "print(\"Allclose:\", np.allclose(R_ij_jax, R_ij_np, atol=1e-8))"
   ]
  },
  {
   "cell_type": "code",
   "execution_count": null,
   "id": "796de7f9",
   "metadata": {},
   "outputs": [],
   "source": []
  },
  {
   "cell_type": "code",
   "execution_count": null,
   "id": "d57dbdb3",
   "metadata": {},
   "outputs": [],
   "source": []
  }
 ],
 "metadata": {
  "kernelspec": {
   "display_name": "jax_cpu",
   "language": "python",
   "name": "python3"
  },
  "language_info": {
   "codemirror_mode": {
    "name": "ipython",
    "version": 3
   },
   "file_extension": ".py",
   "mimetype": "text/x-python",
   "name": "python",
   "nbconvert_exporter": "python",
   "pygments_lexer": "ipython3",
   "version": "3.11.13"
  }
 },
 "nbformat": 4,
 "nbformat_minor": 5
}
