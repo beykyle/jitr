{
 "cells": [
  {
   "cell_type": "code",
   "execution_count": 1,
   "id": "10f1e96d",
   "metadata": {},
   "outputs": [],
   "source": [
    "from jax_solver import batched_local_diagonal, batched_local_couplings\n",
    "import jax.numpy as jnp\n",
    "import jax\n",
    "from rmatrix import Rmatrix_free\n",
    "from cc_constants import CC_Constants\n",
    "from core_solver_jax import Core_Solver\n",
    "from radial_interactions import woods_saxon_potential, woods_saxon_deformed_interaction"
   ]
  },
  {
   "cell_type": "code",
   "execution_count": 2,
   "id": "ee0e782e",
   "metadata": {},
   "outputs": [],
   "source": [
    "from mpmath import coulombf, coulombg\n",
    "import numpy as np\n",
    "from scipy.special import eval_legendre\n",
    "\n",
    "class CoulombAsymptotics:\n",
    "    @staticmethod\n",
    "    def F(s, l, eta):\n",
    "        \"\"\"\n",
    "        Coulomb function of the first kind.\n",
    "        \"\"\"\n",
    "        return np.complex128(coulombf(l, eta, s))\n",
    "\n",
    "    @staticmethod\n",
    "    def G(s, l, eta):\n",
    "        \"\"\"\n",
    "        Coulomb function of the second kind.\n",
    "        \"\"\"\n",
    "        return np.complex128(coulombg(l, eta, s))\n",
    "\n",
    "\n",
    "def H_plus(s, l, eta, asym=CoulombAsymptotics):\n",
    "    \"\"\"\n",
    "    Hankel/Coulomb-Hankel function of the first kind (outgoing).\n",
    "    \"\"\"\n",
    "    return asym.G(s, l, eta) + 1j * asym.F(s, l, eta)\n",
    "\n",
    "\n",
    "def H_minus(s, l, eta, asym=CoulombAsymptotics):\n",
    "    \"\"\"\n",
    "    Hankel/Coulomb-Hankel function of the second kind (incoming).\n",
    "    \"\"\"\n",
    "    return asym.G(s, l, eta) - 1j * asym.F(s, l, eta)\n",
    "\n",
    "\n",
    "def coulomb_func_deriv(func, s, l, eta):\n",
    "    \"\"\"\n",
    "    Derivative of Coulomb functions F, G, and Coulomb Hankel functions H+ and H-\n",
    "    \"\"\"\n",
    "    # recurrance relations from https://dlmf.nist.gov/33.4\n",
    "    # dlmf Eq. 33.4.4\n",
    "    R = np.sqrt(1 + eta**2 / (l + 1) ** 2)\n",
    "    S = (l + 1) / s + eta / (l + 1)\n",
    "    Xl = func(s, l, eta)\n",
    "    Xlp = func(s, l + 1, eta)\n",
    "    return S * Xl - R * Xlp\n",
    "\n",
    "\n",
    "def H_plus_prime(s, l, eta, asym=CoulombAsymptotics):\n",
    "    \"\"\"\n",
    "    Derivative of the Hankel function (first kind) with respect to s\n",
    "    \"\"\"\n",
    "    return coulomb_func_deriv(H_plus, s, l, eta)\n",
    "\n",
    "\n",
    "def H_minus_prime(s, l, eta, dx=1e-6, asym=CoulombAsymptotics):\n",
    "    \"\"\"\n",
    "    Derivative of the Hankel function (second kind) with respect to s.\n",
    "    \"\"\"\n",
    "    return coulomb_func_deriv(H_minus, s, l, eta)"
   ]
  },
  {
   "cell_type": "code",
   "execution_count": 3,
   "id": "b0983076",
   "metadata": {},
   "outputs": [],
   "source": [
    "batch_size = 11\n",
    "l_max = batch_size -1\n",
    "nbasis = 30\n",
    "nchannels=1\n",
    "\n",
    "constants_class = CC_Constants(40.0, 1.0, 14.0, [0.0, 2.2])\n",
    "E_com_arr = constants_class.E_lab_to_COM()\n",
    "E_com = E_com_arr[0]\n",
    "hbar_2mu = constants_class.h2_mass"
   ]
  },
  {
   "cell_type": "code",
   "execution_count": 4,
   "id": "1cce96a6",
   "metadata": {},
   "outputs": [],
   "source": [
    "E_arr = np.tile(np.array([E_com]), (batch_size, 1))\n",
    "l_arr = np.array([[l] for l in range(l_max + 1)])\n",
    "k_arr = np.tile(np.array([constants_class.k()[0]]), (batch_size, 1))\n",
    "a = 40.0  # channel radius\n",
    "\n",
    "Hp_arr = np.array([[H_plus(k[0]*a, l[0], 0)] for l, k in zip(l_arr, k_arr)]).reshape(batch_size, 1, 1)\n",
    "Hpp_arr = np.array([[H_plus_prime(k[0]*a, l[0], 0)] for l, k in zip(l_arr, k_arr)]).reshape(batch_size, 1, 1)\n",
    "Hm_arr = np.array([[H_minus(k[0]*a, l[0], 0)] for l, k in zip(l_arr, k_arr)]).reshape(batch_size, 1, 1)\n",
    "Hmp_arr = np.array([[H_minus_prime(k[0]*a, l[0], 0)] for l, k in zip(l_arr, k_arr)]).reshape(batch_size, 1, 1)"
   ]
  },
  {
   "cell_type": "code",
   "execution_count": 5,
   "id": "d798420e",
   "metadata": {},
   "outputs": [],
   "source": [
    "rmatrix_free_class = Rmatrix_free(nbasis)\n",
    "#generate the free matrices:\n",
    "free_matrix_arr = []\n",
    "for E, l in zip(E_arr, l_arr):\n",
    "    free_matrix = rmatrix_free_class.free_matrix(a, l, E, hbar_2mu)\n",
    "    free_matrix_arr.append(free_matrix)\n",
    "free_matrix_arr = np.array(free_matrix_arr)\n",
    "\n",
    "b_arr = rmatrix_free_class.precompute_boundaries(a)"
   ]
  },
  {
   "cell_type": "code",
   "execution_count": 6,
   "id": "a085f88d",
   "metadata": {},
   "outputs": [],
   "source": [
    "abscissa = rmatrix_free_class.kernel.quadrature.abscissa\n",
    "diag_potential = np.diag(np.array(woods_saxon_potential(a*abscissa, 48.9, 40**(1/3)*1.19, 0.67), dtype=np.complex64))\n",
    "diag_potential = np.tile(diag_potential, (batch_size, 1, 1))\n",
    "couplings = np.tile(np.eye(1), (batch_size, 1, 1))\n",
    "total_couplings_arr = np.array([couplings], dtype=np.complex64)\n",
    "total_potential_arr = np.array([diag_potential], dtype=np.complex64)"
   ]
  },
  {
   "cell_type": "code",
   "execution_count": 7,
   "id": "b11cbb22",
   "metadata": {},
   "outputs": [
    {
     "name": "stdout",
     "output_type": "stream",
     "text": [
      " No GPU found. Using CPU.\n"
     ]
    }
   ],
   "source": [
    "core_solver_class = Core_Solver(free_matrix_arr, b_arr, Hp_arr, Hpp_arr, Hm_arr,\n",
    "                                Hmp_arr,total_couplings_arr, hbar_2mu, a, nbasis, nchannels, batch_size, 1)"
   ]
  },
  {
   "cell_type": "code",
   "execution_count": 9,
   "id": "cfc82f3d",
   "metadata": {},
   "outputs": [
    {
     "name": "stdout",
     "output_type": "stream",
     "text": [
      "301 μs ± 1.23 μs per loop (mean ± std. dev. of 7 runs, 1,000 loops each)\n"
     ]
    }
   ],
   "source": [
    "%%timeit\n",
    "S_batch = core_solver_class.solver(appended_block_arr=total_potential_arr,fn_core=core_solver_class.fn_core, fn_interaction=core_solver_class.fn_interaction).block_until_ready()\n"
   ]
  },
  {
   "cell_type": "code",
   "execution_count": null,
   "id": "ea4af67c",
   "metadata": {},
   "outputs": [],
   "source": []
  }
 ],
 "metadata": {
  "kernelspec": {
   "display_name": "jax_cpu",
   "language": "python",
   "name": "python3"
  },
  "language_info": {
   "codemirror_mode": {
    "name": "ipython",
    "version": 3
   },
   "file_extension": ".py",
   "mimetype": "text/x-python",
   "name": "python",
   "nbconvert_exporter": "python",
   "pygments_lexer": "ipython3",
   "version": "3.11.13"
  }
 },
 "nbformat": 4,
 "nbformat_minor": 5
}
