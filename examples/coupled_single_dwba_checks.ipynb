{
 "cells": [
  {
   "cell_type": "code",
   "execution_count": 1,
   "id": "397a474d-60c4-4901-a7da-78620b09080c",
   "metadata": {},
   "outputs": [],
   "source": [
    "import numpy as np\n",
    "from numba import njit\n",
    "\n",
    "import jitr"
   ]
  },
  {
   "cell_type": "code",
   "execution_count": 2,
   "id": "42d309e9-ac48-4b1b-93cc-78974e499836",
   "metadata": {},
   "outputs": [],
   "source": [
    "nchannels = 2\n",
    "nbasis = 40\n",
    "\n",
    "sys = jitr.ProjectileTargetSystem(\n",
    "    2 * np.pi * 3 * np.ones(nchannels),\n",
    "    np.arange(0, nchannels, dtype=np.int32),\n",
    "    mass_target=44657,\n",
    "    mass_projectile=938.3,\n",
    "    Ztarget=20,\n",
    "    Zproj=1,\n",
    "    nchannels=nchannels,\n",
    ")"
   ]
  },
  {
   "cell_type": "code",
   "execution_count": 3,
   "id": "ae9c35e1-35fa-4c3a-9e34-6b3c02a67f8f",
   "metadata": {},
   "outputs": [],
   "source": [
    "channels = sys.build_channels_kinematics(E_lab=42.1)"
   ]
  },
  {
   "cell_type": "code",
   "execution_count": 4,
   "id": "aeb06982-f8cc-4671-8d40-2734647f3cea",
   "metadata": {},
   "outputs": [],
   "source": [
    "solver = jitr.RMatrixSolver(nbasis)"
   ]
  },
  {
   "cell_type": "code",
   "execution_count": 5,
   "id": "d1acf693-f94a-4cbc-8c85-f130768fabfa",
   "metadata": {},
   "outputs": [],
   "source": [
    "free_matrices = solver.free_matrix(sys.channel_radii, sys.l, full_matrix=False)"
   ]
  },
  {
   "cell_type": "code",
   "execution_count": 6,
   "id": "1e55eef6-4843-4f86-980c-9b2cced15d54",
   "metadata": {},
   "outputs": [],
   "source": [
    "@njit\n",
    "def potential(r, depth):\n",
    "    return -depth * np.exp(-r / 4)"
   ]
  },
  {
   "cell_type": "code",
   "execution_count": 7,
   "id": "8f4bca4a-c253-4171-bb76-cff84438dec6",
   "metadata": {},
   "outputs": [],
   "source": [
    "interaction_matrix = jitr.InteractionMatrix(1)\n",
    "interaction_matrix.set_local_interaction(potential, args=(10,))"
   ]
  },
  {
   "cell_type": "code",
   "execution_count": 8,
   "id": "9331fd94-e9c0-49cf-b529-9fc9663fbe95",
   "metadata": {},
   "outputs": [
    {
     "data": {
      "text/plain": [
       "(40, 40)"
      ]
     },
     "execution_count": 8,
     "metadata": {},
     "output_type": "execute_result"
    }
   ],
   "source": [
    "A = solver.free_matrix(channels[\"a\"][0:1], channels[\"l\"][0:1])\n",
    "A += solver.interaction_matrix(interaction_matrix, channels[0:1])\n",
    "A.shape"
   ]
  },
  {
   "cell_type": "code",
   "execution_count": 9,
   "id": "5b870917-99e6-4e1c-8e3a-43181d2b49f5",
   "metadata": {},
   "outputs": [],
   "source": [
    "a = channels[\"a\"][0:1]"
   ]
  },
  {
   "cell_type": "code",
   "execution_count": 10,
   "id": "61ab41f1-8c9c-451a-a6ec-2556c53ffec3",
   "metadata": {},
   "outputs": [
    {
     "data": {
      "text/plain": [
       "(1, 40)"
      ]
     },
     "execution_count": 10,
     "metadata": {},
     "output_type": "execute_result"
    }
   ],
   "source": [
    "b = solver.precompute_boundaries(a)\n",
    "x = np.linalg.solve(A, b).reshape(1, nbasis)\n",
    "x.shape"
   ]
  },
  {
   "cell_type": "code",
   "execution_count": 11,
   "id": "1a62ffd1-c758-4163-95c6-8631abc4753d",
   "metadata": {},
   "outputs": [
    {
     "data": {
      "text/plain": [
       "(1, 1)"
      ]
     },
     "execution_count": 11,
     "metadata": {},
     "output_type": "execute_result"
    }
   ],
   "source": [
    "R = x @ b.reshape(1, nbasis).T / np.outer(a, a)\n",
    "R.shape"
   ]
  },
  {
   "cell_type": "code",
   "execution_count": 12,
   "id": "259ac8e1-307c-46ac-aae7-aaa96ed320ae",
   "metadata": {},
   "outputs": [],
   "source": [
    "Hp = channels[\"Hp\"][0:1]\n",
    "Hm = channels[\"Hm\"][0:1]\n",
    "Hpp = channels[\"Hpp\"][0:1]\n",
    "Hmp = channels[\"Hmp\"][0:1]"
   ]
  },
  {
   "cell_type": "code",
   "execution_count": 13,
   "id": "c4a0f7b8-22c6-4146-bff2-70f5ba076644",
   "metadata": {},
   "outputs": [],
   "source": [
    "Zp = np.diag(Hp) - R * Hpp[:, np.newaxis] * a[:, np.newaxis]\n",
    "Zm = np.diag(Hm) - R * Hmp[:, np.newaxis] * a[:, np.newaxis]"
   ]
  },
  {
   "cell_type": "code",
   "execution_count": 14,
   "id": "c000ff4b-8ed6-469d-acaa-6c4fe6907eb6",
   "metadata": {},
   "outputs": [
    {
     "data": {
      "text/plain": [
       "(1, 1)"
      ]
     },
     "execution_count": 14,
     "metadata": {},
     "output_type": "execute_result"
    }
   ],
   "source": [
    "R.shape"
   ]
  },
  {
   "cell_type": "code",
   "execution_count": 15,
   "id": "b7ecf3fa-1166-44da-a3cb-03d0443c7d0d",
   "metadata": {},
   "outputs": [
    {
     "data": {
      "text/plain": [
       "array([[0.50004884-0.86599721j]])"
      ]
     },
     "execution_count": 15,
     "metadata": {},
     "output_type": "execute_result"
    }
   ],
   "source": [
    "S = np.linalg.solve(Zp, Zm)\n",
    "S"
   ]
  },
  {
   "cell_type": "code",
   "execution_count": 16,
   "id": "f9907ac2-39b4-4fe6-b006-e15f67bf6180",
   "metadata": {},
   "outputs": [
    {
     "data": {
      "text/plain": [
       "array([[1.]])"
      ]
     },
     "execution_count": 16,
     "metadata": {},
     "output_type": "execute_result"
    }
   ],
   "source": [
    "np.absolute(S)"
   ]
  },
  {
   "cell_type": "code",
   "execution_count": 17,
   "id": "58861582-be3f-4aeb-8d5f-5ba0a5e689fb",
   "metadata": {},
   "outputs": [
    {
     "name": "stderr",
     "output_type": "stream",
     "text": [
      "/home/kyle/umich/jitr/src/jitr/rmatrix.py:46: NumbaPerformanceWarning: \u001b[1m\u001b[1m\u001b[1m'@' is faster on contiguous arrays, called on (Array(complex128, 1, 'C', False, aligned=True), Array(complex128, 2, 'A', False, aligned=True))\u001b[0m\u001b[0m\u001b[0m\n",
      "  R, Ainv = rmatrix_with_inverse(A, b, nchannels, nbasis, a)\n"
     ]
    }
   ],
   "source": [
    "R, S, u = solver.solve(interaction_matrix, channels[0:1])"
   ]
  },
  {
   "cell_type": "code",
   "execution_count": 18,
   "id": "a369a2f8-26e5-4e18-ab0e-f79bd8a04f60",
   "metadata": {},
   "outputs": [
    {
     "data": {
      "text/plain": [
       "array([[0.50004884-0.86599721j]])"
      ]
     },
     "execution_count": 18,
     "metadata": {},
     "output_type": "execute_result"
    }
   ],
   "source": [
    "S"
   ]
  },
  {
   "cell_type": "code",
   "execution_count": 19,
   "id": "6ede6458-0b48-4be0-8618-0d784fae8c8a",
   "metadata": {},
   "outputs": [],
   "source": [
    "R2, S2, u2 = solver.solve(interaction_matrix, channels[1:])"
   ]
  },
  {
   "cell_type": "code",
   "execution_count": 20,
   "id": "d8739b10-5041-4ccd-8a61-69bf89d6a712",
   "metadata": {},
   "outputs": [
    {
     "data": {
      "text/plain": [
       "array([[-0.38654413-0.92227091j]])"
      ]
     },
     "execution_count": 20,
     "metadata": {},
     "output_type": "execute_result"
    }
   ],
   "source": [
    "S2"
   ]
  },
  {
   "cell_type": "code",
   "execution_count": 21,
   "id": "a7267d01-2a7d-4549-b072-4cfe37d462d3",
   "metadata": {},
   "outputs": [
    {
     "name": "stdout",
     "output_type": "stream",
     "text": [
      "271 µs ± 6.1 µs per loop (mean ± std. dev. of 7 runs, 1,000 loops each)\n"
     ]
    }
   ],
   "source": [
    "%%timeit\n",
    "R, S, u = solver.solve(interaction_matrix, channels[0:1])"
   ]
  },
  {
   "cell_type": "code",
   "execution_count": 22,
   "id": "fe0f73c7-b64a-4602-a2aa-57a50bbc9276",
   "metadata": {},
   "outputs": [],
   "source": [
    "multi_channel_solver = jitr.RMatrixSolver(nbasis)\n",
    "multi_channel_interaction = jitr.InteractionMatrix(nchannels)\n",
    "\n",
    "# set the same interaction in each channel with\n",
    "# no coupling - should just be 10 copies of the same uncoupled system as before\n",
    "for i in range(nchannels):\n",
    "    multi_channel_interaction.set_local_interaction(potential, i, i, args=(10,))"
   ]
  },
  {
   "cell_type": "code",
   "execution_count": 23,
   "id": "042df962-eee6-496f-bba2-c987b6030265",
   "metadata": {},
   "outputs": [],
   "source": [
    "Rm, Sm, xm = multi_channel_solver.solve(multi_channel_interaction, channels)"
   ]
  },
  {
   "cell_type": "code",
   "execution_count": 24,
   "id": "f344c5c0-3953-47c7-b51d-327081407f8d",
   "metadata": {},
   "outputs": [
    {
     "data": {
      "text/plain": [
       "array([[ 0.50004884-0.86599721j, -0.        +0.j        ],\n",
       "       [-0.        +0.j        , -0.38654413-0.92227091j]])"
      ]
     },
     "execution_count": 24,
     "metadata": {},
     "output_type": "execute_result"
    }
   ],
   "source": [
    "Sm"
   ]
  },
  {
   "cell_type": "code",
   "execution_count": 25,
   "id": "fe3a3e38-525c-4d08-a1d0-a22050042e33",
   "metadata": {},
   "outputs": [
    {
     "data": {
      "text/plain": [
       "array([0, 1], dtype=int32)"
      ]
     },
     "execution_count": 25,
     "metadata": {},
     "output_type": "execute_result"
    }
   ],
   "source": [
    "sys.l"
   ]
  },
  {
   "cell_type": "code",
   "execution_count": 26,
   "id": "1650cc08-a6e1-494b-ac36-912ac8893aed",
   "metadata": {},
   "outputs": [],
   "source": [
    "bm = multi_channel_solver.precompute_boundaries(sys.channel_radii)\n",
    "np.testing.assert_almost_equal(b, bm[:nbasis])\n",
    "np.testing.assert_almost_equal(b, bm[nbasis : 2 * nbasis])"
   ]
  },
  {
   "cell_type": "code",
   "execution_count": 27,
   "id": "bef6b948-eb4c-4377-af31-f2089e6d6635",
   "metadata": {},
   "outputs": [],
   "source": [
    "np.testing.assert_almost_equal(np.linalg.det(Sm.conj().T @ Sm), 1)\n",
    "np.testing.assert_almost_equal(np.linalg.det(S.conj().T @ S), 1)\n",
    "np.testing.assert_almost_equal(Sm[1, 0], 0)\n",
    "np.testing.assert_almost_equal(Sm[0, 1], 0)\n",
    "np.testing.assert_almost_equal(Rm[1, 0], 0)\n",
    "np.testing.assert_almost_equal(Rm[0, 1], 0)\n",
    "np.testing.assert_almost_equal(Sm[1, 1], S2)\n",
    "np.testing.assert_almost_equal(Rm[1, 1], R2)\n",
    "np.testing.assert_almost_equal(Sm[0, 0], S)\n",
    "np.testing.assert_almost_equal(Rm[0, 0], R)"
   ]
  },
  {
   "cell_type": "code",
   "execution_count": 28,
   "id": "7107a213-aa88-473b-9aa3-f27c116f5c1d",
   "metadata": {},
   "outputs": [],
   "source": [
    "free = multi_channel_solver.free_matrix(sys.channel_radii, sys.l)\n",
    "interaction = multi_channel_solver.interaction_matrix(\n",
    "    multi_channel_interaction, channels\n",
    ")"
   ]
  },
  {
   "cell_type": "code",
   "execution_count": 29,
   "id": "4c6c70bf-89e2-4958-aa33-3ca6e7ba4190",
   "metadata": {},
   "outputs": [],
   "source": [
    "np.testing.assert_almost_equal(\n",
    "    solver.free_matrix(sys.channel_radii[0:1], sys.l[0:1]),\n",
    "    multi_channel_solver.get_channel_block(free, 0, 0),\n",
    ")"
   ]
  },
  {
   "cell_type": "code",
   "execution_count": 30,
   "id": "cd9f2280-2cb5-42a4-996a-13634376ab98",
   "metadata": {},
   "outputs": [],
   "source": [
    "np.testing.assert_almost_equal(\n",
    "    solver.interaction_matrix(interaction_matrix, channels[0:1]),\n",
    "    multi_channel_solver.get_channel_block(\n",
    "        multi_channel_solver.interaction_matrix(multi_channel_interaction, channels),\n",
    "        0,\n",
    "        0,\n",
    "    ),\n",
    ")"
   ]
  },
  {
   "cell_type": "code",
   "execution_count": 31,
   "id": "c53fab65-425f-4578-adad-66804196e38a",
   "metadata": {},
   "outputs": [],
   "source": [
    "for i in range(nchannels):\n",
    "    for j in range(nchannels):\n",
    "        if j != i:\n",
    "            np.testing.assert_almost_equal(solver.get_channel_block(free, i, j), 0)\n",
    "            np.testing.assert_almost_equal(\n",
    "                solver.get_channel_block(interaction, i, j), 0\n",
    "            )"
   ]
  },
  {
   "cell_type": "code",
   "execution_count": 32,
   "id": "f1e43e50-c2cd-407f-9cef-60456a39a991",
   "metadata": {},
   "outputs": [],
   "source": [
    "A = solver.interaction_matrix(interaction_matrix, channels[0:1]) + solver.free_matrix(\n",
    "    channels[\"a\"][0:1], channels[\"l\"][0:1]\n",
    ")\n",
    "Am = multi_channel_solver.interaction_matrix(\n",
    "    multi_channel_interaction, channels\n",
    ") + multi_channel_solver.free_matrix(channels[\"a\"], channels[\"l\"])"
   ]
  },
  {
   "cell_type": "code",
   "execution_count": 33,
   "id": "e94138ea-bc37-4a72-94fa-ecc52e0ac70d",
   "metadata": {},
   "outputs": [],
   "source": [
    "np.testing.assert_almost_equal(Am[:nbasis, :nbasis], A)\n",
    "np.testing.assert_almost_equal(bm[:nbasis], b)"
   ]
  },
  {
   "cell_type": "code",
   "execution_count": 34,
   "id": "f46ccf6b-85c6-45b2-bd9c-4d05b4d5e15a",
   "metadata": {},
   "outputs": [],
   "source": [
    "x = np.linalg.solve(A, b)\n",
    "xm = np.linalg.solve(Am, bm)"
   ]
  },
  {
   "cell_type": "code",
   "execution_count": 35,
   "id": "8d439a0b-bc7b-4b03-b4a5-d5ba63b83222",
   "metadata": {},
   "outputs": [],
   "source": [
    "np.testing.assert_almost_equal(x, xm[:nbasis])"
   ]
  },
  {
   "cell_type": "code",
   "execution_count": 36,
   "id": "55d534f2-d2c9-40a8-a6cf-f7cfcf66be1b",
   "metadata": {},
   "outputs": [],
   "source": [
    "R = x @ b / sys.channel_radii[0] ** 2"
   ]
  },
  {
   "cell_type": "code",
   "execution_count": 37,
   "id": "88b0077c-a6c0-4b5c-8303-65941bbf12e8",
   "metadata": {},
   "outputs": [],
   "source": [
    "Cm = np.linalg.inv(Am)"
   ]
  },
  {
   "cell_type": "code",
   "execution_count": 38,
   "id": "cbcf1c16-11e3-4d40-933e-8197664b9673",
   "metadata": {},
   "outputs": [
    {
     "data": {
      "text/plain": [
       "(80, 80)"
      ]
     },
     "execution_count": 38,
     "metadata": {},
     "output_type": "execute_result"
    }
   ],
   "source": [
    "Cm.shape"
   ]
  },
  {
   "cell_type": "code",
   "execution_count": 39,
   "id": "9ecb5065-38f1-47f1-b3ab-44c9403be65a",
   "metadata": {},
   "outputs": [
    {
     "data": {
      "text/plain": [
       "(0.038573441259307284+0j)"
      ]
     },
     "execution_count": 39,
     "metadata": {},
     "output_type": "execute_result"
    }
   ],
   "source": [
    "b.T @ Cm[:nbasis, :nbasis] @ b / sys.channel_radii[0] ** 2"
   ]
  },
  {
   "cell_type": "code",
   "execution_count": 40,
   "id": "5be5051c-2214-4754-b318-d8f81fcddb8e",
   "metadata": {},
   "outputs": [
    {
     "data": {
      "text/plain": [
       "(0.038573441259307284+0j)"
      ]
     },
     "execution_count": 40,
     "metadata": {},
     "output_type": "execute_result"
    }
   ],
   "source": [
    "bm[:nbasis].T @ Cm[:nbasis, :nbasis] @ bm[:nbasis] / sys.channel_radii[0] ** 2"
   ]
  },
  {
   "cell_type": "code",
   "execution_count": 41,
   "id": "1093632c-15a8-46f6-b7db-060a0cb57d24",
   "metadata": {},
   "outputs": [],
   "source": [
    "def Rmatrix(A, b, nchannels, nbasis, a):\n",
    "    R = np.zeros((nchannels, nchannels), dtype=np.complex128)\n",
    "    C = np.linalg.inv(A)\n",
    "    for i in range(nchannels):\n",
    "        for j in range(nchannels):\n",
    "            R[i, j] = (\n",
    "                b[i * nbasis : (i + 1) * nbasis].T\n",
    "                @ C[i * nbasis : (i + 1) * nbasis, j * nbasis : (j + 1) * nbasis]\n",
    "                @ b[j * nbasis : (j + 1) * nbasis]\n",
    "            )\n",
    "    return R / np.outer(a, a)"
   ]
  },
  {
   "cell_type": "code",
   "execution_count": 42,
   "id": "b4f1d88d-bdb1-4d85-8970-4092067912d3",
   "metadata": {},
   "outputs": [
    {
     "data": {
      "text/plain": [
       "array([[ 0.03857344+0.j,  0.        +0.j],\n",
       "       [ 0.        +0.j, -0.06993212+0.j]])"
      ]
     },
     "execution_count": 42,
     "metadata": {},
     "output_type": "execute_result"
    }
   ],
   "source": [
    "Rmatrix(Am, bm, nchannels=nchannels, nbasis=nbasis, a=sys.channel_radii)"
   ]
  },
  {
   "cell_type": "code",
   "execution_count": null,
   "id": "7d79972d-6b8a-4824-adb8-681b278d719b",
   "metadata": {},
   "outputs": [],
   "source": []
  },
  {
   "cell_type": "code",
   "execution_count": null,
   "id": "3f4d4394-20d4-40f3-a641-062ad3da7c6b",
   "metadata": {},
   "outputs": [],
   "source": []
  },
  {
   "cell_type": "code",
   "execution_count": null,
   "id": "c76d4ebd-66d8-4322-a7ed-d63084c6ce58",
   "metadata": {},
   "outputs": [],
   "source": []
  }
 ],
 "metadata": {
  "kernelspec": {
   "display_name": "Python 3 (ipykernel)",
   "language": "python",
   "name": "python3"
  },
  "language_info": {
   "codemirror_mode": {
    "name": "ipython",
    "version": 3
   },
   "file_extension": ".py",
   "mimetype": "text/x-python",
   "name": "python",
   "nbconvert_exporter": "python",
   "pygments_lexer": "ipython3",
   "version": "3.10.14"
  }
 },
 "nbformat": 4,
 "nbformat_minor": 5
}
