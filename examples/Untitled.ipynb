{
 "cells": [
  {
   "cell_type": "code",
   "execution_count": 8,
   "id": "457472fe-eb6e-4b8d-acec-0067b8bfa844",
   "metadata": {},
   "outputs": [],
   "source": [
    "import numpy as np\n",
    "\n",
    "from jitr import reactions, rmatrix\n",
    "from jitr.utils.kinematics import classical_kinematics\n",
    "\n",
    "\n",
    "def potential_scalar(r, depth, mass):\n",
    "    return depth * np.exp(-r / mass)\n",
    "\n",
    "\n",
    "def potential_2level(r, depth, mass, coupling):\n",
    "    diag = potential_scalar(r, depth, mass)\n",
    "    off_diag = potential_scalar(r, coupling, mass)\n",
    "    return np.array(\n",
    "        [[diag, off_diag], [off_diag, diag]],\n",
    "    )\n",
    "\n",
    "\n",
    "nbasis = 40\n",
    "solver = rmatrix.Solver(nbasis)\n",
    "\n",
    "nchannels = 2\n",
    "sys = reactions.ProjectileTargetSystem(\n",
    "    5 * np.pi * np.ones(nchannels),\n",
    "    np.arange(0, nchannels, dtype=np.int64),\n",
    "    mass_target=44657,\n",
    "    mass_projectile=938.3,\n",
    "    Ztarget=20,\n",
    "    Zproj=1,\n",
    "    nchannels=nchannels,\n",
    ")\n",
    "\n",
    "Elab = 42.1\n",
    "mu, Ecm, k, eta = classical_kinematics(\n",
    "    sys.mass_target, sys.mass_projectile, Elab, sys.Zproj * sys.Ztarget\n",
    ")\n",
    "\n",
    "# for solving the un-coupled channels independently\n",
    "channels_uncoupled, asymptotics_uncoupled = sys.uncoupled(Ecm, mu, k, eta)\n",
    "\n",
    "# for solving as a single (block-diagonal) system\n",
    "channels_coupled, asymptotics_coupled = sys.coupled(Ecm, mu, k, eta)\n",
    "\n",
    "# the 2-level system is block diagonal consisting of 2 copies of the\n",
    "# un-coupled scalar subsystems\n",
    "params_2level = (10, 4, 0)\n",
    "params_scalar = (10, 4)"
   ]
  },
  {
   "cell_type": "code",
   "execution_count": 9,
   "id": "c11cb9fe-271c-45d8-bc3d-f2b139071edb",
   "metadata": {},
   "outputs": [
    {
     "ename": "ValueError",
     "evalue": "Input must be 1- or 2-d.",
     "output_type": "error",
     "traceback": [
      "\u001b[0;31m---------------------------------------------------------------------------\u001b[0m",
      "\u001b[0;31mValueError\u001b[0m                                Traceback (most recent call last)",
      "Cell \u001b[0;32mIn[9], line 1\u001b[0m\n\u001b[0;32m----> 1\u001b[0m Rm, Sm, xm \u001b[38;5;241m=\u001b[39m \u001b[43msolver\u001b[49m\u001b[38;5;241;43m.\u001b[39;49m\u001b[43msolve\u001b[49m\u001b[43m(\u001b[49m\n\u001b[1;32m      2\u001b[0m \u001b[43m           \u001b[49m\u001b[43mchannels_coupled\u001b[49m\u001b[43m,\u001b[49m\n\u001b[1;32m      3\u001b[0m \u001b[43m           \u001b[49m\u001b[43masymptotics_coupled\u001b[49m\u001b[43m,\u001b[49m\n\u001b[1;32m      4\u001b[0m \u001b[43m           \u001b[49m\u001b[43mlocal_interaction\u001b[49m\u001b[38;5;241;43m=\u001b[39;49m\u001b[43mpotential_2level\u001b[49m\u001b[43m,\u001b[49m\n\u001b[1;32m      5\u001b[0m \u001b[43m           \u001b[49m\u001b[43mlocal_args\u001b[49m\u001b[38;5;241;43m=\u001b[39;49m\u001b[43mparams_2level\u001b[49m\u001b[43m,\u001b[49m\n\u001b[1;32m      6\u001b[0m \u001b[43m       \u001b[49m\u001b[43m)\u001b[49m\n",
      "File \u001b[0;32m~/umich/jitr/src/jitr/rmatrix/rmatrix.py:175\u001b[0m, in \u001b[0;36mSolver.solve\u001b[0;34m(self, channels, asymptotics, local_interaction, local_args, nonlocal_interaction, nonlocal_args, free_matrix, free_matrix_energy_scaling, basis_boundary, wavefunction)\u001b[0m\n\u001b[1;32m    173\u001b[0m \u001b[38;5;66;03m# calculate full multichannel Schrödinger equation in the Lagrange basis\u001b[39;00m\n\u001b[1;32m    174\u001b[0m A \u001b[38;5;241m=\u001b[39m free_matrix \u001b[38;5;241m/\u001b[39m free_matrix_energy_scaling\n\u001b[0;32m--> 175\u001b[0m A \u001b[38;5;241m+\u001b[39m\u001b[38;5;241m=\u001b[39m \u001b[38;5;28;43mself\u001b[39;49m\u001b[38;5;241;43m.\u001b[39;49m\u001b[43minteraction_matrix\u001b[49m\u001b[43m(\u001b[49m\n\u001b[1;32m    176\u001b[0m \u001b[43m    \u001b[49m\u001b[43mchannels\u001b[49m\u001b[43m,\u001b[49m\u001b[43m \u001b[49m\u001b[43mlocal_interaction\u001b[49m\u001b[43m,\u001b[49m\u001b[43m \u001b[49m\u001b[43mlocal_args\u001b[49m\u001b[43m,\u001b[49m\u001b[43m \u001b[49m\u001b[43mnonlocal_interaction\u001b[49m\u001b[43m,\u001b[49m\u001b[43m \u001b[49m\u001b[43mnonlocal_args\u001b[49m\n\u001b[1;32m    177\u001b[0m \u001b[43m\u001b[49m\u001b[43m)\u001b[49m\n\u001b[1;32m    179\u001b[0m \u001b[38;5;66;03m# solve system using the R-matrix method\u001b[39;00m\n\u001b[1;32m    180\u001b[0m R, S, Ainv, uext_prime_boundary \u001b[38;5;241m=\u001b[39m solve_smatrix_with_inverse(\n\u001b[1;32m    181\u001b[0m     A,\n\u001b[1;32m    182\u001b[0m     basis_boundary,\n\u001b[0;32m   (...)\u001b[0m\n\u001b[1;32m    190\u001b[0m     \u001b[38;5;28mself\u001b[39m\u001b[38;5;241m.\u001b[39mkernel\u001b[38;5;241m.\u001b[39mquadrature\u001b[38;5;241m.\u001b[39mnbasis,\n\u001b[1;32m    191\u001b[0m )\n",
      "File \u001b[0;32m~/umich/jitr/src/jitr/rmatrix/rmatrix.py:123\u001b[0m, in \u001b[0;36mSolver.interaction_matrix\u001b[0;34m(self, channels, local_interaction, local_args, nonlocal_interaction, nonlocal_args)\u001b[0m\n\u001b[1;32m    119\u001b[0m channel_radius_r \u001b[38;5;241m=\u001b[39m channels\u001b[38;5;241m.\u001b[39ma[\u001b[38;5;241m0\u001b[39m] \u001b[38;5;241m/\u001b[39m channels\u001b[38;5;241m.\u001b[39mk[\u001b[38;5;241m0\u001b[39m]\n\u001b[1;32m    121\u001b[0m \u001b[38;5;28;01mif\u001b[39;00m local_interaction \u001b[38;5;129;01mis\u001b[39;00m \u001b[38;5;129;01mnot\u001b[39;00m \u001b[38;5;28;01mNone\u001b[39;00m:\n\u001b[1;32m    122\u001b[0m     V \u001b[38;5;241m+\u001b[39m\u001b[38;5;241m=\u001b[39m (\n\u001b[0;32m--> 123\u001b[0m         \u001b[43mnp\u001b[49m\u001b[38;5;241;43m.\u001b[39;49m\u001b[43mdiag\u001b[49m\u001b[43m(\u001b[49m\n\u001b[1;32m    124\u001b[0m \u001b[43m            \u001b[49m\u001b[38;5;28;43mself\u001b[39;49m\u001b[38;5;241;43m.\u001b[39;49m\u001b[43mkernel\u001b[49m\u001b[38;5;241;43m.\u001b[39;49m\u001b[43mmatrix_local\u001b[49m\u001b[43m(\u001b[49m\n\u001b[1;32m    125\u001b[0m \u001b[43m                \u001b[49m\u001b[43mlocal_interaction\u001b[49m\u001b[43m,\u001b[49m\u001b[43m \u001b[49m\u001b[43mchannel_radius_r\u001b[49m\u001b[43m,\u001b[49m\u001b[43m \u001b[49m\u001b[43mlocal_args\u001b[49m\n\u001b[1;32m    126\u001b[0m \u001b[43m            \u001b[49m\u001b[43m)\u001b[49m\n\u001b[1;32m    127\u001b[0m \u001b[43m        \u001b[49m\u001b[43m)\u001b[49m\n\u001b[1;32m    128\u001b[0m         \u001b[38;5;241m.\u001b[39mreshape(channels\u001b[38;5;241m.\u001b[39msize, channels\u001b[38;5;241m.\u001b[39msize, nb, nb)\n\u001b[1;32m    129\u001b[0m         \u001b[38;5;241m.\u001b[39mswapaxes(\u001b[38;5;241m1\u001b[39m, \u001b[38;5;241m2\u001b[39m)\n\u001b[1;32m    130\u001b[0m         \u001b[38;5;241m.\u001b[39mreshape(sz, sz, order\u001b[38;5;241m=\u001b[39m\u001b[38;5;124m\"\u001b[39m\u001b[38;5;124mC\u001b[39m\u001b[38;5;124m\"\u001b[39m)\n\u001b[1;32m    131\u001b[0m     )\n\u001b[1;32m    132\u001b[0m \u001b[38;5;28;01mif\u001b[39;00m nonlocal_interaction \u001b[38;5;129;01mis\u001b[39;00m \u001b[38;5;129;01mnot\u001b[39;00m \u001b[38;5;28;01mNone\u001b[39;00m:\n\u001b[1;32m    133\u001b[0m     Vl \u001b[38;5;241m+\u001b[39m\u001b[38;5;241m=\u001b[39m (\n\u001b[1;32m    134\u001b[0m         \u001b[38;5;28mself\u001b[39m\u001b[38;5;241m.\u001b[39mkernel\u001b[38;5;241m.\u001b[39mmatrix_nonlocal(\n\u001b[1;32m    135\u001b[0m             nonlocal_interaction, channel_radius_r, nonlocal_args\n\u001b[0;32m   (...)\u001b[0m\n\u001b[1;32m    140\u001b[0m         \u001b[38;5;241m/\u001b[39m k0\n\u001b[1;32m    141\u001b[0m     )\n",
      "File \u001b[0;32m~/mambaforge/envs/om/lib/python3.10/site-packages/numpy/lib/twodim_base.py:303\u001b[0m, in \u001b[0;36mdiag\u001b[0;34m(v, k)\u001b[0m\n\u001b[1;32m    301\u001b[0m     \u001b[38;5;28;01mreturn\u001b[39;00m diagonal(v, k)\n\u001b[1;32m    302\u001b[0m \u001b[38;5;28;01melse\u001b[39;00m:\n\u001b[0;32m--> 303\u001b[0m     \u001b[38;5;28;01mraise\u001b[39;00m \u001b[38;5;167;01mValueError\u001b[39;00m(\u001b[38;5;124m\"\u001b[39m\u001b[38;5;124mInput must be 1- or 2-d.\u001b[39m\u001b[38;5;124m\"\u001b[39m)\n",
      "\u001b[0;31mValueError\u001b[0m: Input must be 1- or 2-d."
     ]
    }
   ],
   "source": [
    "Rm, Sm, xm = solver.solve(\n",
    "    channels_coupled,\n",
    "    asymptotics_coupled,\n",
    "    local_interaction=potential_2level,\n",
    "    local_args=params_2level,\n",
    ")"
   ]
  },
  {
   "cell_type": "code",
   "execution_count": null,
   "id": "df7ee05c-2c5a-4584-82cd-f29070ef5d05",
   "metadata": {},
   "outputs": [],
   "source": []
  }
 ],
 "metadata": {
  "kernelspec": {
   "display_name": "Python 3 (ipykernel)",
   "language": "python",
   "name": "python3"
  },
  "language_info": {
   "codemirror_mode": {
    "name": "ipython",
    "version": 3
   },
   "file_extension": ".py",
   "mimetype": "text/x-python",
   "name": "python",
   "nbconvert_exporter": "python",
   "pygments_lexer": "ipython3",
   "version": "3.10.14"
  }
 },
 "nbformat": 4,
 "nbformat_minor": 5
}
