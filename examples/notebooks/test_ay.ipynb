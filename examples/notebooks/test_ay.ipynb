{
 "cells": [
  {
   "cell_type": "code",
   "execution_count": 1,
   "id": "2838fbaa-f8df-4aef-a63a-663d63a5d4b5",
   "metadata": {
    "editable": true,
    "scrolled": true,
    "slideshow": {
     "slide_type": ""
    },
    "tags": []
   },
   "outputs": [],
   "source": [
    "from pathlib import Path\n",
    "\n",
    "import corner\n",
    "import matplotlib.pyplot as plt\n",
    "import numpy as np\n",
    "from tqdm import tqdm\n",
    "\n",
    "import jitr"
   ]
  },
  {
   "cell_type": "code",
   "execution_count": 2,
   "id": "ab36e1c4-f07d-45b7-a5b3-957fe29468ab",
   "metadata": {},
   "outputs": [],
   "source": [
    "import json"
   ]
  },
  {
   "cell_type": "code",
   "execution_count": 3,
   "id": "289ae4df-0616-4197-a425-2c86438f9693",
   "metadata": {},
   "outputs": [],
   "source": [
    "from jitr.optical_potentials import chuq, kduq, wlh"
   ]
  },
  {
   "cell_type": "code",
   "execution_count": 4,
   "id": "cd5b7977-9780-45af-bf2b-7e3d99c7f43d",
   "metadata": {},
   "outputs": [],
   "source": [
    "#  elastic reaction\n",
    "target = (54, 26)\n",
    "proton = (1, 1)\n",
    "neutron = (1, 0)\n",
    "projectile = proton\n",
    "\n",
    "# for plotting differential xs\n",
    "angles = np.linspace(0.1, np.pi, 100)"
   ]
  },
  {
   "cell_type": "code",
   "execution_count": 5,
   "id": "6c490e07-2d5c-4b9b-8a0e-94747c2fad37",
   "metadata": {},
   "outputs": [],
   "source": [
    "energies = [20.4]"
   ]
  },
  {
   "cell_type": "code",
   "execution_count": 6,
   "id": "bb1e933b-97df-4fde-be9b-b90989e6b535",
   "metadata": {},
   "outputs": [],
   "source": [
    "with open(\"/home/beyerk/db/scatter_exp_data/KDUQCorpus/fe54/APower_p.json\", \"rb\") as f:\n",
    "    data = json.load(f)"
   ]
  },
  {
   "cell_type": "code",
   "execution_count": 7,
   "id": "0d53e959-f677-4fc2-9552-de80e9ad191c",
   "metadata": {},
   "outputs": [],
   "source": [
    "def process(data_json):\n",
    "    vals = np.array(data_json[\"values\"])\n",
    "    return vals[:,0], vals[:,1], vals[:,2]"
   ]
  },
  {
   "cell_type": "code",
   "execution_count": 8,
   "id": "01404b50-5d1f-4538-8b32-36fd19dc3326",
   "metadata": {},
   "outputs": [],
   "source": [
    "data  = [process(d) for d in data['data'] if d['energy'] in energies]"
   ]
  },
  {
   "cell_type": "code",
   "execution_count": 9,
   "id": "a978d46a-71d0-44ec-b1d9-dca2e947bd4c",
   "metadata": {},
   "outputs": [],
   "source": [
    "core_solver = jitr.rmatrix.Solver(50)\n",
    "reaction = jitr.reactions.ElasticReaction(\n",
    "    target=target,\n",
    "    projectile=projectile,\n",
    ")"
   ]
  },
  {
   "cell_type": "code",
   "execution_count": 10,
   "id": "46a9170a-e711-4e7d-b4a9-2c87971b49bf",
   "metadata": {},
   "outputs": [],
   "source": [
    "solvers = []\n",
    "for Elab in energies:\n",
    "    # get kinematics and parameters for this experiment\n",
    "    kinematics = reaction.kinematics(Elab)\n",
    "\n",
    "    a = jitr.utils.interaction_range(target[0]) * kinematics.k + np.pi * 3\n",
    "    N = jitr.utils.suggested_basis_size(a)\n",
    "    assert N < core_solver.kernel.quadrature.nbasis\n",
    "    channel_radius_fm = a / kinematics.k\n",
    "\n",
    "    solvers.append(\n",
    "        jitr.xs.elastic.DifferentialWorkspace.build_from_system(\n",
    "            reaction=reaction,\n",
    "            kinematics=kinematics,\n",
    "            channel_radius_fm=channel_radius_fm,\n",
    "            solver=core_solver,\n",
    "            lmax=50,\n",
    "            angles=angles,\n",
    "        )\n",
    "    )"
   ]
  },
  {
   "cell_type": "code",
   "execution_count": 11,
   "id": "41185513-01f3-4ffc-9812-f353ed127b7b",
   "metadata": {},
   "outputs": [],
   "source": [
    "chuq_samples = chuq.get_samples_democratic(projectile)"
   ]
  },
  {
   "cell_type": "code",
   "execution_count": 12,
   "id": "f38bbc82-d88a-4217-8cd3-25dd68455176",
   "metadata": {},
   "outputs": [
    {
     "name": "stderr",
     "output_type": "stream",
     "text": [
      "100%|███████████████████████████████████████████████████████████████| 208/208 [00:08<00:00, 25.18it/s]\n"
     ]
    }
   ],
   "source": [
    "chuq_pred_post_Ay = []\n",
    "\n",
    "for solver in solvers:\n",
    "    # get a differential xs for each parameter sample\n",
    "    chuq_ay = np.zeros((len(angles), chuq.NUM_POSTERIOR_SAMPLES))\n",
    "\n",
    "    for j, sample in enumerate(tqdm(chuq_samples)):\n",
    "        coulomb_params, central_params, spin_orbit_params = chuq.calculate_params(\n",
    "            projectile, target, solver.kinematics.Elab, *sample\n",
    "        )\n",
    "\n",
    "        xs = solver.xs(\n",
    "            chuq.central_plus_coulomb,\n",
    "            chuq.spin_orbit,\n",
    "            (central_params, coulomb_params),\n",
    "            spin_orbit_params,\n",
    "        )\n",
    "        chuq_ay[:, j] = xs.Ay\n",
    "\n",
    "    chuq_pred_post_Ay.append(np.percentile(chuq_ay, [5, 95], axis=1))"
   ]
  },
  {
   "cell_type": "code",
   "execution_count": 13,
   "id": "7683296a-15d7-4a7f-9a21-a1683e79d24e",
   "metadata": {},
   "outputs": [
    {
     "data": {
      "text/plain": [
       "(-1.0, 10.0)"
      ]
     },
     "execution_count": 13,
     "metadata": {},
     "output_type": "execute_result"
    },
    {
     "data": {
      "image/png": "[encoded data removed]",
      "text/plain": [
       "<Figure size 600x800 with 1 Axes>"
      ]
     },
     "metadata": {},
     "output_type": "display_data"
    }
   ],
   "source": [
    "fig, ax = plt.subplots(1, 1, figsize=(6, 8))\n",
    "offsets =[8,6,4,2,0]\n",
    "for i in range(len(solvers)):\n",
    "    plt.text(0,1.01*offsets[i], f\"{energies[i]}\")\n",
    "    if i < len(data):\n",
    "        x,y,yerr = data[i]\n",
    "        plt.errorbar(x,y+offsets[i],yerr, linestyle=\"none\", marker='o', color='k')\n",
    "\n",
    "    ax.fill_between(\n",
    "        angles * 180 / np.pi,\n",
    "        offsets[i] + chuq_pred_post_Ay[i][0],\n",
    "        offsets[i] + chuq_pred_post_Ay[i][1],\n",
    "        color=\"tab:blue\",\n",
    "        hatch=\"/\\/\",\n",
    "        alpha=0.4,\n",
    "        zorder=999\n",
    "    )\n",
    "\n",
    "plt.ylim([-1,10])"
   ]
  }
 ],
 "metadata": {
  "kernelspec": {
   "display_name": "Python 3 (ipykernel)",
   "language": "python",
   "name": "python3"
  },
  "language_info": {
   "codemirror_mode": {
    "name": "ipython",
    "version": 3
   },
   "file_extension": ".py",
   "mimetype": "text/x-python",
   "name": "python",
   "nbconvert_exporter": "python",
   "pygments_lexer": "ipython3",
   "version": "3.11.9"
  }
 },
 "nbformat": 4,
 "nbformat_minor": 5
}
