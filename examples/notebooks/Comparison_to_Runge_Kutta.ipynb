{
 "cells": [
  {
   "cell_type": "code",
   "execution_count": 1,
   "id": "627ca1f1",
   "metadata": {},
   "outputs": [],
   "source": [
    " import numpy as np\n",
    " from scipy.integrate import solve_ivp\n",
    " from numba import njit\n",
    " import jitr"
   ]
  },
  {
   "cell_type": "code",
   "execution_count": 2,
   "id": "f26887d4",
   "metadata": {},
   "outputs": [],
   "source": [
    " @njit\n",
    " def interaction(r, *args):\n",
    "     (V0, W0, R0, a0) = args\n",
    "     return jitr.woods_saxon_potential(r, (V0, W0, R0, a0))\n"
   ]
  },
  {
   "cell_type": "code",
   "execution_count": 17,
   "id": "4a70c18a",
   "metadata": {},
   "outputs": [],
   "source": [
    "sys = jitr.ProjectileTargetSystem(\n",
    "    np.array([939.0]),\n",
    "    np.array([5 * (2 * np.pi)]),\n",
    "    l=np.array([0]),\n",
    "    Ztarget=40,\n",
    "    Zproj=0,\n",
    "    nchannels=1,\n",
    ")\n",
    "\n",
    "Ecom = 14.1\n",
    "\n",
    "\n",
    "# Lagrange-Mesh solver, don't set the energy\n",
    "solver = jitr.LagrangeRMatrixSolver(40, 1, sys, ecom=None)\n",
    "\n",
    "# use same interaction for all channels\n",
    "interaction_matrix = jitr.InteractionMatrix(1)\n",
    "interaction_matrix.set_local_interaction(interaction, 0, 0)\n",
    "\n",
    "# Woods-Saxon potential parameters\n",
    "V0 = 60  # real potential strength\n",
    "W0 = 20  # imag potential strength\n",
    "R0 = 4  # Woods-Saxon potential radius\n",
    "a0 = 0.5  # Woods-Saxon potential diffuseness\n",
    "\n",
    "params = (V0, W0, R0, a0)"
   ]
  },
  {
   "cell_type": "code",
   "execution_count": 4,
   "id": "9d38ac06",
   "metadata": {},
   "outputs": [],
   "source": [
    "ch = np.array(sys.build_channels(Ecom))\n",
    "solver.set_energy(Ecom)"
   ]
  },
  {
   "cell_type": "code",
   "execution_count": 5,
   "id": "9650d0d8",
   "metadata": {},
   "outputs": [],
   "source": [
    "F = solver_lm.kernel.single_channel_free_matrix(ch[0])"
   ]
  },
  {
   "cell_type": "code",
   "execution_count": 6,
   "id": "9b62b15d",
   "metadata": {},
   "outputs": [],
   "source": [
    "A = solver_lm.kernel.single_channel_bloch_se_matrix(0,0,interaction, None,True,ch[0], params)"
   ]
  },
  {
   "cell_type": "code",
   "execution_count": 7,
   "id": "b10081a6",
   "metadata": {},
   "outputs": [],
   "source": [
    "V = A - F # potential matrix elements "
   ]
  },
  {
   "cell_type": "code",
   "execution_count": 8,
   "id": "c26a896a",
   "metadata": {},
   "outputs": [],
   "source": [
    "R_lm, S_lm, x, uext_prime_boundary = solver_lm.solve(\n",
    "    interaction_matrix, ch, args=params, ecom=Ecom\n",
    ")"
   ]
  },
  {
   "cell_type": "code",
   "execution_count": null,
   "id": "8458220a",
   "metadata": {},
   "outputs": [],
   "source": []
  },
  {
   "cell_type": "code",
   "execution_count": 9,
   "id": "4324a675",
   "metadata": {},
   "outputs": [],
   "source": [
    "# Runge-Kutta\n",
    "from jitr.utils import schrodinger_eqn_ivp_order1\n",
    "sol_rk = solve_ivp(\n",
    "    lambda s, y,: schrodinger_eqn_ivp_order1(\n",
    "        s, y, ch[0], interaction_matrix.local_matrix[0, 0], params\n",
    "    ),\n",
    "    ch[0].domain,\n",
    "    ch[0].initial_conditions(),\n",
    "    dense_output=True,\n",
    "    atol=1.0e-9,\n",
    "    rtol=1.0e-9,\n",
    ").sol"
   ]
  },
  {
   "cell_type": "code",
   "execution_count": 11,
   "id": "afe5a986",
   "metadata": {},
   "outputs": [
    {
     "name": "stdout",
     "output_type": "stream",
     "text": [
      "(-0.0021309110080514246+0.03561169340604122j)\n",
      "(-0.05699944100839482-0.029794934193171304j)\n"
     ]
    }
   ],
   "source": [
    "a = ch[0].domain[1]\n",
    "R_rk = sol_rk(a)[0] / (a * sol_rk(a)[1])\n",
    "print(R_rk)\n",
    "S_rk = jitr.smatrix(R_rk, a, ch[0].l, ch[0].eta)\n",
    "print(S_rk)"
   ]
  },
  {
   "cell_type": "code",
   "execution_count": 12,
   "id": "aa4d8191",
   "metadata": {},
   "outputs": [
    {
     "data": {
      "text/plain": [
       "array([[0.0900102+3.23879482e-11j]])"
      ]
     },
     "execution_count": 12,
     "metadata": {},
     "output_type": "execute_result"
    }
   ],
   "source": [
    "R_lm"
   ]
  },
  {
   "cell_type": "code",
   "execution_count": 13,
   "id": "3e14ca66",
   "metadata": {},
   "outputs": [],
   "source": [
    "import lagrange_rmatrix"
   ]
  },
  {
   "cell_type": "code",
   "execution_count": 14,
   "id": "4182dbea",
   "metadata": {},
   "outputs": [],
   "source": [
    "sysLM = lagrange_rmatrix.ProjectileTargetSystem(\n",
    "    incident_energy=Ecom,\n",
    "    reduced_mass=sys.reduced_mass[0],\n",
    "    channel_radius=sys.channel_radii[0],\n",
    "    Ztarget=sys.Ztarget,\n",
    "    Zproj=sys.Zproj,\n",
    ")"
   ]
  },
  {
   "cell_type": "code",
   "execution_count": 15,
   "id": "e2b9788a",
   "metadata": {},
   "outputs": [
    {
     "data": {
      "text/plain": [
       "ProjectileTargetSystem(incident_energy=14.1, reduced_mass=939.0, channel_radius=31.41592653589793, Ztarget=40.0, Zproj=0.0, num_channels=1, level_energies=[])"
      ]
     },
     "execution_count": 15,
     "metadata": {},
     "output_type": "execute_result"
    }
   ],
   "source": [
    "sysLM"
   ]
  },
  {
   "cell_type": "code",
   "execution_count": 16,
   "id": "937e8343",
   "metadata": {},
   "outputs": [],
   "source": [
    "chlm = lagrange_rmatrix.RadialSEChannel(0, sysLM, lambda r : interaction(r, params))"
   ]
  },
  {
   "cell_type": "code",
   "execution_count": null,
   "id": "abd1bca0",
   "metadata": {},
   "outputs": [],
   "source": []
  },
  {
   "cell_type": "code",
   "execution_count": null,
   "id": "5e15dbb0",
   "metadata": {},
   "outputs": [],
   "source": []
  }
 ],
 "metadata": {
  "kernelspec": {
   "display_name": "Python [conda env:om] *",
   "language": "python",
   "name": "conda-env-om-py"
  },
  "language_info": {
   "codemirror_mode": {
    "name": "ipython",
    "version": 3
   },
   "file_extension": ".py",
   "mimetype": "text/x-python",
   "name": "python",
   "nbconvert_exporter": "python",
   "pygments_lexer": "ipython3",
   "version": "3.10.10"
  }
 },
 "nbformat": 4,
 "nbformat_minor": 5
}
