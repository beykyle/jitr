{
 "cells": [
  {
   "cell_type": "markdown",
   "id": "cdbaed91",
   "metadata": {},
   "source": [
    "Let's do a quick example comparing `jitr` to the standard Runge-Kutta ODE solver implemented in `scipy.integrate.solve_ivp`:"
   ]
  },
  {
   "cell_type": "code",
   "execution_count": 1,
   "id": "627ca1f1",
   "metadata": {},
   "outputs": [],
   "source": [
    " import numpy as np\n",
    " from scipy.integrate import solve_ivp\n",
    " from numba import njit\n",
    " import jitr"
   ]
  },
  {
   "cell_type": "markdown",
   "id": "374c3a22",
   "metadata": {},
   "source": [
    "First let's check our library versions and configs, as this will affect performance:"
   ]
  },
  {
   "cell_type": "code",
   "execution_count": 2,
   "id": "8e15e35c",
   "metadata": {},
   "outputs": [
    {
     "data": {
      "text/plain": [
       "'1.11.3'"
      ]
     },
     "execution_count": 2,
     "metadata": {},
     "output_type": "execute_result"
    }
   ],
   "source": [
    "import scipy as sc\n",
    "sc.__version__"
   ]
  },
  {
   "cell_type": "code",
   "execution_count": 3,
   "id": "a0fc6f0e",
   "metadata": {},
   "outputs": [
    {
     "data": {
      "text/plain": [
       "'0.57.1'"
      ]
     },
     "execution_count": 3,
     "metadata": {},
     "output_type": "execute_result"
    }
   ],
   "source": [
    "import numba\n",
    "numba. __version__"
   ]
  },
  {
   "cell_type": "code",
   "execution_count": 4,
   "id": "c2b9d158",
   "metadata": {},
   "outputs": [
    {
     "data": {
      "text/plain": [
       "'1.24.4'"
      ]
     },
     "execution_count": 4,
     "metadata": {},
     "output_type": "execute_result"
    }
   ],
   "source": [
    "np.__version__"
   ]
  },
  {
   "cell_type": "code",
   "execution_count": 5,
   "id": "c1c45f28",
   "metadata": {},
   "outputs": [
    {
     "name": "stdout",
     "output_type": "stream",
     "text": [
      "blas_info:\n",
      "    libraries = ['cblas', 'blas', 'cblas', 'blas']\n",
      "    library_dirs = ['/home/kyle/mambaforge/envs/om/lib']\n",
      "    include_dirs = ['/home/kyle/mambaforge/envs/om/include']\n",
      "    language = c\n",
      "    define_macros = [('HAVE_CBLAS', None)]\n",
      "blas_opt_info:\n",
      "    define_macros = [('NO_ATLAS_INFO', 1), ('HAVE_CBLAS', None)]\n",
      "    libraries = ['cblas', 'blas', 'cblas', 'blas']\n",
      "    library_dirs = ['/home/kyle/mambaforge/envs/om/lib']\n",
      "    include_dirs = ['/home/kyle/mambaforge/envs/om/include']\n",
      "    language = c\n",
      "lapack_info:\n",
      "    libraries = ['lapack', 'blas', 'lapack', 'blas']\n",
      "    library_dirs = ['/home/kyle/mambaforge/envs/om/lib']\n",
      "    language = f77\n",
      "lapack_opt_info:\n",
      "    libraries = ['lapack', 'blas', 'lapack', 'blas', 'cblas', 'blas', 'cblas', 'blas']\n",
      "    library_dirs = ['/home/kyle/mambaforge/envs/om/lib']\n",
      "    language = c\n",
      "    define_macros = [('NO_ATLAS_INFO', 1), ('HAVE_CBLAS', None)]\n",
      "    include_dirs = ['/home/kyle/mambaforge/envs/om/include']\n",
      "Supported SIMD extensions in this NumPy install:\n",
      "    baseline = SSE,SSE2,SSE3\n",
      "    found = SSSE3,SSE41,POPCNT,SSE42,AVX,F16C,FMA3,AVX2\n",
      "    not found = AVX512F,AVX512CD,AVX512_SKX,AVX512_CLX,AVX512_CNL,AVX512_ICL\n"
     ]
    }
   ],
   "source": [
    "np.show_config()"
   ]
  },
  {
   "cell_type": "markdown",
   "id": "b3a78e0d",
   "metadata": {},
   "source": [
    "Great, now let's set up our system and solver with `jitr`:"
   ]
  },
  {
   "cell_type": "code",
   "execution_count": 6,
   "id": "4a70c18a",
   "metadata": {},
   "outputs": [],
   "source": [
    "sys = jitr.ProjectileTargetSystem(\n",
    "    np.array([939.0]),\n",
    "    np.array([5 * (2 * np.pi)]),\n",
    "    l=np.array([0]),\n",
    "    Ztarget=40,\n",
    "    Zproj=0,\n",
    "    nchannels=1,\n",
    ")\n",
    "\n",
    "# COM frame energy\n",
    "Ecom = 14.1\n",
    "\n",
    "# Lagrange-Mesh R-matrix solver\n",
    "solver = jitr.LagrangeRMatrixSolver(100, 1, sys, ecom=Ecom)\n",
    "\n",
    "# ch holds info for the elastic scattering channel \n",
    "ch = np.array(sys.build_channels(Ecom))\n",
    "\n",
    "# use same interaction for all channels\n",
    "interaction_matrix = jitr.InteractionMatrix(1)\n",
    "interaction_matrix.set_local_interaction(jitr.woods_saxon_potential)\n",
    "\n",
    "# Woods-Saxon potential parameters\n",
    "V0 = 60  # real potential strength\n",
    "W0 = 20  # imag potential strength\n",
    "R0 = 4  # Woods-Saxon potential radius\n",
    "a0 = 0.5  # Woods-Saxon potential diffuseness\n",
    "params = (V0, W0, R0, a0)\n",
    "\n",
    "# set the params to be used when we run the solver\n",
    "interaction_matrix.local_args[0,0] = params"
   ]
  },
  {
   "cell_type": "code",
   "execution_count": 7,
   "id": "c26a896a",
   "metadata": {},
   "outputs": [],
   "source": [
    "# run solver\n",
    "R, S, uext_prime_boundary = solver.solve(\n",
    "    interaction_matrix, ch, ecom=Ecom\n",
    ")"
   ]
  },
  {
   "cell_type": "code",
   "execution_count": 8,
   "id": "df5a328e",
   "metadata": {},
   "outputs": [
    {
     "name": "stdout",
     "output_type": "stream",
     "text": [
      "(-0.056995279766827306-0.029788520925563822j)\n"
     ]
    }
   ],
   "source": [
    "print(S[0][0])"
   ]
  },
  {
   "cell_type": "markdown",
   "id": "ef595cd3",
   "metadata": {},
   "source": [
    "Great, now let's use `scipy` and see if we get the same $\\mathcal{S}$-matrix:"
   ]
  },
  {
   "cell_type": "code",
   "execution_count": 9,
   "id": "4324a675",
   "metadata": {},
   "outputs": [],
   "source": [
    "# Runge-Kutta\n",
    "from jitr.utils import schrodinger_eqn_ivp_order1\n",
    "sol_rk = solve_ivp(\n",
    "    lambda s, y,: schrodinger_eqn_ivp_order1(\n",
    "        s, y, ch[0], interaction_matrix.local_matrix[0, 0], params\n",
    "    ),\n",
    "    ch[0].domain,\n",
    "    ch[0].initial_conditions(),\n",
    "    dense_output=True,\n",
    "    atol=1.0e-7,\n",
    "    rtol=1.0e-7,\n",
    ").sol"
   ]
  },
  {
   "cell_type": "code",
   "execution_count": 10,
   "id": "afe5a986",
   "metadata": {},
   "outputs": [
    {
     "name": "stdout",
     "output_type": "stream",
     "text": [
      "(-0.05699524506911337-0.02978858462683773j)\n"
     ]
    }
   ],
   "source": [
    "a = ch[0].domain[1]\n",
    "R_rk = sol_rk(a)[0] / (a * sol_rk(a)[1])\n",
    "S_rk = jitr.smatrix(R_rk, a, ch[0].l, ch[0].eta)\n",
    "print(S_rk)"
   ]
  },
  {
   "cell_type": "code",
   "execution_count": 11,
   "id": "47939912",
   "metadata": {},
   "outputs": [
    {
     "data": {
      "text/plain": [
       "(1.9351413848065906e-06-0.00011277734670611897j)"
      ]
     },
     "execution_count": 11,
     "metadata": {},
     "output_type": "execute_result"
    }
   ],
   "source": [
    "100*(S[0,0] - S_rk)/S_rk #percent difference in real and imag parts of S"
   ]
  },
  {
   "cell_type": "markdown",
   "id": "b5935fb2",
   "metadata": {},
   "source": [
    "Great, our solvers agree up to high precision. Now let's compare the runtime of the two solver options:"
   ]
  },
  {
   "cell_type": "code",
   "execution_count": 12,
   "id": "103cb0f8",
   "metadata": {},
   "outputs": [
    {
     "name": "stdout",
     "output_type": "stream",
     "text": [
      "2.92 ms ± 343 µs per loop (mean ± std. dev. of 7 runs, 100 loops each)\n"
     ]
    }
   ],
   "source": [
    "%%timeit\n",
    "R, S, uext_prime_boundary = solver.solve(\n",
    "    interaction_matrix, ch, ecom=Ecom\n",
    ")"
   ]
  },
  {
   "cell_type": "code",
   "execution_count": 13,
   "id": "16c8bde1",
   "metadata": {},
   "outputs": [
    {
     "name": "stdout",
     "output_type": "stream",
     "text": [
      "91.7 ms ± 1.53 ms per loop (mean ± std. dev. of 7 runs, 10 loops each)\n"
     ]
    }
   ],
   "source": [
    "%%timeit\n",
    "sol_rk = solve_ivp(\n",
    "    lambda s, y,: schrodinger_eqn_ivp_order1(\n",
    "        s, y, ch[0], interaction_matrix.local_matrix[0, 0], params\n",
    "    ),\n",
    "    (ch[0].domain[0], ch[0].domain[1]*1.2),\n",
    "    ch[0].initial_conditions(),\n",
    "    dense_output=True,\n",
    "    atol=1.0e-7,\n",
    "    rtol=1.0e-7,\n",
    ").sol\n",
    "a = ch[0].domain[1]\n",
    "R_rk = sol_rk(a)[0] / (a * sol_rk(a)[1])\n",
    "S_rk = jitr.smatrix(R_rk, a, ch[0].l, ch[0].eta)"
   ]
  },
  {
   "cell_type": "markdown",
   "id": "f2992082",
   "metadata": {},
   "source": [
    "On my machine `jitr` is faster by about 50 times!\n",
    "\n",
    "(This does, of course, depend on the solver paramaters; `atol` and `rtol` for `solve_ivp`, and `nbasis` for `LagrangeRMatrixSolver` )."
   ]
  },
  {
   "cell_type": "code",
   "execution_count": null,
   "id": "84a49f6e",
   "metadata": {},
   "outputs": [],
   "source": []
  }
 ],
 "metadata": {
  "kernelspec": {
   "display_name": "Python [conda env:om] *",
   "language": "python",
   "name": "conda-env-om-py"
  },
  "language_info": {
   "codemirror_mode": {
    "name": "ipython",
    "version": 3
   },
   "file_extension": ".py",
   "mimetype": "text/x-python",
   "name": "python",
   "nbconvert_exporter": "python",
   "pygments_lexer": "ipython3",
   "version": "3.10.10"
  }
 },
 "nbformat": 4,
 "nbformat_minor": 5
}
