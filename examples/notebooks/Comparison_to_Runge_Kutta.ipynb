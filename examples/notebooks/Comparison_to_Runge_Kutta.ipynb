{
 "cells": [
  {
   "cell_type": "markdown",
   "id": "cdbaed91",
   "metadata": {},
   "source": [
    "Let's do a quick example comparing `jitr` to the standard Runge-Kutta ODE solver implemented in `scipy.integrate.solve_ivp`:"
   ]
  },
  {
   "cell_type": "code",
   "execution_count": 1,
   "id": "627ca1f1",
   "metadata": {},
   "outputs": [],
   "source": [
    "import numpy as np\n",
    "from scipy.integrate import solve_ivp\n",
    "from numba import njit\n",
    "from jitr import reactions, rmatrix, utils\n",
    "from jitr.reactions.potentials import woods_saxon_potential"
   ]
  },
  {
   "cell_type": "markdown",
   "id": "374c3a22",
   "metadata": {},
   "source": [
    "First let's check our library versions and configs, as this will affect performance:"
   ]
  },
  {
   "cell_type": "code",
   "execution_count": 2,
   "id": "8e15e35c",
   "metadata": {},
   "outputs": [
    {
     "data": {
      "text/plain": [
       "'1.13.0'"
      ]
     },
     "execution_count": 2,
     "metadata": {},
     "output_type": "execute_result"
    }
   ],
   "source": [
    "import scipy as sc\n",
    "\n",
    "sc.__version__"
   ]
  },
  {
   "cell_type": "code",
   "execution_count": 3,
   "id": "a0fc6f0e",
   "metadata": {},
   "outputs": [
    {
     "data": {
      "text/plain": [
       "'0.60.0'"
      ]
     },
     "execution_count": 3,
     "metadata": {},
     "output_type": "execute_result"
    }
   ],
   "source": [
    "import numba\n",
    "\n",
    "numba.__version__"
   ]
  },
  {
   "cell_type": "code",
   "execution_count": 4,
   "id": "c2b9d158",
   "metadata": {},
   "outputs": [
    {
     "data": {
      "text/plain": [
       "'1.26.4'"
      ]
     },
     "execution_count": 4,
     "metadata": {},
     "output_type": "execute_result"
    }
   ],
   "source": [
    "np.__version__"
   ]
  },
  {
   "cell_type": "code",
   "execution_count": 5,
   "id": "c1c45f28",
   "metadata": {},
   "outputs": [],
   "source": [
    "# np.show_config()"
   ]
  },
  {
   "cell_type": "markdown",
   "id": "b3a78e0d",
   "metadata": {},
   "source": [
    "Great, now let's set up our system and solver with `jitr`:"
   ]
  },
  {
   "cell_type": "code",
   "execution_count": 6,
   "id": "4a70c18a",
   "metadata": {},
   "outputs": [],
   "source": [
    "sys = reactions.ProjectileTargetSystem(\n",
    "    channel_radius=10 * np.pi,\n",
    "    lmax=10,\n",
    "    mass_target=44657,\n",
    "    mass_projectile=938.3,\n",
    "    Ztarget=40,\n",
    "    Zproj=0,\n",
    ")\n",
    "\n",
    "# COM frame energy\n",
    "Elab = 14.1\n",
    "\n",
    "# Lagrange-Mesh R-matrix solver\n",
    "solver = rmatrix.Solver(40)\n",
    "\n",
    "# channels holds info for the elastic scattering channel\n",
    "Elab = 42.1\n",
    "mu, Ecm, k, eta = utils.kinematics.classical_kinematics(\n",
    "    sys.mass_target, sys.mass_projectile, Elab, sys.Zproj * sys.Ztarget\n",
    ")\n",
    "channels, asymptotics = sys.get_partial_wave_channels(Ecm, mu, k, eta)"
   ]
  },
  {
   "cell_type": "code",
   "execution_count": 7,
   "id": "c096c947-9204-4c99-a4cf-71035871099e",
   "metadata": {},
   "outputs": [],
   "source": [
    "# Woods-Saxon potential parameters\n",
    "V0 = -60  # real potential strength\n",
    "W0 = -20  # imag potential strength\n",
    "R0 = 4  # Woods-Saxon potential radius\n",
    "a0 = 0.5  # Woods-Saxon potential diffuseness\n",
    "params = (V0, W0, R0, a0)"
   ]
  },
  {
   "cell_type": "code",
   "execution_count": 8,
   "id": "c26a896a",
   "metadata": {},
   "outputs": [],
   "source": [
    "# run solver for S-wave\n",
    "l = 0\n",
    "R, S, uext_prime_boundary = solver.solve(\n",
    "    channels[l], asymptotics[l], woods_saxon_potential, params\n",
    ")"
   ]
  },
  {
   "cell_type": "code",
   "execution_count": 9,
   "id": "df5a328e",
   "metadata": {},
   "outputs": [
    {
     "name": "stdout",
     "output_type": "stream",
     "text": [
      "(0.16908560771865788+0.05598287996028857j)\n"
     ]
    }
   ],
   "source": [
    "print(S[0, 0])"
   ]
  },
  {
   "cell_type": "markdown",
   "id": "ef595cd3",
   "metadata": {},
   "source": [
    "Great, now let's use `scipy` and see if we get the same $\\mathcal{S}$-matrix:"
   ]
  },
  {
   "cell_type": "code",
   "execution_count": 10,
   "id": "4324a675",
   "metadata": {},
   "outputs": [],
   "source": [
    "# Runge-Kutta\n",
    "from jitr.utils import schrodinger_eqn_ivp_order1\n",
    "\n",
    "channel_data_rk = reactions.make_channel_data(channels[l])\n",
    "domain, init_con = channel_data_rk[0].initial_conditions()\n",
    "sol_rk = solve_ivp(\n",
    "    lambda s, y,: schrodinger_eqn_ivp_order1(\n",
    "        s, y, channel_data_rk[0], woods_saxon_potential, params\n",
    "    ),\n",
    "    domain,\n",
    "    init_con,\n",
    "    dense_output=True,\n",
    "    atol=1.0e-7,\n",
    "    rtol=1.0e-7,\n",
    ").sol"
   ]
  },
  {
   "cell_type": "code",
   "execution_count": 11,
   "id": "afe5a986",
   "metadata": {},
   "outputs": [
    {
     "name": "stdout",
     "output_type": "stream",
     "text": [
      "(0.1694677812223941+0.055846727056314265j)\n"
     ]
    }
   ],
   "source": [
    "a = channel_data_rk[0].domain[1]\n",
    "R_rk = sol_rk(a)[0] / (a * sol_rk(a)[1])\n",
    "S_rk = utils.smatrix(R_rk, a, channel_data_rk[0].l, channel_data_rk[0].eta)\n",
    "print(S_rk)"
   ]
  },
  {
   "cell_type": "code",
   "execution_count": 12,
   "id": "47939912",
   "metadata": {},
   "outputs": [
    {
     "data": {
      "text/plain": [
       "(-0.17954038594229624+0.13950754034898027j)"
      ]
     },
     "execution_count": 12,
     "metadata": {},
     "output_type": "execute_result"
    }
   ],
   "source": [
    "100 * (S[0, 0] - S_rk) / S_rk  # percent difference in real and imag parts of S"
   ]
  },
  {
   "cell_type": "markdown",
   "id": "b5935fb2",
   "metadata": {},
   "source": [
    "Great, our solvers agree up to high precision. Now let's compare the runtime of the two solver options:"
   ]
  },
  {
   "cell_type": "code",
   "execution_count": 13,
   "id": "103cb0f8",
   "metadata": {},
   "outputs": [
    {
     "name": "stdout",
     "output_type": "stream",
     "text": [
      "320 µs ± 16.1 µs per loop (mean ± std. dev. of 7 runs, 1,000 loops each)\n"
     ]
    }
   ],
   "source": [
    "%%timeit\n",
    "l = 0\n",
    "R, S, uext_prime_boundary = solver.solve(\n",
    "    channels[l], asymptotics[l], woods_saxon_potential, params\n",
    ")"
   ]
  },
  {
   "cell_type": "code",
   "execution_count": 14,
   "id": "16c8bde1",
   "metadata": {},
   "outputs": [
    {
     "name": "stdout",
     "output_type": "stream",
     "text": [
      "76.7 ms ± 1.53 ms per loop (mean ± std. dev. of 7 runs, 10 loops each)\n"
     ]
    }
   ],
   "source": [
    "%%timeit\n",
    "domain, init_con = channel_data_rk[0].initial_conditions()\n",
    "sol_rk = solve_ivp(\n",
    "    lambda s, y,: schrodinger_eqn_ivp_order1(\n",
    "        s, y, channel_data_rk[0], woods_saxon_potential, params\n",
    "    ),\n",
    "    domain,\n",
    "    init_con,\n",
    "    dense_output=True,\n",
    "    atol=1.0e-7,\n",
    "    rtol=1.0e-7,\n",
    ").sol\n",
    "R_rk = sol_rk(a)[0] / (a * sol_rk(a)[1])\n",
    "S_rk = utils.smatrix(R_rk, a, channel_data_rk[0].l, channel_data_rk[0].eta)"
   ]
  },
  {
   "cell_type": "markdown",
   "id": "f2992082",
   "metadata": {},
   "source": [
    "On my machine `jitr` is faster by about 250 times!\n",
    "\n",
    "(This does, of course, depend on the solver paramaters; `atol` and `rtol` for `solve_ivp`, and `nbasis` for `LagrangeRMatrixSolver` )."
   ]
  },
  {
   "cell_type": "code",
   "execution_count": null,
   "id": "80bb9071-4c32-471d-b103-5b9545971442",
   "metadata": {},
   "outputs": [],
   "source": []
  }
 ],
 "metadata": {
  "kernelspec": {
   "display_name": "Python 3 (ipykernel)",
   "language": "python",
   "name": "python3"
  },
  "language_info": {
   "codemirror_mode": {
    "name": "ipython",
    "version": 3
   },
   "file_extension": ".py",
   "mimetype": "text/x-python",
   "name": "python",
   "nbconvert_exporter": "python",
   "pygments_lexer": "ipython3",
   "version": "3.11.9"
  }
 },
 "nbformat": 4,
 "nbformat_minor": 5
}
