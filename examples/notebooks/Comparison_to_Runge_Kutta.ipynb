{
 "cells": [
  {
   "cell_type": "markdown",
   "id": "cdbaed91",
   "metadata": {},
   "source": [
    "Let's do a quick example comparing `jitr` to the standard Runge-Kutta ODE solver implemented in `scipy.integrate.solve_ivp`:"
   ]
  },
  {
   "cell_type": "code",
   "execution_count": 1,
   "id": "627ca1f1",
   "metadata": {},
   "outputs": [],
   "source": [
    " import numpy as np\n",
    " from scipy.integrate import solve_ivp\n",
    " from numba import njit\n",
    " import jitr"
   ]
  },
  {
   "cell_type": "code",
   "execution_count": 2,
   "id": "f26887d4",
   "metadata": {},
   "outputs": [],
   "source": [
    " @njit\n",
    " def interaction(r, *args):\n",
    "     (V0, W0, R0, a0) = args\n",
    "     return jitr.woods_saxon_potential(r, (V0, W0, R0, a0))"
   ]
  },
  {
   "cell_type": "code",
   "execution_count": 3,
   "id": "4a70c18a",
   "metadata": {},
   "outputs": [
    {
     "name": "stderr",
     "output_type": "stream",
     "text": [
      "/home/kyle/mambaforge/envs/om/lib/python3.10/site-packages/numba/core/dispatcher.py:289: UserWarning: Numba extension module 'numba_scipy' failed to load due to 'ValueError(No function '__pyx_fuse_0pdtr' found in __pyx_capi__ of 'scipy.special.cython_special')'.\n",
      "  entrypoints.init_all()\n"
     ]
    }
   ],
   "source": [
    "sys = jitr.ProjectileTargetSystem(\n",
    "    np.array([939.0]),\n",
    "    np.array([5 * (2 * np.pi)]),\n",
    "    l=np.array([0]),\n",
    "    Ztarget=40,\n",
    "    Zproj=0,\n",
    "    nchannels=1,\n",
    ")\n",
    "\n",
    "Ecom = 14.1\n",
    "\n",
    "# Lagrange-Mesh solver\n",
    "solver = jitr.LagrangeRMatrixSolver(50, 1, sys, ecom=14.1)\n",
    "\n",
    "# use same interaction for all channels\n",
    "interaction_matrix = jitr.InteractionMatrix(1)\n",
    "interaction_matrix.set_local_interaction(interaction, 0, 0)\n",
    "\n",
    "# Woods-Saxon potential parameters\n",
    "V0 = 60  # real potential strength\n",
    "W0 = 20  # imag potential strength\n",
    "R0 = 4  # Woods-Saxon potential radius\n",
    "a0 = 0.5  # Woods-Saxon potential diffuseness\n",
    "\n",
    "params = (V0, W0, R0, a0)"
   ]
  },
  {
   "cell_type": "code",
   "execution_count": 4,
   "id": "9d38ac06",
   "metadata": {},
   "outputs": [],
   "source": [
    "ch = np.array(sys.build_channels(Ecom))\n",
    "solver.set_energy(Ecom)"
   ]
  },
  {
   "cell_type": "code",
   "execution_count": 5,
   "id": "c26a896a",
   "metadata": {},
   "outputs": [],
   "source": [
    "R, S, x, uext_prime_boundary = solver.solve(\n",
    "    interaction_matrix, ch, args=params, ecom=Ecom\n",
    ")"
   ]
  },
  {
   "cell_type": "code",
   "execution_count": 6,
   "id": "df5a328e",
   "metadata": {},
   "outputs": [
    {
     "name": "stdout",
     "output_type": "stream",
     "text": [
      "(-0.057366431425342417-0.030120296148765876j)\n"
     ]
    }
   ],
   "source": [
    "print(S[0][0])"
   ]
  },
  {
   "cell_type": "markdown",
   "id": "ef595cd3",
   "metadata": {},
   "source": [
    "Great, now let's use `scipy` and see if we get the same $\\mathcal{S}$-matrix:"
   ]
  },
  {
   "cell_type": "code",
   "execution_count": 7,
   "id": "4324a675",
   "metadata": {},
   "outputs": [],
   "source": [
    "# Runge-Kutta\n",
    "from jitr.utils import schrodinger_eqn_ivp_order1\n",
    "sol_rk = solve_ivp(\n",
    "    lambda s, y,: schrodinger_eqn_ivp_order1(\n",
    "        s, y, ch[0], interaction_matrix.local_matrix[0, 0], params\n",
    "    ),\n",
    "    ch[0].domain,\n",
    "    ch[0].initial_conditions(),\n",
    "    dense_output=True,\n",
    "    atol=1.0e-12,\n",
    "    rtol=1.0e-12,\n",
    ").sol"
   ]
  },
  {
   "cell_type": "code",
   "execution_count": 8,
   "id": "afe5a986",
   "metadata": {},
   "outputs": [
    {
     "name": "stdout",
     "output_type": "stream",
     "text": [
      "(-0.05699527983357116-0.029788521064808164j)\n"
     ]
    }
   ],
   "source": [
    "a = ch[0].domain[1]\n",
    "R_rk = sol_rk(a)[0] / (a * sol_rk(a)[1])\n",
    "S_rk = jitr.smatrix(R_rk, a, ch[0].l, ch[0].eta)\n",
    "print(S_rk)"
   ]
  },
  {
   "cell_type": "markdown",
   "id": "b5935fb2",
   "metadata": {},
   "source": [
    "Great, this should be the same. Now let's compare the runtime of the two solver options:"
   ]
  },
  {
   "cell_type": "code",
   "execution_count": 9,
   "id": "103cb0f8",
   "metadata": {},
   "outputs": [
    {
     "name": "stdout",
     "output_type": "stream",
     "text": [
      "1.76 ms ± 81.4 µs per loop (mean ± std. dev. of 7 runs, 1,000 loops each)\n"
     ]
    }
   ],
   "source": [
    "%%timeit\n",
    "R, S, x, uext_prime_boundary = solver.solve(\n",
    "    interaction_matrix, ch, args=params, ecom=Ecom\n",
    ")"
   ]
  },
  {
   "cell_type": "code",
   "execution_count": 10,
   "id": "16c8bde1",
   "metadata": {},
   "outputs": [
    {
     "name": "stdout",
     "output_type": "stream",
     "text": [
      "402 ms ± 7.67 ms per loop (mean ± std. dev. of 7 runs, 1 loop each)\n"
     ]
    }
   ],
   "source": [
    "%%timeit\n",
    "sol_rk = solve_ivp(\n",
    "    lambda s, y,: schrodinger_eqn_ivp_order1(\n",
    "        s, y, ch[0], interaction_matrix.local_matrix[0, 0], params\n",
    "    ),\n",
    "    ch[0].domain,\n",
    "    ch[0].initial_conditions(),\n",
    "    dense_output=True,\n",
    "    atol=1.0e-12,\n",
    "    rtol=1.0e-12,\n",
    ").sol\n",
    "a = ch[0].domain[1]\n",
    "R_rk = sol_rk(a)[0] / (a * sol_rk(a)[1])\n",
    "S_rk = jitr.smatrix(R_rk, a, ch[0].l, ch[0].eta)"
   ]
  },
  {
   "cell_type": "markdown",
   "id": "f2992082",
   "metadata": {},
   "source": [
    "On my machine `jitr` is faster by around 200 times!"
   ]
  }
 ],
 "metadata": {
  "kernelspec": {
   "display_name": "Python [conda env:om] *",
   "language": "python",
   "name": "conda-env-om-py"
  },
  "language_info": {
   "codemirror_mode": {
    "name": "ipython",
    "version": 3
   },
   "file_extension": ".py",
   "mimetype": "text/x-python",
   "name": "python",
   "nbconvert_exporter": "python",
   "pygments_lexer": "ipython3",
   "version": "3.10.10"
  }
 },
 "nbformat": 4,
 "nbformat_minor": 5
}
