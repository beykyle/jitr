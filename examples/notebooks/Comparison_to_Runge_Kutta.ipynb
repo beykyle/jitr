{
 "cells": [
  {
   "cell_type": "markdown",
   "id": "cdbaed91",
   "metadata": {},
   "source": [
    "Let's do a quick example comparing `jitr` to the standard Runge-Kutta ODE solver implemented in `scipy.integrate.solve_ivp`:"
   ]
  },
  {
   "cell_type": "code",
   "execution_count": 22,
   "id": "627ca1f1",
   "metadata": {},
   "outputs": [],
   "source": [
    "import numpy as np\n",
    "from scipy.integrate import solve_ivp\n",
    "from numba import njit\n",
    "from jitr import reactions, rmatrix, utils\n",
    "from jitr.reactions.potentials import woods_saxon_potential"
   ]
  },
  {
   "cell_type": "markdown",
   "id": "374c3a22",
   "metadata": {},
   "source": [
    "First let's check our library versions and configs, as this will affect performance:"
   ]
  },
  {
   "cell_type": "code",
   "execution_count": 14,
   "id": "8e15e35c",
   "metadata": {},
   "outputs": [
    {
     "data": {
      "text/plain": [
       "'1.11.4'"
      ]
     },
     "execution_count": 14,
     "metadata": {},
     "output_type": "execute_result"
    }
   ],
   "source": [
    "import scipy as sc\n",
    "\n",
    "sc.__version__"
   ]
  },
  {
   "cell_type": "code",
   "execution_count": 15,
   "id": "a0fc6f0e",
   "metadata": {},
   "outputs": [
    {
     "data": {
      "text/plain": [
       "'0.58.1'"
      ]
     },
     "execution_count": 15,
     "metadata": {},
     "output_type": "execute_result"
    }
   ],
   "source": [
    "import numba\n",
    "\n",
    "numba.__version__"
   ]
  },
  {
   "cell_type": "code",
   "execution_count": 16,
   "id": "c2b9d158",
   "metadata": {},
   "outputs": [
    {
     "data": {
      "text/plain": [
       "'1.26.4'"
      ]
     },
     "execution_count": 16,
     "metadata": {},
     "output_type": "execute_result"
    }
   ],
   "source": [
    "np.__version__"
   ]
  },
  {
   "cell_type": "code",
   "execution_count": 17,
   "id": "c1c45f28",
   "metadata": {},
   "outputs": [
    {
     "name": "stdout",
     "output_type": "stream",
     "text": [
      "Build Dependencies:\n",
      "  blas:\n",
      "    detection method: pkgconfig\n",
      "    found: true\n",
      "    include directory: /home/kyle/mambaforge/envs/om/include\n",
      "    lib directory: /home/kyle/mambaforge/envs/om/lib\n",
      "    name: blas\n",
      "    openblas configuration: unknown\n",
      "    pc file directory: /home/kyle/mambaforge/envs/om/lib/pkgconfig\n",
      "    version: 3.9.0\n",
      "  lapack:\n",
      "    detection method: internal\n",
      "    found: true\n",
      "    include directory: unknown\n",
      "    lib directory: unknown\n",
      "    name: dep140371046681712\n",
      "    openblas configuration: unknown\n",
      "    pc file directory: unknown\n",
      "    version: 1.26.4\n",
      "Compilers:\n",
      "  c:\n",
      "    args: -march=nocona, -mtune=haswell, -ftree-vectorize, -fPIC, -fstack-protector-strong,\n",
      "      -fno-plt, -O2, -ffunction-sections, -pipe, -isystem, /home/kyle/mambaforge/envs/om/include,\n",
      "      -fdebug-prefix-map=/home/conda/feedstock_root/build_artifacts/numpy_1707225380409/work=/usr/local/src/conda/numpy-1.26.4,\n",
      "      -fdebug-prefix-map=/home/kyle/mambaforge/envs/om=/usr/local/src/conda-prefix,\n",
      "      -DNDEBUG, -D_FORTIFY_SOURCE=2, -O2, -isystem, /home/kyle/mambaforge/envs/om/include\n",
      "    commands: /home/conda/feedstock_root/build_artifacts/numpy_1707225380409/_build_env/bin/x86_64-conda-linux-gnu-cc\n",
      "    linker: ld.bfd\n",
      "    linker args: -Wl,-O2, -Wl,--sort-common, -Wl,--as-needed, -Wl,-z,relro, -Wl,-z,now,\n",
      "      -Wl,--disable-new-dtags, -Wl,--gc-sections, -Wl,--allow-shlib-undefined, -Wl,-rpath,/home/kyle/mambaforge/envs/om/lib,\n",
      "      -Wl,-rpath-link,/home/kyle/mambaforge/envs/om/lib, -L/home/kyle/mambaforge/envs/om/lib,\n",
      "      -march=nocona, -mtune=haswell, -ftree-vectorize, -fPIC, -fstack-protector-strong,\n",
      "      -fno-plt, -O2, -ffunction-sections, -pipe, -isystem, /home/kyle/mambaforge/envs/om/include,\n",
      "      -fdebug-prefix-map=/home/conda/feedstock_root/build_artifacts/numpy_1707225380409/work=/usr/local/src/conda/numpy-1.26.4,\n",
      "      -fdebug-prefix-map=/home/kyle/mambaforge/envs/om=/usr/local/src/conda-prefix,\n",
      "      -DNDEBUG, -D_FORTIFY_SOURCE=2, -O2, -isystem, /home/kyle/mambaforge/envs/om/include\n",
      "    name: gcc\n",
      "    version: 12.3.0\n",
      "  c++:\n",
      "    args: -fvisibility-inlines-hidden, -fmessage-length=0, -march=nocona, -mtune=haswell,\n",
      "      -ftree-vectorize, -fPIC, -fstack-protector-strong, -fno-plt, -O2, -ffunction-sections,\n",
      "      -pipe, -isystem, /home/kyle/mambaforge/envs/om/include, -fdebug-prefix-map=/home/conda/feedstock_root/build_artifacts/numpy_1707225380409/work=/usr/local/src/conda/numpy-1.26.4,\n",
      "      -fdebug-prefix-map=/home/kyle/mambaforge/envs/om=/usr/local/src/conda-prefix,\n",
      "      -DNDEBUG, -D_FORTIFY_SOURCE=2, -O2, -isystem, /home/kyle/mambaforge/envs/om/include\n",
      "    commands: /home/conda/feedstock_root/build_artifacts/numpy_1707225380409/_build_env/bin/x86_64-conda-linux-gnu-c++\n",
      "    linker: ld.bfd\n",
      "    linker args: -Wl,-O2, -Wl,--sort-common, -Wl,--as-needed, -Wl,-z,relro, -Wl,-z,now,\n",
      "      -Wl,--disable-new-dtags, -Wl,--gc-sections, -Wl,--allow-shlib-undefined, -Wl,-rpath,/home/kyle/mambaforge/envs/om/lib,\n",
      "      -Wl,-rpath-link,/home/kyle/mambaforge/envs/om/lib, -L/home/kyle/mambaforge/envs/om/lib,\n",
      "      -fvisibility-inlines-hidden, -fmessage-length=0, -march=nocona, -mtune=haswell,\n",
      "      -ftree-vectorize, -fPIC, -fstack-protector-strong, -fno-plt, -O2, -ffunction-sections,\n",
      "      -pipe, -isystem, /home/kyle/mambaforge/envs/om/include, -fdebug-prefix-map=/home/conda/feedstock_root/build_artifacts/numpy_1707225380409/work=/usr/local/src/conda/numpy-1.26.4,\n",
      "      -fdebug-prefix-map=/home/kyle/mambaforge/envs/om=/usr/local/src/conda-prefix,\n",
      "      -DNDEBUG, -D_FORTIFY_SOURCE=2, -O2, -isystem, /home/kyle/mambaforge/envs/om/include\n",
      "    name: gcc\n",
      "    version: 12.3.0\n",
      "  cython:\n",
      "    commands: cython\n",
      "    linker: cython\n",
      "    name: cython\n",
      "    version: 3.0.8\n",
      "Machine Information:\n",
      "  build:\n",
      "    cpu: x86_64\n",
      "    endian: little\n",
      "    family: x86_64\n",
      "    system: linux\n",
      "  host:\n",
      "    cpu: x86_64\n",
      "    endian: little\n",
      "    family: x86_64\n",
      "    system: linux\n",
      "Python Information:\n",
      "  path: /home/kyle/mambaforge/envs/om/bin/python\n",
      "  version: '3.10'\n",
      "SIMD Extensions:\n",
      "  baseline:\n",
      "  - SSE\n",
      "  - SSE2\n",
      "  - SSE3\n",
      "  found:\n",
      "  - SSSE3\n",
      "  - SSE41\n",
      "  - POPCNT\n",
      "  - SSE42\n",
      "  - AVX\n",
      "  - F16C\n",
      "  - FMA3\n",
      "  - AVX2\n",
      "  not found:\n",
      "  - AVX512F\n",
      "  - AVX512CD\n",
      "  - AVX512_KNL\n",
      "  - AVX512_KNM\n",
      "  - AVX512_SKX\n",
      "  - AVX512_CLX\n",
      "  - AVX512_CNL\n",
      "  - AVX512_ICL\n",
      "  - AVX512_SPR\n",
      "\n"
     ]
    }
   ],
   "source": [
    "np.show_config()"
   ]
  },
  {
   "cell_type": "markdown",
   "id": "b3a78e0d",
   "metadata": {},
   "source": [
    "Great, now let's set up our system and solver with `jitr`:"
   ]
  },
  {
   "cell_type": "code",
   "execution_count": 21,
   "id": "4a70c18a",
   "metadata": {},
   "outputs": [],
   "source": [
    "sys = reactions.ProjectileTargetSystem(\n",
    "    channel_radii=np.array([5 * (2 * np.pi)]),\n",
    "    l=np.array([0]),\n",
    "    mass_target=44657,\n",
    "    mass_projectile=938.3,\n",
    "    Ztarget=40,\n",
    "    Zproj=0,\n",
    "    nchannels=1,\n",
    ")\n",
    "\n",
    "# COM frame energy\n",
    "Elab = 14.1\n",
    "\n",
    "# Lagrange-Mesh R-matrix solver\n",
    "solver = rmatrix.Solver(40)\n",
    "\n",
    "# channels holds info for the elastic scattering channel\n",
    "Elab = 42.1\n",
    "mu, Ecm, k, eta = utils.kinematics.classical_kinematics(\n",
    "    sys.mass_target, sys.mass_projectile, Elab, sys.Zproj * sys.Ztarget\n",
    ")\n",
    "channels, asymptotics = sys.coupled(Ecm, mu, k, eta)"
   ]
  },
  {
   "cell_type": "code",
   "execution_count": 19,
   "id": "c096c947-9204-4c99-a4cf-71035871099e",
   "metadata": {},
   "outputs": [],
   "source": [
    "# Woods-Saxon potential parameters\n",
    "V0 = 60  # real potential strength\n",
    "W0 = 20  # imag potential strength\n",
    "R0 = 4  # Woods-Saxon potential radius\n",
    "a0 = 0.5  # Woods-Saxon potential diffuseness\n",
    "params = (V0, W0, R0, a0)"
   ]
  },
  {
   "cell_type": "code",
   "execution_count": 23,
   "id": "c26a896a",
   "metadata": {},
   "outputs": [
    {
     "name": "stderr",
     "output_type": "stream",
     "text": [
      "/home/kyle/umich/jitr/src/jitr/rmatrix/rmatrix_solver.py:44: NumbaPerformanceWarning: \u001b[1m\u001b[1m\u001b[1m'@' is faster on contiguous arrays, called on (Array(complex128, 1, 'C', False, aligned=True), Array(complex128, 2, 'A', False, aligned=True))\u001b[0m\u001b[0m\u001b[0m\n",
      "  R, Ainv = rmatrix_with_inverse(A, b, nchannels, nbasis, a)\n"
     ]
    }
   ],
   "source": [
    "# run solver\n",
    "R, S, uext_prime_boundary = solver.solve(\n",
    "    channels, asymptotics, woods_saxon_potential, params\n",
    ")"
   ]
  },
  {
   "cell_type": "code",
   "execution_count": 25,
   "id": "df5a328e",
   "metadata": {},
   "outputs": [
    {
     "name": "stdout",
     "output_type": "stream",
     "text": [
      "(-1.897689085230767+1.673005014393317j)\n"
     ]
    }
   ],
   "source": [
    "print(S[0, 0])"
   ]
  },
  {
   "cell_type": "markdown",
   "id": "ef595cd3",
   "metadata": {},
   "source": [
    "Great, now let's use `scipy` and see if we get the same $\\mathcal{S}$-matrix:"
   ]
  },
  {
   "cell_type": "code",
   "execution_count": 29,
   "id": "4324a675",
   "metadata": {},
   "outputs": [],
   "source": [
    "# Runge-Kutta\n",
    "from jitr.utils import schrodinger_eqn_ivp_order1\n",
    "\n",
    "channel_data_rk = reactions.make_channel_data(channels)\n",
    "domain, init_con = channel_data_rk[0].initial_conditions()\n",
    "sol_rk = solve_ivp(\n",
    "    lambda s, y,: schrodinger_eqn_ivp_order1(\n",
    "        s, y, channel_data_rk[0], woods_saxon_potential, params\n",
    "    ),\n",
    "    domain,\n",
    "    init_con,\n",
    "    dense_output=True,\n",
    "    atol=1.0e-7,\n",
    "    rtol=1.0e-7,\n",
    ").sol"
   ]
  },
  {
   "cell_type": "code",
   "execution_count": 32,
   "id": "afe5a986",
   "metadata": {},
   "outputs": [
    {
     "name": "stdout",
     "output_type": "stream",
     "text": [
      "(-1.8975431198137418+1.6726981929138467j)\n"
     ]
    }
   ],
   "source": [
    "a = channel_data_rk[0].domain[1]\n",
    "R_rk = sol_rk(a)[0] / (a * sol_rk(a)[1])\n",
    "S_rk = jitr.utils.smatrix(R_rk, a, channel_data_rk[0].l, channel_data_rk[0].eta)\n",
    "print(S_rk)"
   ]
  },
  {
   "cell_type": "code",
   "execution_count": 33,
   "id": "47939912",
   "metadata": {},
   "outputs": [
    {
     "data": {
      "text/plain": [
       "(0.012349525657186439-0.005283209953037379j)"
      ]
     },
     "execution_count": 33,
     "metadata": {},
     "output_type": "execute_result"
    }
   ],
   "source": [
    "100 * (S[0, 0] - S_rk) / S_rk  # percent difference in real and imag parts of S"
   ]
  },
  {
   "cell_type": "markdown",
   "id": "b5935fb2",
   "metadata": {},
   "source": [
    "Great, our solvers agree up to high precision. Now let's compare the runtime of the two solver options:"
   ]
  },
  {
   "cell_type": "code",
   "execution_count": 37,
   "id": "103cb0f8",
   "metadata": {},
   "outputs": [
    {
     "name": "stdout",
     "output_type": "stream",
     "text": [
      "309 µs ± 3.07 µs per loop (mean ± std. dev. of 7 runs, 1,000 loops each)\n"
     ]
    }
   ],
   "source": [
    "%%timeit\n",
    "R, S, uext_prime_boundary = solver.solve(\n",
    "    channels, asymptotics, woods_saxon_potential, params\n",
    ")"
   ]
  },
  {
   "cell_type": "code",
   "execution_count": 38,
   "id": "16c8bde1",
   "metadata": {},
   "outputs": [
    {
     "name": "stdout",
     "output_type": "stream",
     "text": [
      "78.8 ms ± 581 µs per loop (mean ± std. dev. of 7 runs, 10 loops each)\n"
     ]
    }
   ],
   "source": [
    "%%timeit\n",
    "domain, init_con = channel_data_rk[0].initial_conditions()\n",
    "sol_rk = solve_ivp(\n",
    "    lambda s, y,: schrodinger_eqn_ivp_order1(\n",
    "        s, y, channel_data_rk[0], woods_saxon_potential, params\n",
    "    ),\n",
    "    domain,\n",
    "    init_con,\n",
    "    dense_output=True,\n",
    "    atol=1.0e-7,\n",
    "    rtol=1.0e-7,\n",
    ").sol\n",
    "R_rk = sol_rk(a)[0] / (a * sol_rk(a)[1])\n",
    "S_rk = jitr.utils.smatrix(R_rk, a, channel_data_rk[0].l, channel_data_rk[0].eta)"
   ]
  },
  {
   "cell_type": "markdown",
   "id": "f2992082",
   "metadata": {},
   "source": [
    "On my machine `jitr` is faster by about 250 times!\n",
    "\n",
    "(This does, of course, depend on the solver paramaters; `atol` and `rtol` for `solve_ivp`, and `nbasis` for `LagrangeRMatrixSolver` )."
   ]
  }
 ],
 "metadata": {
  "kernelspec": {
   "display_name": "Python [conda env:om] *",
   "language": "python",
   "name": "conda-env-om-py"
  },
  "language_info": {
   "codemirror_mode": {
    "name": "ipython",
    "version": 3
   },
   "file_extension": ".py",
   "mimetype": "text/x-python",
   "name": "python",
   "nbconvert_exporter": "python",
   "pygments_lexer": "ipython3",
   "version": "3.10.14"
  }
 },
 "nbformat": 4,
 "nbformat_minor": 5
}
