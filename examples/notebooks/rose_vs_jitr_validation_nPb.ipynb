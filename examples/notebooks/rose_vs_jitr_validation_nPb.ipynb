{
 "cells": [
  {
   "cell_type": "markdown",
   "id": "93a49da0",
   "metadata": {},
   "source": [
    "# Comparison between `ROSE` and `jitr`\n",
    "\n",
    "We will use the high-fidelity solver in the [`ROSE` package](https://github.com/bandframework/rose). It is avilable on [pypi](https://pypi.org/project/nuclear-rose/) "
   ]
  },
  {
   "cell_type": "code",
   "execution_count": 1,
   "id": "71308bbd-1bee-43df-b785-1809556346df",
   "metadata": {},
   "outputs": [],
   "source": [
    "#!pip install nuclear-rose\n",
    "import rose"
   ]
  },
  {
   "cell_type": "code",
   "execution_count": 2,
   "id": "9fbc70e4-6ac7-4a99-8a84-3197e65a8666",
   "metadata": {
    "scrolled": true
   },
   "outputs": [],
   "source": [
    "from pathlib import Path\n",
    "\n",
    "import corner\n",
    "\n",
    "# import stuff for nice plotting\n",
    "import matplotlib.pyplot as plt\n",
    "import numpy as np\n",
    "from matplotlib.lines import Line2D\n",
    "from numba import njit\n",
    "from scipy import stats\n",
    "from tqdm import tqdm\n",
    "\n",
    "import jitr"
   ]
  },
  {
   "cell_type": "code",
   "execution_count": 3,
   "id": "943628b1",
   "metadata": {},
   "outputs": [],
   "source": [
    "# target to consider\n",
    "Pb208 = (208, 82)\n",
    "neutron = (1, 0)\n",
    "\n",
    "# for plotting differential xs\n",
    "angles = np.linspace(0.1, np.pi, 1000)"
   ]
  },
  {
   "cell_type": "code",
   "execution_count": 4,
   "id": "2aff4c9e-da30-492c-a9c9-52f1855b962b",
   "metadata": {},
   "outputs": [],
   "source": [
    "sys = jitr.reactions.ProjectileTargetSystem(\n",
    "    channel_radius=10 * np.pi,\n",
    "    lmax=15,\n",
    "    mass_target=jitr.utils.kinematics.mass(*Pb208),\n",
    "    mass_projectile=jitr.utils.kinematics.mass(*neutron),\n",
    "    Ztarget=Pb208[1],\n",
    "    Zproj=neutron[1],\n",
    "    coupling=jitr.reactions.system.spin_half_orbit_coupling,\n",
    ")"
   ]
  },
  {
   "cell_type": "code",
   "execution_count": 5,
   "id": "4b5fa225-3600-4af1-b17c-d83e9be74216",
   "metadata": {},
   "outputs": [],
   "source": [
    "Ecm = 9.97\n",
    "Elab, kinematics = jitr.utils.kinematics.classical_kinematics_cm(\n",
    "    sys.mass_target, sys.mass_projectile, Ecm, sys.Zproj * sys.Ztarget\n",
    ")"
   ]
  },
  {
   "cell_type": "code",
   "execution_count": 6,
   "id": "339052f8-2247-41d2-9a6b-814c8879b79e",
   "metadata": {
    "editable": true,
    "slideshow": {
     "slide_type": ""
    },
    "tags": []
   },
   "outputs": [],
   "source": [
    "ws = jitr.xs.elastic.DifferentialWorkspace.build_from_system(\n",
    "    projectile=neutron,\n",
    "    target=Pb208,\n",
    "    sys=sys,\n",
    "    kinematics=kinematics,\n",
    "    solver=jitr.rmatrix.Solver(50),\n",
    "    angles=angles,\n",
    ")"
   ]
  },
  {
   "cell_type": "code",
   "execution_count": 7,
   "id": "51466bed-fe39-419d-bca2-48fac84762f3",
   "metadata": {},
   "outputs": [],
   "source": [
    "kduq = rose.InteractionSpace(\n",
    "    coordinate_space_potential=rose.koning_delaroche.KD_simple,\n",
    "    n_theta=rose.koning_delaroche.NUM_PARAMS,\n",
    "    is_complex=True,\n",
    "    spin_orbit_term=rose.koning_delaroche.KD_simple_so,\n",
    "    energy=kinematics.Ecm,\n",
    "    mu=kinematics.mu,\n",
    "    k=kinematics.k,\n",
    "    l_max=15,\n",
    "    Z_1=Pb208[1],\n",
    "    Z_2=neutron[1],\n",
    ")\n",
    "kduq_rose_solver = rose.ScatteringAmplitudeEmulator.HIFI_solver(\n",
    "    interaction_space=kduq,\n",
    "    angles=angles,\n",
    ")"
   ]
  },
  {
   "cell_type": "code",
   "execution_count": 8,
   "id": "ca674e98",
   "metadata": {},
   "outputs": [],
   "source": [
    "# we have 416 samples from the KDUQ posterior\n",
    "num_samples_kduq = 415\n",
    "param_files = [\n",
    "    Path(f\"./../../src/data/KDUQFederal/{i}/parameters.json\")\n",
    "    for i in range(0, num_samples_kduq)\n",
    "]\n",
    "\n",
    "# load each one\n",
    "rose_omps = [\n",
    "    rose.koning_delaroche.KDGlobal(rose.Projectile.neutron, Path(param_file))\n",
    "    for param_file in param_files\n",
    "]\n",
    "# load each one\n",
    "jitr_omps = [\n",
    "    jitr.reactions.kduq.KDGlobal(neutron, Path(param_file))\n",
    "    for param_file in param_files\n",
    "]"
   ]
  },
  {
   "cell_type": "code",
   "execution_count": 9,
   "id": "7ff846f9-bcfa-47b7-a7af-63c59b197e0a",
   "metadata": {},
   "outputs": [],
   "source": [
    "coulomb_params, scalar_params, spin_orbit_params = jitr_omps[7].get_params(\n",
    "    *Pb208, kinematics.mu, Elab, kinematics.k\n",
    ")"
   ]
  },
  {
   "cell_type": "code",
   "execution_count": 10,
   "id": "8854bf2b-0864-455c-a1d3-e91384456067",
   "metadata": {},
   "outputs": [],
   "source": [
    "R_c, params = rose_omps[7].get_params(*Pb208, kinematics.mu, Elab, kinematics.k)"
   ]
  },
  {
   "cell_type": "code",
   "execution_count": 11,
   "id": "f03fccd6-74a7-4dad-b701-9dce64eb7de8",
   "metadata": {},
   "outputs": [
    {
     "data": {
      "text/plain": [
       "0"
      ]
     },
     "execution_count": 11,
     "metadata": {},
     "output_type": "execute_result"
    }
   ],
   "source": [
    "R_c - coulomb_params[1]"
   ]
  },
  {
   "cell_type": "code",
   "execution_count": 12,
   "id": "61d7ca67-ccd5-4cfc-bcaa-a98e2ad905bf",
   "metadata": {},
   "outputs": [
    {
     "data": {
      "text/plain": [
       "array([0., 0., 0., 0., 0., 0.])"
      ]
     },
     "execution_count": 12,
     "metadata": {},
     "output_type": "execute_result"
    }
   ],
   "source": [
    "params[-len(spin_orbit_params) :] - spin_orbit_params"
   ]
  },
  {
   "cell_type": "code",
   "execution_count": 13,
   "id": "32c4769e-5c99-4c52-935c-30f832892b50",
   "metadata": {},
   "outputs": [
    {
     "data": {
      "text/plain": [
       "array([0., 0., 0., 0., 0., 0., 0., 0., 0.])"
      ]
     },
     "execution_count": 13,
     "metadata": {},
     "output_type": "execute_result"
    }
   ],
   "source": [
    "params[: len(scalar_params)] - scalar_params"
   ]
  },
  {
   "cell_type": "code",
   "execution_count": 14,
   "id": "11a3f4b4-8190-4250-a37f-1e50cd4d14d3",
   "metadata": {},
   "outputs": [
    {
     "data": {
      "text/plain": [
       "0"
      ]
     },
     "execution_count": 14,
     "metadata": {},
     "output_type": "execute_result"
    }
   ],
   "source": [
    "R_c - coulomb_params[1]"
   ]
  },
  {
   "cell_type": "code",
   "execution_count": 15,
   "id": "2b60881d-0e9a-421c-81e0-55864b1b7409",
   "metadata": {},
   "outputs": [],
   "source": [
    "spr, smr = kduq_rose_solver.exact_smatrix_elements(params)"
   ]
  },
  {
   "cell_type": "code",
   "execution_count": 16,
   "id": "00e9c67f-fada-445a-b214-5f43a71d904c",
   "metadata": {},
   "outputs": [],
   "source": [
    "spj, smj = ws.integral_workspace.smatrix(\n",
    "    jitr.reactions.KD_scalar,\n",
    "    jitr.reactions.KD_spin_orbit,\n",
    "    args_scalar=scalar_params,\n",
    "    args_spin_orbit=spin_orbit_params,\n",
    ")"
   ]
  },
  {
   "cell_type": "code",
   "execution_count": 17,
   "id": "30c71d33-10ab-4d1d-98f8-2f0a0c75625d",
   "metadata": {},
   "outputs": [
    {
     "data": {
      "text/plain": [
       "array([ 0.00000000e+00+0.00000000e+00j,  1.32307464e-03-2.12094975e-03j,\n",
       "       -1.95106502e-04+2.83466454e-03j, -1.79208146e-03-1.06947444e-03j,\n",
       "       -1.76627408e-04-1.47859134e-03j,  1.55802617e-03-2.08797634e-03j,\n",
       "        9.86143680e-04-4.77278646e-04j,  9.96854862e-05-2.36547538e-04j,\n",
       "       -9.79925216e-06-6.60141476e-06j,  1.15985430e-08-2.20697696e-07j,\n",
       "        1.30858306e-08+9.06507048e-10j,  7.04648229e-10+9.77533506e-09j,\n",
       "        2.16288099e-11+5.78398700e-09j,  4.09117185e-13+4.77306500e-09j])"
      ]
     },
     "execution_count": 17,
     "metadata": {},
     "output_type": "execute_result"
    }
   ],
   "source": [
    "smr - smj[:-1]"
   ]
  },
  {
   "cell_type": "code",
   "execution_count": 18,
   "id": "1948de39-04d7-4661-9369-0557b0455a7c",
   "metadata": {},
   "outputs": [
    {
     "data": {
      "text/plain": [
       "array([ 1.43820538e-04+1.51699421e-03j, -1.33455297e-03-1.55675698e-03j,\n",
       "        1.61851910e-03+6.00661499e-04j, -3.54779225e-04-7.35849902e-04j,\n",
       "        1.10773785e-03+2.52674785e-03j, -3.79553546e-03-3.57578063e-04j,\n",
       "       -6.41622122e-04-5.01006900e-04j, -3.18243701e-04+4.05191806e-04j,\n",
       "       -8.49616152e-05+6.67153694e-05j,  5.78378347e-06+1.76075696e-06j,\n",
       "        9.05971586e-08+6.44783807e-08j,  7.69295960e-10+3.07048248e-08j,\n",
       "       -1.55147006e-11+1.22797811e-08j, -7.68496378e-13+1.06243447e-08j])"
      ]
     },
     "execution_count": 18,
     "metadata": {},
     "output_type": "execute_result"
    }
   ],
   "source": [
    "spr - spj[:-1]"
   ]
  },
  {
   "cell_type": "code",
   "execution_count": 19,
   "id": "9638da7f-c48b-473d-b2ef-9da79fc1c440",
   "metadata": {},
   "outputs": [],
   "source": [
    "xs_jitr = ws.xs(\n",
    "    jitr.reactions.KD_scalar,\n",
    "    jitr.reactions.KD_spin_orbit,\n",
    "    args_scalar=scalar_params,\n",
    "    args_spin_orbit=spin_orbit_params,\n",
    ")"
   ]
  },
  {
   "cell_type": "code",
   "execution_count": 20,
   "id": "df7576f2-a5b1-4034-94bd-cd87bb648659",
   "metadata": {},
   "outputs": [],
   "source": [
    "xs_rose = kduq_rose_solver.exact_xs(params)"
   ]
  },
  {
   "cell_type": "code",
   "execution_count": 21,
   "id": "209b9055-98d4-4460-8f49-0c2578e4d5fc",
   "metadata": {},
   "outputs": [],
   "source": [
    "np.testing.assert_allclose(xs_rose.dsdo, xs_jitr.dsdo, rtol=5e-2)\n",
    "np.testing.assert_allclose(xs_rose.Ay, xs_jitr.Ay, atol=0.03)\n",
    "np.testing.assert_allclose(smj[1:-1], smr[1:], atol=0.03)\n",
    "np.testing.assert_allclose(spj[:-1], spr, atol=0.03)\n",
    "np.testing.assert_allclose(xs_rose.t, xs_jitr.t, rtol=1e-3)\n",
    "np.testing.assert_allclose(xs_rose.rxn, xs_jitr.rxn, rtol=1e-3)"
   ]
  },
  {
   "cell_type": "code",
   "execution_count": 22,
   "id": "2856719b-41b6-4a83-9957-db7f9bdcf123",
   "metadata": {},
   "outputs": [
    {
     "data": {
      "text/plain": [
       "<matplotlib.legend.Legend at 0x74b5e5f4ad90>"
      ]
     },
     "execution_count": 22,
     "metadata": {},
     "output_type": "execute_result"
    },
    {
     "data": {
      "image/png": "[encoded data removed]",
      "text/plain": [
       "<Figure size 640x480 with 1 Axes>"
      ]
     },
     "metadata": {},
     "output_type": "display_data"
    }
   ],
   "source": [
    "plt.plot(angles * 180 / np.pi, xs_rose.dsdo, alpha=0.7, label=\"ROSE\")\n",
    "plt.plot(angles * 180 / np.pi, xs_jitr.dsdo, \"--\", label=\"JITR\")\n",
    "\n",
    "plt.yscale(\"log\")\n",
    "plt.xlabel(r\"$\\theta$ [deg]\")\n",
    "plt.ylabel(r\"$\\frac{d\\sigma}{s\\Omega}$ [mb/Sr]\")\n",
    "plt.legend()\n",
    "# plt.xlim([10,50])"
   ]
  },
  {
   "cell_type": "code",
   "execution_count": 23,
   "id": "861c350e-481a-419a-a8fb-eaa5860b7f07",
   "metadata": {},
   "outputs": [
    {
     "data": {
      "text/plain": [
       "<matplotlib.legend.Legend at 0x74b5e5db0e90>"
      ]
     },
     "execution_count": 23,
     "metadata": {},
     "output_type": "execute_result"
    },
    {
     "data": {
      "image/png": "[encoded data removed]",
      "text/plain": [
       "<Figure size 640x480 with 1 Axes>"
      ]
     },
     "metadata": {},
     "output_type": "display_data"
    }
   ],
   "source": [
    "plt.plot(angles * 180 / np.pi, xs_rose.Ay, alpha=0.7, label=\"ROSE\")\n",
    "plt.plot(angles * 180 / np.pi, xs_jitr.Ay, \"--\", label=\"JITR\")\n",
    "\n",
    "# plt.yscale(\"log\")\n",
    "plt.xlabel(r\"$\\theta$ [deg]\")\n",
    "plt.ylabel(r\"$A_y$\")\n",
    "plt.legend()\n",
    "# plt.xlim([10,50])"
   ]
  },
  {
   "cell_type": "code",
   "execution_count": null,
   "id": "9dd2b3ae-c292-42db-bfe8-81bec99be8ff",
   "metadata": {},
   "outputs": [],
   "source": []
  },
  {
   "cell_type": "code",
   "execution_count": null,
   "id": "aaa20453-f8f0-4880-b320-c810600e65e7",
   "metadata": {},
   "outputs": [],
   "source": []
  }
 ],
 "metadata": {
  "kernelspec": {
   "display_name": "Python 3 (ipykernel)",
   "language": "python",
   "name": "python3"
  },
  "language_info": {
   "codemirror_mode": {
    "name": "ipython",
    "version": 3
   },
   "file_extension": ".py",
   "mimetype": "text/x-python",
   "name": "python",
   "nbconvert_exporter": "python",
   "pygments_lexer": "ipython3",
   "version": "3.11.9"
  }
 },
 "nbformat": 4,
 "nbformat_minor": 5
}
