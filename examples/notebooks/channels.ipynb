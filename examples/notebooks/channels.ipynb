{
 "cells": [
  {
   "cell_type": "markdown",
   "id": "0e4f3471-a3cd-447d-8f24-fea346e9a98e",
   "metadata": {},
   "source": [
    "## Demonsration of `jitr.reaction.channels`, building the channels for collision of a projectile on a target"
   ]
  },
  {
   "cell_type": "code",
   "execution_count": 16,
   "id": "fcbaec9f-06bc-4cc3-8f41-48401e29e038",
   "metadata": {},
   "outputs": [],
   "source": [
    "from fractions import Fraction\n",
    "from IPython.display import Latex, Math, display"
   ]
  },
  {
   "cell_type": "code",
   "execution_count": 17,
   "id": "f28e2eb9-5f29-4572-991e-536503dbf58c",
   "metadata": {},
   "outputs": [],
   "source": [
    "import jitr.reactions.channels as ch\n",
    "from jitr.structure import Level, Parity\n",
    "from jitr.utils.angular_momentum import triangle_rule, format_jbasis_channel_latex, format_sbasis_channel_latex"
   ]
  },
  {
   "cell_type": "markdown",
   "id": "51bf7529-c858-4d71-9ca6-db8891f30746",
   "metadata": {},
   "source": [
    "## Set up the system\n",
    "We can set the spin and parity of the projectile and target ground states like so:"
   ]
  },
  {
   "cell_type": "code",
   "execution_count": 18,
   "id": "ebb4ea12-fc87-4e4d-9fb8-f048e1a07f6a",
   "metadata": {},
   "outputs": [
    {
     "data": {
      "text/plain": [
       "Level(E=0, I=Fraction(1, 2), pi=<Parity.positive: True>)"
      ]
     },
     "execution_count": 18,
     "metadata": {},
     "output_type": "execute_result"
    }
   ],
   "source": [
    "proj_gs = Level(E=0, I=Fraction(1, 2), pi=Parity.positive)\n",
    "proj_gs"
   ]
  },
  {
   "cell_type": "code",
   "execution_count": 19,
   "id": "2ae3393c-67f3-4612-bb9e-e9a91de3ab0d",
   "metadata": {},
   "outputs": [
    {
     "data": {
      "text/plain": [
       "Level(E=0, I=0, pi=<Parity.positive: True>)"
      ]
     },
     "execution_count": 19,
     "metadata": {},
     "output_type": "execute_result"
    }
   ],
   "source": [
    "target_gs = Level(E=0, I=0, pi=Parity.positive)\n",
    "target_gs"
   ]
  },
  {
   "cell_type": "code",
   "execution_count": 20,
   "id": "45fbbc2c-9928-449d-b7bb-009fbd485dd3",
   "metadata": {},
   "outputs": [
    {
     "name": "stdout",
     "output_type": "stream",
     "text": [
      "7\n"
     ]
    }
   ],
   "source": [
    "lmax = 7\n",
    "\n",
    "Jtot_max = lmax + proj_gs.I + target_gs.I  # highest total angular momentum\n",
    "Jtot_min = abs(proj_gs.I - target_gs.I)  # lowest (lmin = 0)\n",
    "n_partial_waves = int(Jtot_max - Jtot_min)\n",
    "print(n_partial_waves)"
   ]
  },
  {
   "cell_type": "code",
   "execution_count": 21,
   "id": "2edf6aad-7732-466c-b128-6e4faeb6e332",
   "metadata": {},
   "outputs": [
    {
     "name": "stdout",
     "output_type": "stream",
     "text": [
      "1/2\n"
     ]
    }
   ],
   "source": [
    "print(Jtot_min)"
   ]
  },
  {
   "cell_type": "code",
   "execution_count": 22,
   "id": "0337a3ba-f40e-4d30-9420-ea16d54a64ad",
   "metadata": {},
   "outputs": [
    {
     "name": "stdout",
     "output_type": "stream",
     "text": [
      "15/2\n"
     ]
    }
   ],
   "source": [
    "print(Jtot_max)"
   ]
  },
  {
   "cell_type": "markdown",
   "id": "b36b19e2-f33d-48a8-a29a-cb19eacb5297",
   "metadata": {},
   "source": [
    "## Construct all $J$, $\\pi$ states\n",
    "Each of these $J$, $\\pi$ pairs represents a system of coupled partial waves"
   ]
  },
  {
   "cell_type": "code",
   "execution_count": 23,
   "id": "b9c3167a-c18b-4753-a546-3f0f50a4f0ae",
   "metadata": {},
   "outputs": [],
   "source": [
    "Jpi = [\n",
    "    [(Jtot_min + n, Parity.positive) for n in range(n_partial_waves)],\n",
    "    [(Jtot_min + n, Parity.negative) for n in range(n_partial_waves)],\n",
    "]"
   ]
  },
  {
   "cell_type": "markdown",
   "id": "1d382864-e209-482e-bfa5-90cd325023e9",
   "metadata": {},
   "source": [
    "## Look at the systems for a few  $J$, $\\pi$ pairs in the $J = L + I_p$ basis\n"
   ]
  },
  {
   "cell_type": "code",
   "execution_count": 24,
   "id": "83ee85c5-6978-4631-9ad0-b8f00fdc2a7a",
   "metadata": {},
   "outputs": [
    {
     "data": {
      "text/latex": [
       "$\\displaystyle J=1/2$"
      ],
      "text/plain": [
       "<IPython.core.display.Math object>"
      ]
     },
     "metadata": {},
     "output_type": "display_data"
    },
    {
     "data": {
      "text/latex": [
       "$\\displaystyle (^{2} s _{1/2})$"
      ],
      "text/plain": [
       "<IPython.core.display.Math object>"
      ]
     },
     "metadata": {},
     "output_type": "display_data"
    },
    {
     "data": {
      "text/latex": [
       "$\\displaystyle < l \\cdot s > = (0)$"
      ],
      "text/plain": [
       "<IPython.core.display.Math object>"
      ]
     },
     "metadata": {},
     "output_type": "display_data"
    },
    {
     "data": {
      "text/latex": [
       "$\\displaystyle J=3/2$"
      ],
      "text/plain": [
       "<IPython.core.display.Math object>"
      ]
     },
     "metadata": {},
     "output_type": "display_data"
    },
    {
     "data": {
      "text/latex": [
       "$\\displaystyle (^{4} d _{3/2})$"
      ],
      "text/plain": [
       "<IPython.core.display.Math object>"
      ]
     },
     "metadata": {},
     "output_type": "display_data"
    },
    {
     "data": {
      "text/latex": [
       "$\\displaystyle < l \\cdot s > = (-3)$"
      ],
      "text/plain": [
       "<IPython.core.display.Math object>"
      ]
     },
     "metadata": {},
     "output_type": "display_data"
    },
    {
     "data": {
      "text/latex": [
       "$\\displaystyle J=5/2$"
      ],
      "text/plain": [
       "<IPython.core.display.Math object>"
      ]
     },
     "metadata": {},
     "output_type": "display_data"
    },
    {
     "data": {
      "text/latex": [
       "$\\displaystyle (^{6} d _{5/2})$"
      ],
      "text/plain": [
       "<IPython.core.display.Math object>"
      ]
     },
     "metadata": {},
     "output_type": "display_data"
    },
    {
     "data": {
      "text/latex": [
       "$\\displaystyle < l \\cdot s > = (2)$"
      ],
      "text/plain": [
       "<IPython.core.display.Math object>"
      ]
     },
     "metadata": {},
     "output_type": "display_data"
    },
    {
     "data": {
      "text/latex": [
       "$\\displaystyle J=7/2$"
      ],
      "text/plain": [
       "<IPython.core.display.Math object>"
      ]
     },
     "metadata": {},
     "output_type": "display_data"
    },
    {
     "data": {
      "text/latex": [
       "$\\displaystyle (^{8} g _{7/2})$"
      ],
      "text/plain": [
       "<IPython.core.display.Math object>"
      ]
     },
     "metadata": {},
     "output_type": "display_data"
    },
    {
     "data": {
      "text/latex": [
       "$\\displaystyle < l \\cdot s > = (-5)$"
      ],
      "text/plain": [
       "<IPython.core.display.Math object>"
      ]
     },
     "metadata": {},
     "output_type": "display_data"
    }
   ],
   "source": [
    "# positive total parity states\n",
    "for (J,pi) in Jpi[0][0:4]:\n",
    "    display(Math(f\"J={J}\"))\n",
    "    channels = ch.build_channels_2body_jbasis(J, pi, proj_gs, target_gs)\n",
    "    coupled_channel_strings = []\n",
    "    for channel in channels:\n",
    "        j  =channel[\"j\"]\n",
    "        l  =channel[\"l\"]\n",
    "        coupled_channel_strings.append(f\"{format_jbasis_channel_latex(l,J,j)}\")\n",
    "    lds = [f\"{int(x)}\" for x in ch.spin_orbit_coupling(channels)]\n",
    "    display(Math(\"(\" + \", \\,\".join(coupled_channel_strings) + \")\"))\n",
    "    display(Math(\"< l \\cdot s > = (\" + \", \\,\".join(lds) + \")\"))"
   ]
  },
  {
   "cell_type": "code",
   "execution_count": 25,
   "id": "ad167d58-d1f1-40a2-987e-b6cc351ed59b",
   "metadata": {},
   "outputs": [
    {
     "data": {
      "text/latex": [
       "$\\displaystyle J=1/2$"
      ],
      "text/plain": [
       "<IPython.core.display.Math object>"
      ]
     },
     "metadata": {},
     "output_type": "display_data"
    },
    {
     "data": {
      "text/latex": [
       "$\\displaystyle (^{2} p _{1/2})$"
      ],
      "text/plain": [
       "<IPython.core.display.Math object>"
      ]
     },
     "metadata": {},
     "output_type": "display_data"
    },
    {
     "data": {
      "text/latex": [
       "$\\displaystyle < l \\cdot s > = (-2)$"
      ],
      "text/plain": [
       "<IPython.core.display.Math object>"
      ]
     },
     "metadata": {},
     "output_type": "display_data"
    },
    {
     "data": {
      "text/latex": [
       "$\\displaystyle J=3/2$"
      ],
      "text/plain": [
       "<IPython.core.display.Math object>"
      ]
     },
     "metadata": {},
     "output_type": "display_data"
    },
    {
     "data": {
      "text/latex": [
       "$\\displaystyle (^{4} p _{3/2})$"
      ],
      "text/plain": [
       "<IPython.core.display.Math object>"
      ]
     },
     "metadata": {},
     "output_type": "display_data"
    },
    {
     "data": {
      "text/latex": [
       "$\\displaystyle < l \\cdot s > = (1)$"
      ],
      "text/plain": [
       "<IPython.core.display.Math object>"
      ]
     },
     "metadata": {},
     "output_type": "display_data"
    },
    {
     "data": {
      "text/latex": [
       "$\\displaystyle J=5/2$"
      ],
      "text/plain": [
       "<IPython.core.display.Math object>"
      ]
     },
     "metadata": {},
     "output_type": "display_data"
    },
    {
     "data": {
      "text/latex": [
       "$\\displaystyle (^{6} f _{5/2})$"
      ],
      "text/plain": [
       "<IPython.core.display.Math object>"
      ]
     },
     "metadata": {},
     "output_type": "display_data"
    },
    {
     "data": {
      "text/latex": [
       "$\\displaystyle < l \\cdot s > = (-4)$"
      ],
      "text/plain": [
       "<IPython.core.display.Math object>"
      ]
     },
     "metadata": {},
     "output_type": "display_data"
    },
    {
     "data": {
      "text/latex": [
       "$\\displaystyle J=7/2$"
      ],
      "text/plain": [
       "<IPython.core.display.Math object>"
      ]
     },
     "metadata": {},
     "output_type": "display_data"
    },
    {
     "data": {
      "text/latex": [
       "$\\displaystyle (^{8} f _{7/2})$"
      ],
      "text/plain": [
       "<IPython.core.display.Math object>"
      ]
     },
     "metadata": {},
     "output_type": "display_data"
    },
    {
     "data": {
      "text/latex": [
       "$\\displaystyle < l \\cdot s > = (3)$"
      ],
      "text/plain": [
       "<IPython.core.display.Math object>"
      ]
     },
     "metadata": {},
     "output_type": "display_data"
    }
   ],
   "source": [
    "# negative total parity states\n",
    "for J, pi in Jpi[1][0:4]:\n",
    "    display(Math(f\"J={J}\"))\n",
    "    channels = ch.build_channels_2body_jbasis(J, pi, proj_gs, target_gs)\n",
    "    coupled_channel_strings = []\n",
    "    for channel in channels:\n",
    "        j  =channel[\"j\"]\n",
    "        l  =channel[\"l\"]\n",
    "        coupled_channel_strings.append(f\"{format_jbasis_channel_latex(l,J,j)}\")\n",
    "    lds = [f\"{int(x)}\" for x in ch.spin_orbit_coupling(channels)]\n",
    "    display(Math(\"(\" + \", \\,\".join(coupled_channel_strings) + \")\"))\n",
    "    display(Math(\"< l \\cdot s > = (\" + \", \\,\".join(lds) + \")\"))"
   ]
  },
  {
   "cell_type": "markdown",
   "id": "b2653830-6b8b-44b7-a9c4-47600b01b198",
   "metadata": {},
   "source": [
    "# How about the $S = I_p + I_t$ basis?\n",
    "We won't calculate the spin-orbit because it is not diagonal in the $S$ basis"
   ]
  },
  {
   "cell_type": "code",
   "execution_count": 31,
   "id": "9affa48a-e9b1-4738-a979-edd292e34ad5",
   "metadata": {},
   "outputs": [
    {
     "data": {
      "text/latex": [
       "$\\displaystyle J=1/2$"
      ],
      "text/plain": [
       "<IPython.core.display.Math object>"
      ]
     },
     "metadata": {},
     "output_type": "display_data"
    },
    {
     "data": {
      "text/latex": [
       "$\\displaystyle (^{2} s _{1/2})$"
      ],
      "text/plain": [
       "<IPython.core.display.Math object>"
      ]
     },
     "metadata": {},
     "output_type": "display_data"
    },
    {
     "data": {
      "text/latex": [
       "$\\displaystyle J=3/2$"
      ],
      "text/plain": [
       "<IPython.core.display.Math object>"
      ]
     },
     "metadata": {},
     "output_type": "display_data"
    },
    {
     "data": {
      "text/latex": [
       "$\\displaystyle (^{2} d _{3/2})$"
      ],
      "text/plain": [
       "<IPython.core.display.Math object>"
      ]
     },
     "metadata": {},
     "output_type": "display_data"
    },
    {
     "data": {
      "text/latex": [
       "$\\displaystyle J=5/2$"
      ],
      "text/plain": [
       "<IPython.core.display.Math object>"
      ]
     },
     "metadata": {},
     "output_type": "display_data"
    },
    {
     "data": {
      "text/latex": [
       "$\\displaystyle (^{2} d _{5/2})$"
      ],
      "text/plain": [
       "<IPython.core.display.Math object>"
      ]
     },
     "metadata": {},
     "output_type": "display_data"
    },
    {
     "data": {
      "text/latex": [
       "$\\displaystyle J=7/2$"
      ],
      "text/plain": [
       "<IPython.core.display.Math object>"
      ]
     },
     "metadata": {},
     "output_type": "display_data"
    },
    {
     "data": {
      "text/latex": [
       "$\\displaystyle (^{2} g _{7/2})$"
      ],
      "text/plain": [
       "<IPython.core.display.Math object>"
      ]
     },
     "metadata": {},
     "output_type": "display_data"
    }
   ],
   "source": [
    "for J, pi in Jpi[0][0:4]:\n",
    "    display(Math(f\"J={J}\"))\n",
    "    channels = ch.build_channels_2body_sbasis(J, pi, proj_gs, target_gs)\n",
    "    coupled_channel_strings = []\n",
    "    for channel in channels:\n",
    "        s  =channel[\"s\"]\n",
    "        l  =channel[\"l\"]\n",
    "        coupled_channel_strings.append(f\"{format_sbasis_channel_latex(l,J,s)}\")\n",
    "    display(Math(\"(\" + \", \\,\".join(coupled_channel_strings) + \")\"))\n"
   ]
  },
  {
   "cell_type": "code",
   "execution_count": 32,
   "id": "f4371742-56be-46ce-81d4-17233a2a8b42",
   "metadata": {},
   "outputs": [
    {
     "data": {
      "text/latex": [
       "$\\displaystyle J=1/2$"
      ],
      "text/plain": [
       "<IPython.core.display.Math object>"
      ]
     },
     "metadata": {},
     "output_type": "display_data"
    },
    {
     "data": {
      "text/latex": [
       "$\\displaystyle (^{2} p _{1/2})$"
      ],
      "text/plain": [
       "<IPython.core.display.Math object>"
      ]
     },
     "metadata": {},
     "output_type": "display_data"
    },
    {
     "data": {
      "text/latex": [
       "$\\displaystyle J=3/2$"
      ],
      "text/plain": [
       "<IPython.core.display.Math object>"
      ]
     },
     "metadata": {},
     "output_type": "display_data"
    },
    {
     "data": {
      "text/latex": [
       "$\\displaystyle (^{2} p _{3/2})$"
      ],
      "text/plain": [
       "<IPython.core.display.Math object>"
      ]
     },
     "metadata": {},
     "output_type": "display_data"
    },
    {
     "data": {
      "text/latex": [
       "$\\displaystyle J=5/2$"
      ],
      "text/plain": [
       "<IPython.core.display.Math object>"
      ]
     },
     "metadata": {},
     "output_type": "display_data"
    },
    {
     "data": {
      "text/latex": [
       "$\\displaystyle (^{2} f _{5/2})$"
      ],
      "text/plain": [
       "<IPython.core.display.Math object>"
      ]
     },
     "metadata": {},
     "output_type": "display_data"
    },
    {
     "data": {
      "text/latex": [
       "$\\displaystyle J=7/2$"
      ],
      "text/plain": [
       "<IPython.core.display.Math object>"
      ]
     },
     "metadata": {},
     "output_type": "display_data"
    },
    {
     "data": {
      "text/latex": [
       "$\\displaystyle (^{2} f _{7/2})$"
      ],
      "text/plain": [
       "<IPython.core.display.Math object>"
      ]
     },
     "metadata": {},
     "output_type": "display_data"
    }
   ],
   "source": [
    "for J, pi in Jpi[1][0:4]:\n",
    "    display(Math(f\"J={J}\"))\n",
    "    channels = ch.build_channels_2body_sbasis(J, pi, proj_gs, target_gs)\n",
    "    coupled_channel_strings = []\n",
    "    for channel in channels:\n",
    "        s  =channel[\"s\"]\n",
    "        l  =channel[\"l\"]\n",
    "        coupled_channel_strings.append(f\"{format_sbasis_channel_latex(l,J,s)}\")\n",
    "    display(Math(\"(\" + \", \\,\".join(coupled_channel_strings) + \")\"))\n"
   ]
  }
 ],
 "metadata": {
  "kernelspec": {
   "display_name": "Python 3 (ipykernel)",
   "language": "python",
   "name": "python3"
  },
  "language_info": {
   "codemirror_mode": {
    "name": "ipython",
    "version": 3
   },
   "file_extension": ".py",
   "mimetype": "text/x-python",
   "name": "python",
   "nbconvert_exporter": "python",
   "pygments_lexer": "ipython3",
   "version": "3.11.9"
  }
 },
 "nbformat": 4,
 "nbformat_minor": 5
}
