{
 "cells": [
  {
   "cell_type": "markdown",
   "id": "0e4f3471-a3cd-447d-8f24-fea346e9a98e",
   "metadata": {},
   "source": [
    "## Demonsration of `jitr.reaction.channels`, building the channels for collision of a projectile on a target"
   ]
  },
  {
   "cell_type": "code",
   "execution_count": 1,
   "id": "fcbaec9f-06bc-4cc3-8f41-48401e29e038",
   "metadata": {},
   "outputs": [],
   "source": [
    "from fractions import Fraction\n",
    "from IPython.display import Latex, Math, display"
   ]
  },
  {
   "cell_type": "code",
   "execution_count": 3,
   "id": "f28e2eb9-5f29-4572-991e-536503dbf58c",
   "metadata": {},
   "outputs": [],
   "source": [
    "import jitr.reactions.channels as ch\n",
    "from jitr.structure import Level, Parity\n",
    "from jitr.utils.angular_momentum import triangle_rule, format_jbasis_channel_latex, format_sbasis_channel_latex"
   ]
  },
  {
   "cell_type": "markdown",
   "id": "51bf7529-c858-4d71-9ca6-db8891f30746",
   "metadata": {},
   "source": [
    "## Set up the system\n",
    "We can set the spin and parity of the projectile and target ground states like so:"
   ]
  },
  {
   "cell_type": "code",
   "execution_count": 4,
   "id": "ebb4ea12-fc87-4e4d-9fb8-f048e1a07f6a",
   "metadata": {},
   "outputs": [
    {
     "data": {
      "text/plain": [
       "Level(E=0, I=Fraction(1, 2), pi=<Parity.positive: True>)"
      ]
     },
     "execution_count": 4,
     "metadata": {},
     "output_type": "execute_result"
    }
   ],
   "source": [
    "proj_gs = Level(E=0, I=Fraction(1, 2), pi=Parity.positive)\n",
    "proj_gs"
   ]
  },
  {
   "cell_type": "code",
   "execution_count": 5,
   "id": "2ae3393c-67f3-4612-bb9e-e9a91de3ab0d",
   "metadata": {},
   "outputs": [
    {
     "data": {
      "text/plain": [
       "Level(E=0, I=Fraction(1, 2), pi=<Parity.positive: True>)"
      ]
     },
     "execution_count": 5,
     "metadata": {},
     "output_type": "execute_result"
    }
   ],
   "source": [
    "target_gs = Level(E=0, I=Fraction(1, 2), pi=Parity.positive)\n",
    "target_gs"
   ]
  },
  {
   "cell_type": "code",
   "execution_count": 6,
   "id": "45fbbc2c-9928-449d-b7bb-009fbd485dd3",
   "metadata": {},
   "outputs": [
    {
     "name": "stdout",
     "output_type": "stream",
     "text": [
      "8\n"
     ]
    }
   ],
   "source": [
    "lmax = 7\n",
    "\n",
    "Jtot_max = lmax + proj_gs.I + target_gs.I  # highest total angular momentum\n",
    "Jtot_min = abs(proj_gs.I - target_gs.I)  # lowest (lmin = 0)\n",
    "n_partial_waves = int(Jtot_max - Jtot_min)\n",
    "print(n_partial_waves)"
   ]
  },
  {
   "cell_type": "code",
   "execution_count": 7,
   "id": "2edf6aad-7732-466c-b128-6e4faeb6e332",
   "metadata": {},
   "outputs": [
    {
     "name": "stdout",
     "output_type": "stream",
     "text": [
      "0\n"
     ]
    }
   ],
   "source": [
    "print(Jtot_min)"
   ]
  },
  {
   "cell_type": "code",
   "execution_count": 8,
   "id": "0337a3ba-f40e-4d30-9420-ea16d54a64ad",
   "metadata": {},
   "outputs": [
    {
     "name": "stdout",
     "output_type": "stream",
     "text": [
      "8\n"
     ]
    }
   ],
   "source": [
    "print(Jtot_max)"
   ]
  },
  {
   "cell_type": "markdown",
   "id": "b36b19e2-f33d-48a8-a29a-cb19eacb5297",
   "metadata": {},
   "source": [
    "## Construct all $J$, $\\pi$ states\n",
    "Each of these $J$, $\\pi$ pairs represents a system of coupled partial waves"
   ]
  },
  {
   "cell_type": "code",
   "execution_count": 9,
   "id": "b9c3167a-c18b-4753-a546-3f0f50a4f0ae",
   "metadata": {},
   "outputs": [],
   "source": [
    "Jpi = [\n",
    "    [(Jtot_min + n, Parity.positive) for n in range(n_partial_waves)],\n",
    "    [(Jtot_min + n, Parity.negative) for n in range(n_partial_waves)],\n",
    "]"
   ]
  },
  {
   "cell_type": "markdown",
   "id": "1d382864-e209-482e-bfa5-90cd325023e9",
   "metadata": {},
   "source": [
    "## Look at the systems for a few  $J$, $\\pi$ pairs in the $J = L + I_p$ basis\n"
   ]
  },
  {
   "cell_type": "code",
   "execution_count": 10,
   "id": "83ee85c5-6978-4631-9ad0-b8f00fdc2a7a",
   "metadata": {},
   "outputs": [
    {
     "data": {
      "text/latex": [
       "$\\displaystyle J=0$"
      ],
      "text/plain": [
       "<IPython.core.display.Math object>"
      ]
     },
     "metadata": {},
     "output_type": "display_data"
    },
    {
     "data": {
      "text/latex": [
       "$\\displaystyle (^{2} s _{0/1})$"
      ],
      "text/plain": [
       "<IPython.core.display.Math object>"
      ]
     },
     "metadata": {},
     "output_type": "display_data"
    },
    {
     "data": {
      "text/latex": [
       "$\\displaystyle < l \\cdot s > = (0)$"
      ],
      "text/plain": [
       "<IPython.core.display.Math object>"
      ]
     },
     "metadata": {},
     "output_type": "display_data"
    },
    {
     "data": {
      "text/latex": [
       "$\\displaystyle J=1$"
      ],
      "text/plain": [
       "<IPython.core.display.Math object>"
      ]
     },
     "metadata": {},
     "output_type": "display_data"
    },
    {
     "data": {
      "text/latex": [
       "$\\displaystyle (^{2} s _{1/1}, \\,^{4} d _{1/1})$"
      ],
      "text/plain": [
       "<IPython.core.display.Math object>"
      ]
     },
     "metadata": {},
     "output_type": "display_data"
    },
    {
     "data": {
      "text/latex": [
       "$\\displaystyle < l \\cdot s > = (0, \\,-3)$"
      ],
      "text/plain": [
       "<IPython.core.display.Math object>"
      ]
     },
     "metadata": {},
     "output_type": "display_data"
    },
    {
     "data": {
      "text/latex": [
       "$\\displaystyle J=2$"
      ],
      "text/plain": [
       "<IPython.core.display.Math object>"
      ]
     },
     "metadata": {},
     "output_type": "display_data"
    },
    {
     "data": {
      "text/latex": [
       "$\\displaystyle (^{4} d _{2/1}, \\,^{6} d _{2/1})$"
      ],
      "text/plain": [
       "<IPython.core.display.Math object>"
      ]
     },
     "metadata": {},
     "output_type": "display_data"
    },
    {
     "data": {
      "text/latex": [
       "$\\displaystyle < l \\cdot s > = (-3, \\,2)$"
      ],
      "text/plain": [
       "<IPython.core.display.Math object>"
      ]
     },
     "metadata": {},
     "output_type": "display_data"
    },
    {
     "data": {
      "text/latex": [
       "$\\displaystyle J=3$"
      ],
      "text/plain": [
       "<IPython.core.display.Math object>"
      ]
     },
     "metadata": {},
     "output_type": "display_data"
    },
    {
     "data": {
      "text/latex": [
       "$\\displaystyle (^{6} d _{3/1}, \\,^{8} g _{3/1})$"
      ],
      "text/plain": [
       "<IPython.core.display.Math object>"
      ]
     },
     "metadata": {},
     "output_type": "display_data"
    },
    {
     "data": {
      "text/latex": [
       "$\\displaystyle < l \\cdot s > = (2, \\,-5)$"
      ],
      "text/plain": [
       "<IPython.core.display.Math object>"
      ]
     },
     "metadata": {},
     "output_type": "display_data"
    }
   ],
   "source": [
    "# positive total parity states\n",
    "for (J,pi) in Jpi[0][0:4]:\n",
    "    display(Math(f\"J={J}\"))\n",
    "    channels = ch.build_channels_2body_jbasis(J, pi, proj_gs, target_gs)\n",
    "    coupled_channel_strings = []\n",
    "    for channel in channels:\n",
    "        j  =channel[\"j\"]\n",
    "        l  =channel[\"l\"]\n",
    "        coupled_channel_strings.append(f\"{format_jbasis_channel_latex(l,J,j)}\")\n",
    "    lds = [f\"{int(x)}\" for x in ch.spin_orbit_coupling(channels)]\n",
    "    display(Math(\"(\" + \", \\,\".join(coupled_channel_strings) + \")\"))\n",
    "    display(Math(\"< l \\cdot s > = (\" + \", \\,\".join(lds) + \")\"))"
   ]
  },
  {
   "cell_type": "code",
   "execution_count": 11,
   "id": "ad167d58-d1f1-40a2-987e-b6cc351ed59b",
   "metadata": {},
   "outputs": [
    {
     "data": {
      "text/latex": [
       "$\\displaystyle J=0$"
      ],
      "text/plain": [
       "<IPython.core.display.Math object>"
      ]
     },
     "metadata": {},
     "output_type": "display_data"
    },
    {
     "data": {
      "text/latex": [
       "$\\displaystyle (^{2} p _{0/1})$"
      ],
      "text/plain": [
       "<IPython.core.display.Math object>"
      ]
     },
     "metadata": {},
     "output_type": "display_data"
    },
    {
     "data": {
      "text/latex": [
       "$\\displaystyle < l \\cdot s > = (-2)$"
      ],
      "text/plain": [
       "<IPython.core.display.Math object>"
      ]
     },
     "metadata": {},
     "output_type": "display_data"
    },
    {
     "data": {
      "text/latex": [
       "$\\displaystyle J=1$"
      ],
      "text/plain": [
       "<IPython.core.display.Math object>"
      ]
     },
     "metadata": {},
     "output_type": "display_data"
    },
    {
     "data": {
      "text/latex": [
       "$\\displaystyle (^{2} p _{1/1}, \\,^{4} p _{1/1})$"
      ],
      "text/plain": [
       "<IPython.core.display.Math object>"
      ]
     },
     "metadata": {},
     "output_type": "display_data"
    },
    {
     "data": {
      "text/latex": [
       "$\\displaystyle < l \\cdot s > = (-2, \\,1)$"
      ],
      "text/plain": [
       "<IPython.core.display.Math object>"
      ]
     },
     "metadata": {},
     "output_type": "display_data"
    },
    {
     "data": {
      "text/latex": [
       "$\\displaystyle J=2$"
      ],
      "text/plain": [
       "<IPython.core.display.Math object>"
      ]
     },
     "metadata": {},
     "output_type": "display_data"
    },
    {
     "data": {
      "text/latex": [
       "$\\displaystyle (^{4} p _{2/1}, \\,^{6} f _{2/1})$"
      ],
      "text/plain": [
       "<IPython.core.display.Math object>"
      ]
     },
     "metadata": {},
     "output_type": "display_data"
    },
    {
     "data": {
      "text/latex": [
       "$\\displaystyle < l \\cdot s > = (1, \\,-4)$"
      ],
      "text/plain": [
       "<IPython.core.display.Math object>"
      ]
     },
     "metadata": {},
     "output_type": "display_data"
    },
    {
     "data": {
      "text/latex": [
       "$\\displaystyle J=3$"
      ],
      "text/plain": [
       "<IPython.core.display.Math object>"
      ]
     },
     "metadata": {},
     "output_type": "display_data"
    },
    {
     "data": {
      "text/latex": [
       "$\\displaystyle (^{6} f _{3/1}, \\,^{8} f _{3/1})$"
      ],
      "text/plain": [
       "<IPython.core.display.Math object>"
      ]
     },
     "metadata": {},
     "output_type": "display_data"
    },
    {
     "data": {
      "text/latex": [
       "$\\displaystyle < l \\cdot s > = (-4, \\,3)$"
      ],
      "text/plain": [
       "<IPython.core.display.Math object>"
      ]
     },
     "metadata": {},
     "output_type": "display_data"
    }
   ],
   "source": [
    "# negative total parity states\n",
    "for J, pi in Jpi[1][0:4]:\n",
    "    display(Math(f\"J={J}\"))\n",
    "    channels = ch.build_channels_2body_jbasis(J, pi, proj_gs, target_gs)\n",
    "    coupled_channel_strings = []\n",
    "    for channel in channels:\n",
    "        j  =channel[\"j\"]\n",
    "        l  =channel[\"l\"]\n",
    "        coupled_channel_strings.append(f\"{format_jbasis_channel_latex(l,J,j)}\")\n",
    "    lds = [f\"{int(x)}\" for x in ch.spin_orbit_coupling(channels)]\n",
    "    display(Math(\"(\" + \", \\,\".join(coupled_channel_strings) + \")\"))\n",
    "    display(Math(\"< l \\cdot s > = (\" + \", \\,\".join(lds) + \")\"))"
   ]
  },
  {
   "cell_type": "markdown",
   "id": "b2653830-6b8b-44b7-a9c4-47600b01b198",
   "metadata": {},
   "source": [
    "## How about the $S = I_p + I_t$ basis?\n",
    "We won't calculate the spin-orbit because it is not diagonal in the $S$ basis"
   ]
  },
  {
   "cell_type": "code",
   "execution_count": 16,
   "id": "9affa48a-e9b1-4738-a979-edd292e34ad5",
   "metadata": {},
   "outputs": [
    {
     "data": {
      "text/latex": [
       "$\\displaystyle J=0$"
      ],
      "text/plain": [
       "<IPython.core.display.Math object>"
      ]
     },
     "metadata": {},
     "output_type": "display_data"
    },
    {
     "data": {
      "text/latex": [
       "$\\displaystyle (^{8} s _{0/1})$"
      ],
      "text/plain": [
       "<IPython.core.display.Math object>"
      ]
     },
     "metadata": {},
     "output_type": "display_data"
    },
    {
     "data": {
      "text/latex": [
       "$\\displaystyle J=1$"
      ],
      "text/plain": [
       "<IPython.core.display.Math object>"
      ]
     },
     "metadata": {},
     "output_type": "display_data"
    },
    {
     "data": {
      "text/latex": [
       "$\\displaystyle (^{8} s _{1/1}, \\,^{8} d _{1/1})$"
      ],
      "text/plain": [
       "<IPython.core.display.Math object>"
      ]
     },
     "metadata": {},
     "output_type": "display_data"
    },
    {
     "data": {
      "text/latex": [
       "$\\displaystyle J=2$"
      ],
      "text/plain": [
       "<IPython.core.display.Math object>"
      ]
     },
     "metadata": {},
     "output_type": "display_data"
    },
    {
     "data": {
      "text/latex": [
       "$\\displaystyle (^{8} d _{2/1}, \\,^{8} d _{2/1})$"
      ],
      "text/plain": [
       "<IPython.core.display.Math object>"
      ]
     },
     "metadata": {},
     "output_type": "display_data"
    },
    {
     "data": {
      "text/latex": [
       "$\\displaystyle J=3$"
      ],
      "text/plain": [
       "<IPython.core.display.Math object>"
      ]
     },
     "metadata": {},
     "output_type": "display_data"
    },
    {
     "data": {
      "text/latex": [
       "$\\displaystyle (^{8} d _{3/1}, \\,^{8} g _{3/1})$"
      ],
      "text/plain": [
       "<IPython.core.display.Math object>"
      ]
     },
     "metadata": {},
     "output_type": "display_data"
    }
   ],
   "source": [
    "for J, pi in Jpi[0][0:4]:\n",
    "    display(Math(f\"J={J}\"))\n",
    "    channels = ch.build_channels_2body_sbasis(J, pi, proj_gs, target_gs)\n",
    "    coupled_channel_strings = []\n",
    "    for channel in channels:\n",
    "        s  =channel[\"s\"]\n",
    "        l  =channel[\"l\"]\n",
    "        coupled_channel_strings.append(f\"{format_sbasis_channel_latex(l,J,j)}\")\n",
    "    display(Math(\"(\" + \", \\,\".join(coupled_channel_strings) + \")\"))\n"
   ]
  },
  {
   "cell_type": "code",
   "execution_count": 17,
   "id": "f4371742-56be-46ce-81d4-17233a2a8b42",
   "metadata": {},
   "outputs": [
    {
     "data": {
      "text/latex": [
       "$\\displaystyle J=0$"
      ],
      "text/plain": [
       "<IPython.core.display.Math object>"
      ]
     },
     "metadata": {},
     "output_type": "display_data"
    },
    {
     "data": {
      "text/latex": [
       "$\\displaystyle (^{3} p _{0/1})$"
      ],
      "text/plain": [
       "<IPython.core.display.Math object>"
      ]
     },
     "metadata": {},
     "output_type": "display_data"
    },
    {
     "data": {
      "text/latex": [
       "$\\displaystyle J=1$"
      ],
      "text/plain": [
       "<IPython.core.display.Math object>"
      ]
     },
     "metadata": {},
     "output_type": "display_data"
    },
    {
     "data": {
      "text/latex": [
       "$\\displaystyle (^{1} p _{1/1}, \\,^{3} p _{1/1})$"
      ],
      "text/plain": [
       "<IPython.core.display.Math object>"
      ]
     },
     "metadata": {},
     "output_type": "display_data"
    },
    {
     "data": {
      "text/latex": [
       "$\\displaystyle J=2$"
      ],
      "text/plain": [
       "<IPython.core.display.Math object>"
      ]
     },
     "metadata": {},
     "output_type": "display_data"
    },
    {
     "data": {
      "text/latex": [
       "$\\displaystyle (^{3} p _{2/1}, \\,^{3} f _{2/1})$"
      ],
      "text/plain": [
       "<IPython.core.display.Math object>"
      ]
     },
     "metadata": {},
     "output_type": "display_data"
    },
    {
     "data": {
      "text/latex": [
       "$\\displaystyle J=3$"
      ],
      "text/plain": [
       "<IPython.core.display.Math object>"
      ]
     },
     "metadata": {},
     "output_type": "display_data"
    },
    {
     "data": {
      "text/latex": [
       "$\\displaystyle (^{1} f _{3/1}, \\,^{3} f _{3/1})$"
      ],
      "text/plain": [
       "<IPython.core.display.Math object>"
      ]
     },
     "metadata": {},
     "output_type": "display_data"
    }
   ],
   "source": [
    "for J, pi in Jpi[1][0:4]:\n",
    "    display(Math(f\"J={J}\"))\n",
    "    channels = ch.build_channels_2body_sbasis(J, pi, proj_gs, target_gs)\n",
    "    coupled_channel_strings = []\n",
    "    for channel in channels:\n",
    "        s  =channel[\"s\"]\n",
    "        l  =channel[\"l\"]\n",
    "        coupled_channel_strings.append(f\"{format_sbasis_channel_latex(l,J,s)}\")\n",
    "    display(Math(\"(\" + \", \\,\".join(coupled_channel_strings) + \")\"))\n"
   ]
  },
  {
   "cell_type": "markdown",
   "id": "59b8843b-b928-49ed-8f41-77618f3aad7a",
   "metadata": {},
   "source": [
    "## Converting between $J$ and $S$ bases"
   ]
  },
  {
   "cell_type": "code",
   "execution_count": 13,
   "id": "5b72ae87-545c-42ec-b43a-6d54df841d15",
   "metadata": {},
   "outputs": [
    {
     "name": "stdout",
     "output_type": "stream",
     "text": [
      "2 Parity.positive\n"
     ]
    }
   ],
   "source": [
    "J,pi = Jpi[0][2]\n",
    "print(J,pi)\n",
    "channels_s = ch.build_channels_2body_sbasis(J,pi, proj_gs, target_gs)\n",
    "channels_j = ch.build_channels_2body_jbasis(J,pi, proj_gs, target_gs)"
   ]
  },
  {
   "cell_type": "code",
   "execution_count": 14,
   "id": "e2e94e92-50d1-4c4b-814c-56d1d2c84ce2",
   "metadata": {},
   "outputs": [
    {
     "name": "stdout",
     "output_type": "stream",
     "text": [
      "\n",
      "s-basis\n",
      "l: [2 2]\n",
      "s: [Fraction(0, 1) Fraction(1, 1)]\n",
      "Ex_p: [0. 0.]\n",
      "Ip: [Fraction(1, 2) Fraction(1, 2)]\n",
      "pi_p: [<Parity.positive: True> <Parity.positive: True>]\n",
      "Ex_t: [0. 0.]\n",
      "It: [Fraction(1, 2) Fraction(1, 2)]\n",
      "pi_t: [<Parity.positive: True> <Parity.positive: True>]\n",
      "\n",
      "j-basis\n",
      "l: [2 2]\n",
      "j: [Fraction(3, 2) Fraction(5, 2)]\n",
      "Ex_p: [0. 0.]\n",
      "Ip: [Fraction(1, 2) Fraction(1, 2)]\n",
      "pi_p: [<Parity.positive: True> <Parity.positive: True>]\n",
      "Ex_t: [0. 0.]\n",
      "It: [Fraction(1, 2) Fraction(1, 2)]\n",
      "pi_t: [<Parity.positive: True> <Parity.positive: True>]\n"
     ]
    }
   ],
   "source": [
    "print(\"\\ns-basis\")\n",
    "for name in channels_s.dtype.names:\n",
    "    print(f\"{name}: {channels_s[name]}\")\n",
    "print(\"\\nj-basis\")\n",
    "for name in channels_j.dtype.names:\n",
    "    print(f\"{name}: {channels_j[name]}\")"
   ]
  },
  {
   "cell_type": "code",
   "execution_count": 15,
   "id": "fe1f17fe-1c61-4b39-ad03-3d2498301e84",
   "metadata": {},
   "outputs": [
    {
     "data": {
      "text/plain": [
       "array([[-0.63245553+0.j,  1.34164079+0.j],\n",
       "       [ 0.4472136 +0.j,  0.63245553+0.j]])"
      ]
     },
     "execution_count": 15,
     "metadata": {},
     "output_type": "execute_result"
    }
   ],
   "source": [
    "s2j = ch.sbasis_to_jbasis_conversion_matrix(channels_s, channels_j, proj_gs.I, target_gs.I, J)\n",
    "s2j"
   ]
  },
  {
   "cell_type": "code",
   "execution_count": null,
   "id": "ad37a54f-6477-4f42-9ead-4e83280a6482",
   "metadata": {},
   "outputs": [],
   "source": []
  }
 ],
 "metadata": {
  "kernelspec": {
   "display_name": "Python 3 (ipykernel)",
   "language": "python",
   "name": "python3"
  },
  "language_info": {
   "codemirror_mode": {
    "name": "ipython",
    "version": 3
   },
   "file_extension": ".py",
   "mimetype": "text/x-python",
   "name": "python",
   "nbconvert_exporter": "python",
   "pygments_lexer": "ipython3",
   "version": "3.10.14"
  }
 },
 "nbformat": 4,
 "nbformat_minor": 5
}
