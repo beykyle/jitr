{
 "cells": [
  {
   "cell_type": "markdown",
   "id": "0e4f3471-a3cd-447d-8f24-fea346e9a98e",
   "metadata": {},
   "source": [
    "## Demonsration of `jitr.reaction.channels`, building the channels for elastic scattering of a projectile on a target without core-excitation"
   ]
  },
  {
   "cell_type": "code",
   "execution_count": 13,
   "id": "fcbaec9f-06bc-4cc3-8f41-48401e29e038",
   "metadata": {},
   "outputs": [],
   "source": [
    "from fractions import Fraction"
   ]
  },
  {
   "cell_type": "code",
   "execution_count": 14,
   "id": "f28e2eb9-5f29-4572-991e-536503dbf58c",
   "metadata": {},
   "outputs": [],
   "source": [
    "import jitr.reactions.channels as ch\n",
    "from jitr.structure import Level, Parity\n",
    "from jitr.utils.angular_momentum import triangle_rule"
   ]
  },
  {
   "cell_type": "markdown",
   "id": "51bf7529-c858-4d71-9ca6-db8891f30746",
   "metadata": {},
   "source": [
    "## Set up the system"
   ]
  },
  {
   "cell_type": "code",
   "execution_count": 15,
   "id": "ebb4ea12-fc87-4e4d-9fb8-f048e1a07f6a",
   "metadata": {},
   "outputs": [
    {
     "data": {
      "text/plain": [
       "Level(E=0, I=Fraction(1, 2), pi=<Parity.positive: True>)"
      ]
     },
     "execution_count": 15,
     "metadata": {},
     "output_type": "execute_result"
    }
   ],
   "source": [
    "proj_gs = Level(E=0,I=Fraction(1,2),pi=Parity.positive)\n",
    "proj_gs"
   ]
  },
  {
   "cell_type": "code",
   "execution_count": 34,
   "id": "2ae3393c-67f3-4612-bb9e-e9a91de3ab0d",
   "metadata": {},
   "outputs": [
    {
     "data": {
      "text/plain": [
       "Level(E=0, I=Fraction(1, 2), pi=<Parity.positive: True>)"
      ]
     },
     "execution_count": 34,
     "metadata": {},
     "output_type": "execute_result"
    }
   ],
   "source": [
    "target_gs = Level(E=0,I=Fraction(1,2),pi=Parity.positive)\n",
    "target_gs"
   ]
  },
  {
   "cell_type": "code",
   "execution_count": 50,
   "id": "45fbbc2c-9928-449d-b7bb-009fbd485dd3",
   "metadata": {},
   "outputs": [
    {
     "name": "stdout",
     "output_type": "stream",
     "text": [
      "8\n"
     ]
    }
   ],
   "source": [
    "lmax = 7\n",
    "\n",
    "# find a \n",
    "Jtot_max = lmax + proj_gs.I + target_gs.I # highest total angular momentum\n",
    "Jtot_min = abs(proj_gs.I - target_gs.I)\n",
    "n_partial_waves = int(Jtot_max - Jtot_min)\n",
    "print(n_partial_waves)"
   ]
  },
  {
   "cell_type": "code",
   "execution_count": 51,
   "id": "2edf6aad-7732-466c-b128-6e4faeb6e332",
   "metadata": {},
   "outputs": [
    {
     "name": "stdout",
     "output_type": "stream",
     "text": [
      "0\n"
     ]
    }
   ],
   "source": [
    "print(Jtot_min)"
   ]
  },
  {
   "cell_type": "code",
   "execution_count": 52,
   "id": "0337a3ba-f40e-4d30-9420-ea16d54a64ad",
   "metadata": {},
   "outputs": [
    {
     "name": "stdout",
     "output_type": "stream",
     "text": [
      "8\n"
     ]
    }
   ],
   "source": [
    "print(Jtot_max)"
   ]
  },
  {
   "cell_type": "markdown",
   "id": "b36b19e2-f33d-48a8-a29a-cb19eacb5297",
   "metadata": {},
   "source": [
    "## Construct all $J$, $\\pi$ states"
   ]
  },
  {
   "cell_type": "code",
   "execution_count": 53,
   "id": "b9c3167a-c18b-4753-a546-3f0f50a4f0ae",
   "metadata": {},
   "outputs": [],
   "source": [
    "Jpi = [\n",
    "    [(Jtot_min + n, Parity.positive) for n in range(n_partial_waves)],\n",
    "    [(Jtot_min + n, Parity.negative) for n in range(n_partial_waves)]\n",
    "]"
   ]
  },
  {
   "cell_type": "markdown",
   "id": "1d382864-e209-482e-bfa5-90cd325023e9",
   "metadata": {},
   "source": [
    "## Look at the systems for a few  $J$, $\\pi$ pairs in the $J = L + I_p$ basis\n",
    "We will use the j-basis so theses systems will be un-coupled"
   ]
  },
  {
   "cell_type": "code",
   "execution_count": 54,
   "id": "83ee85c5-6978-4631-9ad0-b8f00fdc2a7a",
   "metadata": {},
   "outputs": [
    {
     "name": "stdout",
     "output_type": "stream",
     "text": [
      "\n",
      "J=0\n",
      "j: [Fraction(1, 2)]\n",
      "l: [0]\n",
      "<l dot s> = [0.]\n",
      "\n",
      "J=1\n",
      "j: [Fraction(1, 2) Fraction(3, 2)]\n",
      "l: [0 2]\n",
      "<l dot s> = [ 0. -3.]\n",
      "\n",
      "J=2\n",
      "j: [Fraction(3, 2) Fraction(5, 2)]\n",
      "l: [2 2]\n",
      "<l dot s> = [-3.  2.]\n",
      "\n",
      "J=3\n",
      "j: [Fraction(5, 2) Fraction(7, 2)]\n",
      "l: [2 4]\n",
      "<l dot s> = [ 2. -5.]\n"
     ]
    }
   ],
   "source": [
    "# positive total parity states\n",
    "for (J,pi) in Jpi[0][0:4]:\n",
    "    print(f\"\\nJ={J}\")\n",
    "    channels = ch.build_channels_2body_jbasis(J, pi, proj_gs, target_gs)\n",
    "    for name in [\"j\", \"l\"]:\n",
    "        print(f\"{name}: {channels[name]}\")\n",
    "    print(f\"<l dot s> = {ch.spin_orbit_coupling(channels)}\")"
   ]
  },
  {
   "cell_type": "code",
   "execution_count": 55,
   "id": "ad167d58-d1f1-40a2-987e-b6cc351ed59b",
   "metadata": {},
   "outputs": [
    {
     "name": "stdout",
     "output_type": "stream",
     "text": [
      "\n",
      "J=0\n",
      "j: [Fraction(1, 2)]\n",
      "l: [1]\n",
      "<l dot s> = [-2.]\n",
      "\n",
      "J=1\n",
      "j: [Fraction(1, 2) Fraction(3, 2)]\n",
      "l: [1 1]\n",
      "<l dot s> = [-2.  1.]\n",
      "\n",
      "J=2\n",
      "j: [Fraction(3, 2) Fraction(5, 2)]\n",
      "l: [1 3]\n",
      "<l dot s> = [ 1. -4.]\n",
      "\n",
      "J=3\n",
      "j: [Fraction(5, 2) Fraction(7, 2)]\n",
      "l: [3 3]\n",
      "<l dot s> = [-4.  3.]\n"
     ]
    }
   ],
   "source": [
    "# negative total parity states\n",
    "for (J,pi) in Jpi[1][0:4]:\n",
    "    print(f\"\\nJ={J}\")\n",
    "    channels = ch.build_channels_2body_jbasis(J, pi, proj_gs, target_gs)\n",
    "    for name in [\"j\", \"l\"]:\n",
    "        print(f\"{name}: {channels[name]}\")\n",
    "    print(f\"<l dot s> = {ch.spin_orbit_coupling(channels)}\")"
   ]
  },
  {
   "cell_type": "markdown",
   "id": "b2653830-6b8b-44b7-a9c4-47600b01b198",
   "metadata": {},
   "source": [
    "## How about the $S = I_p + I_t$ basis?\n",
    "We won't calculate the spin-orbit because it is not diagonal in the $S$ basis"
   ]
  },
  {
   "cell_type": "code",
   "execution_count": 56,
   "id": "9affa48a-e9b1-4738-a979-edd292e34ad5",
   "metadata": {},
   "outputs": [
    {
     "name": "stdout",
     "output_type": "stream",
     "text": [
      "\n",
      "J=0\n",
      "s: [Fraction(0, 1)]\n",
      "l: [0]\n",
      "\n",
      "J=1\n",
      "s: [Fraction(1, 1) Fraction(1, 1)]\n",
      "l: [0 2]\n",
      "\n",
      "J=2\n",
      "s: [Fraction(0, 1) Fraction(1, 1)]\n",
      "l: [2 2]\n",
      "\n",
      "J=3\n",
      "s: [Fraction(1, 1) Fraction(1, 1)]\n",
      "l: [2 4]\n"
     ]
    }
   ],
   "source": [
    "for (J,pi) in Jpi[0][0:4]:\n",
    "    print(f\"\\nJ={J}\")\n",
    "    channels = ch.build_channels_2body_sbasis(J, pi, proj_gs, target_gs)\n",
    "    for name in [\"s\", \"l\"]:\n",
    "        print(f\"{name}: {channels[name]}\")\n"
   ]
  },
  {
   "cell_type": "code",
   "execution_count": 57,
   "id": "f4371742-56be-46ce-81d4-17233a2a8b42",
   "metadata": {},
   "outputs": [
    {
     "name": "stdout",
     "output_type": "stream",
     "text": [
      "\n",
      "J=0\n",
      "s: [Fraction(1, 1)]\n",
      "l: [1]\n",
      "\n",
      "J=1\n",
      "s: [Fraction(0, 1) Fraction(1, 1)]\n",
      "l: [1 1]\n",
      "\n",
      "J=2\n",
      "s: [Fraction(1, 1) Fraction(1, 1)]\n",
      "l: [1 3]\n",
      "\n",
      "J=3\n",
      "s: [Fraction(0, 1) Fraction(1, 1)]\n",
      "l: [3 3]\n"
     ]
    }
   ],
   "source": [
    "for (J,pi) in Jpi[1][0:4]:\n",
    "    print(f\"\\nJ={J}\")\n",
    "    channels = ch.build_channels_2body_sbasis(J, pi, proj_gs, target_gs)\n",
    "    for name in [\"s\", \"l\"]:\n",
    "        print(f\"{name}: {channels[name]}\")\n"
   ]
  },
  {
   "cell_type": "code",
   "execution_count": null,
   "id": "3113b16d-0b0c-486e-83be-f27b1f710ab6",
   "metadata": {},
   "outputs": [],
   "source": []
  }
 ],
 "metadata": {
  "kernelspec": {
   "display_name": "Python 3 (ipykernel)",
   "language": "python",
   "name": "python3"
  },
  "language_info": {
   "codemirror_mode": {
    "name": "ipython",
    "version": 3
   },
   "file_extension": ".py",
   "mimetype": "text/x-python",
   "name": "python",
   "nbconvert_exporter": "python",
   "pygments_lexer": "ipython3",
   "version": "3.11.9"
  }
 },
 "nbformat": 4,
 "nbformat_minor": 5
}
