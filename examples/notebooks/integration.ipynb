{
 "cells": [
  {
   "cell_type": "code",
   "execution_count": 1,
   "id": "c8159725-e210-4cd1-a535-6280de370522",
   "metadata": {},
   "outputs": [],
   "source": [
    "import jitr\n",
    "from numba import njit\n",
    "import numpy as np"
   ]
  },
  {
   "cell_type": "code",
   "execution_count": 2,
   "id": "28fcb5b6-4e1e-4061-b139-1efc03fc765c",
   "metadata": {},
   "outputs": [],
   "source": [
    "@njit\n",
    "def V(x, a, b):\n",
    "    return a + b * x**2\n",
    "\n",
    "\n",
    "@njit\n",
    "def Vnl_sym(x, y, a, b):\n",
    "    return a * x * y + b * (x - y) ** 2 / (y**2 + x**2)\n",
    "\n",
    "\n",
    "@njit\n",
    "def Vnl_asym(x, y, a, b):\n",
    "    return a * x * y + b * x**2 / (y**2 + 2)"
   ]
  },
  {
   "cell_type": "code",
   "execution_count": 3,
   "id": "969915ab-c210-43af-bed0-cc2ab3d57d30",
   "metadata": {},
   "outputs": [],
   "source": [
    "a = np.pi\n",
    "solver = jitr.quadrature.Kernel(30, basis=\"Legendre\")"
   ]
  },
  {
   "cell_type": "code",
   "execution_count": 4,
   "id": "5516bc48-ea38-4ef6-9ee2-1d7fcde9caab",
   "metadata": {},
   "outputs": [
    {
     "name": "stdout",
     "output_type": "stream",
     "text": [
      "quadrature = 37.289462, analanalytic = 37.289462\n"
     ]
    }
   ],
   "source": [
    "analytic = 37.2894619874794\n",
    "quadrature = solver.integrate_local(V, a, (2, 3))\n",
    "print(f\"quadrature = {quadrature:.6f}, analanalytic = {analytic:.6f}\")\n",
    "np.testing.assert_almost_equal(quadrature, analytic)"
   ]
  },
  {
   "cell_type": "code",
   "execution_count": 5,
   "id": "cc2084e3-54ef-41ea-a249-6634b561b0b1",
   "metadata": {},
   "outputs": [
    {
     "name": "stdout",
     "output_type": "stream",
     "text": [
      "quadrature = 18.298994, analanalytic = 18.298994\n"
     ]
    }
   ],
   "source": [
    "analytic = 18.298993686404124\n",
    "quadrature = solver.double_integrate_nonlocal(\n",
    "    Vnl_asym, a, is_symmetric=False, args=(1.0 / 16, 2)\n",
    ")\n",
    "print(f\"quadrature = {quadrature:.6f}, analanalytic = {analytic:.6f}\")\n",
    "np.testing.assert_almost_equal(quadrature, analytic)"
   ]
  },
  {
   "cell_type": "code",
   "execution_count": 6,
   "id": "988cdff7-4fbd-4b3b-b4ad-a62e49ea397f",
   "metadata": {},
   "outputs": [
    {
     "name": "stdout",
     "output_type": "stream",
     "text": [
      "quadrature = 48.580168, analanalytic = 48.580400\n"
     ]
    }
   ],
   "source": [
    "analytic = 48.58040025635857\n",
    "quadrature = solver.double_integrate_nonlocal(\n",
    "    Vnl_sym, 2 * np.pi, is_symmetric=False, args=(1.0 / 16, 2)\n",
    ")\n",
    "print(f\"quadrature = {quadrature:.6f}, analanalytic = {analytic:.6f}\")\n",
    "np.testing.assert_almost_equal(quadrature, analytic, decimal=3)"
   ]
  },
  {
   "cell_type": "code",
   "execution_count": 7,
   "id": "09b18107-f5d1-4bf3-af2a-6349c60c725f",
   "metadata": {},
   "outputs": [
    {
     "name": "stdout",
     "output_type": "stream",
     "text": [
      "quadrature = 48.580168, analanalytic = 48.580400\n"
     ]
    }
   ],
   "source": [
    "quadrature = solver.double_integrate_nonlocal(\n",
    "    Vnl_sym, 2 * np.pi, is_symmetric=True, args=(1.0 / 16, 2)\n",
    ")\n",
    "print(f\"quadrature = {quadrature:.6f}, analanalytic = {analytic:.6f}\")\n",
    "np.testing.assert_almost_equal(quadrature, analytic, decimal=3)"
   ]
  },
  {
   "cell_type": "code",
   "execution_count": 8,
   "id": "bec2601e-d146-4f6e-9969-5d9d9cf46a98",
   "metadata": {},
   "outputs": [],
   "source": [
    "lower = solver.weight_matrix[solver.lower_mask] * Vnl_sym(\n",
    "    solver.Xn[solver.lower_mask] * 2 * np.pi,\n",
    "    solver.Xm[solver.lower_mask] * 2 * np.pi,\n",
    "    1 / 16,\n",
    "    2,\n",
    ")\n",
    "upper = solver.weight_matrix[solver.upper_mask] * Vnl_sym(\n",
    "    solver.Xn[solver.upper_mask] * 2 * np.pi,\n",
    "    solver.Xm[solver.upper_mask] * 2 * np.pi,\n",
    "    1 / 16,\n",
    "    2,\n",
    ")\n",
    "full = solver.weight_matrix * Vnl_sym(\n",
    "    solver.Xn * 2 * np.pi, solver.Xm * 2 * np.pi, 1 / 16, 2\n",
    ")\n",
    "full_sum = np.sum(full) * 4 * np.pi**2\n",
    "np.testing.assert_allclose(\n",
    "    np.diag(solver.weight_matrix) - solver.quadrature.weights**2, 0, atol=1e-7\n",
    ")\n",
    "x = np.zeros((30, 30))\n",
    "x[solver.lower_mask] = lower\n",
    "x[solver.upper_mask] = upper\n",
    "np.testing.assert_allclose(x - full, 0.0, atol=1e-7)\n",
    "np.testing.assert_allclose(np.sum(full), np.sum(lower) + np.sum(upper))"
   ]
  },
  {
   "cell_type": "code",
   "execution_count": null,
   "id": "739d09b5-e6c5-4719-9369-2b31c49e8d0c",
   "metadata": {},
   "outputs": [],
   "source": []
  },
  {
   "cell_type": "code",
   "execution_count": null,
   "id": "80ce7c15-31d4-4dde-9df1-d5aa3b044cee",
   "metadata": {},
   "outputs": [],
   "source": []
  },
  {
   "cell_type": "code",
   "execution_count": null,
   "id": "d606d711-0ef4-4f57-ab56-eab999edd539",
   "metadata": {},
   "outputs": [],
   "source": []
  }
 ],
 "metadata": {
  "kernelspec": {
   "display_name": "Python 3 (ipykernel)",
   "language": "python",
   "name": "python3"
  },
  "language_info": {
   "codemirror_mode": {
    "name": "ipython",
    "version": 3
   },
   "file_extension": ".py",
   "mimetype": "text/x-python",
   "name": "python",
   "nbconvert_exporter": "python",
   "pygments_lexer": "ipython3",
   "version": "3.11.9"
  }
 },
 "nbformat": 4,
 "nbformat_minor": 5
}
