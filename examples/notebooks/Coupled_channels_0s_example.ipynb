{
 "cells": [
  {
   "cell_type": "code",
   "execution_count": 1,
   "id": "cb0df33a",
   "metadata": {},
   "outputs": [],
   "source": [
    "import numpy as np\n",
    "from scipy.integrate import solve_ivp\n",
    "from numba import njit\n",
    "import jitr"
   ]
  },
  {
   "cell_type": "code",
   "execution_count": 2,
   "id": "de303b44",
   "metadata": {},
   "outputs": [
    {
     "name": "stderr",
     "output_type": "stream",
     "text": [
      "/home/kyle/mambaforge/envs/om/lib/python3.10/site-packages/numba/core/dispatcher.py:289: UserWarning: Numba extension module 'numba_scipy' failed to load due to 'ValueError(No function '__pyx_fuse_0pdtr' found in __pyx_capi__ of 'scipy.special.cython_special')'.\n",
      "  entrypoints.init_all()\n"
     ]
    }
   ],
   "source": [
    "nchannels = 3\n",
    "Ecom = 14.1\n",
    "nodes_within_radius = 5\n",
    "\n",
    "sys = jitr.ProjectileTargetSystem(\n",
    "    np.ones(nchannels) * 939.0,\n",
    "    np.ones(nchannels) * nodes_within_radius * (2 * np.pi),\n",
    "    l=np.ones(nchannels, dtype=np.int64) * 0,\n",
    "    level_energies=np.array([0.0, 10.0, 11.0]),\n",
    "    Ztarget=40,\n",
    "    Zproj=0,\n",
    "    nchannels=nchannels,\n",
    ")"
   ]
  },
  {
   "cell_type": "code",
   "execution_count": 3,
   "id": "34d94df7",
   "metadata": {},
   "outputs": [],
   "source": [
    "\n",
    "# Lagrange-Mesh solver\n",
    "solver = jitr.LagrangeRMatrixSolver(50, 3, sys, ecom=14.1)"
   ]
  },
  {
   "cell_type": "code",
   "execution_count": 4,
   "id": "4f2ddaf4",
   "metadata": {},
   "outputs": [],
   "source": [
    "# set up diagonal part of interaction\n",
    "# Woods-Saxon potential parameters\n",
    "V0 = 60  # real potential strength \n",
    "W0 = 0  # imag potential strength- we will set to 0 to verify that the S-matrix is unitary \n",
    "R0 = 4  # Woods-Saxon potential radius\n",
    "a0 = 0.5  # Woods-Saxon potential diffuseness\n",
    "\n",
    "params = (V0, W0, R0, a0)\n",
    "\n",
    "interaction_matrix = jitr.InteractionMatrix(sys.nchannels)\n",
    "for i in range(sys.nchannels):\n",
    "    interaction_matrix.set_local_interaction(\n",
    "        jitr.woods_saxon_potential, i, i, args=params\n",
    "    )"
   ]
  },
  {
   "cell_type": "code",
   "execution_count": 5,
   "id": "424e7535",
   "metadata": {},
   "outputs": [],
   "source": [
    "# set up coupling terms\n",
    "params_off_diag = (V0 / 2, W0 / 2, R0, a0)\n",
    "for i in range(sys.nchannels):\n",
    "    for j in range(sys.nchannels):\n",
    "        interaction_matrix.set_local_interaction(\n",
    "            jitr.woods_saxon_potential, i, j, params_off_diag\n",
    "        )"
   ]
  },
  {
   "cell_type": "code",
   "execution_count": 6,
   "id": "66c203b6",
   "metadata": {},
   "outputs": [],
   "source": [
    "channels = sys.build_channels(Ecom)"
   ]
  },
  {
   "cell_type": "code",
   "execution_count": 14,
   "id": "2126567f",
   "metadata": {},
   "outputs": [
    {
     "name": "stdout",
     "output_type": "stream",
     "text": [
      "4.38 ms ± 224 µs per loop (mean ± std. dev. of 7 runs, 100 loops each)\n"
     ]
    }
   ],
   "source": [
    "%%timeit\n",
    "R, S, uext_prime_boundary, x = solver.solve(interaction_matrix, channels, wavefunction=True)"
   ]
  },
  {
   "cell_type": "code",
   "execution_count": 11,
   "id": "622ee6e1",
   "metadata": {},
   "outputs": [
    {
     "data": {
      "text/plain": [
       "array([[-1.09179845+0.41686829j, -2.09179845+0.41686829j,\n",
       "        -2.09179845+0.41686829j],\n",
       "       [-0.64894996+0.12932731j,  0.35105004+0.12932731j,\n",
       "        -0.64894996+0.12932731j],\n",
       "       [ 0.81714493-0.16284638j,  0.81714493-0.16284638j,\n",
       "         1.81714493-0.16284638j]])"
      ]
     },
     "execution_count": 11,
     "metadata": {},
     "output_type": "execute_result"
    }
   ],
   "source": [
    "S"
   ]
  },
  {
   "cell_type": "code",
   "execution_count": 12,
   "id": "4642b647",
   "metadata": {},
   "outputs": [],
   "source": [
    "assert np.isclose(jitr.complex_det(S), 1.0)"
   ]
  },
  {
   "cell_type": "code",
   "execution_count": null,
   "id": "f447afc6",
   "metadata": {},
   "outputs": [],
   "source": []
  }
 ],
 "metadata": {
  "kernelspec": {
   "display_name": "Python [conda env:om] *",
   "language": "python",
   "name": "conda-env-om-py"
  },
  "language_info": {
   "codemirror_mode": {
    "name": "ipython",
    "version": 3
   },
   "file_extension": ".py",
   "mimetype": "text/x-python",
   "name": "python",
   "nbconvert_exporter": "python",
   "pygments_lexer": "ipython3",
   "version": "3.10.10"
  }
 },
 "nbformat": 4,
 "nbformat_minor": 5
}
