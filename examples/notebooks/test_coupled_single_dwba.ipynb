{
 "cells": [
  {
   "cell_type": "code",
   "execution_count": 19,
   "id": "efb8ddfc",
   "metadata": {},
   "outputs": [],
   "source": [
    "from jitr import reactions, rmatrix\n",
    "from jitr.utils.kinematics import classical_kinematics\n",
    "import numpy as np\n",
    "\n",
    "\n",
    "def potential_scalar(r, depth, mass):\n",
    "    return depth * np.exp(-r / mass)\n",
    "\n",
    "\n",
    "def potential_2level(r, depth, mass, coupling):\n",
    "    diag = potential_scalar(r, depth, mass)\n",
    "    off_diag = potential_scalar(r, coupling, mass)\n",
    "    return np.array(\n",
    "        [[diag, off_diag], [off_diag, diag]],\n",
    "    )\n",
    "\n",
    "\n",
    "nbasis = 40\n",
    "solver = rmatrix.Solver(nbasis)\n",
    "\n",
    "nchannels = 2\n",
    "sys = reactions.ProjectileTargetSystem(\n",
    "    5 * np.pi * np.ones(nchannels),\n",
    "    np.arange(0, nchannels, dtype=np.int64),\n",
    "    mass_target=44657,\n",
    "    mass_projectile=938.3,\n",
    "    Ztarget=20,\n",
    "    Zproj=1,\n",
    "    nchannels=nchannels,\n",
    ")\n",
    "\n",
    "Elab = 42.1\n",
    "mu, Ecm, k, eta = classical_kinematics(\n",
    "    sys.mass_target, sys.mass_projectile, Elab, sys.Zproj * sys.Ztarget\n",
    ")\n",
    "\n",
    "# for solving the un-coupled channels independently\n",
    "channels_uncoupled, asymptotics_uncoupled = sys.uncoupled(Ecm, mu, k, eta)\n",
    "\n",
    "# for solving as a single (block-diagonal) system\n",
    "channels_coupled, asymptotics_coupled = sys.coupled(Ecm, mu, k, eta)\n",
    "\n",
    "# the 2-level system is block diagonal consisting of 2 copies of the\n",
    "# un-coupled scalar subsystems\n",
    "params_2level = (10, 4, 0)\n",
    "params_scalar = (10, 4)\n",
    "\n",
    "\n",
    "def test_coupled_vs_single():\n",
    "    # solve the two un-coupled systems on the block diagonal\n",
    "    R, S, u = solver.solve(\n",
    "        channels_uncoupled[0],\n",
    "        asymptotics_uncoupled[0],\n",
    "        potential_scalar,\n",
    "        params_scalar,\n",
    "    )\n",
    "    R2, S2, u2 = solver.solve(\n",
    "        channels_uncoupled[1],\n",
    "        asymptotics_uncoupled[1],\n",
    "        potential_scalar,\n",
    "        params_scalar,\n",
    "    )\n",
    "\n",
    "    # solve the full system\n",
    "    Rm, Sm, xm = solver.solve(\n",
    "        channels_coupled,\n",
    "        asymptotics_coupled,\n",
    "        potential_2level,\n",
    "        params_2level,\n",
    "    )\n",
    "\n",
    "    b = solver.precompute_boundaries(sys.channel_radii[0:1])\n",
    "    bm = solver.precompute_boundaries(sys.channel_radii)\n",
    "    np.testing.assert_almost_equal(b, bm[:nbasis])\n",
    "    np.testing.assert_almost_equal(b, bm[nbasis : 2 * nbasis])\n",
    "\n",
    "    np.testing.assert_almost_equal(np.linalg.det(Sm.conj().T @ Sm), 1)\n",
    "    np.testing.assert_almost_equal(np.linalg.det(S.conj().T @ S), 1)\n",
    "    np.testing.assert_almost_equal(Sm[1, 0], 0)\n",
    "    np.testing.assert_almost_equal(Sm[0, 1], 0)\n",
    "    np.testing.assert_almost_equal(Rm[1, 0], 0)\n",
    "    np.testing.assert_almost_equal(Rm[0, 1], 0)\n",
    "    np.testing.assert_almost_equal(Sm[1, 1], S2)\n",
    "    np.testing.assert_almost_equal(Rm[1, 1], R2)\n",
    "    np.testing.assert_almost_equal(Sm[0, 0], S)\n",
    "    np.testing.assert_almost_equal(Rm[0, 0], R)\n",
    "\n",
    "    free = solver.free_matrix(sys.channel_radii, sys.l)\n",
    "    interaction = solver.interaction_matrix(\n",
    "        channels_coupled, potential_2level, params_2level\n",
    "    )\n",
    "\n",
    "    # test diaginal blocks\n",
    "    np.testing.assert_almost_equal(\n",
    "        solver.free_matrix(sys.channel_radii[0:1], sys.l[0:1]),\n",
    "        solver.get_channel_block(free, 0, 0),\n",
    "    )\n",
    "    np.testing.assert_almost_equal(\n",
    "        solver.interaction_matrix(\n",
    "            channels_uncoupled[0], potential_scalar, params_scalar\n",
    "        ),\n",
    "        solver.get_channel_block(\n",
    "            interaction,\n",
    "            0,\n",
    "            0,\n",
    "        ),\n",
    "    )\n",
    "    np.testing.assert_almost_equal(\n",
    "        solver.free_matrix(sys.channel_radii[1:], sys.l[1:]),\n",
    "        solver.get_channel_block(free, 1, 1),\n",
    "    )\n",
    "    np.testing.assert_almost_equal(\n",
    "        solver.interaction_matrix(\n",
    "            channels_uncoupled[1], potential_scalar, params_scalar\n",
    "        ),\n",
    "        solver.get_channel_block(\n",
    "            interaction,\n",
    "            1,\n",
    "            1,\n",
    "        ),\n",
    "    )\n",
    "\n",
    "    # test off diag blocks\n",
    "    for i in range(nchannels):\n",
    "        for j in range(nchannels):\n",
    "            if j != i:\n",
    "                np.testing.assert_almost_equal(solver.get_channel_block(free, i, j), 0)\n",
    "                np.testing.assert_almost_equal(\n",
    "                    solver.get_channel_block(interaction, i, j), 0\n",
    "                )\n",
    "\n",
    "    # test full matric\n",
    "    A = solver.interaction_matrix(\n",
    "        channels_uncoupled[0], potential_scalar, params_scalar\n",
    "    ) + solver.free_matrix(sys.channel_radii[:1], sys.l[:1])\n",
    "    Am = free + interaction\n",
    "    np.testing.assert_almost_equal(Am[:nbasis, :nbasis], A)\n",
    "    np.testing.assert_almost_equal(bm[:nbasis], b)\n",
    "    x = np.linalg.solve(A, b)\n",
    "    xm = np.linalg.solve(Am, bm)\n",
    "    np.testing.assert_almost_equal(x, xm[:nbasis])\n",
    "    return Sm"
   ]
  },
  {
   "cell_type": "code",
   "execution_count": 20,
   "id": "f445aa89-df3b-4868-9ee7-96876c03a629",
   "metadata": {},
   "outputs": [],
   "source": [
    "Sm = test_coupled_vs_single()"
   ]
  },
  {
   "cell_type": "code",
   "execution_count": 21,
   "id": "d4dd727e-4671-4eab-9023-fdff0e3c9c17",
   "metadata": {},
   "outputs": [
    {
     "data": {
      "text/plain": [
       "array([[-0.8276658 +0.56122127j,  0.        -0.j        ],\n",
       "       [ 0.        +0.j        , -0.12091967+0.9926623j ]])"
      ]
     },
     "execution_count": 21,
     "metadata": {},
     "output_type": "execute_result"
    }
   ],
   "source": [
    "Sm"
   ]
  },
  {
   "cell_type": "code",
   "execution_count": 22,
   "id": "4a67d6a0-b1ea-4693-ab31-3af29defbd47",
   "metadata": {},
   "outputs": [
    {
     "data": {
      "text/plain": [
       "(0.9999999999999998+0j)"
      ]
     },
     "execution_count": 22,
     "metadata": {},
     "output_type": "execute_result"
    }
   ],
   "source": [
    "np.linalg.det(Sm @ Sm.conj().T)"
   ]
  },
  {
   "cell_type": "code",
   "execution_count": null,
   "id": "95c7c50c-3ae6-4ca7-b398-cf94963f59f5",
   "metadata": {},
   "outputs": [],
   "source": []
  },
  {
   "cell_type": "code",
   "execution_count": null,
   "id": "08929f2e-fa45-428c-b832-1a1a67adb06a",
   "metadata": {},
   "outputs": [],
   "source": []
  }
 ],
 "metadata": {
  "kernelspec": {
   "display_name": "Python 3 (ipykernel)",
   "language": "python",
   "name": "python3"
  },
  "language_info": {
   "codemirror_mode": {
    "name": "ipython",
    "version": 3
   },
   "file_extension": ".py",
   "mimetype": "text/x-python",
   "name": "python",
   "nbconvert_exporter": "python",
   "pygments_lexer": "ipython3",
   "version": "3.10.14"
  }
 },
 "nbformat": 4,
 "nbformat_minor": 5
}
