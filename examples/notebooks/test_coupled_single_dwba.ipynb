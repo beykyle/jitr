{
 "cells": [
  {
   "cell_type": "code",
   "execution_count": 1,
   "metadata": {},
   "outputs": [],
   "source": [
    "import numpy as np\n",
    "\n",
    "from jitr import reactions, rmatrix\n",
    "from jitr.utils.kinematics import classical_kinematics"
   ]
  },
  {
   "cell_type": "code",
   "execution_count": 2,
   "metadata": {},
   "outputs": [],
   "source": [
    "def potential_scalar(r, depth, mass):\n",
    "    return -depth * np.exp(-r / mass)"
   ]
  },
  {
   "cell_type": "code",
   "execution_count": 3,
   "metadata": {},
   "outputs": [],
   "source": [
    "def coupling_2level(l):\n",
    "    r\"\"\"\n",
    "    Each partial wave has 2 uncoupled channels\n",
    "    \"\"\"\n",
    "    return np.array([[1, 0], [0, 1]])"
   ]
  },
  {
   "cell_type": "code",
   "execution_count": 4,
   "metadata": {},
   "outputs": [],
   "source": [
    "def potential_2level(r, depth, mass, coupling):\n",
    "    r\"\"\"\n",
    "    if coupling=0, this 2 level interaction acts on each\n",
    "    channel independently\n",
    "    \"\"\"\n",
    "    diag = potential_scalar(r, depth, mass)\n",
    "    off_diag = potential_scalar(r, coupling, mass)\n",
    "    return np.array(\n",
    "        [[diag, off_diag], [off_diag, diag]],\n",
    "    )"
   ]
  },
  {
   "cell_type": "code",
   "execution_count": 5,
   "metadata": {},
   "outputs": [],
   "source": [
    "nbasis = 40\n",
    "solver = rmatrix.Solver(nbasis)"
   ]
  },
  {
   "cell_type": "code",
   "execution_count": 6,
   "metadata": {},
   "outputs": [],
   "source": [
    "nchannels = 2\n",
    "sys_2level = reactions.ProjectileTargetSystem(\n",
    "    channel_radius=5 * np.pi,\n",
    "    lmax=10,\n",
    "    mass_target=44657,\n",
    "    mass_projectile=938.3,\n",
    "    Ztarget=20,\n",
    "    Zproj=1,\n",
    "    coupling=coupling_2level,\n",
    ")"
   ]
  },
  {
   "cell_type": "code",
   "execution_count": 7,
   "metadata": {},
   "outputs": [],
   "source": [
    "l = 0\n",
    "Elab = 42.1\n",
    "Ecm, mu, k, eta = classical_kinematics(\n",
    "    sys_2level.mass_target,\n",
    "    sys_2level.mass_projectile,\n",
    "    Elab,\n",
    "    sys_2level.Zproj * sys_2level.Ztarget,\n",
    ")\n",
    "channels, asymptotics = sys_2level.get_partial_wave_channels(Ecm, mu, k, eta)"
   ]
  },
  {
   "cell_type": "markdown",
   "metadata": {},
   "source": [
    "get coupled channels for partial wave l"
   ]
  },
  {
   "cell_type": "code",
   "execution_count": 8,
   "metadata": {},
   "outputs": [],
   "source": [
    "channels_coupled = channels[l]\n",
    "asymptotics_coupled = asymptotics[l]"
   ]
  },
  {
   "cell_type": "markdown",
   "metadata": {},
   "source": [
    "get un-coupled channels for partial wave l"
   ]
  },
  {
   "cell_type": "code",
   "execution_count": 9,
   "metadata": {},
   "outputs": [],
   "source": [
    "channels_uncoupled = channels[l].decouple()\n",
    "asymptotics_uncoupled = asymptotics[l].decouple()"
   ]
  },
  {
   "cell_type": "markdown",
   "metadata": {},
   "source": [
    "un-coupled scalar subsystems"
   ]
  },
  {
   "cell_type": "code",
   "execution_count": 10,
   "metadata": {},
   "outputs": [],
   "source": [
    "params_2level = (10, 4, 0)\n",
    "params_scalar = (10, 4)"
   ]
  },
  {
   "cell_type": "code",
   "execution_count": 11,
   "metadata": {},
   "outputs": [],
   "source": [
    "b = solver.precompute_boundaries(sys_2level.channel_radius)\n",
    "free = solver.free_matrix(channels_coupled.a, channels_coupled.l, channels_coupled.E)\n",
    "interaction = solver.interaction_matrix(\n",
    "    channels_coupled.k[0],\n",
    "    channels_coupled.E[0],\n",
    "    channels_coupled.a,\n",
    "    channels_coupled.size,\n",
    "    potential_2level,\n",
    "    params_2level,\n",
    ")\n",
    "\n",
    "# test diaginal blocks\n",
    "free_0 = solver.free_matrix(\n",
    "    channels_uncoupled[0].a,\n",
    "    channels_uncoupled[0].l,\n",
    "    channels_uncoupled[0].E,\n",
    ")\n",
    "free_1 = solver.free_matrix(\n",
    "    channels_uncoupled[1].a,\n",
    "    channels_uncoupled[1].l,\n",
    "    channels_uncoupled[1].E,\n",
    ")\n",
    "\n",
    "np.testing.assert_almost_equal(\n",
    "    free_0,\n",
    "    solver.get_channel_block(free, 0, 0),\n",
    ")\n",
    "np.testing.assert_almost_equal(\n",
    "    free_1,\n",
    "    solver.get_channel_block(free, 1, 1),\n",
    ")\n",
    "\n",
    "np.testing.assert_almost_equal(\n",
    "    solver.interaction_matrix(\n",
    "        channels_uncoupled[0].k[0],\n",
    "        channels_uncoupled[0].E[0],\n",
    "        channels_uncoupled[0].a,\n",
    "        channels_uncoupled[0].size,\n",
    "        potential_scalar,\n",
    "        params_scalar,\n",
    "    ),\n",
    "    solver.get_channel_block(\n",
    "        interaction,\n",
    "        0,\n",
    "        0,\n",
    "    ),\n",
    ")\n",
    "np.testing.assert_almost_equal(\n",
    "    solver.interaction_matrix(\n",
    "        channels_uncoupled[1].k[0],\n",
    "        channels_uncoupled[1].E[0],\n",
    "        channels_uncoupled[1].a,\n",
    "        channels_uncoupled[1].size,\n",
    "        potential_scalar,\n",
    "        params_scalar,\n",
    "    ),\n",
    "    solver.get_channel_block(\n",
    "        interaction,\n",
    "        1,\n",
    "        1,\n",
    "    ),\n",
    ")\n",
    "\n",
    "# test off diag blocks\n",
    "for i in range(nchannels):\n",
    "    for j in range(nchannels):\n",
    "        if j != i:\n",
    "            np.testing.assert_almost_equal(solver.get_channel_block(free, i, j), 0)\n",
    "            np.testing.assert_almost_equal(\n",
    "                solver.get_channel_block(interaction, i, j), 0\n",
    "            )\n",
    "\n",
    "# test full matrix\n",
    "A = (\n",
    "    solver.interaction_matrix(\n",
    "        channels_uncoupled[0].k[0],\n",
    "        channels_uncoupled[0].E[0],\n",
    "        channels_uncoupled[0].a,\n",
    "        channels_uncoupled[0].size,\n",
    "        potential_scalar,\n",
    "        params_scalar,\n",
    "    )\n",
    "    + free_0\n",
    ")\n",
    "Am = free + interaction\n",
    "np.testing.assert_almost_equal(Am[:nbasis, :nbasis], A)\n",
    "bm = np.hstack([b, b])\n",
    "x = np.linalg.solve(A, b)\n",
    "xm = np.linalg.solve(Am, bm)\n",
    "np.testing.assert_almost_equal(x, xm[:nbasis])"
   ]
  },
  {
   "cell_type": "code",
   "execution_count": 12,
   "metadata": {},
   "outputs": [],
   "source": [
    "R, S, u = solver.solve(\n",
    "    channels_uncoupled[0],\n",
    "    asymptotics_uncoupled[0],\n",
    "    potential_scalar,\n",
    "    params_scalar,\n",
    "    weights=np.array([1, 1]),\n",
    ")\n",
    "R2, S2, u2 = solver.solve(\n",
    "    channels_uncoupled[1],\n",
    "    asymptotics_uncoupled[1],\n",
    "    potential_scalar,\n",
    "    params_scalar,\n",
    ")\n",
    "\n",
    "# solve the full system\n",
    "Rm, Sm, xm = solver.solve(\n",
    "    channels_coupled,\n",
    "    asymptotics_coupled,\n",
    "    potential_2level,\n",
    "    params_2level,\n",
    ")\n",
    "np.testing.assert_almost_equal(np.linalg.det(Sm.conj().T @ Sm), 1)\n",
    "np.testing.assert_almost_equal(np.linalg.det(S.conj().T @ S), 1)\n",
    "np.testing.assert_almost_equal(Sm[1, 0], 0)\n",
    "np.testing.assert_almost_equal(Sm[0, 1], 0)\n",
    "np.testing.assert_almost_equal(Rm[1, 0], 0)\n",
    "np.testing.assert_almost_equal(Rm[0, 1], 0)\n",
    "np.testing.assert_almost_equal(Sm[1, 1], S2)\n",
    "np.testing.assert_almost_equal(Rm[1, 1], R2)\n",
    "np.testing.assert_almost_equal(Sm[0, 0], S)\n",
    "np.testing.assert_almost_equal(Rm[0, 0], R)"
   ]
  },
  {
   "cell_type": "code",
   "execution_count": 13,
   "metadata": {},
   "outputs": [
    {
     "name": "stdout",
     "output_type": "stream",
     "text": [
      "15.707963267948966\n"
     ]
    }
   ],
   "source": [
    "a = sys_2level.channel_radius\n",
    "print(a)\n",
    "\n",
    "\n",
    "def Z(asymptotics, R):\n",
    "    return (\n",
    "        np.diag(asymptotics.Hp) - R * asymptotics.Hpp[:, np.newaxis] * a,\n",
    "        np.diag(asymptotics.Hm) - R * asymptotics.Hmp[:, np.newaxis] * a,\n",
    "    )"
   ]
  },
  {
   "cell_type": "code",
   "execution_count": 14,
   "metadata": {},
   "outputs": [
    {
     "data": {
      "text/plain": [
       "(array([[0.98845593+0.72791984j, 0.        +0.j        ],\n",
       "        [0.        +0.j        , 0.98845593+0.72791984j]]),\n",
       " array([[0.98845593-0.72791984j, 0.        +0.j        ],\n",
       "        [0.        +0.j        , 0.98845593-0.72791984j]]))"
      ]
     },
     "execution_count": 14,
     "metadata": {},
     "output_type": "execute_result"
    }
   ],
   "source": [
    "Z(asymptotics_coupled, Rm)"
   ]
  },
  {
   "cell_type": "code",
   "execution_count": 15,
   "metadata": {},
   "outputs": [
    {
     "data": {
      "text/plain": [
       "(array([[0.98845593+0.72791984j]]), array([[0.98845593-0.72791984j]]))"
      ]
     },
     "execution_count": 15,
     "metadata": {},
     "output_type": "execute_result"
    }
   ],
   "source": [
    "Z(asymptotics_uncoupled[0], R)"
   ]
  },
  {
   "cell_type": "code",
   "execution_count": 16,
   "metadata": {},
   "outputs": [
    {
     "data": {
      "text/plain": [
       "(array([[0.98845593+0.72791984j]]), array([[0.98845593-0.72791984j]]))"
      ]
     },
     "execution_count": 16,
     "metadata": {},
     "output_type": "execute_result"
    }
   ],
   "source": [
    "Z(asymptotics_uncoupled[1], R2)"
   ]
  },
  {
   "cell_type": "code",
   "execution_count": 17,
   "metadata": {},
   "outputs": [
    {
     "data": {
      "text/plain": [
       "array([[0.04448574+0.j, 0.        +0.j],\n",
       "       [0.        +0.j, 0.04448574+0.j]])"
      ]
     },
     "execution_count": 17,
     "metadata": {},
     "output_type": "execute_result"
    }
   ],
   "source": [
    "Rm"
   ]
  },
  {
   "cell_type": "code",
   "execution_count": 18,
   "metadata": {},
   "outputs": [
    {
     "data": {
      "text/plain": [
       "array([[0.04448574+0.j]])"
      ]
     },
     "execution_count": 18,
     "metadata": {},
     "output_type": "execute_result"
    }
   ],
   "source": [
    "R"
   ]
  },
  {
   "cell_type": "code",
   "execution_count": 19,
   "metadata": {},
   "outputs": [
    {
     "data": {
      "text/plain": [
       "array([[0.04448574+0.j]])"
      ]
     },
     "execution_count": 19,
     "metadata": {},
     "output_type": "execute_result"
    }
   ],
   "source": [
    "R2"
   ]
  },
  {
   "cell_type": "code",
   "execution_count": 20,
   "metadata": {},
   "outputs": [
    {
     "data": {
      "text/plain": [
       "array([-0.92771393+0.32849075j, -0.92771393+0.32849075j])"
      ]
     },
     "execution_count": 20,
     "metadata": {},
     "output_type": "execute_result"
    }
   ],
   "source": [
    "asymptotics_coupled.Hpp"
   ]
  },
  {
   "cell_type": "code",
   "execution_count": 21,
   "metadata": {},
   "outputs": [
    {
     "data": {
      "text/plain": [
       "array([0.34018764+0.95746273j])"
      ]
     },
     "execution_count": 21,
     "metadata": {},
     "output_type": "execute_result"
    }
   ],
   "source": [
    "asymptotics_uncoupled[0].Hp"
   ]
  },
  {
   "cell_type": "code",
   "execution_count": 22,
   "metadata": {},
   "outputs": [
    {
     "data": {
      "text/plain": [
       "array([[-0.04127004+0.01461315j]])"
      ]
     },
     "execution_count": 22,
     "metadata": {},
     "output_type": "execute_result"
    }
   ],
   "source": [
    "R * (asymptotics_uncoupled[0].Hpp)[:, np.newaxis]"
   ]
  },
  {
   "cell_type": "code",
   "execution_count": 23,
   "metadata": {},
   "outputs": [
    {
     "data": {
      "text/plain": [
       "array([[0.98845593+0.72791984j]])"
      ]
     },
     "execution_count": 23,
     "metadata": {},
     "output_type": "execute_result"
    }
   ],
   "source": [
    "(\n",
    "    np.diag(asymptotics_uncoupled[0].Hp)\n",
    "    - R * (asymptotics_uncoupled[0].Hpp)[:, np.newaxis] * a\n",
    ")"
   ]
  },
  {
   "cell_type": "code",
   "execution_count": 24,
   "metadata": {},
   "outputs": [
    {
     "data": {
      "text/plain": [
       "array([[0.34018764+0.95746273j]])"
      ]
     },
     "execution_count": 24,
     "metadata": {},
     "output_type": "execute_result"
    }
   ],
   "source": [
    "np.diag(asymptotics_uncoupled[0].Hp)"
   ]
  },
  {
   "cell_type": "code",
   "execution_count": 25,
   "metadata": {},
   "outputs": [
    {
     "data": {
      "text/plain": [
       "array([[0.34018764+0.95746273j, 0.        +0.j        ],\n",
       "       [0.        +0.j        , 0.34018764+0.95746273j]])"
      ]
     },
     "execution_count": 25,
     "metadata": {},
     "output_type": "execute_result"
    }
   ],
   "source": [
    "np.diag(asymptotics_coupled.Hp)"
   ]
  },
  {
   "cell_type": "code",
   "execution_count": null,
   "metadata": {},
   "outputs": [],
   "source": []
  },
  {
   "cell_type": "code",
   "execution_count": null,
   "metadata": {},
   "outputs": [],
   "source": []
  },
  {
   "cell_type": "code",
   "execution_count": null,
   "metadata": {},
   "outputs": [],
   "source": []
  },
  {
   "cell_type": "code",
   "execution_count": null,
   "metadata": {},
   "outputs": [],
   "source": []
  },
  {
   "cell_type": "code",
   "execution_count": null,
   "metadata": {},
   "outputs": [],
   "source": []
  }
 ],
 "metadata": {
  "kernelspec": {
   "display_name": "Python 3 (ipykernel)",
   "language": "python",
   "name": "python3"
  },
  "language_info": {
   "codemirror_mode": {
    "name": "ipython",
    "version": 3
   },
   "file_extension": ".py",
   "mimetype": "text/x-python",
   "name": "python",
   "nbconvert_exporter": "python",
   "pygments_lexer": "ipython3",
   "version": "3.11.9"
  }
 },
 "nbformat": 4,
 "nbformat_minor": 4
}
