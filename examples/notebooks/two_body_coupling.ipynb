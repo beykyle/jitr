{
 "cells": [
  {
   "cell_type": "code",
   "execution_count": 17,
   "id": "c2a131e2-0e44-4d83-bcc4-c5f49fea18b7",
   "metadata": {},
   "outputs": [],
   "source": [
    "from sympy.physics.quantum.cg import CG\n",
    "from fractions import Fraction\n",
    "import numpy as np"
   ]
  },
  {
   "cell_type": "code",
   "execution_count": 16,
   "id": "93095046-587a-495b-b45d-dd599c18aef3",
   "metadata": {},
   "outputs": [
    {
     "data": {
      "text/latex": [
       "$\\displaystyle \\frac{\\sqrt{3} i}{6}$"
      ],
      "text/plain": [
       "sqrt(3)*I/6"
      ]
     },
     "execution_count": 16,
     "metadata": {},
     "output_type": "execute_result"
    }
   ],
   "source": [
    "Jtot = 2\n",
    "Mtot = 0\n",
    "CG(Fraction(3,2),-1,1,1,Jtot, Mtot).doit()"
   ]
  },
  {
   "cell_type": "code",
   "execution_count": 20,
   "id": "17c4b734-0a64-427f-a0b2-cc5741d4561c",
   "metadata": {},
   "outputs": [],
   "source": [
    "I = np.array( [0, 1/2, 1, 5/2], dtype=Fraction)\n",
    "E = np.array([0, 3.1, 5, 10], dtype=float )\n",
    "s=Fraction(1,2)"
   ]
  },
  {
   "cell_type": "code",
   "execution_count": 26,
   "id": "8c5eff15-acb6-481d-a364-93378c319ea8",
   "metadata": {},
   "outputs": [
    {
     "ename": "ValueError",
     "evalue": "Coefficients must be numerical",
     "output_type": "error",
     "traceback": [
      "\u001b[0;31m---------------------------------------------------------------------------\u001b[0m",
      "\u001b[0;31mValueError\u001b[0m                                Traceback (most recent call last)",
      "Cell \u001b[0;32mIn[26], line 1\u001b[0m\n\u001b[0;32m----> 1\u001b[0m \u001b[43mCG\u001b[49m\u001b[43m(\u001b[49m\u001b[43mFraction\u001b[49m\u001b[43m(\u001b[49m\u001b[38;5;241;43m3\u001b[39;49m\u001b[43m,\u001b[49m\u001b[38;5;241;43m2\u001b[39;49m\u001b[43m)\u001b[49m\u001b[43m,\u001b[49m\u001b[38;5;241;43m-\u001b[39;49m\u001b[38;5;241;43m1\u001b[39;49m\u001b[43m,\u001b[49m\u001b[43mI\u001b[49m\u001b[43m,\u001b[49m\u001b[38;5;241;43m1\u001b[39;49m\u001b[43m,\u001b[49m\u001b[43mJtot\u001b[49m\u001b[43m,\u001b[49m\u001b[43m \u001b[49m\u001b[43mMtot\u001b[49m\u001b[43m)\u001b[49m\u001b[38;5;241;43m.\u001b[39;49m\u001b[43mdoit\u001b[49m\u001b[43m(\u001b[49m\u001b[43m)\u001b[49m\n",
      "File \u001b[0;32m~/mambaforge/envs/sage/lib/python3.11/site-packages/sympy/physics/quantum/cg.py:220\u001b[0m, in \u001b[0;36mCG.doit\u001b[0;34m(self, **hints)\u001b[0m\n\u001b[1;32m    218\u001b[0m \u001b[38;5;28;01mdef\u001b[39;00m \u001b[38;5;21mdoit\u001b[39m(\u001b[38;5;28mself\u001b[39m, \u001b[38;5;241m*\u001b[39m\u001b[38;5;241m*\u001b[39mhints):\n\u001b[1;32m    219\u001b[0m     \u001b[38;5;28;01mif\u001b[39;00m \u001b[38;5;28mself\u001b[39m\u001b[38;5;241m.\u001b[39mis_symbolic:\n\u001b[0;32m--> 220\u001b[0m         \u001b[38;5;28;01mraise\u001b[39;00m \u001b[38;5;167;01mValueError\u001b[39;00m(\u001b[38;5;124m\"\u001b[39m\u001b[38;5;124mCoefficients must be numerical\u001b[39m\u001b[38;5;124m\"\u001b[39m)\n\u001b[1;32m    221\u001b[0m     \u001b[38;5;28;01mreturn\u001b[39;00m clebsch_gordan(\u001b[38;5;28mself\u001b[39m\u001b[38;5;241m.\u001b[39mj1, \u001b[38;5;28mself\u001b[39m\u001b[38;5;241m.\u001b[39mj2, \u001b[38;5;28mself\u001b[39m\u001b[38;5;241m.\u001b[39mj3, \u001b[38;5;28mself\u001b[39m\u001b[38;5;241m.\u001b[39mm1, \u001b[38;5;28mself\u001b[39m\u001b[38;5;241m.\u001b[39mm2, \u001b[38;5;28mself\u001b[39m\u001b[38;5;241m.\u001b[39mm3)\n",
      "\u001b[0;31mValueError\u001b[0m: Coefficients must be numerical"
     ]
    }
   ],
   "source": [
    "CG(Fraction(3,2),-1,I[2],1,Jtot, Mtot).doit()"
   ]
  },
  {
   "cell_type": "code",
   "execution_count": null,
   "id": "a170082f-a6b7-496c-8932-6e109553d60f",
   "metadata": {},
   "outputs": [],
   "source": []
  }
 ],
 "metadata": {
  "kernelspec": {
   "display_name": "Python 3 (ipykernel)",
   "language": "python",
   "name": "python3"
  },
  "language_info": {
   "codemirror_mode": {
    "name": "ipython",
    "version": 3
   },
   "file_extension": ".py",
   "mimetype": "text/x-python",
   "name": "python",
   "nbconvert_exporter": "python",
   "pygments_lexer": "ipython3",
   "version": "3.11.9"
  }
 },
 "nbformat": 4,
 "nbformat_minor": 5
}
