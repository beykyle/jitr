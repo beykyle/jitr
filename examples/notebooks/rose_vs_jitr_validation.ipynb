{
 "cells": [
  {
   "cell_type": "markdown",
   "id": "93a49da0",
   "metadata": {},
   "source": [
    "# comparison between `ROSE` and `jitr`\n",
    "\n",
    "We will use the high-fidelity solver in the [`ROSE` package](https://github.com/bandframework/rose). It is avilable on [pypi](https://pypi.org/project/nuclear-rose/) "
   ]
  },
  {
   "cell_type": "code",
   "execution_count": 1,
   "id": "71308bbd-1bee-43df-b785-1809556346df",
   "metadata": {},
   "outputs": [],
   "source": [
    "#!pip install nuclear-rose\n",
    "import rose"
   ]
  },
  {
   "cell_type": "code",
   "execution_count": 2,
   "id": "9fbc70e4-6ac7-4a99-8a84-3197e65a8666",
   "metadata": {
    "scrolled": true
   },
   "outputs": [],
   "source": [
    "from pathlib import Path\n",
    "\n",
    "import corner\n",
    "\n",
    "# import stuff for nice plotting\n",
    "import matplotlib.pyplot as plt\n",
    "import numpy as np\n",
    "from matplotlib.lines import Line2D\n",
    "from numba import njit\n",
    "from scipy import stats\n",
    "from tqdm import tqdm\n",
    "\n",
    "import jitr"
   ]
  },
  {
   "cell_type": "markdown",
   "id": "2710b910",
   "metadata": {},
   "source": [
    "We will use [exfor-tools](https://github.com/beykyle/exfor_tools) using an [x4i3](https://github.com/afedynitch/x4i3/) backend for grabbing data from [EXFOR](https://www-nds.iaea.org/exfor/) (requires 1GB of disk space to download)."
   ]
  },
  {
   "cell_type": "markdown",
   "id": "af45224f",
   "metadata": {},
   "source": [
    "### Let's find some data to compare to\n",
    "Let's grab some data from [EXFOR](https://www-nds.iaea.org/exfor/). We will look at $d\\sigma_{el}/d\\Omega$ for $(n,n)$ and $(p,p)$."
   ]
  },
  {
   "cell_type": "code",
   "execution_count": 3,
   "id": "943628b1",
   "metadata": {},
   "outputs": [],
   "source": [
    "# target to consider\n",
    "Pb208 = (208, 82)\n",
    "proton = (1, 1)\n",
    "neutron = (1, 0)\n",
    "\n",
    "# for plotting differential xs\n",
    "angles = np.linspace(0.1, np.pi, 100)"
   ]
  },
  {
   "cell_type": "code",
   "execution_count": 4,
   "id": "2aff4c9e-da30-492c-a9c9-52f1855b962b",
   "metadata": {},
   "outputs": [],
   "source": [
    "sys = jitr.reactions.ProjectileTargetSystem(\n",
    "    channel_radius=10 * np.pi,\n",
    "    lmax=15,\n",
    "    mass_target=jitr.utils.kinematics.mass(*Pb208),\n",
    "    mass_projectile=jitr.utils.kinematics.mass(*neutron),\n",
    "    Ztarget=Pb208[1],\n",
    "    Zproj=0,\n",
    "    coupling=jitr.reactions.system.spin_half_orbit_coupling,\n",
    ")"
   ]
  },
  {
   "cell_type": "code",
   "execution_count": 5,
   "id": "4b5fa225-3600-4af1-b17c-d83e9be74216",
   "metadata": {},
   "outputs": [],
   "source": [
    "Ecm = 12\n",
    "mu, Elab, k, eta = jitr.utils.kinematics.classical_kinematics_cm(\n",
    "    sys.mass_target, sys.mass_projectile, Ecm, sys.Zproj * sys.Ztarget\n",
    ")"
   ]
  },
  {
   "cell_type": "code",
   "execution_count": 6,
   "id": "339052f8-2247-41d2-9a6b-814c8879b79e",
   "metadata": {},
   "outputs": [],
   "source": [
    "ws = jitr.xs.ElasticXSWorkspace(\n",
    "    projectile=neutron,\n",
    "    target=Pb208,\n",
    "    sys=sys,\n",
    "    Ecm=Ecm,\n",
    "    k=k,\n",
    "    mu=mu,\n",
    "    eta=eta,\n",
    "    local_interaction_scalar=jitr.reactions.KD_scalar,\n",
    "    local_interaction_spin_orbit=jitr.reactions.KD_spin_orbit,\n",
    "    solver=jitr.rmatrix.Solver(50),\n",
    "    angles=angles,\n",
    ")"
   ]
  },
  {
   "cell_type": "code",
   "execution_count": 7,
   "id": "51466bed-fe39-419d-bca2-48fac84762f3",
   "metadata": {},
   "outputs": [],
   "source": [
    "kduq = rose.InteractionSpace(\n",
    "    coordinate_space_potential=rose.koning_delaroche.KD_simple,\n",
    "    n_theta=rose.koning_delaroche.NUM_PARAMS,\n",
    "    is_complex=True,\n",
    "    spin_orbit_term=rose.koning_delaroche.KD_simple_so,\n",
    "    energy=Ecm,\n",
    "    mu=mu,\n",
    "    k=k,\n",
    "    l_max=15,\n",
    ")\n",
    "kduq_rose_solver = rose.ScatteringAmplitudeEmulator.HIFI_solver(\n",
    "    interaction_space=kduq,\n",
    "    angles=angles,\n",
    ")"
   ]
  },
  {
   "cell_type": "code",
   "execution_count": 8,
   "id": "ca674e98",
   "metadata": {},
   "outputs": [],
   "source": [
    "# we have 416 samples from the KDUQ posterior\n",
    "num_samples_kduq = 415\n",
    "param_files = [\n",
    "    Path(f\"./../../src/data/KDUQFederal/{i}/parameters.json\")\n",
    "    for i in range(0, num_samples_kduq)\n",
    "]\n",
    "\n",
    "# load each one\n",
    "rose_omps = [\n",
    "    rose.koning_delaroche.KDGlobal(rose.Projectile.neutron, Path(param_file))\n",
    "    for param_file in param_files\n",
    "]\n",
    "# load each one\n",
    "jitr_omps = [\n",
    "    jitr.reactions.kduq.KDGlobal((1, 0), Path(param_file)) for param_file in param_files\n",
    "]"
   ]
  },
  {
   "cell_type": "code",
   "execution_count": 9,
   "id": "7ff846f9-bcfa-47b7-a7af-63c59b197e0a",
   "metadata": {},
   "outputs": [],
   "source": [
    "coulomb_params, scalar_params, spin_orbit_params = jitr_omps[7].get_params(*Pb208, mu, Elab, k)"
   ]
  },
  {
   "cell_type": "code",
   "execution_count": 10,
   "id": "8854bf2b-0864-455c-a1d3-e91384456067",
   "metadata": {},
   "outputs": [],
   "source": [
    "R_c, params = rose_omps[7].get_params(*Pb208, mu, Elab, k)"
   ]
  },
  {
   "cell_type": "code",
   "execution_count": 11,
   "id": "61d7ca67-ccd5-4cfc-bcaa-a98e2ad905bf",
   "metadata": {},
   "outputs": [
    {
     "data": {
      "text/plain": [
       "array([0., 0., 0., 0., 0., 0.])"
      ]
     },
     "execution_count": 11,
     "metadata": {},
     "output_type": "execute_result"
    }
   ],
   "source": [
    "params[-len(spin_orbit_params):] - spin_orbit_params"
   ]
  },
  {
   "cell_type": "code",
   "execution_count": 12,
   "id": "32c4769e-5c99-4c52-935c-30f832892b50",
   "metadata": {},
   "outputs": [
    {
     "data": {
      "text/plain": [
       "array([0., 0., 0., 0., 0., 0., 0., 0., 0.])"
      ]
     },
     "execution_count": 12,
     "metadata": {},
     "output_type": "execute_result"
    }
   ],
   "source": [
    "params[:len(scalar_params)] - scalar_params"
   ]
  },
  {
   "cell_type": "code",
   "execution_count": 13,
   "id": "11a3f4b4-8190-4250-a37f-1e50cd4d14d3",
   "metadata": {},
   "outputs": [
    {
     "data": {
      "text/plain": [
       "0"
      ]
     },
     "execution_count": 13,
     "metadata": {},
     "output_type": "execute_result"
    }
   ],
   "source": [
    "R_c - coulomb_params[1]"
   ]
  },
  {
   "cell_type": "code",
   "execution_count": 14,
   "id": "2b60881d-0e9a-421c-81e0-55864b1b7409",
   "metadata": {},
   "outputs": [],
   "source": [
    "spr, smr = kduq_rose_solver.exact_smatrix_elements(params)"
   ]
  },
  {
   "cell_type": "code",
   "execution_count": 15,
   "id": "00e9c67f-fada-445a-b214-5f43a71d904c",
   "metadata": {},
   "outputs": [],
   "source": [
    "spj, smj = ws.smatrix(   \n",
    "    args_scalar=scalar_params,\n",
    "    args_spin_orbit=spin_orbit_params\n",
    ")"
   ]
  },
  {
   "cell_type": "code",
   "execution_count": 16,
   "id": "1948de39-04d7-4661-9369-0557b0455a7c",
   "metadata": {},
   "outputs": [
    {
     "data": {
      "text/plain": [
       "array([-4.14080095e-04-1.41287480e-04j, -4.93260053e-04+1.21734312e-03j,\n",
       "       -3.01249355e-04-1.90867302e-03j,  1.48697239e-03+1.02127355e-03j,\n",
       "       -7.03756327e-04+9.28310304e-04j, -9.70137022e-04+6.65735944e-04j,\n",
       "       -1.12270364e-03-2.19517630e-04j, -3.63337718e-04-1.34520852e-04j,\n",
       "       -1.71585267e-06+2.44330907e-05j, -1.02721006e-06+7.36780376e-07j,\n",
       "       -6.53894942e-08+5.70901704e-08j, -2.22735930e-09+1.46309027e-08j,\n",
       "       -2.53210786e-11+9.64336640e-09j,  2.05979678e-12+2.26827650e-09j,\n",
       "        2.20823360e-13+3.70179454e-09j])"
      ]
     },
     "execution_count": 16,
     "metadata": {},
     "output_type": "execute_result"
    }
   ],
   "source": [
    "smr- smj"
   ]
  },
  {
   "cell_type": "code",
   "execution_count": 17,
   "id": "39f6c8a4-52d8-4284-a43c-d0760265a63f",
   "metadata": {},
   "outputs": [
    {
     "data": {
      "text/plain": [
       "array([-4.14080095e-04-1.41287480e-04j,  1.13315184e-03-2.27479680e-04j,\n",
       "       -1.30128671e-03+9.71931937e-04j,  5.69529162e-04-9.92334772e-04j,\n",
       "       -4.26338669e-04-2.99288798e-04j,  2.27661873e-03-2.62388369e-04j,\n",
       "        5.71175877e-04+1.71185683e-03j,  3.16205361e-04-8.22301764e-05j,\n",
       "        2.88522691e-04+1.29959074e-04j, -1.15358891e-05-1.27590187e-05j,\n",
       "       -5.39327323e-08-4.15380830e-08j,  6.01526373e-09+3.32076923e-08j,\n",
       "        3.11316861e-10+1.54303406e-08j,  1.02066133e-11+9.46187445e-09j,\n",
       "        4.20441459e-13+5.25322795e-09j])"
      ]
     },
     "execution_count": 17,
     "metadata": {},
     "output_type": "execute_result"
    }
   ],
   "source": [
    "spr - spj"
   ]
  },
  {
   "cell_type": "code",
   "execution_count": null,
   "id": "3634f788-24f7-4260-b3e1-faa3bc39d655",
   "metadata": {},
   "outputs": [],
   "source": []
  },
  {
   "cell_type": "code",
   "execution_count": 26,
   "id": "9638da7f-c48b-473d-b2ef-9da79fc1c440",
   "metadata": {},
   "outputs": [],
   "source": [
    "xs_jitr = ws.xs(\n",
    "    args_scalar=scalar_params,\n",
    "    args_spin_orbit=spin_orbit_params\n",
    ")"
   ]
  },
  {
   "cell_type": "code",
   "execution_count": 27,
   "id": "df7576f2-a5b1-4034-94bd-cd87bb648659",
   "metadata": {},
   "outputs": [],
   "source": [
    "xs_rose = kduq_rose_solver.exact_xs(params)"
   ]
  },
  {
   "cell_type": "code",
   "execution_count": 53,
   "id": "209b9055-98d4-4460-8f49-0c2578e4d5fc",
   "metadata": {},
   "outputs": [],
   "source": [
    "np.testing.assert_allclose( xs_rose.dsdo, xs_jitr.dsdo, rtol=2e-2) \n",
    "np.testing.assert_allclose( xs_rose.Ay, xs_jitr.Ay, atol=0.03) \n",
    "\n",
    "np.testing.assert_allclose( xs_rose.t, xs_jitr.t , rtol=1e-3 )\n",
    "np.testing.assert_allclose(xs_rose.rxn, xs_jitr.rxn , rtol=1e-3)"
   ]
  },
  {
   "cell_type": "code",
   "execution_count": 41,
   "id": "2856719b-41b6-4a83-9957-db7f9bdcf123",
   "metadata": {},
   "outputs": [
    {
     "data": {
      "text/plain": [
       "<matplotlib.legend.Legend at 0x7f72a2ba9b10>"
      ]
     },
     "execution_count": 41,
     "metadata": {},
     "output_type": "execute_result"
    },
    {
     "data": {
      "image/png": "[encoded data removed]",
      "text/plain": [
       "<Figure size 640x480 with 1 Axes>"
      ]
     },
     "metadata": {},
     "output_type": "display_data"
    }
   ],
   "source": [
    "plt.plot(angles, dsdo_rose.dsdo, alpha=0.7, label=\"ROSE\")\n",
    "plt.plot(angles, dsdo_jitr.dsdo, \"--\", label=\"JITR\")\n",
    "\n",
    "plt.yscale(\"log\")\n",
    "plt.xlabel(r\"$\\theta$ [deg]\")\n",
    "plt.ylabel(r\"$\\frac{d\\sigma}{s\\Omega}$ [mb/Sr]\")\n",
    "plt.legend()"
   ]
  },
  {
   "cell_type": "code",
   "execution_count": 49,
   "id": "861c350e-481a-419a-a8fb-eaa5860b7f07",
   "metadata": {},
   "outputs": [
    {
     "data": {
      "text/plain": [
       "<matplotlib.legend.Legend at 0x7f72a2021590>"
      ]
     },
     "execution_count": 49,
     "metadata": {},
     "output_type": "execute_result"
    },
    {
     "data": {
      "image/png": "[encoded data removed]",
      "text/plain": [
       "<Figure size 640x480 with 1 Axes>"
      ]
     },
     "metadata": {},
     "output_type": "display_data"
    }
   ],
   "source": [
    "plt.plot(angles, dsdo_rose.Ay, alpha=0.7, label=\"ROSE\")\n",
    "plt.plot(angles, dsdo_jitr.Ay, \"--\", label=\"JITR\")\n",
    "\n",
    "#plt.yscale(\"log\")\n",
    "plt.xlabel(r\"$\\theta$ [deg]\")\n",
    "plt.ylabel(r\"$A_y$\")\n",
    "plt.legend()"
   ]
  },
  {
   "cell_type": "code",
   "execution_count": null,
   "id": "ec6a7b22-bb76-4adb-adb4-e2ec3de7d3bc",
   "metadata": {},
   "outputs": [],
   "source": []
  }
 ],
 "metadata": {
  "kernelspec": {
   "display_name": "Python 3 (ipykernel)",
   "language": "python",
   "name": "python3"
  },
  "language_info": {
   "codemirror_mode": {
    "name": "ipython",
    "version": 3
   },
   "file_extension": ".py",
   "mimetype": "text/x-python",
   "name": "python",
   "nbconvert_exporter": "python",
   "pygments_lexer": "ipython3",
   "version": "3.11.9"
  }
 },
 "nbformat": 4,
 "nbformat_minor": 5
}
