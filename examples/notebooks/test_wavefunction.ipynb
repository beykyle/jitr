{
 "cells": [
  {
   "cell_type": "code",
   "execution_count": 1,
   "metadata": {},
   "outputs": [],
   "source": [
    "import numpy as np\n",
    "from matplotlib import pyplot as plt\n",
    "from numba import njit\n",
    "from scipy.integrate import solve_ivp"
   ]
  },
  {
   "cell_type": "code",
   "execution_count": 2,
   "metadata": {},
   "outputs": [],
   "source": [
    "from jitr import rmatrix\n",
    "from jitr.reactions import (\n",
    "    ProjectileTargetSystem,\n",
    "    make_channel_data,\n",
    "    potentials,\n",
    "    wavefunction,\n",
    ")\n",
    "from jitr.utils import kinematics, schrodinger_eqn_ivp_order1, smatrix"
   ]
  },
  {
   "cell_type": "code",
   "execution_count": 3,
   "metadata": {},
   "outputs": [],
   "source": [
    "def interaction(r, *params):\n",
    "    (V0, W0, R0, a0, zz, RC) = params\n",
    "    coulomb = potentials.coulomb_charged_sphere(r, zz, RC)\n",
    "    nuclear = -potentials.woods_saxon_potential(r, V0, W0, R0, a0)\n",
    "    return coulomb + nuclear"
   ]
  },
  {
   "cell_type": "code",
   "execution_count": 4,
   "metadata": {},
   "outputs": [],
   "source": [
    "Elab = 14.1\n",
    "nodes_within_radius = 5\n",
    "\n",
    "# target (A,Z)\n",
    "Ca48 = (28, 20)\n",
    "mass_Ca48 = 44657.26581995028  # MeV/c^2\n",
    "\n",
    "# projectile (A,z)\n",
    "proton = (1, 1)\n",
    "mass_proton = 938.271653086152  # MeV/c^2\n",
    "\n",
    "# p-wave (l=1)\n",
    "sys = ProjectileTargetSystem(\n",
    "    channel_radius=nodes_within_radius * (2 * np.pi),\n",
    "    lmax=10,\n",
    "    mass_target=mass_Ca48,\n",
    "    mass_projectile=mass_proton,\n",
    "    Ztarget=Ca48[1],\n",
    "    Zproj=proton[1],\n",
    ")\n",
    "\n",
    "# Woods-Saxon potential parameters\n",
    "V0 = 70  # real potential strength\n",
    "W0 = 40  # imag potential strength\n",
    "R0 = 6  # Woods-Saxon potential radius\n",
    "a0 = 1.2  # Woods-Saxon potential diffuseness\n",
    "params = (V0, W0, R0, a0, sys.Zproj * sys.Ztarget, R0)\n",
    "Ecm, mu, k, eta = kinematics.classical_kinematics(\n",
    "    sys.mass_target, sys.mass_projectile, Elab, sys.Zproj * sys.Ztarget\n",
    ")\n",
    "channels, asymptotics = sys.get_partial_wave_channels(Ecm, mu, k, eta)\n",
    "s_values = np.linspace(0.01, sys.channel_radius, 200)"
   ]
  },
  {
   "cell_type": "code",
   "execution_count": 5,
   "metadata": {},
   "outputs": [],
   "source": [
    "# Lagrange-Mesh\n",
    "l = 0\n",
    "solver_lm = rmatrix.Solver(100)\n",
    "R_lm, S_lm, x, uext_prime_boundary = solver_lm.solve(\n",
    "    channels[l],\n",
    "    asymptotics[l],\n",
    "    wavefunction=True,\n",
    "    local_interaction=interaction,\n",
    "    local_args=params,\n",
    ")\n",
    "u_lm = wavefunction.Wavefunctions(\n",
    "    solver_lm,\n",
    "    x,\n",
    "    S_lm,\n",
    "    uext_prime_boundary,\n",
    "    channels=channels[l],\n",
    ").uint()[0]\n",
    "u_lm = u_lm(s_values)"
   ]
  },
  {
   "cell_type": "code",
   "execution_count": 6,
   "metadata": {},
   "outputs": [],
   "source": [
    "# Runge-Kutta\n",
    "rk_solver_channel_data = make_channel_data(channels[l])[0]\n",
    "domain, init_con = rk_solver_channel_data.initial_conditions()\n",
    "sol_rk = solve_ivp(\n",
    "    lambda s, y: schrodinger_eqn_ivp_order1(\n",
    "        s, y, rk_solver_channel_data, interaction, params\n",
    "    ),\n",
    "    domain,\n",
    "    init_con,\n",
    "    dense_output=True,\n",
    "    atol=1.0e-12,\n",
    "    rtol=1.0e-12,\n",
    ").sol"
   ]
  },
  {
   "cell_type": "code",
   "execution_count": 7,
   "metadata": {},
   "outputs": [],
   "source": [
    "a = domain[1]\n",
    "u_rk = sol_rk(s_values)[0]\n",
    "R_rk = sol_rk(a)[0] / (a * sol_rk(a)[1])\n",
    "S_rk = smatrix(R_rk, a, rk_solver_channel_data.l, rk_solver_channel_data.eta)\n",
    "np.testing.assert_almost_equal(R_rk, R_lm[0, 0], decimal=5)\n",
    "np.testing.assert_almost_equal(S_rk, S_lm[0, 0], decimal=5)\n",
    "ratio = u_lm[40] / u_rk[40]\n",
    "u_rk *= ratio\n",
    "np.testing.assert_allclose(np.absolute(u_rk - u_lm) / (np.absolute(u_rk)), 0, atol=1e-3)"
   ]
  },
  {
   "cell_type": "code",
   "execution_count": null,
   "metadata": {},
   "outputs": [],
   "source": []
  },
  {
   "cell_type": "code",
   "execution_count": null,
   "metadata": {},
   "outputs": [],
   "source": []
  }
 ],
 "metadata": {
  "kernelspec": {
   "display_name": "Python 3 (ipykernel)",
   "language": "python",
   "name": "python3"
  },
  "language_info": {
   "codemirror_mode": {
    "name": "ipython",
    "version": 3
   },
   "file_extension": ".py",
   "mimetype": "text/x-python",
   "name": "python",
   "nbconvert_exporter": "python",
   "pygments_lexer": "ipython3",
   "version": "3.11.9"
  }
 },
 "nbformat": 4,
 "nbformat_minor": 4
}
