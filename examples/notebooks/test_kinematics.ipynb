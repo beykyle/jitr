{
 "cells": [
  {
   "cell_type": "code",
   "execution_count": 1,
   "id": "449d72c2-4050-428d-b893-58aa3924b51f",
   "metadata": {},
   "outputs": [],
   "source": [
    "from jitr.utils import kinematics, massmass.__"
   ]
  },
  {
   "cell_type": "code",
   "execution_count": 2,
   "id": "36117096-083a-4b6c-b024-f4bad6decf16",
   "metadata": {},
   "outputs": [
    {
     "data": {
      "text/plain": [
       "(7.4916340861527715, nan)"
      ]
     },
     "execution_count": 2,
     "metadata": {},
     "output_type": "execute_result"
    }
   ],
   "source": [
    "mass.proton_separation_energy(208, 82)"
   ]
  },
  {
   "cell_type": "code",
   "execution_count": 4,
   "id": "a699de97-c3f9-45d9-8a0b-7b258c2963a8",
   "metadata": {},
   "outputs": [
    {
     "data": {
      "text/plain": [
       "(7.367947393824579, nan)"
      ]
     },
     "execution_count": 4,
     "metadata": {},
     "output_type": "execute_result"
    }
   ],
   "source": [
    "mass.neutron_separation_energy(208, 82)"
   ]
  },
  {
   "cell_type": "code",
   "execution_count": 5,
   "id": "529bf34d-0da6-4fea-9768-ff14106b3d5d",
   "metadata": {},
   "outputs": [
    {
     "data": {
      "text/plain": [
       "(-7.549065393828641, nan)"
      ]
     },
     "execution_count": 5,
     "metadata": {},
     "output_type": "execute_result"
    }
   ],
   "source": [
    "mass.neutron_fermi_energy(48, 20)"
   ]
  },
  {
   "cell_type": "code",
   "execution_count": 6,
   "id": "e46ee7e0-7794-4dbe-8ee2-e670be04665c",
   "metadata": {},
   "outputs": [
    {
     "data": {
      "text/plain": [
       "(-5.389627586162533, nan)"
      ]
     },
     "execution_count": 6,
     "metadata": {},
     "output_type": "execute_result"
    }
   ],
   "source": [
    "mass.proton_fermi_energy(208, 82)"
   ]
  },
  {
   "cell_type": "code",
   "execution_count": 9,
   "id": "c27c5ce3-e8df-4972-a618-8f18df69bd83",
   "metadata": {},
   "outputs": [],
   "source": [
    "from jitr.utils.constants import ALPHA, AMU, HBARC, C, MASS_P"
   ]
  },
  {
   "cell_type": "code",
   "execution_count": 10,
   "id": "cfb3ef61-86e1-4cf1-bbe3-e4b89f0a3e23",
   "metadata": {},
   "outputs": [
    {
     "data": {
      "text/plain": [
       "1.7279574566913927"
      ]
     },
     "execution_count": 10,
     "metadata": {},
     "output_type": "execute_result"
    }
   ],
   "source": [
    "6 * ALPHA * HBARC / 5"
   ]
  },
  {
   "cell_type": "code",
   "execution_count": 13,
   "id": "489102af-db37-4bcd-a4ee-8c8b9c8418ff",
   "metadata": {},
   "outputs": [],
   "source": [
    "Elab = 300\n",
    "m0t = mass.mass(48, 20)[0]"
   ]
  },
  {
   "cell_type": "code",
   "execution_count": 19,
   "id": "b1c23ac4-e837-4f5b-bb4f-f25200f34162",
   "metadata": {},
   "outputs": [
    {
     "data": {
      "text/plain": [
       "ChannelKinematics(Ecm=293.827940303901, mu=1194.7871836177353, k=3.985193922809578, eta=0.2217430163906599)"
      ]
     },
     "execution_count": 19,
     "metadata": {},
     "output_type": "execute_result"
    }
   ],
   "source": [
    "kinematics.semi_relativistic_kinematics(\n",
    "    mass_projectile=MASS_P,\n",
    "    mass_target=m0t,\n",
    "    Elab=Elab,\n",
    "    Zz=20,\n",
    ")"
   ]
  },
  {
   "cell_type": "code",
   "execution_count": 20,
   "id": "39eb168d-ab99-4de4-b774-11aaad8e47d8",
   "metadata": {},
   "outputs": [
    {
     "data": {
      "text/plain": [
       "ChannelKinematics(Ecm=293.824645374043, mu=919.4586784166959, k=3.725106950522711, eta=0.18255861201200696)"
      ]
     },
     "execution_count": 20,
     "metadata": {},
     "output_type": "execute_result"
    }
   ],
   "source": [
    "kinematics.classical_kinematics(\n",
    "    mass_projectile=m0p,\n",
    "    mass_target=m0t,\n",
    "    Elab=Elab,\n",
    "    Zz=20,\n",
    ")"
   ]
  },
  {
   "cell_type": "code",
   "execution_count": 21,
   "id": "d70c3e94-d88e-4c10-ab93-16572487a9fe",
   "metadata": {},
   "outputs": [
    {
     "data": {
      "text/plain": [
       "44667.492028"
      ]
     },
     "execution_count": 21,
     "metadata": {},
     "output_type": "execute_result"
    }
   ],
   "source": [
    "m0t"
   ]
  },
  {
   "cell_type": "code",
   "execution_count": 22,
   "id": "b22b2c58-5f0f-4951-ae3e-143bb3a5ebcc",
   "metadata": {},
   "outputs": [],
   "source": [
    "import numpy as np"
   ]
  },
  {
   "cell_type": "code",
   "execution_count": 23,
   "id": "2652dce6-cbdb-4e3e-88fc-8cde76a135f9",
   "metadata": {},
   "outputs": [
    {
     "data": {
      "text/plain": [
       "938.78307306"
      ]
     },
     "execution_count": 23,
     "metadata": {},
     "output_type": "execute_result"
    }
   ],
   "source": [
    "m0p"
   ]
  },
  {
   "cell_type": "code",
   "execution_count": 24,
   "id": "01bab73e-cdd7-48b8-a9b6-0cb5d8990739",
   "metadata": {},
   "outputs": [
    {
     "data": {
      "text/plain": [
       "45899.15929306729"
      ]
     },
     "execution_count": 24,
     "metadata": {},
     "output_type": "execute_result"
    }
   ],
   "source": [
    "M = np.sqrt((m0p + m0t) ** 2 + 2 * m0t * Elab)\n",
    "M"
   ]
  },
  {
   "cell_type": "code",
   "execution_count": 25,
   "id": "32bb2a61-3643-4f9c-bcd0-3f8819a7cbb7",
   "metadata": {},
   "outputs": [
    {
     "data": {
      "text/plain": [
       "1224.7424040963601"
      ]
     },
     "execution_count": 25,
     "metadata": {},
     "output_type": "execute_result"
    }
   ],
   "source": [
    "Ecmp = (M**2 + m0p**2 - m0t**2) / 2 / M\n",
    "Ecmp"
   ]
  },
  {
   "cell_type": "code",
   "execution_count": 26,
   "id": "df511728-724e-4700-8c83-3d6dac0d0774",
   "metadata": {},
   "outputs": [
    {
     "data": {
      "text/plain": [
       "44674.41688897093"
      ]
     },
     "execution_count": 26,
     "metadata": {},
     "output_type": "execute_result"
    }
   ],
   "source": [
    "Ecmt = (M**2 + m0t**2 - m0p**2) / 2 / M\n",
    "Ecmt"
   ]
  },
  {
   "cell_type": "code",
   "execution_count": 27,
   "id": "8209abc3-b947-44dd-8c14-8346e78a5e1d",
   "metadata": {},
   "outputs": [
    {
     "data": {
      "text/plain": [
       "3.9860860783810326"
      ]
     },
     "execution_count": 27,
     "metadata": {},
     "output_type": "execute_result"
    }
   ],
   "source": [
    "k = np.sqrt(Ecmp**2 - m0p**2) / HBARC\n",
    "k"
   ]
  },
  {
   "cell_type": "code",
   "execution_count": 28,
   "id": "46d28cc7-b279-4a0d-b60d-bf3723de9518",
   "metadata": {},
   "outputs": [],
   "source": [
    "gamma = Elab / m0p + 1"
   ]
  },
  {
   "cell_type": "code",
   "execution_count": 29,
   "id": "3e26a0ce-7356-4cc1-aca2-9a9376298db6",
   "metadata": {},
   "outputs": [],
   "source": [
    "beta = np.sqrt(gamma**2 - 1) / gamma"
   ]
  },
  {
   "cell_type": "code",
   "execution_count": 30,
   "id": "1de01d9b-2f1e-4759-ac02-484a806e8604",
   "metadata": {},
   "outputs": [
    {
     "data": {
      "text/plain": [
       "(1.3195626429672813, 0.6524557200912176)"
      ]
     },
     "execution_count": 30,
     "metadata": {},
     "output_type": "execute_result"
    }
   ],
   "source": [
    "gamma, beta"
   ]
  },
  {
   "cell_type": "code",
   "execution_count": 31,
   "id": "a109f519-43cd-4fb7-acfc-7dd0bab214d7",
   "metadata": {},
   "outputs": [],
   "source": [
    "eta = 20 * ALPHA / beta"
   ]
  },
  {
   "cell_type": "code",
   "execution_count": 32,
   "id": "e869954e-8122-493a-8437-16037cd692a6",
   "metadata": {},
   "outputs": [
    {
     "data": {
      "text/plain": [
       "0.22368882189925662"
      ]
     },
     "execution_count": 32,
     "metadata": {},
     "output_type": "execute_result"
    }
   ],
   "source": [
    "eta"
   ]
  },
  {
   "cell_type": "code",
   "execution_count": 33,
   "id": "30fc929a-d9e3-4872-9aa9-42f1f93b70af",
   "metadata": {},
   "outputs": [
    {
     "data": {
      "text/plain": [
       "0.0033064698946318927"
      ]
     },
     "execution_count": 33,
     "metadata": {},
     "output_type": "execute_result"
    }
   ],
   "source": [
    "beta / HBARC"
   ]
  },
  {
   "cell_type": "code",
   "execution_count": null,
   "id": "5e641daf-322b-44a7-a5b1-7ec960aaaace",
   "metadata": {},
   "outputs": [],
   "source": []
  }
 ],
 "metadata": {
  "kernelspec": {
   "display_name": "Python 3 (ipykernel)",
   "language": "python",
   "name": "python3"
  },
  "language_info": {
   "codemirror_mode": {
    "name": "ipython",
    "version": 3
   },
   "file_extension": ".py",
   "mimetype": "text/x-python",
   "name": "python",
   "nbconvert_exporter": "python",
   "pygments_lexer": "ipython3",
   "version": "3.11.9"
  }
 },
 "nbformat": 4,
 "nbformat_minor": 5
}
