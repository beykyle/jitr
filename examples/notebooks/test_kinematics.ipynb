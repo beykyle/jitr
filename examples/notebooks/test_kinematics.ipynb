{
 "cells": [
  {
   "cell_type": "code",
   "execution_count": 2,
   "id": "449d72c2-4050-428d-b893-58aa3924b51f",
   "metadata": {},
   "outputs": [],
   "source": [
    "from jitr.utils import kinematics, mass"
   ]
  },
  {
   "cell_type": "code",
   "execution_count": 3,
   "id": "36117096-083a-4b6c-b024-f4bad6decf16",
   "metadata": {},
   "outputs": [
    {
     "data": {
      "text/plain": [
       "(8.002633032243466, nan)"
      ]
     },
     "execution_count": 3,
     "metadata": {},
     "output_type": "execute_result"
    }
   ],
   "source": [
    "mass.proton_separation_energy(208, 82)"
   ]
  },
  {
   "cell_type": "code",
   "execution_count": 4,
   "id": "a699de97-c3f9-45d9-8a0b-7b258c2963a8",
   "metadata": {},
   "outputs": [
    {
     "data": {
      "text/plain": [
       "(7.367947393824579, nan)"
      ]
     },
     "execution_count": 4,
     "metadata": {},
     "output_type": "execute_result"
    }
   ],
   "source": [
    "mass.neutron_separation_energy(208, 82)"
   ]
  },
  {
   "cell_type": "code",
   "execution_count": 5,
   "id": "529bf34d-0da6-4fea-9768-ff14106b3d5d",
   "metadata": {},
   "outputs": [
    {
     "data": {
      "text/plain": [
       "(-7.549065393828641, nan)"
      ]
     },
     "execution_count": 5,
     "metadata": {},
     "output_type": "execute_result"
    }
   ],
   "source": [
    "mass.neutron_fermi_energy(48, 20)"
   ]
  },
  {
   "cell_type": "code",
   "execution_count": 6,
   "id": "e46ee7e0-7794-4dbe-8ee2-e670be04665c",
   "metadata": {},
   "outputs": [
    {
     "data": {
      "text/plain": [
       "(-5.900626532267779, nan)"
      ]
     },
     "execution_count": 6,
     "metadata": {},
     "output_type": "execute_result"
    }
   ],
   "source": [
    "mass.proton_fermi_energy(208, 82)"
   ]
  },
  {
   "cell_type": "code",
   "execution_count": 7,
   "id": "c27c5ce3-e8df-4972-a618-8f18df69bd83",
   "metadata": {},
   "outputs": [],
   "source": [
    "from jitr.utils.constants import ALPHA, AMU, HBARC, C, MASS_P"
   ]
  },
  {
   "cell_type": "code",
   "execution_count": 8,
   "id": "cfb3ef61-86e1-4cf1-bbe3-e4b89f0a3e23",
   "metadata": {},
   "outputs": [
    {
     "data": {
      "text/plain": [
       "1.7279574566913927"
      ]
     },
     "execution_count": 8,
     "metadata": {},
     "output_type": "execute_result"
    }
   ],
   "source": [
    "6 * ALPHA * HBARC / 5"
   ]
  },
  {
   "cell_type": "code",
   "execution_count": 9,
   "id": "489102af-db37-4bcd-a4ee-8c8b9c8418ff",
   "metadata": {},
   "outputs": [],
   "source": [
    "Elab = 300\n",
    "m0t = mass.mass(48, 20)[0]"
   ]
  },
  {
   "cell_type": "code",
   "execution_count": 10,
   "id": "b1c23ac4-e837-4f5b-bb4f-f25200f34162",
   "metadata": {},
   "outputs": [
    {
     "data": {
      "text/plain": [
       "ChannelKinematics(Ecm=293.82655687221285, mu=1194.7776429320381, k=3.985169596861648, eta=0.22174259925000003)"
      ]
     },
     "execution_count": 10,
     "metadata": {},
     "output_type": "execute_result"
    }
   ],
   "source": [
    "kinematics.semi_relativistic_kinematics(\n",
    "    mass_projectile=MASS_P,\n",
    "    mass_target=m0t,\n",
    "    Elab=Elab,\n",
    "    Zz=20,\n",
    ")"
   ]
  }
 ],
 "metadata": {
  "kernelspec": {
   "display_name": "Python 3 (ipykernel)",
   "language": "python",
   "name": "python3"
  },
  "language_info": {
   "codemirror_mode": {
    "name": "ipython",
    "version": 3
   },
   "file_extension": ".py",
   "mimetype": "text/x-python",
   "name": "python",
   "nbconvert_exporter": "python",
   "pygments_lexer": "ipython3",
   "version": "3.11.9"
  }
 },
 "nbformat": 4,
 "nbformat_minor": 5
}
