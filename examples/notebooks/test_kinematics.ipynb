{
 "cells": [
  {
   "cell_type": "code",
   "execution_count": 1,
   "id": "449d72c2-4050-428d-b893-58aa3924b51f",
   "metadata": {},
   "outputs": [],
   "source": [
    "from jitr.utils import kinematics"
   ]
  },
  {
   "cell_type": "code",
   "execution_count": 2,
   "id": "36117096-083a-4b6c-b024-f4bad6decf16",
   "metadata": {},
   "outputs": [
    {
     "data": {
      "text/plain": [
       "8.003058700007387"
      ]
     },
     "execution_count": 2,
     "metadata": {},
     "output_type": "execute_result"
    }
   ],
   "source": [
    "kinematics.proton_separation_energy(208, 82)"
   ]
  },
  {
   "cell_type": "code",
   "execution_count": 3,
   "id": "a699de97-c3f9-45d9-8a0b-7b258c2963a8",
   "metadata": {},
   "outputs": [
    {
     "data": {
      "text/plain": [
       "7.367879200028256"
      ]
     },
     "execution_count": 3,
     "metadata": {},
     "output_type": "execute_result"
    }
   ],
   "source": [
    "kinematics.neutron_separation_energy(208, 82)"
   ]
  },
  {
   "cell_type": "code",
   "execution_count": 24,
   "id": "529bf34d-0da6-4fea-9768-ff14106b3d5d",
   "metadata": {},
   "outputs": [
    {
     "data": {
      "text/plain": [
       "-7.548987199999829"
      ]
     },
     "execution_count": 24,
     "metadata": {},
     "output_type": "execute_result"
    }
   ],
   "source": [
    "kinematics.neutron_fermi_energy(48, 20)"
   ]
  },
  {
   "cell_type": "code",
   "execution_count": 5,
   "id": "e46ee7e0-7794-4dbe-8ee2-e670be04665c",
   "metadata": {},
   "outputs": [
    {
     "data": {
      "text/plain": [
       "-5.9010484000027645"
      ]
     },
     "execution_count": 5,
     "metadata": {},
     "output_type": "execute_result"
    }
   ],
   "source": [
    "kinematics.proton_fermi_energy(208, 82)"
   ]
  },
  {
   "cell_type": "code",
   "execution_count": 6,
   "id": "c27c5ce3-e8df-4972-a618-8f18df69bd83",
   "metadata": {},
   "outputs": [],
   "source": [
    "from jitr.utils.constants import ALPHA, AMU, HBARC, C"
   ]
  },
  {
   "cell_type": "code",
   "execution_count": 7,
   "id": "cfb3ef61-86e1-4cf1-bbe3-e4b89f0a3e23",
   "metadata": {},
   "outputs": [
    {
     "data": {
      "text/plain": [
       "1.7279574566913927"
      ]
     },
     "execution_count": 7,
     "metadata": {},
     "output_type": "execute_result"
    }
   ],
   "source": [
    "6 * ALPHA * HBARC / 5"
   ]
  },
  {
   "cell_type": "code",
   "execution_count": 8,
   "id": "489102af-db37-4bcd-a4ee-8c8b9c8418ff",
   "metadata": {},
   "outputs": [],
   "source": [
    "Elab = 300\n",
    "m0t = kinematics.mass(48, 20)\n",
    "m0p = kinematics.mass(1, 1)"
   ]
  },
  {
   "cell_type": "code",
   "execution_count": 9,
   "id": "b1c23ac4-e837-4f5b-bb4f-f25200f34162",
   "metadata": {},
   "outputs": [
    {
     "data": {
      "text/plain": [
       "ChannelKinematics(Ecm=293.8265560288152, mu=1194.7776371156663, k=3.9851695820315767, eta=0.2217425989956951)"
      ]
     },
     "execution_count": 9,
     "metadata": {},
     "output_type": "execute_result"
    }
   ],
   "source": [
    "kinematics.semi_relativistic_kinematics(\n",
    "    mass_projectile=m0p,\n",
    "    mass_target=m0t,\n",
    "    Elab=Elab,\n",
    "    Zz=20,\n",
    ")"
   ]
  },
  {
   "cell_type": "code",
   "execution_count": 10,
   "id": "39eb168d-ab99-4de4-b774-11aaad8e47d8",
   "metadata": {},
   "outputs": [
    {
     "data": {
      "text/plain": [
       "ChannelKinematics(Ecm=293.8265560288152, mu=918.9637614858912, k=3.724116367456811, eta=0.1825088790959605)"
      ]
     },
     "execution_count": 10,
     "metadata": {},
     "output_type": "execute_result"
    }
   ],
   "source": [
    "kinematics.classical_kinematics(\n",
    "    mass_projectile=m0p,\n",
    "    mass_target=m0t,\n",
    "    Elab=Elab,\n",
    "    Zz=20,\n",
    ")"
   ]
  },
  {
   "cell_type": "code",
   "execution_count": 11,
   "id": "d70c3e94-d88e-4c10-ab93-16572487a9fe",
   "metadata": {},
   "outputs": [
    {
     "data": {
      "text/plain": [
       "44657.26581995028"
      ]
     },
     "execution_count": 11,
     "metadata": {},
     "output_type": "execute_result"
    }
   ],
   "source": [
    "m0t"
   ]
  },
  {
   "cell_type": "code",
   "execution_count": 12,
   "id": "b22b2c58-5f0f-4951-ae3e-143bb3a5ebcc",
   "metadata": {},
   "outputs": [],
   "source": [
    "import numpy as np"
   ]
  },
  {
   "cell_type": "code",
   "execution_count": 13,
   "id": "2652dce6-cbdb-4e3e-88fc-8cde76a135f9",
   "metadata": {},
   "outputs": [
    {
     "data": {
      "text/plain": [
       "938.271653086152"
      ]
     },
     "execution_count": 13,
     "metadata": {},
     "output_type": "execute_result"
    }
   ],
   "source": [
    "m0p"
   ]
  },
  {
   "cell_type": "code",
   "execution_count": 14,
   "id": "01bab73e-cdd7-48b8-a9b6-0cb5d8990739",
   "metadata": {},
   "outputs": [
    {
     "data": {
      "text/plain": [
       "45888.42334344294"
      ]
     },
     "execution_count": 14,
     "metadata": {},
     "output_type": "execute_result"
    }
   ],
   "source": [
    "M = np.sqrt((m0p + m0t) ** 2 + 2 * m0t * Elab)\n",
    "M"
   ]
  },
  {
   "cell_type": "code",
   "execution_count": 15,
   "id": "32bb2a61-3643-4f9c-bcd0-3f8819a7cbb7",
   "metadata": {},
   "outputs": [
    {
     "data": {
      "text/plain": [
       "1224.2342615196787"
      ]
     },
     "execution_count": 15,
     "metadata": {},
     "output_type": "execute_result"
    }
   ],
   "source": [
    "Ecmp = (M**2 + m0p**2 - m0t**2) / 2 / M\n",
    "Ecmp"
   ]
  },
  {
   "cell_type": "code",
   "execution_count": 16,
   "id": "df511728-724e-4700-8c83-3d6dac0d0774",
   "metadata": {},
   "outputs": [
    {
     "data": {
      "text/plain": [
       "44664.18908192326"
      ]
     },
     "execution_count": 16,
     "metadata": {},
     "output_type": "execute_result"
    }
   ],
   "source": [
    "Ecmt = (M**2 + m0t**2 - m0p**2) / 2 / M\n",
    "Ecmt"
   ]
  },
  {
   "cell_type": "code",
   "execution_count": 17,
   "id": "8209abc3-b947-44dd-8c14-8346e78a5e1d",
   "metadata": {},
   "outputs": [
    {
     "data": {
      "text/plain": [
       "3.9851695820315234"
      ]
     },
     "execution_count": 17,
     "metadata": {},
     "output_type": "execute_result"
    }
   ],
   "source": [
    "k = np.sqrt(Ecmp**2 - m0p**2) / HBARC\n",
    "k"
   ]
  },
  {
   "cell_type": "code",
   "execution_count": 18,
   "id": "46d28cc7-b279-4a0d-b60d-bf3723de9518",
   "metadata": {},
   "outputs": [],
   "source": [
    "gamma = Elab / m0p + 1"
   ]
  },
  {
   "cell_type": "code",
   "execution_count": 19,
   "id": "3e26a0ce-7356-4cc1-aca2-9a9376298db6",
   "metadata": {},
   "outputs": [],
   "source": [
    "beta = np.sqrt(gamma**2 - 1) / gamma"
   ]
  },
  {
   "cell_type": "code",
   "execution_count": 20,
   "id": "1de01d9b-2f1e-4759-ac02-484a806e8604",
   "metadata": {},
   "outputs": [
    {
     "data": {
      "text/plain": [
       "(1.3197368256978068, 0.6525718754831703)"
      ]
     },
     "execution_count": 20,
     "metadata": {},
     "output_type": "execute_result"
    }
   ],
   "source": [
    "gamma, beta"
   ]
  },
  {
   "cell_type": "code",
   "execution_count": 21,
   "id": "a109f519-43cd-4fb7-acfc-7dd0bab214d7",
   "metadata": {},
   "outputs": [],
   "source": [
    "eta = 20 * ALPHA / beta"
   ]
  },
  {
   "cell_type": "code",
   "execution_count": 22,
   "id": "e869954e-8122-493a-8437-16037cd692a6",
   "metadata": {},
   "outputs": [
    {
     "data": {
      "text/plain": [
       "0.22364900611227695"
      ]
     },
     "execution_count": 22,
     "metadata": {},
     "output_type": "execute_result"
    }
   ],
   "source": [
    "eta"
   ]
  },
  {
   "cell_type": "code",
   "execution_count": 23,
   "id": "30fc929a-d9e3-4872-9aa9-42f1f93b70af",
   "metadata": {},
   "outputs": [
    {
     "data": {
      "text/plain": [
       "0.003307058538879716"
      ]
     },
     "execution_count": 23,
     "metadata": {},
     "output_type": "execute_result"
    }
   ],
   "source": [
    "beta / HBARC"
   ]
  },
  {
   "cell_type": "code",
   "execution_count": null,
   "id": "5e641daf-322b-44a7-a5b1-7ec960aaaace",
   "metadata": {},
   "outputs": [],
   "source": []
  }
 ],
 "metadata": {
  "kernelspec": {
   "display_name": "Python 3 (ipykernel)",
   "language": "python",
   "name": "python3"
  },
  "language_info": {
   "codemirror_mode": {
    "name": "ipython",
    "version": 3
   },
   "file_extension": ".py",
   "mimetype": "text/x-python",
   "name": "python",
   "nbconvert_exporter": "python",
   "pygments_lexer": "ipython3",
   "version": "3.11.9"
  }
 },
 "nbformat": 4,
 "nbformat_minor": 5
}
