{
 "cells": [
  {
   "cell_type": "markdown",
   "metadata": {},
   "source": [
    "## Examples of types of interactions\n",
    "In this note book we provide some examples of how to define local, nonlocal, single and multi-channel interactions."
   ]
  },
  {
   "cell_type": "code",
   "execution_count": 1,
   "metadata": {},
   "outputs": [],
   "source": [
    "import numpy as np\n",
    "\n",
    "from jitr import reactions, rmatrix\n",
    "from jitr.reactions.potentials import coulomb_charged_sphere, woods_saxon_potential\n",
    "from jitr.utils import delta, kinematics"
   ]
  },
  {
   "cell_type": "code",
   "execution_count": 27,
   "metadata": {},
   "outputs": [],
   "source": [
    "solver = rmatrix.Solver(nbasis=40)"
   ]
  },
  {
   "cell_type": "code",
   "execution_count": 28,
   "metadata": {},
   "outputs": [],
   "source": [
    "# a local scalar interaction\n",
    "def interaction_local(r, V0, W0, R0, a0, Zz):\n",
    "    nuclear = woods_saxon_potential(r, V0, W0, R0, a0)\n",
    "    coulomb = coulomb_charged_sphere(r, Zz, R0)\n",
    "    return nuclear + coulomb"
   ]
  },
  {
   "cell_type": "code",
   "execution_count": 29,
   "metadata": {},
   "outputs": [],
   "source": [
    "# a nonlocal scalar interaction\n",
    "# note this exp(-(r-rp)**2) form is just made up for example purposes\n",
    "# this is not the Perey-Buck form, which is actually l-dependent\n",
    "def interaction_nonlocal(r, rp, V0, W0, R0, a0, Zz):\n",
    "    nuclear = woods_saxon_potential(0.5 * (r + rp), V0, W0, R0, a0) * np.exp(\n",
    "        (r - rp) ** 2\n",
    "    )\n",
    "    return nuclear"
   ]
  },
  {
   "cell_type": "code",
   "execution_count": 5,
   "metadata": {},
   "outputs": [],
   "source": [
    "def interaction_2level(r, V0, W0, V1, W1, g, R0, a0, Zz):\n",
    "    nuclear0 = woods_saxon_potential(r, V0, W0, R0, a0)\n",
    "    nuclear1 = woods_saxon_potential(r, V1, W1, R0, a0)\n",
    "    coupling = woods_saxon_potential(r, g, 0, R0, a0)\n",
    "    coulomb = coulomb_charged_sphere(r, Zz, R0)\n",
    "    return np.array([[nuclear0 + coulomb, coupling], [coupling, nuclear1 + coulomb]])"
   ]
  },
  {
   "cell_type": "code",
   "execution_count": 6,
   "metadata": {},
   "outputs": [],
   "source": [
    "def interaction_2level_nonlocal(r, rp, V0, W0, V1, W1, g, R0, a0, Zz):\n",
    "    nuclear0 = woods_saxon_potential(0.5 * (r + rp), V0, W0, R0, a0) * np.exp(-((r - rp) ** 2))\n",
    "    nuclear1 = woods_saxon_potential(0.5 * (r + rp), V1, W1, R0, a0) * np.exp(-((r - rp) ** 2))\n",
    "    coupling = woods_saxon_potential(0.5 * (r + rp), g, 0, R0, a0) * np.exp(-((r - rp) ** 2))\n",
    "    return np.array([[nuclear0, coupling], [coupling, nuclear1]])"
   ]
  },
  {
   "cell_type": "markdown",
   "metadata": {},
   "source": [
    "### Define the scattering system"
   ]
  },
  {
   "cell_type": "code",
   "execution_count": 7,
   "metadata": {},
   "outputs": [],
   "source": [
    "Elab = 35  # MeV\n",
    "Ca48 = (28, 20)\n",
    "proton = (1, 1)\n",
    "\n",
    "mass_target = kinematics.mass(*Ca48)\n",
    "mass_projectile = kinematics.mass(*proton)\n",
    "Zz = Ca48[1]*proton[1]"
   ]
  },
  {
   "cell_type": "code",
   "execution_count": 8,
   "metadata": {},
   "outputs": [],
   "source": [
    "Ecm, mu, k, eta = kinematics.classical_kinematics(\n",
    "    mass_target,\n",
    "    mass_projectile,\n",
    "    Elab,\n",
    "    Zz,\n",
    ")"
   ]
  },
  {
   "cell_type": "code",
   "execution_count": 9,
   "metadata": {},
   "outputs": [],
   "source": [
    "# first the 1 level system\n",
    "sys_1level = reactions.ProjectileTargetSystem(\n",
    "    channel_radii=np.array([5 * np.pi]),\n",
    "    l=np.array([0]),\n",
    "    mass_target=mass_target,\n",
    "    mass_projectile=mass_projectile,\n",
    "    Ztarget=Ca48[1],\n",
    "    Zproj=proton[1],\n",
    ")\n",
    "channels_1, asymptotics_1 = sys_1level.coupled(Ecm, mu, k, eta)"
   ]
  },
  {
   "cell_type": "code",
   "execution_count": 10,
   "metadata": {},
   "outputs": [],
   "source": [
    "# now the 2-level system\n",
    "sys_2level = reactions.ProjectileTargetSystem(\n",
    "    nchannels=2,\n",
    "    channel_radii=np.array([5 * np.pi, 5 * np.pi]),\n",
    "    l=np.array([0, 0]),\n",
    "    mass_target=mass_target,\n",
    "    mass_projectile=mass_projectile,\n",
    "    Ztarget=Ca48[1],\n",
    "    Zproj=proton[1],\n",
    ")\n",
    "channels_2, asymptotics_2 = sys_2level.coupled(Ecm, mu, k, eta)"
   ]
  },
  {
   "cell_type": "code",
   "execution_count": 11,
   "metadata": {},
   "outputs": [],
   "source": [
    "# grab some parameters out of a hat\n",
    "V0 = 42.0\n",
    "W0 = 18.1\n",
    "R0 = 4.8\n",
    "a0 = 0.7\n",
    "V1 = V0\n",
    "W1 = W0\n",
    "g = 10\n",
    "\n",
    "# the single channel interactions are equivalent other than the non-locality\n",
    "params_local = (V0, W0, R0, a0, Zz)\n",
    "params_nonlocal = params_local\n",
    "\n",
    "# the 2-level interactions  are likewise equivalent other than the non-locality\n",
    "params_2level = (V0, W0, V1, W1, g, R0, a0, Zz)\n",
    "params_2level_nonlocal = params_2level\n",
    "\n",
    "# the non-local potentials also have a local Coulomb term\n",
    "params_coul = (Zz, R0)"
   ]
  },
  {
   "cell_type": "markdown",
   "metadata": {},
   "source": [
    "### Let's compare the 1-level systems"
   ]
  },
  {
   "cell_type": "code",
   "execution_count": 12,
   "metadata": {},
   "outputs": [
    {
     "name": "stderr",
     "output_type": "stream",
     "text": [
      "/home/beyerk/Projects/jitr/src/jitr/rmatrix/rmatrix_solver.py:44: NumbaPerformanceWarning: \u001b[1m\u001b[1m\u001b[1m'@' is faster on contiguous arrays, called on (Array(complex128, 1, 'C', False, aligned=True), Array(complex128, 2, 'A', False, aligned=True))\u001b[0m\u001b[0m\u001b[0m\n",
      "  R, Ainv = rmatrix_with_inverse(A, b, nchannels, nbasis, a)\n"
     ]
    },
    {
     "name": "stdout",
     "output_type": "stream",
     "text": [
      "phase shift: -70.751 + i (-3.439) [degrees]\n"
     ]
    }
   ],
   "source": [
    "R, S, uext_boundary = solver.solve(\n",
    "    channels_1,\n",
    "    asymptotics_1,\n",
    "    local_interaction=interaction_local,\n",
    "    local_args=params_local,\n",
    ")\n",
    "phase_shift, phase_attenuation = delta(S[0, 0])\n",
    "print(f\"phase shift: {phase_shift:1.3f} + i ({phase_attenuation:1.3f}) [degrees]\")"
   ]
  },
  {
   "cell_type": "code",
   "execution_count": 13,
   "metadata": {},
   "outputs": [
    {
     "name": "stdout",
     "output_type": "stream",
     "text": [
      "phase shift: -59.658 + i (0.342) [degrees]\n"
     ]
    }
   ],
   "source": [
    "R, S, uext_boundary = solver.solve(\n",
    "    channels_1,\n",
    "    asymptotics_1,\n",
    "    local_interaction=coulomb_charged_sphere,\n",
    "    local_args=params_coul,\n",
    "    nonlocal_interaction=interaction_nonlocal,\n",
    "    nonlocal_args=params_nonlocal,\n",
    ")\n",
    "phase_shift, phase_attenuation = delta(S[0, 0])\n",
    "print(f\"phase shift: {phase_shift:1.3f} + i ({phase_attenuation:1.3f}) [degrees]\")"
   ]
  },
  {
   "cell_type": "markdown",
   "metadata": {},
   "source": [
    "### Let's compare the 2-level systems\n"
   ]
  },
  {
   "cell_type": "code",
   "execution_count": 14,
   "metadata": {},
   "outputs": [
    {
     "name": "stdout",
     "output_type": "stream",
     "text": [
      "(0,0): phase shift: -70.75802598415781 + i (-3.3759626594414436) [degrees]\n",
      "(0,1): phase shift: 64.57316875195677 + i (74.31671545012324) [degrees]\n",
      "(1,0): phase shift: 64.57316875195684 + i (74.31671545012696) [degrees]\n",
      "(1,1): phase shift: -70.75802598416077 + i (-3.3759626594407934) [degrees]\n"
     ]
    }
   ],
   "source": [
    "R, S, uext_boundary = solver.solve(\n",
    "    channels_2,\n",
    "    asymptotics_2,\n",
    "    local_interaction=interaction_2level,\n",
    "    local_args=params_2level,\n",
    ")\n",
    "for i in range(2):\n",
    "    for j in range(2):\n",
    "        phase_shift, phase_attenuation = delta(S[i,j])\n",
    "        print(f\"({i},{j}): phase shift: {phase_shift} + i ({phase_attenuation}) [degrees]\")"
   ]
  },
  {
   "cell_type": "code",
   "execution_count": 15,
   "metadata": {},
   "outputs": [
    {
     "name": "stdout",
     "output_type": "stream",
     "text": [
      "(0,0): phase shift: -68.16580407941652 + i (-3.406987982401112) [degrees]\n",
      "(0,1): phase shift: 67.53296168480372 + i (74.02205276011857) [degrees]\n",
      "(1,0): phase shift: 67.5329616848037 + i (74.02205276011587) [degrees]\n",
      "(1,1): phase shift: -68.16580407941427 + i (-3.4069879824014) [degrees]\n"
     ]
    }
   ],
   "source": [
    "R, S, uext_boundary = solver.solve(\n",
    "    channels_2,\n",
    "    asymptotics_2,\n",
    "    nonlocal_interaction=interaction_2level_nonlocal,\n",
    "    nonlocal_args=params_2level_nonlocal,\n",
    ")\n",
    "for i in range(2):\n",
    "    for j in range(2):\n",
    "        phase_shift, phase_attenuation = delta(S[i,j])\n",
    "        print(f\"({i},{j}): phase shift: {phase_shift} + i ({phase_attenuation}) [degrees]\")"
   ]
  },
  {
   "cell_type": "markdown",
   "metadata": {},
   "source": [
    "## Let's compare speed"
   ]
  },
  {
   "cell_type": "code",
   "execution_count": 30,
   "metadata": {},
   "outputs": [
    {
     "name": "stdout",
     "output_type": "stream",
     "text": [
      "371 µs ± 5.73 µs per loop (mean ± std. dev. of 7 runs, 1,000 loops each)\n"
     ]
    }
   ],
   "source": [
    "%%timeit\n",
    "R, S, uext_boundary = solver.solve(\n",
    "    channels_1,\n",
    "    asymptotics_1,\n",
    "    local_interaction=interaction_local,\n",
    "    local_args=params_local,\n",
    ")"
   ]
  },
  {
   "cell_type": "code",
   "execution_count": 17,
   "metadata": {},
   "outputs": [
    {
     "name": "stdout",
     "output_type": "stream",
     "text": [
      "461 µs ± 14.7 µs per loop (mean ± std. dev. of 7 runs, 1,000 loops each)\n"
     ]
    }
   ],
   "source": [
    "%%timeit\n",
    "R, S, uext_boundary = solver.solve(\n",
    "    channels_1,\n",
    "    asymptotics_1,\n",
    "    local_interaction=coulomb_charged_sphere,\n",
    "    local_args=params_coul,\n",
    "    nonlocal_interaction=interaction_nonlocal,\n",
    "    nonlocal_args=params_nonlocal,\n",
    ")"
   ]
  },
  {
   "cell_type": "code",
   "execution_count": 19,
   "metadata": {},
   "outputs": [
    {
     "name": "stdout",
     "output_type": "stream",
     "text": [
      "898 µs ± 46.9 µs per loop (mean ± std. dev. of 7 runs, 1,000 loops each)\n"
     ]
    }
   ],
   "source": [
    "%%timeit\n",
    "R, S, uext_boundary = solver.solve(\n",
    "    channels_2,\n",
    "    asymptotics_2,\n",
    "    local_interaction=interaction_2level,\n",
    "    local_args=params_2level,\n",
    ")"
   ]
  },
  {
   "cell_type": "code",
   "execution_count": 16,
   "metadata": {},
   "outputs": [
    {
     "name": "stdout",
     "output_type": "stream",
     "text": [
      "1.13 ms ± 200 µs per loop (mean ± std. dev. of 7 runs, 100 loops each)\n"
     ]
    }
   ],
   "source": [
    "%%timeit\n",
    "R, S, uext_boundary = solver.solve(\n",
    "    channels_2,\n",
    "    asymptotics_2,\n",
    "    nonlocal_interaction=interaction_2level_nonlocal,\n",
    "    nonlocal_args=params_2level_nonlocal,\n",
    ")"
   ]
  },
  {
   "cell_type": "markdown",
   "metadata": {},
   "source": [
    "Let's see if `njit`-ing the interaction gives us any speed up."
   ]
  },
  {
   "cell_type": "code",
   "execution_count": 34,
   "metadata": {},
   "outputs": [],
   "source": [
    "# a local scalar interaction\n",
    "from numba import njit\n",
    "\n",
    "@njit\n",
    "def interaction_local_njit(r, V0, W0, R0, a0, Zz):\n",
    "    nuclear = woods_saxon_potential(r, V0, W0, R0, a0)\n",
    "    return nuclear"
   ]
  },
  {
   "cell_type": "code",
   "execution_count": 35,
   "metadata": {},
   "outputs": [
    {
     "data": {
      "text/plain": [
       "(array([[-0.01205059-0.0040834j]]),\n",
       " array([[-0.88242801-0.7018889j]]),\n",
       " array([0.32840734-0.97451344j]))"
      ]
     },
     "execution_count": 35,
     "metadata": {},
     "output_type": "execute_result"
    }
   ],
   "source": [
    "# jit compile once \n",
    "solver.solve(\n",
    "    channels_1,\n",
    "    asymptotics_1,\n",
    "    local_interaction=interaction_local,\n",
    "    local_args=params_local,\n",
    ")"
   ]
  },
  {
   "cell_type": "code",
   "execution_count": 36,
   "metadata": {},
   "outputs": [
    {
     "name": "stdout",
     "output_type": "stream",
     "text": [
      "378 µs ± 10.6 µs per loop (mean ± std. dev. of 7 runs, 1,000 loops each)\n"
     ]
    }
   ],
   "source": [
    "%%timeit\n",
    "R, S, uext_boundary = solver.solve(\n",
    "    channels_1,\n",
    "    asymptotics_1,\n",
    "    local_interaction=interaction_local,\n",
    "    local_args=params_local,\n",
    ")"
   ]
  },
  {
   "cell_type": "markdown",
   "metadata": {},
   "source": [
    "Answer, not really worth it."
   ]
  }
 ],
 "metadata": {
  "kernelspec": {
   "display_name": "Python 3 (ipykernel)",
   "language": "python",
   "name": "python3"
  },
  "language_info": {
   "codemirror_mode": {
    "name": "ipython",
    "version": 3
   },
   "file_extension": ".py",
   "mimetype": "text/x-python",
   "name": "python",
   "nbconvert_exporter": "python",
   "pygments_lexer": "ipython3",
   "version": "3.11.8"
  }
 },
 "nbformat": 4,
 "nbformat_minor": 4
}
