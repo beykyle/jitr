{
 "cells": [
  {
   "cell_type": "markdown",
   "metadata": {},
   "source": [
    "## Examples of types of interactions\n",
    "In this note book we provide some examples of how to define local, nonlocal, single and multi-channel interactions."
   ]
  },
  {
   "cell_type": "code",
   "execution_count": 1,
   "metadata": {},
   "outputs": [],
   "source": [
    "import numpy as np\n",
    "\n",
    "from jitr import reactions, rmatrix\n",
    "from jitr.reactions.potentials import coulomb_charged_sphere, woods_saxon_potential\n",
    "from jitr.utils import delta, kinematics"
   ]
  },
  {
   "cell_type": "code",
   "execution_count": 2,
   "metadata": {},
   "outputs": [],
   "source": [
    "solver = rmatrix.Solver(nbasis=40)"
   ]
  },
  {
   "cell_type": "code",
   "execution_count": 3,
   "metadata": {},
   "outputs": [],
   "source": [
    "# a local scalar interaction\n",
    "def interaction_local(r, V0, W0, R0, a0, Zz):\n",
    "    nuclear = woods_saxon_potential(r, V0, W0, R0, a0)\n",
    "    coulomb = coulomb_charged_sphere(r, Zz, R0)\n",
    "    return nuclear + coulomb"
   ]
  },
  {
   "cell_type": "code",
   "execution_count": 4,
   "metadata": {},
   "outputs": [],
   "source": [
    "# a nonlocal scalar interaction\n",
    "# note this exp(-(r-rp)**2) form is just made up for example purposes\n",
    "# this is not the Perey-Buck form, which is actually l-dependent\n",
    "def interaction_nonlocal(r, rp, V0, W0, R0, a0, Zz):\n",
    "    nuclear = woods_saxon_potential(0.5 * (r + rp), V0, W0, R0, a0) * np.exp(\n",
    "        (r - rp) ** 2\n",
    "    )\n",
    "    return nuclear"
   ]
  },
  {
   "cell_type": "code",
   "execution_count": 5,
   "metadata": {},
   "outputs": [],
   "source": [
    "def interaction_2level(r, V0, W0, V1, W1, g, R0, a0, Zz):\n",
    "    nuclear0 = woods_saxon_potential(r, V0, W0, R0, a0)\n",
    "    nuclear1 = woods_saxon_potential(r, V1, W1, R0, a0)\n",
    "    coupling = woods_saxon_potential(r, g * V0, 0, R0, a0)\n",
    "    coulomb = coulomb_charged_sphere(r, Zz, R0)\n",
    "    return np.array([[nuclear0 + coulomb, coupling], [coupling, nuclear1 + coulomb]])"
   ]
  },
  {
   "cell_type": "code",
   "execution_count": 6,
   "metadata": {},
   "outputs": [],
   "source": [
    "def interaction_2level_nonlocal(r, rp, V0, W0, V1, W1, g, R0, a0, Zz):\n",
    "    nuclear0 = woods_saxon_potential(0.5 * (r + rp), V0, W0, R0, a0) * np.exp(\n",
    "        -((r - rp) ** 2)\n",
    "    )\n",
    "    nuclear1 = woods_saxon_potential(0.5 * (r + rp), V1, W1, R0, a0) * np.exp(\n",
    "        -((r - rp) ** 2)\n",
    "    )\n",
    "    coupling = woods_saxon_potential(0.5 * (r + rp), g * V0, 0, R0, a0) * np.exp(\n",
    "        -((r - rp) ** 2)\n",
    "    )\n",
    "    return np.array([[nuclear0, coupling], [coupling, nuclear1]])"
   ]
  },
  {
   "cell_type": "code",
   "execution_count": 7,
   "metadata": {},
   "outputs": [],
   "source": [
    "# coupling between levels  within a partial wave\n",
    "def coupling_2level(l):\n",
    "    return np.array([[1, 1 / np.sqrt(2)], [1 / np.sqrt(2), 1]])"
   ]
  },
  {
   "cell_type": "markdown",
   "metadata": {},
   "source": [
    "### Define the scattering system"
   ]
  },
  {
   "cell_type": "code",
   "execution_count": 8,
   "metadata": {},
   "outputs": [],
   "source": [
    "Elab = 35  # MeV\n",
    "Ca48 = (28, 20)\n",
    "proton = (1, 1)\n",
    "\n",
    "mass_target = kinematics.mass(*Ca48)\n",
    "mass_projectile = kinematics.mass(*proton)\n",
    "Zz = Ca48[1] * proton[1]"
   ]
  },
  {
   "cell_type": "code",
   "execution_count": 9,
   "metadata": {},
   "outputs": [],
   "source": [
    "Ecm, mu, k, eta = kinematics.classical_kinematics(\n",
    "    mass_target,\n",
    "    mass_projectile,\n",
    "    Elab,\n",
    "    Zz,\n",
    ")"
   ]
  },
  {
   "cell_type": "code",
   "execution_count": 10,
   "metadata": {},
   "outputs": [],
   "source": [
    "# first the 1 level system\n",
    "sys_1level = reactions.ProjectileTargetSystem(\n",
    "    channel_radius=5 * np.pi,\n",
    "    lmax=30,\n",
    "    mass_target=mass_target,\n",
    "    mass_projectile=mass_projectile,\n",
    "    Ztarget=Ca48[1],\n",
    "    Zproj=proton[1],\n",
    ")\n",
    "channels_1, asymptotics_1 = sys_1level.get_partial_wave_channels(Ecm, mu, k, eta)"
   ]
  },
  {
   "cell_type": "code",
   "execution_count": 11,
   "metadata": {},
   "outputs": [],
   "source": [
    "# now the 2-level system\n",
    "sys_2level = reactions.ProjectileTargetSystem(\n",
    "    channel_radius=5 * np.pi,\n",
    "    lmax=30,\n",
    "    mass_target=mass_target,\n",
    "    mass_projectile=mass_projectile,\n",
    "    Ztarget=Ca48[1],\n",
    "    Zproj=proton[1],\n",
    "    coupling=coupling_2level,\n",
    ")\n",
    "channels_2, asymptotics_2 = sys_2level.get_partial_wave_channels(Ecm, mu, k, eta)"
   ]
  },
  {
   "cell_type": "code",
   "execution_count": 12,
   "metadata": {},
   "outputs": [
    {
     "data": {
      "text/plain": [
       "array([[1.        , 0.70710678],\n",
       "       [0.70710678, 1.        ]])"
      ]
     },
     "execution_count": 12,
     "metadata": {},
     "output_type": "execute_result"
    }
   ],
   "source": [
    "channels_2[0].couplings"
   ]
  },
  {
   "cell_type": "code",
   "execution_count": 13,
   "metadata": {},
   "outputs": [],
   "source": [
    "# grab some parameters out of a hat\n",
    "V0 = 42.0\n",
    "W0 = 18.1\n",
    "R0 = 4.8\n",
    "a0 = 0.7\n",
    "V1 = V0\n",
    "W1 = W0\n",
    "g = 1 / np.sqrt(2)\n",
    "\n",
    "# the single channel interactions are equivalent other than the non-locality\n",
    "params_local = (V0, W0, R0, a0, Zz)\n",
    "params_nonlocal = params_local\n",
    "\n",
    "# the 2-level interactions  are likewise equivalent other than the non-locality\n",
    "params_2level = (V0, W0, V1, W1, g, R0, a0, Zz)\n",
    "params_2level_nonlocal = params_2level\n",
    "\n",
    "# the non-local potentials also have a local Coulomb term\n",
    "params_coul = (Zz, R0)"
   ]
  },
  {
   "cell_type": "markdown",
   "metadata": {},
   "source": [
    "### Let's compare the 1-level systems"
   ]
  },
  {
   "cell_type": "code",
   "execution_count": 14,
   "metadata": {},
   "outputs": [],
   "source": [
    "l = 0"
   ]
  },
  {
   "cell_type": "code",
   "execution_count": 15,
   "metadata": {},
   "outputs": [
    {
     "name": "stdout",
     "output_type": "stream",
     "text": [
      "phase shift: -70.751 + i (-3.439) [degrees]\n"
     ]
    }
   ],
   "source": [
    "R, S, uext_boundary = solver.solve(\n",
    "    channels_1[l],\n",
    "    asymptotics_1[l],\n",
    "    local_interaction=interaction_local,\n",
    "    local_args=params_local,\n",
    ")\n",
    "phase_shift, phase_attenuation = delta(S[0, 0])\n",
    "print(f\"phase shift: {phase_shift:1.3f} + i ({phase_attenuation:1.3f}) [degrees]\")"
   ]
  },
  {
   "cell_type": "code",
   "execution_count": 16,
   "metadata": {},
   "outputs": [
    {
     "name": "stdout",
     "output_type": "stream",
     "text": [
      "phase shift: -60.025 + i (0.042) [degrees]\n"
     ]
    }
   ],
   "source": [
    "R, S, uext_boundary = solver.solve(\n",
    "    channels_1[l],\n",
    "    asymptotics_1[l],\n",
    "    local_interaction=coulomb_charged_sphere,\n",
    "    local_args=params_coul,\n",
    "    nonlocal_interaction=interaction_nonlocal,\n",
    "    nonlocal_args=params_nonlocal,\n",
    ")\n",
    "phase_shift, phase_attenuation = delta(S[0, 0])\n",
    "print(f\"phase shift: {phase_shift:1.3f} + i ({phase_attenuation:1.3f}) [degrees]\")"
   ]
  },
  {
   "cell_type": "markdown",
   "metadata": {},
   "source": [
    "### Let's compare the 2-level systems\n"
   ]
  },
  {
   "cell_type": "code",
   "execution_count": 17,
   "metadata": {},
   "outputs": [
    {
     "name": "stdout",
     "output_type": "stream",
     "text": [
      "(0,0): phase shift: -70.8168514219055 + i (-2.8824131309230743) [degrees]\n",
      "(0,1): phase shift: 64.52161396817901 + i (43.28746987495709) [degrees]\n",
      "(1,0): phase shift: 64.52161396817903 + i (43.28746987496739) [degrees]\n",
      "(1,1): phase shift: -70.81685142190574 + i (-2.882413130923995) [degrees]\n"
     ]
    }
   ],
   "source": [
    "R, S, uext_boundary = solver.solve(\n",
    "    channels_2[l],\n",
    "    asymptotics_2[l],\n",
    "    local_interaction=interaction_2level,\n",
    "    local_args=params_2level,\n",
    ")\n",
    "for i in range(2):\n",
    "    for j in range(2):\n",
    "        phase_shift, phase_attenuation = delta(S[i, j])\n",
    "        print(\n",
    "            f\"({i},{j}): phase shift: {phase_shift} + i ({phase_attenuation}) [degrees]\"\n",
    "        )"
   ]
  },
  {
   "cell_type": "code",
   "execution_count": 18,
   "metadata": {},
   "outputs": [
    {
     "name": "stdout",
     "output_type": "stream",
     "text": [
      "(0,0): phase shift: -68.29126984523734 + i (-2.9076682570202164) [degrees]\n",
      "(0,1): phase shift: 67.42410297139764 + i (42.98317847883872) [degrees]\n",
      "(1,0): phase shift: 67.42410297139755 + i (42.98317847883846) [degrees]\n",
      "(1,1): phase shift: -68.29126984523633 + i (-2.9076682570202554) [degrees]\n"
     ]
    }
   ],
   "source": [
    "R, S, uext_boundary = solver.solve(\n",
    "    channels_2[l],\n",
    "    asymptotics_2[l],\n",
    "    nonlocal_interaction=interaction_2level_nonlocal,\n",
    "    nonlocal_args=params_2level_nonlocal,\n",
    ")\n",
    "for i in range(2):\n",
    "    for j in range(2):\n",
    "        phase_shift, phase_attenuation = delta(S[i, j])\n",
    "        print(\n",
    "            f\"({i},{j}): phase shift: {phase_shift} + i ({phase_attenuation}) [degrees]\"\n",
    "        )"
   ]
  },
  {
   "cell_type": "markdown",
   "metadata": {},
   "source": [
    "## Let's compare speed"
   ]
  },
  {
   "cell_type": "code",
   "execution_count": 19,
   "metadata": {},
   "outputs": [
    {
     "name": "stdout",
     "output_type": "stream",
     "text": [
      "333 µs ± 20.8 µs per loop (mean ± std. dev. of 7 runs, 1,000 loops each)\n"
     ]
    }
   ],
   "source": [
    "%%timeit\n",
    "R, S, uext_boundary = solver.solve(\n",
    "    channels_1[l],\n",
    "    asymptotics_1[l],\n",
    "    local_interaction=interaction_local,\n",
    "    local_args=params_local,\n",
    ")"
   ]
  },
  {
   "cell_type": "code",
   "execution_count": 20,
   "metadata": {},
   "outputs": [
    {
     "name": "stdout",
     "output_type": "stream",
     "text": [
      "409 µs ± 11.4 µs per loop (mean ± std. dev. of 7 runs, 1,000 loops each)\n"
     ]
    }
   ],
   "source": [
    "%%timeit\n",
    "R, S, uext_boundary = solver.solve(\n",
    "    channels_1[l],\n",
    "    asymptotics_1[l],\n",
    "    local_interaction=coulomb_charged_sphere,\n",
    "    local_args=params_coul,\n",
    "    nonlocal_interaction=interaction_nonlocal,\n",
    "    nonlocal_args=params_nonlocal,\n",
    ")"
   ]
  },
  {
   "cell_type": "code",
   "execution_count": 21,
   "metadata": {},
   "outputs": [
    {
     "name": "stdout",
     "output_type": "stream",
     "text": [
      "804 µs ± 146 µs per loop (mean ± std. dev. of 7 runs, 1,000 loops each)\n"
     ]
    }
   ],
   "source": [
    "%%timeit\n",
    "R, S, uext_boundary = solver.solve(\n",
    "    channels_2[l],\n",
    "    asymptotics_2[l],\n",
    "    local_interaction=interaction_2level,\n",
    "    local_args=params_2level,\n",
    ")"
   ]
  },
  {
   "cell_type": "code",
   "execution_count": 22,
   "metadata": {},
   "outputs": [
    {
     "name": "stdout",
     "output_type": "stream",
     "text": [
      "1.08 ms ± 174 µs per loop (mean ± std. dev. of 7 runs, 1,000 loops each)\n"
     ]
    }
   ],
   "source": [
    "%%timeit\n",
    "R, S, uext_boundary = solver.solve(\n",
    "    channels_2[l],\n",
    "    asymptotics_2[l],\n",
    "    nonlocal_interaction=interaction_2level_nonlocal,\n",
    "    nonlocal_args=params_2level_nonlocal,\n",
    ")"
   ]
  },
  {
   "cell_type": "markdown",
   "metadata": {},
   "source": [
    "## Let's see if `njit`-ing the interaction gives us any speed up."
   ]
  },
  {
   "cell_type": "code",
   "execution_count": 23,
   "metadata": {},
   "outputs": [],
   "source": [
    "# a local scalar interaction\n",
    "from numba import njit\n",
    "\n",
    "\n",
    "@njit\n",
    "def interaction_local_njit(r, V0, W0, R0, a0, Zz):\n",
    "    nuclear = woods_saxon_potential(r, V0, W0, R0, a0)\n",
    "    return nuclear"
   ]
  },
  {
   "cell_type": "code",
   "execution_count": 24,
   "metadata": {},
   "outputs": [
    {
     "data": {
      "text/plain": [
       "(array([[-0.01205059-0.0040834j]]),\n",
       " array([[-0.88242801-0.7018889j]]),\n",
       " array([0.32840734-0.97451344j]))"
      ]
     },
     "execution_count": 24,
     "metadata": {},
     "output_type": "execute_result"
    }
   ],
   "source": [
    "# jit compile once\n",
    "solver.solve(\n",
    "    channels_1[l],\n",
    "    asymptotics_1[l],\n",
    "    local_interaction=interaction_local,\n",
    "    local_args=params_local,\n",
    ")"
   ]
  },
  {
   "cell_type": "code",
   "execution_count": 26,
   "metadata": {},
   "outputs": [
    {
     "name": "stdout",
     "output_type": "stream",
     "text": [
      "329 µs ± 9.78 µs per loop (mean ± std. dev. of 7 runs, 1,000 loops each)\n"
     ]
    }
   ],
   "source": [
    "%%timeit\n",
    "R, S, uext_boundary = solver.solve(\n",
    "    channels_1[l],\n",
    "    asymptotics_1[l],\n",
    "    local_interaction=interaction_local,\n",
    "    local_args=params_local,\n",
    ")"
   ]
  },
  {
   "cell_type": "markdown",
   "metadata": {},
   "source": [
    "## Answer: no"
   ]
  },
  {
   "cell_type": "code",
   "execution_count": null,
   "metadata": {},
   "outputs": [],
   "source": []
  }
 ],
 "metadata": {
  "kernelspec": {
   "display_name": "Python 3 (ipykernel)",
   "language": "python",
   "name": "python3"
  },
  "language_info": {
   "codemirror_mode": {
    "name": "ipython",
    "version": 3
   },
   "file_extension": ".py",
   "mimetype": "text/x-python",
   "name": "python",
   "nbconvert_exporter": "python",
   "pygments_lexer": "ipython3",
   "version": "3.10.14"
  }
 },
 "nbformat": 4,
 "nbformat_minor": 4
}
