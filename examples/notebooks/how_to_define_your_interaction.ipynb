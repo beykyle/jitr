{
 "cells": [
  {
   "cell_type": "markdown",
   "metadata": {},
   "source": [
    "In this note book we provide some examples of how to define local, nonlocal, single and multi-channel interactions."
   ]
  },
  {
   "cell_type": "code",
   "execution_count": 15,
   "metadata": {},
   "outputs": [],
   "source": [
    "import numpy as np\n",
    "\n",
    "from jitr import reactions, rmatrix\n",
    "from jitr.reactions.potentials import coulomb_charged_sphere, woods_saxon_potential\n",
    "from jitr.utils import delta, kinematics"
   ]
  },
  {
   "cell_type": "code",
   "execution_count": 16,
   "metadata": {},
   "outputs": [],
   "source": [
    "# a local scalar interaction\n",
    "def interaction_local(r, V0, W0, R0, a0, Zz):\n",
    "    nuclear = woods_saxon_potential(r, V0, W0, R0, a0)\n",
    "    coulomb = coulomb_charged_sphere(r, Zz, R0)\n",
    "    return nuclear + coulomb"
   ]
  },
  {
   "cell_type": "code",
   "execution_count": 19,
   "metadata": {},
   "outputs": [],
   "source": [
    "# a nonlocal scalar interaction\n",
    "def interaction_nonlocal(r, rp, V0, W0, R0, a0, Zz):\n",
    "    nuclear = woods_saxon_potential(0.5 * (r + rp), V0, W0, R0, a0) * np.exp(\n",
    "        (r - rp) ** 2\n",
    "    )\n",
    "    coulomb = coulomb_charged_sphere(r, R0, Zz)\n",
    "    return nuclear + coulomb"
   ]
  },
  {
   "cell_type": "code",
   "execution_count": 20,
   "metadata": {},
   "outputs": [],
   "source": [
    "def interaction_2level(r, V0, W0, V1, W1, g, R0, a0, Zz):\n",
    "    nuclear0 = woods_saxon_potential(r, V0, W0, R0, a0)\n",
    "    nuclear1 = woods_saxon_potential(r, V1, W1, R0, a0)\n",
    "    coupling = woods_saxon_potential(r, g, 0, R0, a0)\n",
    "    coulomb = coulomb_charged_sphere(r, Zz, R0)\n",
    "    return np.array([[nuclear0 + coulomb, coupling], [coupling, nuclear1 + coulomb]])"
   ]
  },
  {
   "cell_type": "code",
   "execution_count": 21,
   "metadata": {},
   "outputs": [],
   "source": [
    "def interaction_2level_nonlocal(r, rp, V0, W0, V1, W1, g, R0, a0, Zz):\n",
    "    nuclear0 = woods_saxon_potential(r, V0, W0, R0, a0) * np.exp(-((r - rp) ** 2))\n",
    "    nuclear1 = woods_saxon_potential(r, V1, W1, R0, a0) * np.exp(-((r - rp) ** 2))\n",
    "    coupling = woods_saxon_potential(r, g, 0, R0, a0) * np.exp(-((r - rp) ** 2))\n",
    "    return np.array([[nuclear0 + coulomb, coupling], [coupling, nuclear1 + coulomb]])"
   ]
  },
  {
   "cell_type": "markdown",
   "metadata": {},
   "source": [
    "define system"
   ]
  },
  {
   "cell_type": "code",
   "execution_count": 22,
   "metadata": {},
   "outputs": [],
   "source": [
    "Elab = 35  # MeV\n",
    "Ca48 = (28, 20)\n",
    "proton = (1, 1)"
   ]
  },
  {
   "cell_type": "code",
   "execution_count": 23,
   "metadata": {},
   "outputs": [],
   "source": [
    "sys = reactions.ProjectileTargetSystem(\n",
    "    channel_radii=np.array([5 * np.pi]),\n",
    "    l=np.array([0]),\n",
    "    mass_target=kinematics.mass(*Ca48),\n",
    "    mass_projectile=kinematics.mass(*proton),\n",
    "    Ztarget=Ca48[1],\n",
    "    Zproj=proton[1],\n",
    ")\n",
    "Ecm, mu, k, eta = kinematics.classical_kinematics(\n",
    "    sys.mass_target,\n",
    "    sys.mass_projectile,\n",
    "    Elab,\n",
    "    sys.Ztarget * sys.Zproj,\n",
    ")\n",
    "channels, asymptotics = sys.coupled(Ecm, mu, k, eta)"
   ]
  },
  {
   "cell_type": "code",
   "execution_count": 24,
   "metadata": {},
   "outputs": [],
   "source": [
    "solver = rmatrix.Solver(nbasis=40)"
   ]
  },
  {
   "cell_type": "code",
   "execution_count": 25,
   "metadata": {},
   "outputs": [],
   "source": [
    "params = (42.0, 18.1, 4.8, 0.7, sys.Zproj * sys.Ztarget)\n",
    "R, S, uext_boundary = solver.solve(\n",
    "    channels, asymptotics, interaction_local, local_args=params\n",
    ")"
   ]
  },
  {
   "cell_type": "code",
   "execution_count": 26,
   "metadata": {},
   "outputs": [
    {
     "name": "stdout",
     "output_type": "stream",
     "text": [
      "phase shift: -70.751 + i (-3.439) [degrees]\n"
     ]
    }
   ],
   "source": [
    "phase_shift, phase_attenuation = delta(S[0, 0])\n",
    "print(f\"phase shift: {phase_shift:1.3f} + i ({phase_attenuation:1.3f}) [degrees]\")"
   ]
  }
 ],
 "metadata": {
  "kernelspec": {
   "display_name": "Python 3 (ipykernel)",
   "language": "python",
   "name": "python3"
  },
  "language_info": {
   "codemirror_mode": {
    "name": "ipython",
    "version": 3
   },
   "file_extension": ".py",
   "mimetype": "text/x-python",
   "name": "python",
   "nbconvert_exporter": "python",
   "pygments_lexer": "ipython3",
   "version": "3.10.14"
  }
 },
 "nbformat": 4,
 "nbformat_minor": 4
}
