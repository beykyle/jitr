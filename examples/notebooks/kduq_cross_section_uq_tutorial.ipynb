{
 "cells": [
  {
   "cell_type": "markdown",
   "id": "93a49da0",
   "metadata": {},
   "source": [
    "# Uncertainty quantification for cross sections\n",
    "This tutorial will demonstrate how to use jitr to perform uncertainty quantification of a simple reaction observable: differential elastic scattering cross sections. We will use the uncertainty quantified optical potential KDUQ introduced here: [[Pruitt et al., 2024]](https://journals.aps.org/prc/abstract/10.1103/PhysRevC.107.014602)."
   ]
  },
  {
   "cell_type": "code",
   "execution_count": 4,
   "id": "9fbc70e4-6ac7-4a99-8a84-3197e65a8666",
   "metadata": {
    "scrolled": true
   },
   "outputs": [],
   "source": [
    "from pathlib import Path\n",
    "\n",
    "import corner\n",
    "\n",
    "# import stuff for nice plotting\n",
    "import matplotlib.pyplot as plt\n",
    "import numpy as np\n",
    "from matplotlib.lines import Line2D\n",
    "from numba import njit\n",
    "from scipy import stats\n",
    "from tqdm import tqdm"
   ]
  },
  {
   "cell_type": "markdown",
   "id": "2710b910",
   "metadata": {},
   "source": [
    "We will use [exfor-tools](https://github.com/beykyle/exfor_tools) using an [x4i3](https://github.com/afedynitch/x4i3/) backend for grabbing data from [EXFOR](https://www-nds.iaea.org/exfor/) (requires 1GB of disk space to download)."
   ]
  },
  {
   "cell_type": "code",
   "execution_count": 5,
   "id": "bea83170",
   "metadata": {},
   "outputs": [],
   "source": [
    "#!pip install x4i3"
   ]
  },
  {
   "cell_type": "code",
   "execution_count": 6,
   "id": "33b3b60f",
   "metadata": {},
   "outputs": [],
   "source": [
    "import exfor_tools\n",
    "import jitr"
   ]
  },
  {
   "cell_type": "markdown",
   "id": "af45224f",
   "metadata": {},
   "source": [
    "### Let's find some data to compare to\n",
    "Let's grab some data from [EXFOR](https://www-nds.iaea.org/exfor/). We will look at $d\\sigma_{el}/d\\Omega$ for $(n,n)$ and $(p,p)$."
   ]
  },
  {
   "cell_type": "code",
   "execution_count": 7,
   "id": "943628b1",
   "metadata": {},
   "outputs": [],
   "source": [
    "# targets to consider\n",
    "Ca40 = (40, 20)\n",
    "Ca48 = (48, 20)\n",
    "Pb208 = (208, 82)\n",
    "\n",
    "isotopes = [Ca40, Ca48, Pb208]\n",
    "\n",
    "# for plotting differential xs\n",
    "angles = np.linspace(0.1, np.pi, 100)"
   ]
  },
  {
   "cell_type": "code",
   "execution_count": 8,
   "id": "476fab89-d853-48f7-87d8-a8e1bd69d142",
   "metadata": {},
   "outputs": [
    {
     "name": "stdout",
     "output_type": "stream",
     "text": [
      "Found measurements at 36 different energies for (p,p) on (40,20)\n",
      "Found measurements at 11 different energies for (n,n) on (40,20)\n",
      "Found measurements at 9 different energies for (p,p) on (48,20)\n",
      "Found measurements at 2 different energies for (n,n) on (48,20)\n",
      "There was an error reading entry C1292, it will be skipped:\n",
      "Missing 'Angle' field!\n",
      "There was an error reading entry O0187, it will be skipped:\n",
      "Missing 'Angle' field!\n",
      "There was an error reading entry O0191, it will be skipped:\n",
      "Missing 'Angle' field!\n",
      "Found measurements at 15 different energies for (p,p) on (208,82)\n",
      "Found measurements at 17 different energies for (n,n) on (208,82)\n"
     ]
    }
   ],
   "source": [
    "nn_entries_by_isotope = {}\n",
    "pp_entries_by_isotope = {}\n",
    "\n",
    "nn_measurements_by_isotope = {}\n",
    "pp_measurements_by_isotope = {}\n",
    "\n",
    "for isotope in isotopes:\n",
    "    all_entries_pp = exfor_tools.get_exfor_differential_data(\n",
    "        target=isotope,\n",
    "        projectile=(1, 1),\n",
    "        quantity=\"dXS/dA\",\n",
    "        product=\"EL\",\n",
    "        energy_range=[10, 100],  # MeV\n",
    "    )\n",
    "    pp_entries_by_isotope[isotope] = all_entries_pp\n",
    "    pp_measurements_by_isotope[isotope] = exfor_tools.sort_measurements_by_energy(\n",
    "        all_entries_pp\n",
    "    )\n",
    "    print(\n",
    "        f\"Found measurements at {len(list(pp_measurements_by_isotope[isotope]))} different energies for (p,p) on ({isotope[0]},{isotope[1]})\"\n",
    "    )\n",
    "\n",
    "    all_entries_nn = exfor_tools.get_exfor_differential_data(\n",
    "        target=isotope,\n",
    "        projectile=(1, 0),\n",
    "        quantity=\"dXS/dA\",\n",
    "        product=\"EL\",\n",
    "        energy_range=[10, 100],  # MeV\n",
    "    )\n",
    "    nn_entries_by_isotope[isotope] = all_entries_nn\n",
    "    nn_measurements_by_isotope[isotope] = exfor_tools.sort_measurements_by_energy(\n",
    "        all_entries_nn\n",
    "    )\n",
    "    print(\n",
    "        f\"Found measurements at {len(list(nn_measurements_by_isotope[isotope]))} different energies for (n,n) on ({isotope[0]},{isotope[1]})\"\n",
    "    )"
   ]
  },
  {
   "cell_type": "code",
   "execution_count": 9,
   "id": "b183e0dc-870c-4b70-9e90-052c93405dae",
   "metadata": {},
   "outputs": [],
   "source": [
    "def plot_exfor_data(isotope, reaction=\"p,p\"):\n",
    "    if reaction == \"p,p\":\n",
    "        entry = pp_entries_by_isotope[isotope][\n",
    "            list(pp_entries_by_isotope[isotope].keys())[0]\n",
    "        ]\n",
    "        measurements = pp_measurements_by_isotope[isotope]\n",
    "\n",
    "    elif reaction == \"n,n\":\n",
    "        entry = nn_entries_by_isotope[isotope][\n",
    "            list(nn_entries_by_isotope[isotope].keys())[0]\n",
    "        ]\n",
    "        measurements = nn_measurements_by_isotope[isotope]\n",
    "\n",
    "    num_measurements = len(measurements)\n",
    "    max_measurements_per_plot = 12\n",
    "    num_plots = num_measurements // max_measurements_per_plot\n",
    "    extra = num_measurements % max_measurements_per_plot\n",
    "\n",
    "    energies = []\n",
    "    axes = []\n",
    "    for i in range(num_plots):\n",
    "        fig, ax = plt.subplots(1, 1, figsize=(6, 12))\n",
    "        measurement_chunk = (\n",
    "            measurements[\n",
    "                i * max_measurements_per_plot : (i + 1) * max_measurements_per_plot\n",
    "            ],\n",
    "        )\n",
    "        entry.plot_experiment(\n",
    "            ax,\n",
    "            measurement_chunk,\n",
    "            offsets=50,\n",
    "            label_offset_factor=2,\n",
    "            label_hloc_deg=150,\n",
    "            label_energy_err=False,\n",
    "            label_offset=False,\n",
    "        )\n",
    "        energies.append([m.Ecm for m in measurement_chunk])\n",
    "        axes.append(ax)\n",
    "    if extra > 0:\n",
    "        fig, ax = plt.subplots(1, 1, figsize=(6, 12))\n",
    "        measurement_chunk = (measurements[num_plots * max_measurements_per_plot :],)\n",
    "        entry.plot_experiment(\n",
    "            ax,\n",
    "            measurement_chunk,\n",
    "            offsets=50,\n",
    "            label_offset_factor=2,\n",
    "            label_hloc_deg=150,\n",
    "            label_energy_err=False,\n",
    "            label_offset=False,\n",
    "        )\n",
    "        energies.append([m.Ecm for m in measurement_chunk])\n",
    "        axes.append(ax)\n",
    "\n",
    "    return axes, energies"
   ]
  },
  {
   "cell_type": "code",
   "execution_count": 10,
   "id": "d92884b4-a951-40dd-ad15-02d07af98659",
   "metadata": {},
   "outputs": [
    {
     "ename": "AttributeError",
     "evalue": "'list' object has no attribute 'units'",
     "output_type": "error",
     "traceback": [
      "\u001b[0;31m---------------------------------------------------------------------------\u001b[0m",
      "\u001b[0;31mAttributeError\u001b[0m                            Traceback (most recent call last)",
      "Cell \u001b[0;32mIn[10], line 1\u001b[0m\n\u001b[0;32m----> 1\u001b[0m \u001b[43mplot_exfor_data\u001b[49m\u001b[43m(\u001b[49m\u001b[43mCa48\u001b[49m\u001b[43m)\u001b[49m\n",
      "Cell \u001b[0;32mIn[9], line 42\u001b[0m, in \u001b[0;36mplot_exfor_data\u001b[0;34m(isotope, reaction)\u001b[0m\n\u001b[1;32m     40\u001b[0m fig, ax \u001b[38;5;241m=\u001b[39m plt\u001b[38;5;241m.\u001b[39msubplots(\u001b[38;5;241m1\u001b[39m, \u001b[38;5;241m1\u001b[39m, figsize\u001b[38;5;241m=\u001b[39m(\u001b[38;5;241m6\u001b[39m, \u001b[38;5;241m12\u001b[39m))\n\u001b[1;32m     41\u001b[0m measurement_chunk \u001b[38;5;241m=\u001b[39m (measurements[num_plots \u001b[38;5;241m*\u001b[39m max_measurements_per_plot :],)\n\u001b[0;32m---> 42\u001b[0m \u001b[43mentry\u001b[49m\u001b[38;5;241;43m.\u001b[39;49m\u001b[43mplot_experiment\u001b[49m\u001b[43m(\u001b[49m\n\u001b[1;32m     43\u001b[0m \u001b[43m    \u001b[49m\u001b[43max\u001b[49m\u001b[43m,\u001b[49m\n\u001b[1;32m     44\u001b[0m \u001b[43m    \u001b[49m\u001b[43mmeasurement_chunk\u001b[49m\u001b[43m,\u001b[49m\n\u001b[1;32m     45\u001b[0m \u001b[43m    \u001b[49m\u001b[43moffsets\u001b[49m\u001b[38;5;241;43m=\u001b[39;49m\u001b[38;5;241;43m50\u001b[39;49m\u001b[43m,\u001b[49m\n\u001b[1;32m     46\u001b[0m \u001b[43m    \u001b[49m\u001b[43mlabel_offset_factor\u001b[49m\u001b[38;5;241;43m=\u001b[39;49m\u001b[38;5;241;43m2\u001b[39;49m\u001b[43m,\u001b[49m\n\u001b[1;32m     47\u001b[0m \u001b[43m    \u001b[49m\u001b[43mlabel_hloc_deg\u001b[49m\u001b[38;5;241;43m=\u001b[39;49m\u001b[38;5;241;43m150\u001b[39;49m\u001b[43m,\u001b[49m\n\u001b[1;32m     48\u001b[0m \u001b[43m    \u001b[49m\u001b[43mlabel_energy_err\u001b[49m\u001b[38;5;241;43m=\u001b[39;49m\u001b[38;5;28;43;01mFalse\u001b[39;49;00m\u001b[43m,\u001b[49m\n\u001b[1;32m     49\u001b[0m \u001b[43m    \u001b[49m\u001b[43mlabel_offset\u001b[49m\u001b[38;5;241;43m=\u001b[39;49m\u001b[38;5;28;43;01mFalse\u001b[39;49;00m\u001b[43m,\u001b[49m\n\u001b[1;32m     50\u001b[0m \u001b[43m\u001b[49m\u001b[43m)\u001b[49m\n\u001b[1;32m     51\u001b[0m energies\u001b[38;5;241m.\u001b[39mappend([m\u001b[38;5;241m.\u001b[39mEcm \u001b[38;5;28;01mfor\u001b[39;00m m \u001b[38;5;129;01min\u001b[39;00m measurement_chunk])\n\u001b[1;32m     52\u001b[0m axes\u001b[38;5;241m.\u001b[39mappend(ax)\n",
      "File \u001b[0;32m~/mambaforge/envs/sage/lib/python3.11/site-packages/exfor_tools/exfor_tools.py:383\u001b[0m, in \u001b[0;36mExforDifferentialData.plot_experiment\u001b[0;34m(self, ax, measurements, offsets, label_hloc_deg, label_offset_factor, log, add_baseline, xlim, label_energy_err, label_offset)\u001b[0m\n\u001b[1;32m    380\u001b[0m         offsets \u001b[38;5;241m=\u001b[39m constant_factor \u001b[38;5;241m*\u001b[39m np\u001b[38;5;241m.\u001b[39marange(\u001b[38;5;241m0\u001b[39m, \u001b[38;5;28mlen\u001b[39m(measurements))\n\u001b[1;32m    382\u001b[0m \u001b[38;5;66;03m# assume all units are the same, which should be true if santization worked\u001b[39;00m\n\u001b[0;32m--> 383\u001b[0m units_x \u001b[38;5;241m=\u001b[39m \u001b[43mmeasurements\u001b[49m\u001b[43m[\u001b[49m\u001b[38;5;241;43m0\u001b[39;49m\u001b[43m]\u001b[49m\u001b[38;5;241;43m.\u001b[39;49m\u001b[43munits\u001b[49m[\u001b[38;5;241m0\u001b[39m]\n\u001b[1;32m    384\u001b[0m units_y \u001b[38;5;241m=\u001b[39m measurements[\u001b[38;5;241m0\u001b[39m]\u001b[38;5;241m.\u001b[39munits[\u001b[38;5;241m1\u001b[39m]\n\u001b[1;32m    386\u001b[0m \u001b[38;5;66;03m# plot each measurement and add a label\u001b[39;00m\n",
      "\u001b[0;31mAttributeError\u001b[0m: 'list' object has no attribute 'units'"
     ]
    },
    {
     "data": {
      "image/png": "[encoded data removed]",
      "text/plain": [
       "<Figure size 600x1200 with 1 Axes>"
      ]
     },
     "metadata": {},
     "output_type": "display_data"
    }
   ],
   "source": [
    "plot_exfor_data(Ca48)"
   ]
  },
  {
   "cell_type": "code",
   "execution_count": null,
   "id": "fd312c6e-871d-452a-97f6-565cdefc7986",
   "metadata": {},
   "outputs": [],
   "source": [
    "plot_exfor_data(Ca48, reaction=\"n,n\")"
   ]
  },
  {
   "cell_type": "code",
   "execution_count": null,
   "id": "a2a8e89f-f967-4437-b783-b8884d763292",
   "metadata": {},
   "outputs": [],
   "source": [
    "plot_exfor_data(Pb208, reaction=\"p,p\")"
   ]
  },
  {
   "cell_type": "markdown",
   "id": "ed5f8026-8c3a-4ba6-82d1-d588594e975d",
   "metadata": {},
   "source": [
    "Grabbing quasi-elastic $(p,n)$ data is a little more difficult, as EXFOR treats all $(p,n)$ data together rather than separating the data at a specific energy of the isobaric analog state. But we can pick out a few specific entries that have the data we want."
   ]
  },
  {
   "cell_type": "markdown",
   "id": "24060cde",
   "metadata": {},
   "source": [
    "### Let's compare our data to an out-of-the-box optical model potential"
   ]
  },
  {
   "cell_type": "markdown",
   "id": "cb63c839",
   "metadata": {},
   "source": [
    "We will use the the KDUQ potential from [Pruitt et al., 2024](https://journals.aps.org/prc/abstract/10.1103/PhysRevC.107.014602) potential. The supplemental material in that link contains a set of samples from the posterior of the KDUQ parameter distribution. Let's load them up:"
   ]
  },
  {
   "cell_type": "code",
   "execution_count": 10,
   "id": "ca674e98",
   "metadata": {},
   "outputs": [],
   "source": [
    "# we have 416 samples from the KDUQ posterior\n",
    "num_samples_kduq = 415\n",
    "param_files = [\n",
    "    Path(f\"./KDUQFederal/{i}/parameters.json\") for i in range(0, num_samples_kduq)\n",
    "]\n",
    "\n",
    "# load each one\n",
    "kduq_omps = [\n",
    "    rose.koning_delaroche.KDGlobal(rose.Projectile.neutron, Path(param_file))\n",
    "    for param_file in param_files\n",
    "]"
   ]
  },
  {
   "cell_type": "markdown",
   "id": "5185f456",
   "metadata": {},
   "source": [
    "We will create an instance of a `rose.InteractionSpace` and a `rose.ScatteringAmplitudeEmulator` for each of these potentials, and we will use the high-fidelity solver to calculate the cross sections predicted by each model.\n",
    "\n",
    "We will use a high-fidelity solver from the [jitr package](https://github.com/beykyle/jitr) which uses the R-Matrix method on a Lagrange-Legendre mesh."
   ]
  },
  {
   "cell_type": "code",
   "execution_count": 11,
   "id": "865b0abe",
   "metadata": {},
   "outputs": [],
   "source": [
    "core_solver = jitr.RMatrixSolver(40)"
   ]
  },
  {
   "cell_type": "code",
   "execution_count": 12,
   "id": "59075875",
   "metadata": {},
   "outputs": [
    {
     "name": "stderr",
     "output_type": "stream",
     "text": [
      "/home/kyle/umich/jitr/src/jitr/rmatrix.py:46: NumbaPerformanceWarning: \u001b[1m\u001b[1m\u001b[1m'@' is faster on contiguous arrays, called on (Array(complex128, 1, 'C', False, aligned=True), Array(complex128, 2, 'A', False, aligned=True))\u001b[0m\u001b[0m\u001b[0m\n",
      "  R, Ainv = rmatrix_with_inverse(A, b, nchannels, nbasis, a)\n",
      "/home/kyle/umich/rose/src/rose/koning_delaroche.py:450: RuntimeWarning: overflow encountered in exp\n",
      "  d2 = self.d2_0 + self.d2_A / (1 + np.exp((A - self.d2_A3) / self.d2_A2))\n"
     ]
    }
   ],
   "source": [
    "num_samples_pred_post = 50\n",
    "kduq_pred_post = {}\n",
    "kduq_solvers = {}\n",
    "projectile = (1, 0)  # neutron\n",
    "\n",
    "# for each experiment, and for each parameter sample,\n",
    "# use the rose high-fidelity solver to calculate the\n",
    "# KDUQ prediction\n",
    "for isotope in isotopes:\n",
    "    kduq_pred_post[isotope] = {}\n",
    "    kduq_solvers = {}\n",
    "\n",
    "    for measurement in nn_measurements_by_isotope[isotope]:\n",
    "        Ecm = measurement.Ecm\n",
    "        dEcm = measurement.dEcm\n",
    "\n",
    "        # get kinematics and parameters for this experiment\n",
    "        mu, Elab, k, eta = rose.utility.kinematics(isotope, projectile, E_com=Ecm)\n",
    "\n",
    "        kduq = rose.InteractionSpace(\n",
    "            coordinate_space_potential=rose.koning_delaroche.KD_simple,\n",
    "            n_theta=rose.koning_delaroche.NUM_PARAMS,\n",
    "            is_complex=True,\n",
    "            spin_orbit_term=rose.koning_delaroche.KD_simple_so,\n",
    "            energy=Ecm,\n",
    "            mu=mu,\n",
    "            k=k,\n",
    "            l_max=15,\n",
    "        )\n",
    "        rmatrix_solver = rose.LagrangeRmatrix(\n",
    "            kduq.interactions[0][0],\n",
    "            np.pi * 10,\n",
    "            core_solver,\n",
    "        )\n",
    "        kduq_solvers[Ecm] = rose.ScatteringAmplitudeEmulator.HIFI_solver(\n",
    "            base_solver=rmatrix_solver,\n",
    "            interaction_space=kduq,\n",
    "            angles=angles,\n",
    "        )\n",
    "\n",
    "        # get a differential xs for each parameter sample\n",
    "        kduq_xs = np.zeros((len(angles), num_samples_pred_post))\n",
    "        samples = np.random.choice(num_samples_kduq, size=num_samples_pred_post)\n",
    "\n",
    "        for i, sample in enumerate(tqdm(samples)):\n",
    "            omp = kduq_omps[sample]\n",
    "            _, params = omp.get_params(*isotope, mu, Elab, k)\n",
    "            kduq_xs[:, i] = kduq_solvers[Ecm].exact_xs(params).dsdo\n",
    "\n",
    "        # get a credible interval describing the KDUQ predictive posterior\n",
    "        # for this experiment\n",
    "        kduq_pred_post[isotope][str(Elab)] = (\n",
    "            np.percentile(kduq_xs, 5, axis=1),\n",
    "            np.percentile(kduq_xs, 95, axis=1),\n",
    "        )"
   ]
  },
  {
   "cell_type": "markdown",
   "id": "ac97fc5a",
   "metadata": {},
   "source": [
    "Now that we have our model predictions, lets plot them compared to the experimental data. We will offset each energy for visibility."
   ]
  },
  {
   "cell_type": "code",
   "execution_count": 19,
   "id": "0a4895d4",
   "metadata": {},
   "outputs": [
    {
     "ename": "ValueError",
     "evalue": "'yerr' must not contain negative values",
     "output_type": "error",
     "traceback": [
      "\u001b[0;31m---------------------------------------------------------------------------\u001b[0m",
      "\u001b[0;31mValueError\u001b[0m                                Traceback (most recent call last)",
      "Cell \u001b[0;32mIn[19], line 6\u001b[0m\n\u001b[1;32m      4\u001b[0m entry_nums \u001b[38;5;241m=\u001b[39m \u001b[38;5;28mlist\u001b[39m(nn_entries_by_isotope[isotope]\u001b[38;5;241m.\u001b[39mkeys())\n\u001b[1;32m      5\u001b[0m an_entry \u001b[38;5;241m=\u001b[39m nn_entries_by_isotope[isotope][entry_nums[\u001b[38;5;241m0\u001b[39m]]\n\u001b[0;32m----> 6\u001b[0m \u001b[43man_entry\u001b[49m\u001b[38;5;241;43m.\u001b[39;49m\u001b[43mplot_experiment\u001b[49m\u001b[43m(\u001b[49m\u001b[43max\u001b[49m\u001b[43m,\u001b[49m\u001b[43m \u001b[49m\u001b[43mnn_measurements_by_isotope\u001b[49m\u001b[43m[\u001b[49m\u001b[43misotope\u001b[49m\u001b[43m]\u001b[49m\u001b[43m,\u001b[49m\u001b[43m \u001b[49m\u001b[43moffsets\u001b[49m\u001b[38;5;241;43m=\u001b[39;49m\u001b[38;5;241;43m100\u001b[39;49m\u001b[43m,\u001b[49m\u001b[43m \u001b[49m\u001b[43mlabel_hloc_deg\u001b[49m\u001b[38;5;241;43m=\u001b[39;49m\u001b[38;5;241;43m120\u001b[39;49m\u001b[43m,\u001b[49m\u001b[43m \u001b[49m\u001b[43mlabel_energy_err\u001b[49m\u001b[38;5;241;43m=\u001b[39;49m\u001b[38;5;28;43;01mFalse\u001b[39;49;00m\u001b[43m,\u001b[49m\u001b[43m)\u001b[49m\n",
      "File \u001b[0;32m~/el/exfor_tools/src/exfor_tools/exfor_tools.py:405\u001b[0m, in \u001b[0;36mExforDifferentialData.plot_experiment\u001b[0;34m(self, ax, measurements, offsets, label_hloc_deg, label_offset_factor, log, add_baseline, xlim, label_energy_err, label_offset)\u001b[0m\n\u001b[1;32m    402\u001b[0m \u001b[38;5;28;01melse\u001b[39;00m:\n\u001b[1;32m    403\u001b[0m     y \u001b[38;5;241m+\u001b[39m\u001b[38;5;241m=\u001b[39m offset\n\u001b[0;32m--> 405\u001b[0m \u001b[43max\u001b[49m\u001b[38;5;241;43m.\u001b[39;49m\u001b[43merrorbar\u001b[49m\u001b[43m(\u001b[49m\u001b[43mx\u001b[49m\u001b[43m,\u001b[49m\u001b[43m \u001b[49m\u001b[43my\u001b[49m\u001b[43m,\u001b[49m\u001b[43m \u001b[49m\u001b[43myerr\u001b[49m\u001b[38;5;241;43m=\u001b[39;49m\u001b[43mdy\u001b[49m\u001b[43m,\u001b[49m\u001b[43m \u001b[49m\u001b[43mxerr\u001b[49m\u001b[38;5;241;43m=\u001b[39;49m\u001b[43mdx\u001b[49m\u001b[43m,\u001b[49m\u001b[43m \u001b[49m\u001b[43mcolor\u001b[49m\u001b[38;5;241;43m=\u001b[39;49m\u001b[38;5;124;43m\"\u001b[39;49m\u001b[38;5;124;43mk\u001b[39;49m\u001b[38;5;124;43m\"\u001b[39;49m\u001b[43m,\u001b[49m\u001b[43m \u001b[49m\u001b[43mlinestyle\u001b[49m\u001b[38;5;241;43m=\u001b[39;49m\u001b[38;5;124;43m\"\u001b[39;49m\u001b[38;5;124;43mNone\u001b[39;49m\u001b[38;5;124;43m\"\u001b[39;49m\u001b[43m,\u001b[49m\u001b[43m \u001b[49m\u001b[43mmarker\u001b[49m\u001b[38;5;241;43m=\u001b[39;49m\u001b[38;5;124;43m\"\u001b[39;49m\u001b[38;5;124;43m.\u001b[39;49m\u001b[38;5;124;43m\"\u001b[39;49m\u001b[43m)\u001b[49m\n\u001b[1;32m    407\u001b[0m \u001b[38;5;28;01mif\u001b[39;00m add_baseline:\n\u001b[1;32m    408\u001b[0m     ax\u001b[38;5;241m.\u001b[39mplot([\u001b[38;5;241m0\u001b[39m, \u001b[38;5;241m180\u001b[39m], [offset, offset], \u001b[38;5;124m\"\u001b[39m\u001b[38;5;124mk--\u001b[39m\u001b[38;5;124m\"\u001b[39m, alpha\u001b[38;5;241m=\u001b[39m\u001b[38;5;241m0.5\u001b[39m)\n",
      "File \u001b[0;32m~/mambaforge/envs/om/lib/python3.10/site-packages/matplotlib/__init__.py:1423\u001b[0m, in \u001b[0;36m_preprocess_data.<locals>.inner\u001b[0;34m(ax, data, *args, **kwargs)\u001b[0m\n\u001b[1;32m   1420\u001b[0m \u001b[38;5;129m@functools\u001b[39m\u001b[38;5;241m.\u001b[39mwraps(func)\n\u001b[1;32m   1421\u001b[0m \u001b[38;5;28;01mdef\u001b[39;00m \u001b[38;5;21minner\u001b[39m(ax, \u001b[38;5;241m*\u001b[39margs, data\u001b[38;5;241m=\u001b[39m\u001b[38;5;28;01mNone\u001b[39;00m, \u001b[38;5;241m*\u001b[39m\u001b[38;5;241m*\u001b[39mkwargs):\n\u001b[1;32m   1422\u001b[0m     \u001b[38;5;28;01mif\u001b[39;00m data \u001b[38;5;129;01mis\u001b[39;00m \u001b[38;5;28;01mNone\u001b[39;00m:\n\u001b[0;32m-> 1423\u001b[0m         \u001b[38;5;28;01mreturn\u001b[39;00m \u001b[43mfunc\u001b[49m\u001b[43m(\u001b[49m\u001b[43max\u001b[49m\u001b[43m,\u001b[49m\u001b[43m \u001b[49m\u001b[38;5;241;43m*\u001b[39;49m\u001b[38;5;28;43mmap\u001b[39;49m\u001b[43m(\u001b[49m\u001b[43msanitize_sequence\u001b[49m\u001b[43m,\u001b[49m\u001b[43m \u001b[49m\u001b[43margs\u001b[49m\u001b[43m)\u001b[49m\u001b[43m,\u001b[49m\u001b[43m \u001b[49m\u001b[38;5;241;43m*\u001b[39;49m\u001b[38;5;241;43m*\u001b[39;49m\u001b[43mkwargs\u001b[49m\u001b[43m)\u001b[49m\n\u001b[1;32m   1425\u001b[0m     bound \u001b[38;5;241m=\u001b[39m new_sig\u001b[38;5;241m.\u001b[39mbind(ax, \u001b[38;5;241m*\u001b[39margs, \u001b[38;5;241m*\u001b[39m\u001b[38;5;241m*\u001b[39mkwargs)\n\u001b[1;32m   1426\u001b[0m     auto_label \u001b[38;5;241m=\u001b[39m (bound\u001b[38;5;241m.\u001b[39marguments\u001b[38;5;241m.\u001b[39mget(label_namer)\n\u001b[1;32m   1427\u001b[0m                   \u001b[38;5;129;01mor\u001b[39;00m bound\u001b[38;5;241m.\u001b[39mkwargs\u001b[38;5;241m.\u001b[39mget(label_namer))\n",
      "File \u001b[0;32m~/mambaforge/envs/om/lib/python3.10/site-packages/matplotlib/axes/_axes.py:3595\u001b[0m, in \u001b[0;36mAxes.errorbar\u001b[0;34m(self, x, y, yerr, xerr, fmt, ecolor, elinewidth, capsize, barsabove, lolims, uplims, xlolims, xuplims, errorevery, capthick, **kwargs)\u001b[0m\n\u001b[1;32m   3592\u001b[0m res \u001b[38;5;241m=\u001b[39m np\u001b[38;5;241m.\u001b[39mzeros(err\u001b[38;5;241m.\u001b[39mshape, dtype\u001b[38;5;241m=\u001b[39m\u001b[38;5;28mbool\u001b[39m)  \u001b[38;5;66;03m# Default in case of nan\u001b[39;00m\n\u001b[1;32m   3593\u001b[0m \u001b[38;5;28;01mif\u001b[39;00m np\u001b[38;5;241m.\u001b[39many(np\u001b[38;5;241m.\u001b[39mless(err, \u001b[38;5;241m-\u001b[39merr, out\u001b[38;5;241m=\u001b[39mres, where\u001b[38;5;241m=\u001b[39m(err \u001b[38;5;241m==\u001b[39m err))):\n\u001b[1;32m   3594\u001b[0m     \u001b[38;5;66;03m# like err<0, but also works for timedelta and nan.\u001b[39;00m\n\u001b[0;32m-> 3595\u001b[0m     \u001b[38;5;28;01mraise\u001b[39;00m \u001b[38;5;167;01mValueError\u001b[39;00m(\n\u001b[1;32m   3596\u001b[0m         \u001b[38;5;124mf\u001b[39m\u001b[38;5;124m\"\u001b[39m\u001b[38;5;124m'\u001b[39m\u001b[38;5;132;01m{\u001b[39;00mdep_axis\u001b[38;5;132;01m}\u001b[39;00m\u001b[38;5;124merr\u001b[39m\u001b[38;5;124m'\u001b[39m\u001b[38;5;124m must not contain negative values\u001b[39m\u001b[38;5;124m\"\u001b[39m)\n\u001b[1;32m   3597\u001b[0m \u001b[38;5;66;03m# This is like\u001b[39;00m\n\u001b[1;32m   3598\u001b[0m \u001b[38;5;66;03m#     elow, ehigh = np.broadcast_to(...)\u001b[39;00m\n\u001b[1;32m   3599\u001b[0m \u001b[38;5;66;03m#     return dep - elow * ~lolims, dep + ehigh * ~uplims\u001b[39;00m\n\u001b[1;32m   3600\u001b[0m \u001b[38;5;66;03m# except that broadcast_to would strip units.\u001b[39;00m\n\u001b[1;32m   3601\u001b[0m low, high \u001b[38;5;241m=\u001b[39m dep \u001b[38;5;241m+\u001b[39m np\u001b[38;5;241m.\u001b[39mrow_stack([\u001b[38;5;241m-\u001b[39m(\u001b[38;5;241m1\u001b[39m \u001b[38;5;241m-\u001b[39m lolims), \u001b[38;5;241m1\u001b[39m \u001b[38;5;241m-\u001b[39m uplims]) \u001b[38;5;241m*\u001b[39m err\n",
      "\u001b[0;31mValueError\u001b[0m: 'yerr' must not contain negative values"
     ]
    },
    {
     "data": {
      "image/png": "[encoded data removed]",
      "text/plain": [
       "<Figure size 1600x1600 with 4 Axes>"
      ]
     },
     "metadata": {},
     "output_type": "display_data"
    }
   ],
   "source": [
    "fig, axes = plt.subplots(1, len(isotopes), figsize=(3 * len(isotopes), 16), sharey=True)\n",
    "for isotope, ax in zip(isotopes, axes):\n",
    "    offset = 1\n",
    "    an_entry = nn_entries_by_isotope[isotope]\n",
    "\n",
    "    for entry in data_by_isotope[isotope]:\n",
    "        for i, (Elab, dElab) in enumerate(entry.energies):\n",
    "            # plot experiment\n",
    "            x, y, dy = (\n",
    "                entry.measurements[i][:, 0],\n",
    "                entry.measurements[i][:, 1],\n",
    "                entry.measurements[i][:, 2],\n",
    "            )\n",
    "        ax.errorbar(\n",
    "            x,\n",
    "            offset * y,\n",
    "            offset * dy,\n",
    "            marker=\"o\",\n",
    "            alpha=0.8,\n",
    "            linestyle=\"none\",\n",
    "            color=\"k\",\n",
    "        )\n",
    "\n",
    "        # plot model\n",
    "        ax.fill_between(\n",
    "            angles * 180 / np.pi,\n",
    "            offset * kduq_pred_post[isotope][str(Elab)][0],\n",
    "            offset * kduq_pred_post[isotope][str(Elab)][1],\n",
    "            color=kd_color,\n",
    "            alpha=0.5,\n",
    "        )\n",
    "\n",
    "        # add a label\n",
    "        energy = str(Elab)\n",
    "        label_loc = (145, offset * np.min(y) / 2)\n",
    "        ax.text(*label_loc, f\"{energy} MeV\")\n",
    "\n",
    "        offset *= 100\n",
    "\n",
    "leg_models = [\n",
    "    Line2D([0], [0], color=kd_color, label=r\"KDUQ $95\\%$ credible interval\", alpha=0.2),\n",
    "]\n",
    "leg1 = ax1.legend(handles=leg_models, loc=\"upper right\")\n",
    "ax1.add_artist(leg1)\n",
    "\n",
    "\n",
    "# plt.ylim([1, 1e6])\n",
    "plt.yscale(\"log\")\n",
    "ax1.set_ylabel(r\"$d\\sigma/d\\Omega$ [%s]\" % entry.units[1])\n",
    "ax1.legend()"
   ]
  },
  {
   "cell_type": "markdown",
   "id": "7567b13b",
   "metadata": {},
   "source": [
    "Turns out KDUQ isn't bad, but some of the data points are definitely outside of the 95% credible interval. Addtionally, for some of those points, there is negligible experimental data. In particular, the first big diffraction peak in the $^{48}$Ca @ 11.9 MeV data set and the large angles of the $^{48}$Ca @ 11.9 and 7.97 MeV sets seem to have statistically significant disagreement between model and experiment. What could be going on here?\n",
    "\n",
    "Let's see how we do with our simple EL model. But first, running the high-fidelity solver in rose 50 times for each of the 5 experiments took a few minutes. Doing a full calibration may require hundreds of thousands of parameter samples. We need to build an emulator! But first, let's specify a prior for our EL model."
   ]
  },
  {
   "cell_type": "code",
   "execution_count": null,
   "id": "9d3cb3f1-6db3-46a2-bb3d-483f99de9c87",
   "metadata": {},
   "outputs": [],
   "source": []
  },
  {
   "cell_type": "markdown",
   "id": "81254730",
   "metadata": {},
   "source": [
    "## Specifying the Prior\n",
    "\n",
    "We need a prior distribution of the parameters that go into our EL model. For the sake of simplicity, we will just guestimate this prior by looking at KDUQ (see Table V. in [Pruitt et al., 2024](https://journals.aps.org/prc/abstract/10.1103/PhysRevC.107.014602)) as well as the original Koning-Delaroche local parameterization for $^{40}$Ca [Koning et al., 2003](https://www.sciencedirect.com/science/article/pii/S0375947402013210) Tables 3 and 4. We will assume our prior can be described by inividual beta functions without correlations."
   ]
  },
  {
   "cell_type": "code",
   "execution_count": null,
   "id": "4a3d70f0",
   "metadata": {},
   "outputs": [],
   "source": [
    "# grab KDUQ params for Ca40 at 14.1 MeV, a roughly representative energy\n",
    "# for our region of interest\n",
    "mu, E_com, k, eta = rose.utility.kinematics(Ca48, (1, 0), E_lab=14.1)\n",
    "ca48_mean_params = np.mean(\n",
    "    [op.get_params(*Ca48, mu, E_lab, k)[1] for op in kduq_omps], axis=0\n",
    ")\n",
    "ca48_std_params = np.std(\n",
    "    [op.get_params(*Ca48, mu, E_lab, k)[1] for op in kduq_omps], axis=0\n",
    ")"
   ]
  },
  {
   "cell_type": "code",
   "execution_count": null,
   "id": "c4ddc031",
   "metadata": {},
   "outputs": [],
   "source": [
    "# grab KDUQ params for Ca48 in same ROI\n",
    "mu, E_com, k, eta = rose.utility.kinematics(Ca40, (1, 0), E_lab=14.1)\n",
    "ca40_mean_params = np.mean(\n",
    "    [op.get_params(*Ca40, mu, E_lab, k)[1] for op in kduq_omps], axis=0\n",
    ")\n",
    "ca40_std_params = np.std(\n",
    "    [op.get_params(*Ca40, mu, E_lab, k)[1] for op in kduq_omps], axis=0\n",
    ")"
   ]
  },
  {
   "cell_type": "code",
   "execution_count": null,
   "id": "b785b989",
   "metadata": {},
   "outputs": [],
   "source": [
    "# look at the KDUQ isoscalar params averaged b/t Ca40 and 48\n",
    "for i in range(15):\n",
    "    print(\n",
    "        i,\n",
    "        ca40_mean_params[i],\n",
    "        ca48_mean_params[i],\n",
    "    )"
   ]
  },
  {
   "cell_type": "code",
   "execution_count": null,
   "id": "0cec9710",
   "metadata": {},
   "outputs": [],
   "source": [
    "# look at the KDUQ isoscalar params averaged b/t Ca40 and 48\n",
    "for i in range(15):\n",
    "    print(\n",
    "        i,\n",
    "        (ca40_mean_params[i] + ca48_mean_params[i]) / 2,\n",
    "        (ca40_std_params[i] + ca48_std_params[i]) / 2,\n",
    "    )"
   ]
  },
  {
   "cell_type": "code",
   "execution_count": null,
   "id": "0bace953",
   "metadata": {},
   "outputs": [],
   "source": [
    "# look at the KDUQ isovector params within the Ca chain\n",
    "asym = 8.0 / 40\n",
    "for i in range(15):\n",
    "    print(\n",
    "        i,\n",
    "        (ca40_mean_params[i] - ca48_mean_params[i]) / asym,\n",
    "        (ca40_std_params[i] - ca48_std_params[i]) / asym,\n",
    "    )"
   ]
  },
  {
   "cell_type": "code",
   "execution_count": null,
   "id": "38984978",
   "metadata": {},
   "outputs": [],
   "source": [
    "# just guestimate based on KDUQ\n",
    "# notice the relative uncertainties are quite large in some cases\n",
    "# we will go ahead and inflate the std deviation of the isovector terms compared to\n",
    "# the KDUQ prior\n",
    "#                V      W    WD   Vso  V1    Wd1   r0     rA     a\n",
    "mean = np.array([47, 1.55, 6.0, 4.89, 10.0, 3.5, 0.0, 1.2, 0.678])\n",
    "stdev = np.array([5.0, 2.0, 1.0, 0.9, 2.0, 1.0, 0.3, 0.3, 0.05])"
   ]
  },
  {
   "cell_type": "code",
   "execution_count": null,
   "id": "2f9e95e8",
   "metadata": {},
   "outputs": [],
   "source": [
    "n_stds = 1\n",
    "feasibility_bounds = np.array([mean - n_stds * stdev, mean + n_stds * stdev]).T"
   ]
  },
  {
   "cell_type": "code",
   "execution_count": null,
   "id": "6d2d27ab",
   "metadata": {},
   "outputs": [],
   "source": [
    "prior_volume = np.prod(feasibility_bounds[1, :] - feasibility_bounds[0, :])"
   ]
  },
  {
   "cell_type": "code",
   "execution_count": null,
   "id": "a4b4d7db",
   "metadata": {},
   "outputs": [],
   "source": [
    "# scale and shift each param to [-1,1]\n",
    "def transform(x):\n",
    "    return (x - mean) / stdev\n",
    "\n",
    "\n",
    "def reverse(y):\n",
    "    return y * stdev + mean"
   ]
  },
  {
   "cell_type": "markdown",
   "id": "532a7bb9",
   "metadata": {},
   "source": [
    "### scale and shift parameters"
   ]
  },
  {
   "cell_type": "code",
   "execution_count": null,
   "id": "3ba47354",
   "metadata": {},
   "outputs": [],
   "source": [
    "def log_prior_transformed(x):\n",
    "    if np.all(x >= -1) and np.all(x < 1):\n",
    "        return (1 / 2) ** elm_num_sub_params\n",
    "    else:\n",
    "        return -np.inf"
   ]
  },
  {
   "cell_type": "code",
   "execution_count": null,
   "id": "4012da1d",
   "metadata": {},
   "outputs": [],
   "source": [
    "prior_samples = rose.training.latin_hypercube_sample(3000, feasibility_bounds)\n",
    "prior_transformed = transform(prior_samples)"
   ]
  },
  {
   "cell_type": "markdown",
   "id": "8029e63f",
   "metadata": {},
   "source": [
    "## Visualize the shape of the potentials\n",
    "\n",
    "let's compare the general shape of KDUQ and ELM as a visual sanity check that our prior is reasonable."
   ]
  },
  {
   "cell_type": "code",
   "execution_count": null,
   "id": "67d5c83c",
   "metadata": {},
   "outputs": [],
   "source": [
    "r = np.linspace(0, 10, 100)\n",
    "E = 14.1\n",
    "isotope = Ca48\n",
    "l_dot_s = 0\n",
    "mu, E_com, k, eta = rose.utility.kinematics(isotope, (1, 0), E_lab=E)\n",
    "\n",
    "\n",
    "def get_potential_intervals(u, interval=95):\n",
    "    x = 100 - interval\n",
    "    return (\n",
    "        np.percentile(u.real, x, axis=1) + 1j * np.percentile(u.imag, x, axis=1),\n",
    "        np.percentile(u.real, interval, axis=1)\n",
    "        + 1j * np.percentile(u.imag, interval, axis=1),\n",
    "    )\n",
    "\n",
    "\n",
    "elm_pot_params = [el_model_params(*isotope, *sample) for sample in prior_samples]\n",
    "elm_potentials = np.array(\n",
    "    [el_model_simple(r, p) + el_model_simple_so(r, p, l_dot_s) for p in elm_pot_params]\n",
    ").T\n",
    "\n",
    "kduq_pot_params = [op.get_params(*isotope, mu, E, k)[1] for op in kduq_omps]\n",
    "kduq_potentials = np.array(\n",
    "    [\n",
    "        rose.koning_delaroche.KD_simple(r, p)\n",
    "        + rose.koning_delaroche.KD_simple_so(r, p, l_dot_s)\n",
    "        for p in kduq_pot_params\n",
    "    ]\n",
    ").T\n",
    "\n",
    "kduq_potential_intervals = get_potential_intervals(kduq_potentials)\n",
    "elm_potential_prior_intervals = get_potential_intervals(elm_potentials)\n",
    "\n",
    "fig, (ax1, ax2) = plt.subplots(1, 2, figsize=(10, 5))\n",
    "ax1.fill_between(\n",
    "    r,\n",
    "    elm_potential_prior_intervals[0].real,\n",
    "    elm_potential_prior_intervals[1].real,\n",
    "    alpha=0.5,\n",
    "    color=elm_color,\n",
    "    label=\"ELM $95\\%$ prior interval\",\n",
    ")\n",
    "ax1.fill_between(\n",
    "    r,\n",
    "    kduq_potential_intervals[0].real,\n",
    "    kduq_potential_intervals[1].real,\n",
    "    alpha=0.5,\n",
    "    color=kd_color,\n",
    "    label=\"KDUQ $95\\%$ posterior interval\",\n",
    ")\n",
    "ax2.fill_between(\n",
    "    r,\n",
    "    elm_potential_prior_intervals[0].imag,\n",
    "    elm_potential_prior_intervals[1].imag,\n",
    "    alpha=0.5,\n",
    "    color=elm_color,\n",
    ")\n",
    "ax2.fill_between(\n",
    "    r,\n",
    "    kduq_potential_intervals[0].imag,\n",
    "    kduq_potential_intervals[1].imag,\n",
    "    alpha=0.5,\n",
    "    color=kd_color,\n",
    ")\n",
    "ax1.set_xlabel(r\"$r$ [fm]\", fontsize=14)\n",
    "ax2.set_xlabel(r\"$r$ [fm]\", fontsize=14)\n",
    "ax1.legend(loc=\"upper left\", fontsize=14)\n",
    "ax1.set_ylabel(r\"$\\mathfrak{Re}\\, U(r)$ [MeV]\", fontsize=14)\n",
    "ax2.set_ylabel(r\"$\\mathfrak{Im}\\, U(r)$ [MeV]\", fontsize=14)\n",
    "plt.tight_layout()"
   ]
  },
  {
   "cell_type": "markdown",
   "id": "688d9898",
   "metadata": {},
   "source": [
    "Nice! This seems like a reasonable place to start the calibration. We can use these samples to initiate our MCMC walkers. But first, let's build an emulator."
   ]
  },
  {
   "cell_type": "markdown",
   "id": "29f47ba5",
   "metadata": {},
   "source": [
    "## Training a rose emulator\n",
    "To make this calibration doable on your laptop, we will use a reduced basis method emulator called [`rose`](github.com/bandframework/rose). For the theory behind it, see:\n",
    "- https://dr.ascsn.net/landing.html\n",
    "- https://journals.aps.org/prc/abstract/10.1103/PhysRevC.109.044612\n",
    "\n",
    "The software is open source and lives here: https://github.com/bandframework/rose"
   ]
  },
  {
   "cell_type": "markdown",
   "id": "b8e34ae3",
   "metadata": {},
   "source": [
    "The easiest way to go about this will be to emulate across the parameters in `el_model_simple`, rather than subparameters that we actually want to do a statistical calibration for. Let's convert our prior of sub-parameters into the parameters we want to emulate across, so we can determine the region of interest on which to train our emulator."
   ]
  },
  {
   "cell_type": "code",
   "execution_count": null,
   "id": "ea48cf3f",
   "metadata": {},
   "outputs": [],
   "source": [
    "s_max = np.pi * 10\n",
    "mesh_size = 400\n",
    "s_mesh = np.linspace(0.02, s_max, mesh_size)\n",
    "\n",
    "# what fraction of variance in the training set should we describe?\n",
    "# this determines how many basis elements to use in the reduced basis\n",
    "max_fraction_unexplained_variance = 0.5e-7"
   ]
  },
  {
   "cell_type": "code",
   "execution_count": null,
   "id": "cfd4503d",
   "metadata": {},
   "outputs": [],
   "source": [
    "%%time\n",
    "emulators = {}\n",
    "roi_bounds = {}\n",
    "\n",
    "for A in data.keys():\n",
    "    isotope = isotopes[A]\n",
    "    emulators[A] = {}\n",
    "    roi_bounds[A] = {}\n",
    "    for experiment in data[A].keys():\n",
    "        x, y, dy = (\n",
    "            data[A][experiment][:, 0],\n",
    "            data[A][experiment][:, 1],\n",
    "            data[A][experiment][:, 2],\n",
    "        )\n",
    "        # what energy was this experiment performed at?\n",
    "        E_lab = energies[A][experiment]\n",
    "\n",
    "        # get kinematics and parameters for this experiment\n",
    "        mu, E_com, k, _ = rose.utility.kinematics(isotope, (1, 0), E_lab=E_lab)\n",
    "\n",
    "        # get prior distribution of main params for given isotope\n",
    "        prior_roi_samples = np.array(\n",
    "            [el_model_params(*isotope, *sample) for sample in prior_samples]\n",
    "        )\n",
    "\n",
    "        # find bounds of this ROI (region of interest)\n",
    "        roi_bounds[A][experiment] = np.array(\n",
    "            [\n",
    "                np.min(prior_roi_samples, axis=0) * 0.5,\n",
    "                np.max(prior_roi_samples, axis=0) * 1.5,\n",
    "            ]\n",
    "        ).T\n",
    "\n",
    "        # sample some training parameters using Latin Hypercube to get all corners\n",
    "        # of our ROI\n",
    "        train = rose.utility.latin_hypercube_sample(\n",
    "            100, bounds=roi_bounds[A][experiment], seed=132\n",
    "        )\n",
    "\n",
    "        # set up the rose interaction space for emulation\n",
    "        elm_interaction = rose.InteractionEIMSpace(\n",
    "            coordinate_space_potential=el_model_simple,\n",
    "            spin_orbit_term=el_model_simple_so,\n",
    "            n_theta=elm_num_params,\n",
    "            is_complex=True,\n",
    "            expl_var_ratio_cutoff=max_fraction_unexplained_variance,\n",
    "            rho_mesh=s_mesh,\n",
    "            training_info=roi_bounds[A][experiment],\n",
    "            l_max=15,\n",
    "            mu=mu,\n",
    "            energy=E_com,\n",
    "            k=k,\n",
    "        )\n",
    "\n",
    "        # set up high-fidelity solver for training and testing the emulator\n",
    "        rmatrix_solver = rose.LagrangeRmatrix(\n",
    "            elm_interaction.interactions[0][0], s_0=s_max, solver=jitr.RMatrixSolver(50)\n",
    "        )\n",
    "\n",
    "        # train the emulator\n",
    "        emulators[A][experiment] = rose.ScatteringAmplitudeEmulator.from_train(\n",
    "            interaction_space=elm_interaction,\n",
    "            base_solver=rmatrix_solver,\n",
    "            alpha_train=train,\n",
    "            s_mesh=s_mesh,\n",
    "            expl_var_ratio_cutoff=max_fraction_unexplained_variance,\n",
    "            angles=x * np.pi / 180,\n",
    "        )"
   ]
  },
  {
   "cell_type": "markdown",
   "id": "720bbc1e",
   "metadata": {},
   "source": [
    "## Testing the emulator\n",
    "Nice! We have a trained emulator. But we should make sure it actually works. Fortunately, `rose` is set up with a bit of a cheat code for this: because it is a projective method, it will work so long as the basis it projects onto sufficiently describes the high-fidelity description. A good metric for this is how many basis elements we kept - if it's a reasonably small number, than we have done a good job in reducing the dimensions!"
   ]
  },
  {
   "cell_type": "code",
   "execution_count": null,
   "id": "80f4322c",
   "metadata": {},
   "outputs": [],
   "source": [
    "# let's check one of the emulators\n",
    "swave_basis = emulators[40][\"Mueller_169\"].rbes[0][0].basis\n",
    "sv_sqr_kept = np.sum(swave_basis.singular_values[: swave_basis.n_basis] ** 2)\n",
    "sv_sqr_all = np.sum(swave_basis.singular_values**2)\n",
    "explained_variance = sv_sqr_kept / sv_sqr_all\n",
    "print(\n",
    "    f\"The S-wave channel required {swave_basis.n_basis} \"\n",
    "    f\"basis elements to describe all but {(1.0 - explained_variance)*100:1.6e}% \"\n",
    "    \"of the variance in the training set.\"\n",
    ")"
   ]
  },
  {
   "cell_type": "markdown",
   "id": "d0334041",
   "metadata": {},
   "source": [
    "A more thorough way to test is to compare high-fidelity and emulated observables for a set of test samples not on the training set:"
   ]
  },
  {
   "cell_type": "code",
   "execution_count": null,
   "id": "305ec728",
   "metadata": {},
   "outputs": [],
   "source": [
    "test = rose.utility.latin_hypercube_sample(\n",
    "    20, bounds=roi_bounds[40][\"Mueller_169\"], seed=61\n",
    ")"
   ]
  },
  {
   "cell_type": "code",
   "execution_count": null,
   "id": "0cc08967",
   "metadata": {},
   "outputs": [],
   "source": [
    "%%time\n",
    "# run high-fidelity solver\n",
    "HIFI_xs = []\n",
    "for sample in tqdm(test):\n",
    "    HIFI_xs.append(emulators[40][\"Mueller_169\"].exact_xs(sample, angles=angles))"
   ]
  },
  {
   "cell_type": "code",
   "execution_count": null,
   "id": "2925db84",
   "metadata": {},
   "outputs": [],
   "source": [
    "%%time\n",
    "# run emulator\n",
    "emu_xs = []\n",
    "for sample in tqdm(test):\n",
    "    emu_xs.append(emulators[40][\"Mueller_169\"].emulate_xs(sample, angles=angles))"
   ]
  },
  {
   "cell_type": "code",
   "execution_count": null,
   "id": "beed8f5f",
   "metadata": {},
   "outputs": [],
   "source": [
    "from matplotlib.lines import Line2D\n",
    "\n",
    "fig, ax = plt.subplots(figsize=(6, 4))\n",
    "fig.patch.set_facecolor(\"white\")\n",
    "\n",
    "for i, sample in enumerate(test[::2]):\n",
    "    x = angles * 180 / np.pi\n",
    "\n",
    "    # HIFI\n",
    "    y_exact = HIFI_xs[i].dsdo\n",
    "\n",
    "    # emulated\n",
    "    y_emu = emu_xs[i].dsdo\n",
    "\n",
    "    p = ax.plot(x, y_emu, \":\", alpha=0.5)\n",
    "    ax.plot(x, y_exact, color=p[0].get_color(), alpha=0.5)\n",
    "\n",
    "\n",
    "legend_styles = [\n",
    "    Line2D([0], [0], color=\"k\", linestyle=\"--\", alpha=0.5),\n",
    "    Line2D([0], [0], color=\"k\", alpha=0.5),\n",
    "]\n",
    "ax.legend(legend_styles, [\"RBM\", \"Runge-Kutta\"])\n",
    "ax.set_yscale(\"log\")\n",
    "plt.xlabel(r\"$\\theta$ [radians]\", fontsize=12)\n",
    "plt.ylabel(r\"$d \\sigma / d \\Omega$ \", fontsize=12)"
   ]
  },
  {
   "cell_type": "markdown",
   "id": "9593a71b",
   "metadata": {},
   "source": [
    "In real life, we should really do some more thorough convergence testing to make sure our emulator is robust, and characterize its relative error!"
   ]
  },
  {
   "cell_type": "markdown",
   "id": "9ac1bf5a",
   "metadata": {},
   "source": [
    "## Visualizing the cross sections predicted by the prior \n",
    "\n",
    "Let's look at how well our prior compares to KDUQ. It is based on KDUQ, so it should be similar."
   ]
  },
  {
   "cell_type": "code",
   "execution_count": null,
   "id": "060abe4c",
   "metadata": {},
   "outputs": [],
   "source": [
    "elm_prior = {}\n",
    "fig, (ax1, ax2) = plt.subplots(1, 2, figsize=(10, 6), sharey=True)\n",
    "for A, ax in zip(data.keys(), [ax1, ax2]):\n",
    "    offset = 1\n",
    "    ax.set_title(r\"$^{%d}$Ca $(n,n)$\" % A)\n",
    "    ax.set_xlabel(r\"$\\theta$ [deg]\")\n",
    "    ax.set_xlim([0, 190])\n",
    "    elm_prior[A] = {}\n",
    "    for experiment in data[A].keys():\n",
    "        # plot experiment\n",
    "        x, y, dy = (\n",
    "            data[A][experiment][:, 0],\n",
    "            data[A][experiment][:, 1],\n",
    "            data[A][experiment][:, 2],\n",
    "        )\n",
    "        ax.errorbar(\n",
    "            x,\n",
    "            offset * y,\n",
    "            offset * dy,\n",
    "            marker=\"o\",\n",
    "            alpha=0.8,\n",
    "            linestyle=\"none\",\n",
    "            color=\"k\",\n",
    "        )\n",
    "\n",
    "        # plot KDUQ\n",
    "        ax.fill_between(\n",
    "            angles * 180 / np.pi,\n",
    "            offset * kduq_pred_post[A][experiment][0],\n",
    "            offset * kduq_pred_post[A][experiment][1],\n",
    "            color=kd_color,\n",
    "            alpha=0.5,\n",
    "        )\n",
    "\n",
    "        # evaluate ELM\n",
    "        N_samples = 500\n",
    "        xs = np.zeros((len(angles), N_samples))\n",
    "        total_N = len(prior_samples)\n",
    "        for i in tqdm(range(N_samples)):\n",
    "            params = el_model_params(*isotope, *prior_samples[i, :])\n",
    "            xs[:, i] = emulators[A][experiment].exact_xs(params, angles=angles).dsdo\n",
    "\n",
    "        # get a credible interval describing the ELM predictive posterior\n",
    "        # for this experiment\n",
    "        elm_prior[A][experiment] = (\n",
    "            np.percentile(xs, 5, axis=1),\n",
    "            np.percentile(xs, 95, axis=1),\n",
    "        )\n",
    "\n",
    "        # plot ELM\n",
    "        ax.fill_between(\n",
    "            angles * 180 / np.pi,\n",
    "            offset * elm_prior[A][experiment][0],\n",
    "            offset * elm_prior[A][experiment][1],\n",
    "            color=elm_color,\n",
    "            alpha=0.5,\n",
    "        )\n",
    "\n",
    "        # add a label\n",
    "        energy = energies[A][experiment]\n",
    "        label_loc = (145, offset * np.min(y) / 2)\n",
    "        ax.text(*label_loc, f\"{energy} MeV\")\n",
    "\n",
    "        offset *= 20\n",
    "\n",
    "leg_models = [\n",
    "    Line2D([0], [0], color=kd_color, label=r\"KDUQ $95\\%$ credible interval\", alpha=0.5),\n",
    "    Line2D(\n",
    "        [0],\n",
    "        [0],\n",
    "        color=elm_color,\n",
    "        label=r\"ELM prior $95\\%$ credible interval\",\n",
    "        alpha=0.5,\n",
    "    ),\n",
    "]\n",
    "leg1 = ax1.legend(handles=leg_models, loc=\"upper right\")\n",
    "ax1.add_artist(leg1)\n",
    "\n",
    "\n",
    "plt.ylim([1, 1e6])\n",
    "plt.yscale(\"log\")\n",
    "ax1.set_ylabel(r\"$d\\sigma/d\\Omega$\")\n",
    "ax1.legend()"
   ]
  },
  {
   "cell_type": "markdown",
   "id": "a58047a6",
   "metadata": {},
   "source": [
    "We should see that our prior is quite uninformative, but it does generally encompass the experimental data. Lets tighten up those bands by calibrating our model!"
   ]
  },
  {
   "cell_type": "markdown",
   "id": "e9c9e704",
   "metadata": {},
   "source": [
    "## Building a statistical model"
   ]
  },
  {
   "cell_type": "code",
   "execution_count": null,
   "id": "30c773a8",
   "metadata": {},
   "outputs": [],
   "source": [
    "emulator_err = 0.05\n",
    "model_err = 0.05\n",
    "\n",
    "\n",
    "def log_likelihood(x):\n",
    "    subparams = reverse(x)\n",
    "    log_likelihood = 0\n",
    "    for A in data.keys():\n",
    "        isotope = isotopes[A]\n",
    "        params = el_model_params(*isotope, *subparams)\n",
    "        for experiment in data[A].keys():\n",
    "            x, y, dy = (\n",
    "                data[A][experiment][:, 0],\n",
    "                data[A][experiment][:, 1],\n",
    "                data[A][experiment][:, 2],\n",
    "            )\n",
    "            y_model = emulators[A][experiment].exact_xs(params).dsdo\n",
    "            # y_model = emulators[A][experiment].emulate_xs(params).dsdo\n",
    "            residual = (y - y_model) ** 2\n",
    "            log_likelihood -= 0.5 * np.sum(\n",
    "                residual / (dy + emulator_err * y_model + model_err * y_model) ** 2\n",
    "            )\n",
    "    return log_likelihood"
   ]
  },
  {
   "cell_type": "code",
   "execution_count": null,
   "id": "b2ce40ac",
   "metadata": {},
   "outputs": [],
   "source": [
    "def log_prior(x):\n",
    "    return log_prior_transformed(x)"
   ]
  },
  {
   "cell_type": "code",
   "execution_count": null,
   "id": "6663ec4e",
   "metadata": {},
   "outputs": [],
   "source": [
    "def log_posterior(x):\n",
    "    return log_likelihood(x) + log_prior(x)"
   ]
  },
  {
   "cell_type": "markdown",
   "id": "e98b1920",
   "metadata": {},
   "source": [
    "## Performing the calibration"
   ]
  },
  {
   "cell_type": "code",
   "execution_count": null,
   "id": "1ebc27df",
   "metadata": {},
   "outputs": [],
   "source": [
    "# I'm walkin here\n",
    "n_walkers = 10\n",
    "n_accepted = np.zeros(n_walkers)\n",
    "n_iter = 3000\n",
    "n_burn = 500\n",
    "\n",
    "# place to put samples\n",
    "mcmc_samples = np.zeros((n_walkers, n_iter - n_burn, elm_num_sub_params))\n",
    "\n",
    "# proposal distribution\n",
    "step_sizes0 = 0.1 * np.ones(elm_num_sub_params)\n",
    "step_distribution_mean = np.zeros(elm_num_sub_params)\n",
    "step_distribution_cov = np.zeros((elm_num_sub_params, elm_num_sub_params))\n",
    "step_distribution_cov += np.diag(step_sizes0) ** 2"
   ]
  },
  {
   "cell_type": "code",
   "execution_count": null,
   "id": "e8a0aeca",
   "metadata": {},
   "outputs": [],
   "source": [
    "%%time\n",
    "log_post = np.zeros((n_walkers, n_iter - n_burn))\n",
    "for i in tqdm(range(n_walkers)):\n",
    "    # start walker by grabbing a sample from the prior\n",
    "    sample = prior_transformed[i]\n",
    "\n",
    "    # walk until you get tired\n",
    "    for j in range(n_iter):\n",
    "        next_sample = sample + np.random.multivariate_normal(\n",
    "            step_distribution_mean, step_distribution_cov\n",
    "        )\n",
    "        lp = log_posterior(sample)\n",
    "        nlp = log_posterior(next_sample)\n",
    "        log_post[i][j - n_burn] = lp\n",
    "\n",
    "        acceptance_prob = np.exp(lp - nlp)\n",
    "\n",
    "        if j >= n_burn:\n",
    "            if np.random.rand() > acceptance_prob:\n",
    "                sample = next_sample\n",
    "                n_accepted[i] += 1\n",
    "\n",
    "            mcmc_samples[i, j - n_burn, :] = sample"
   ]
  },
  {
   "cell_type": "code",
   "execution_count": null,
   "id": "f86d2eca",
   "metadata": {},
   "outputs": [],
   "source": [
    "acceptance_ratios = n_accepted / (n_iter - n_burn)\n",
    "print(f\"Acceptance ratios (should be around 1/3): {acceptance_ratios}\")"
   ]
  },
  {
   "cell_type": "code",
   "execution_count": null,
   "id": "48cec11e",
   "metadata": {},
   "outputs": [],
   "source": [
    "samples_per_walker = n_iter - n_burn\n",
    "mcmc_samples = reverse(mcmc_samples)\n",
    "posterior_samples = mcmc_samples.reshape(\n",
    "    (n_walkers * samples_per_walker, elm_num_sub_params)\n",
    ")\n",
    "posterior_samples.shape"
   ]
  },
  {
   "cell_type": "code",
   "execution_count": null,
   "id": "c0f00711",
   "metadata": {},
   "outputs": [],
   "source": [
    "plt.rc(\"xtick\", labelsize=15)\n",
    "plt.rc(\"ytick\", labelsize=15)\n",
    "fig, axs = plt.subplots(elm_num_sub_params + 1, 1, figsize=(12, 24), sharex=\"all\")\n",
    "\n",
    "# plot samples\n",
    "for i in range(elm_num_sub_params):\n",
    "    axs[i].axhline(y=mean[i], color=\"r\")\n",
    "    axs[i].set_ylabel(elm_param_labels[i], fontsize=18)\n",
    "\n",
    "    for j in range(n_walkers):\n",
    "        axs[i].plot(mcmc_samples[j, :, i], alpha=0.65)\n",
    "\n",
    "# plot log posteripor\n",
    "for i in range(n_walkers):\n",
    "    axs[-1].plot(log_post[i, :])\n",
    "    axs[-1].set_ylabel(r\"$\\log{ p(y | \\alpha)}$\", fontsize=18)\n",
    "\n",
    "plt.xlabel(\"step\", fontsize=14)\n",
    "plt.tight_layout()\n",
    "plt.show()"
   ]
  },
  {
   "cell_type": "markdown",
   "id": "13bd38e9",
   "metadata": {},
   "source": [
    "## Plotting the results"
   ]
  },
  {
   "cell_type": "code",
   "execution_count": null,
   "id": "42ef950d",
   "metadata": {},
   "outputs": [],
   "source": [
    "fig = corner.corner(\n",
    "    posterior_samples,\n",
    "    labels=list(elm_param_labels),\n",
    "    show_titles=True,\n",
    "    title_kwargs={\"fontsize\": 16},\n",
    "    label_kwargs={\"fontsize\": 16},\n",
    ")\n",
    "corner.corner(prior_samples, fig=fig, color=\"red\")\n",
    "fig.tight_layout()"
   ]
  },
  {
   "cell_type": "code",
   "execution_count": null,
   "id": "66be0c2c",
   "metadata": {},
   "outputs": [],
   "source": [
    "elm_pred_post = {}\n",
    "\n",
    "fig, (ax1, ax2) = plt.subplots(1, 2, figsize=(10, 6), sharey=True)\n",
    "for A, ax in zip(data.keys(), [ax1, ax2]):\n",
    "    offset = 1\n",
    "    ax.set_title(r\"$^{%d}$Ca $(n,n)$\" % A)\n",
    "    ax.set_xlabel(r\"$\\theta$ [deg]\")\n",
    "    ax.set_xlim([0, 190])\n",
    "    elm_pred_post[A] = {}\n",
    "\n",
    "    for experiment in data[A].keys():\n",
    "        # plot experiment\n",
    "        x, y, dy = (\n",
    "            data[A][experiment][:, 0],\n",
    "            data[A][experiment][:, 1],\n",
    "            data[A][experiment][:, 2],\n",
    "        )\n",
    "        ax.errorbar(\n",
    "            x,\n",
    "            offset * y,\n",
    "            offset * dy,\n",
    "            marker=\"o\",\n",
    "            alpha=0.8,\n",
    "            linestyle=\"none\",\n",
    "            color=\"k\",\n",
    "        )\n",
    "\n",
    "        # plot KDUQ\n",
    "        ax.fill_between(\n",
    "            angles * 180 / np.pi,\n",
    "            offset * kduq_pred_post[A][experiment][0],\n",
    "            offset * kduq_pred_post[A][experiment][1],\n",
    "            color=kd_color,\n",
    "            alpha=0.5,\n",
    "        )\n",
    "\n",
    "        # evaluate ELM\n",
    "        N_samples = 300\n",
    "        xs = np.zeros((len(angles), N_samples))\n",
    "        sample_idxs = np.random.choice(len(posterior_samples), N_samples)\n",
    "        for i in tqdm(range(N_samples)):\n",
    "            params = el_model_params(*isotope, *posterior_samples[sample_idxs[i], :])\n",
    "            xs[:, i] = emulators[A][experiment].emulate_xs(params, angles=angles).dsdo\n",
    "\n",
    "        # get a credible interval describing the ELM predictive posterior\n",
    "        # for this experiment\n",
    "        elm_pred_post[A][experiment] = (\n",
    "            np.percentile(xs, 5, axis=1),\n",
    "            np.percentile(xs, 95, axis=1),\n",
    "        )\n",
    "\n",
    "        # plot ELM\n",
    "        ax.fill_between(\n",
    "            angles * 180 / np.pi,\n",
    "            offset * elm_pred_post[A][experiment][0],\n",
    "            offset * elm_pred_post[A][experiment][1],\n",
    "            color=elm_color,\n",
    "            alpha=0.5,\n",
    "        )\n",
    "\n",
    "        # add a label\n",
    "        energy = energies[A][experiment]\n",
    "        label_loc = (145, offset * np.min(y) / 2)\n",
    "        ax.text(*label_loc, f\"{energy} MeV\")\n",
    "\n",
    "        offset *= 20\n",
    "\n",
    "leg_models = [\n",
    "    Line2D([0], [0], color=kd_color, label=r\"KDUQ $95\\%$ credible interval\"),\n",
    "    Line2D([0], [0], color=elm_color, label=r\"ELM $95\\%$ credible interval\"),\n",
    "]\n",
    "leg1 = ax1.legend(handles=leg_models, loc=\"upper right\")\n",
    "ax1.add_artist(leg1)\n",
    "\n",
    "plt.ylim([1, 1e6])\n",
    "plt.yscale(\"log\")\n",
    "ax1.set_ylabel(r\"$d\\sigma/d\\Omega$\")\n",
    "ax1.legend()"
   ]
  },
  {
   "cell_type": "markdown",
   "id": "8e32e55e",
   "metadata": {},
   "source": [
    "## Generate a predictive posterior for $^{60}$Ca and $^{70}$Ca!"
   ]
  },
  {
   "cell_type": "code",
   "execution_count": null,
   "id": "58a8b1e7",
   "metadata": {},
   "outputs": [],
   "source": [
    "# we'll probably never have experimental data for 70Ca(n,n) but let's pretend\n",
    "Ca70 = (70, 20)\n",
    "Ca60 = (60, 20)\n",
    "energy = 10"
   ]
  },
  {
   "cell_type": "code",
   "execution_count": null,
   "id": "c78a28ac",
   "metadata": {},
   "outputs": [],
   "source": []
  },
  {
   "cell_type": "code",
   "execution_count": null,
   "id": "22ab3a62",
   "metadata": {},
   "outputs": [],
   "source": []
  }
 ],
 "metadata": {
  "kernelspec": {
   "display_name": "Python 3 (ipykernel)",
   "language": "python",
   "name": "python3"
  },
  "language_info": {
   "codemirror_mode": {
    "name": "ipython",
    "version": 3
   },
   "file_extension": ".py",
   "mimetype": "text/x-python",
   "name": "python",
   "nbconvert_exporter": "python",
   "pygments_lexer": "ipython3",
   "version": "3.11.8"
  }
 },
 "nbformat": 4,
 "nbformat_minor": 5
}
