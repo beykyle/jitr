{
 "cells": [
  {
   "cell_type": "markdown",
   "id": "93a49da0",
   "metadata": {},
   "source": [
    "# Uncertainty quantification for cross sections\n",
    "This tutorial will demonstrate how to use jitr to perform uncertainty quantification of a simple reaction observable: differential elastic scattering cross sections. We will use the uncertainty quantified optical potential KDUQ introduced here: [[Pruitt et al., 2024]](https://journals.aps.org/prc/abstract/10.1103/PhysRevC.107.014602). Jitr includes an implementation of the kduq potential, as well as a set of samples of the posterior provided in the supplemental material of that paper."
   ]
  },
  {
   "cell_type": "code",
   "execution_count": 1,
   "id": "9fbc70e4-6ac7-4a99-8a84-3197e65a8666",
   "metadata": {
    "scrolled": true
   },
   "outputs": [],
   "source": [
    "from pathlib import Path\n",
    "\n",
    "import corner\n",
    "\n",
    "# import stuff for nice plotting\n",
    "import matplotlib.pyplot as plt\n",
    "import numpy as np\n",
    "from matplotlib.lines import Line2D\n",
    "from numba import njit\n",
    "from scipy import stats\n",
    "from tqdm import tqdm\n",
    "\n",
    "import jitr"
   ]
  },
  {
   "cell_type": "markdown",
   "id": "2710b910",
   "metadata": {},
   "source": [
    "We will use [exfor-tools](https://github.com/beykyle/exfor_tools) using an [x4i3](https://github.com/afedynitch/x4i3/) backend for grabbing data from [EXFOR](https://www-nds.iaea.org/exfor/) (requires 1GB of disk space to download)."
   ]
  },
  {
   "cell_type": "code",
   "execution_count": 2,
   "id": "33b3b60f",
   "metadata": {},
   "outputs": [
    {
     "name": "stdout",
     "output_type": "stream",
     "text": [
      "Using database version x4i3_X4-2023-04-29 located in: /home/beyerk/mambaforge/envs/sage/lib/python3.11/site-packages/x4i3/data\n"
     ]
    }
   ],
   "source": [
    "import exfor_tools"
   ]
  },
  {
   "cell_type": "markdown",
   "id": "af45224f",
   "metadata": {},
   "source": [
    "### Let's find some data to compare to\n",
    "Let's grab some data from [EXFOR](https://www-nds.iaea.org/exfor/). We will look at $d\\sigma_{el}/d\\Omega$ for $(n,n)$ and $(p,p)$."
   ]
  },
  {
   "cell_type": "code",
   "execution_count": 3,
   "id": "943628b1",
   "metadata": {},
   "outputs": [],
   "source": [
    "# target to consider\n",
    "Pb208 = (208, 82)\n",
    "proton = (1, 1)\n",
    "neutron = (1, 0)\n",
    "\n",
    "# for plotting differential xs\n",
    "angles = np.linspace(0.1, np.pi, 100)"
   ]
  },
  {
   "cell_type": "code",
   "execution_count": 4,
   "id": "0cf0882b-4381-47d1-90ad-8e43726da458",
   "metadata": {},
   "outputs": [],
   "source": [
    "def interaction_scalar(r, kd_scalar_params, coulomb_params):\n",
    "    kd = jitr.reactions.kduq.KD_scalar(r, *kd_scalar_params)\n",
    "    coul = jitr.reactions.potentials.coulomb_charged_sphere(r, *coulomb_params)\n",
    "    return kd + coul"
   ]
  },
  {
   "cell_type": "code",
   "execution_count": 5,
   "id": "2aff4c9e-da30-492c-a9c9-52f1855b962b",
   "metadata": {},
   "outputs": [],
   "source": [
    "sys = jitr.reactions.ProjectileTargetSystem(\n",
    "    channel_radius=10 * np.pi,\n",
    "    lmax=15,\n",
    "    mass_target=jitr.utils.kinematics.mass(*Pb208),\n",
    "    mass_projectile=jitr.utils.kinematics.mass(*neutron),\n",
    "    Ztarget=Pb208[1],\n",
    "    Zproj=0,\n",
    "    coupling=jitr.reactions.system.spin_half_orbit_coupling,\n",
    ")"
   ]
  },
  {
   "cell_type": "code",
   "execution_count": 6,
   "id": "4b5fa225-3600-4af1-b17c-d83e9be74216",
   "metadata": {},
   "outputs": [],
   "source": [
    "Ecm = 12\n",
    "mu, Elab, k, eta = jitr.utils.kinematics.classical_kinematics_cm(\n",
    "    sys.mass_target, sys.mass_projectile, Ecm, sys.Zproj * sys.Ztarget\n",
    ")"
   ]
  },
  {
   "cell_type": "code",
   "execution_count": 7,
   "id": "339052f8-2247-41d2-9a6b-814c8879b79e",
   "metadata": {},
   "outputs": [],
   "source": [
    "ws = jitr.xs.ElasticXSWorkspace(\n",
    "    projectile=neutron,\n",
    "    target=Pb208,\n",
    "    sys=sys,\n",
    "    Ecm=Ecm,\n",
    "    k=k,\n",
    "    mu=mu,\n",
    "    eta=eta,\n",
    "    local_interaction_scalar=interaction_scalar,\n",
    "    local_interaction_spin_orbit=jitr.reactions.KD_spin_orbit,\n",
    "    solver=jitr.rmatrix.Solver(50),\n",
    "    angles=angles,\n",
    ")"
   ]
  },
  {
   "cell_type": "code",
   "execution_count": 10,
   "id": "ca674e98",
   "metadata": {},
   "outputs": [],
   "source": [
    "# we have 416 samples from the KDUQ posterior\n",
    "num_samples_kduq = 415\n",
    "param_files = [\n",
    "    Path(f\"./../../src/data/KDUQFederal/{i}/parameters.json\")\n",
    "    for i in range(0, num_samples_kduq)\n",
    "]\n",
    "\n",
    "# load each one\n",
    "kduq_omps = [\n",
    "    rose.koning_delaroche.KDGlobal(rose.Projectile.neutron, Path(param_file))\n",
    "    for param_file in param_files\n",
    "]\n",
    "# load each one\n",
    "jitr_omps = [\n",
    "    jitr.reactions.kduq.KDGlobal((1, 0), Path(param_file)) for param_file in param_files\n",
    "]"
   ]
  },
  {
   "cell_type": "code",
   "execution_count": null,
   "id": "dd23e54a-9122-47dd-aeda-99d69c4ef387",
   "metadata": {},
   "outputs": [],
   "source": [
    "kduq_rose_solver.dsdo()"
   ]
  },
  {
   "cell_type": "code",
   "execution_count": null,
   "id": "476fab89-d853-48f7-87d8-a8e1bd69d142",
   "metadata": {},
   "outputs": [],
   "source": [
    "all_entries = exfor_tools.get_exfor_differential_data(\n",
    "    target=Pb208,\n",
    "    projectile=(1, 0),\n",
    "    quantity=\"dXS/dA\",\n",
    "    product=\"EL\",\n",
    "    energy_range=[7, 20],  # MeV\n",
    ")\n",
    "all_measurements = exfor_tools.sort_measurements_by_energy(all_entries)\n",
    "print(\n",
    "    f\"Found measurements at {len(list(all_entries))} different energies for (n,n) on 208-Pb\"\n",
    ")"
   ]
  },
  {
   "cell_type": "code",
   "execution_count": null,
   "id": "d92884b4-a951-40dd-ad15-02d07af98659",
   "metadata": {},
   "outputs": [],
   "source": [
    "fig, ax = plt.subplots(1, 1, figsize=(6, 12))\n",
    "exfor_keys = list(all_entries.keys())\n",
    "all_entries[exfor_keys[0]].plot_experiment(\n",
    "    ax,\n",
    "    all_measurements,\n",
    "    offsets=50,\n",
    "    label_offset_factor=2,\n",
    "    label_hloc_deg=150,\n",
    "    label_energy_err=False,\n",
    "    label_offset=False,\n",
    ")"
   ]
  },
  {
   "cell_type": "markdown",
   "id": "24060cde",
   "metadata": {},
   "source": [
    "### Let's set up our solver to calculate $^{208}$Pb $(n,n)$ differential cross sections"
   ]
  },
  {
   "cell_type": "markdown",
   "id": "cb63c839",
   "metadata": {},
   "source": [
    "We will use the the KDUQ potential from [Pruitt et al., 2024](https://journals.aps.org/prc/abstract/10.1103/PhysRevC.107.014602) potential. The supplemental material in that link contains a set of samples from the posterior of the KDUQ parameter distribution. Let's load them up:"
   ]
  },
  {
   "cell_type": "markdown",
   "id": "5185f456",
   "metadata": {},
   "source": [
    "We will create an instance of a `rose.InteractionSpace` and a `rose.ScatteringAmplitudeEmulator` for each of these potentials, and we will use the high-fidelity solver to calculate the cross sections predicted by each model.\n",
    "\n",
    "We will use a high-fidelity solver from the [jitr package](https://github.com/beykyle/jitr) which uses the R-Matrix method on a Lagrange-Legendre mesh."
   ]
  },
  {
   "cell_type": "code",
   "execution_count": null,
   "id": "865b0abe",
   "metadata": {},
   "outputs": [],
   "source": [
    "core_solver = jitr.rmatrix.Solver(40)"
   ]
  },
  {
   "cell_type": "code",
   "execution_count": null,
   "id": "59075875",
   "metadata": {},
   "outputs": [],
   "source": [
    "energies = []\n",
    "kduq_solvers = []\n",
    "\n",
    "for measurement in all_measurements:\n",
    "    Ecm = measurement.Ecm\n",
    "    dEcm = measurement.dEcm\n",
    "    energies.append(Ecm)\n",
    "\n",
    "    # get kinematics and parameters for this experiment\n",
    "    mu, Elab, k, eta = rose.utility.kinematics(Pb208, (1, 0), E_com=Ecm)\n",
    "\n",
    "    kduq = rose.InteractionSpace(\n",
    "        coordinate_space_potential=rose.koning_delaroche.KD_simple,\n",
    "        n_theta=rose.koning_delaroche.NUM_PARAMS,\n",
    "        is_complex=True,\n",
    "        spin_orbit_term=rose.koning_delaroche.KD_simple_so,\n",
    "        energy=Ecm,\n",
    "        mu=mu,\n",
    "        k=k,\n",
    "        l_max=15,\n",
    "    )\n",
    "    rmatrix_solver = rose.LagrangeRmatrix(\n",
    "        kduq.interactions[0][0],\n",
    "        np.pi * 10,\n",
    "        core_solver,\n",
    "    )\n",
    "    kduq_solvers.append(\n",
    "        rose.ScatteringAmplitudeEmulator.HIFI_solver(\n",
    "            base_solver=rmatrix_solver,\n",
    "            interaction_space=kduq,\n",
    "            angles=angles,\n",
    "        )\n",
    "    )"
   ]
  },
  {
   "cell_type": "code",
   "execution_count": null,
   "id": "2398265d-eae5-467c-969b-41441cfa7190",
   "metadata": {},
   "outputs": [],
   "source": [
    "num_samples_pred_post = 100\n",
    "kduq_pred_post = []\n",
    "\n",
    "for i, measurement in enumerate(all_measurements):\n",
    "    Ecm = measurement.Ecm\n",
    "    dEcm = measurement.dEcm\n",
    "    print(f\"Running UQ  at {Ecm} MeV\")\n",
    "\n",
    "    # get kinematics and parameters for this experiment\n",
    "    mu, Elab, k, eta = rose.utility.kinematics(Pb208, (1, 0), E_com=Ecm)\n",
    "\n",
    "    # get a differential xs for each parameter sample\n",
    "    kduq_xs = np.zeros((len(angles), num_samples_pred_post))\n",
    "    samples = np.random.choice(num_samples_kduq, size=num_samples_pred_post)\n",
    "\n",
    "    for j, sample in enumerate(tqdm(samples)):\n",
    "        omp = kduq_omps[sample]\n",
    "        R_C, params = omp.get_params(*Pb208, mu, Elab, k)\n",
    "        kduq_xs[:, j] = kduq_solvers[i].exact_xs(params).dsdo\n",
    "\n",
    "    # get a credible interval describing the KDUQ predictive posterior\n",
    "    # for this experiment\n",
    "    kduq_pred_post.append(\n",
    "        (\n",
    "            np.percentile(kduq_xs, 5, axis=1),\n",
    "            np.percentile(kduq_xs, 95, axis=1),\n",
    "        )\n",
    "    )"
   ]
  },
  {
   "cell_type": "markdown",
   "id": "ac97fc5a",
   "metadata": {},
   "source": [
    "Now that we have our model predictions, lets plot them compared to the experimental data. We will offset each energy for visibility."
   ]
  },
  {
   "cell_type": "code",
   "execution_count": null,
   "id": "0a4895d4",
   "metadata": {},
   "outputs": [],
   "source": [
    "fig, ax = plt.subplots(1, 1, figsize=(6, 12))\n",
    "exfor_keys = list(all_entries.keys())\n",
    "all_entries[exfor_keys[0]].plot_experiment(\n",
    "    ax,\n",
    "    all_measurements,\n",
    "    offsets=30,\n",
    "    label_offset_factor=2,\n",
    "    label_hloc_deg=150,\n",
    "    label_energy_err=False,\n",
    "    label_offset=True,\n",
    ")\n",
    "offsets = 30 ** np.arange(len(all_measurements))\n",
    "for i in range(len(all_measurements)):\n",
    "    # plot model\n",
    "    ax.fill_between(\n",
    "        angles * 180 / np.pi,\n",
    "        offsets[i] * kduq_pred_post[i][0],\n",
    "        offsets[i] * kduq_pred_post[i][1],\n",
    "        color=\"#ff4500\",\n",
    "        alpha=0.5,\n",
    "    )"
   ]
  }
 ],
 "metadata": {
  "kernelspec": {
   "display_name": "Python 3 (ipykernel)",
   "language": "python",
   "name": "python3"
  },
  "language_info": {
   "codemirror_mode": {
    "name": "ipython",
    "version": 3
   },
   "file_extension": ".py",
   "mimetype": "text/x-python",
   "name": "python",
   "nbconvert_exporter": "python",
   "pygments_lexer": "ipython3",
   "version": "3.11.9"
  }
 },
 "nbformat": 4,
 "nbformat_minor": 5
}
