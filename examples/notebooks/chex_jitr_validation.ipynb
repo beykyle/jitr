{
 "cells": [
  {
   "cell_type": "markdown",
   "id": "674dae53-f322-4a7f-83ef-942ea1641ddc",
   "metadata": {},
   "source": [
    "## Comparison of quasi-elastic $(p,n)$ differential cross sections between jitR and CHEX\n",
    "\n",
    "CHEX uses more rudimentary kinematics, which leads to the slight difference."
   ]
  },
  {
   "cell_type": "code",
   "execution_count": 1,
   "id": "e6ba03f8",
   "metadata": {},
   "outputs": [],
   "source": [
    "import pickle\n",
    "from pathlib import Path\n",
    "\n",
    "import numpy as np\n",
    "import pandas as pd\n",
    "from matplotlib import pyplot as plt\n",
    "from matplotlib.lines import Line2D"
   ]
  },
  {
   "cell_type": "code",
   "execution_count": 2,
   "id": "fdd41822-23c4-4230-b119-fbced5089832",
   "metadata": {},
   "outputs": [],
   "source": [
    "import jitr"
   ]
  },
  {
   "cell_type": "code",
   "execution_count": 3,
   "id": "38a6f920",
   "metadata": {},
   "outputs": [],
   "source": [
    "# initial and final systems\n",
    "proton = (1, 1)\n",
    "neutron = (1, 0)\n",
    "\n",
    "# Core p + Ca48\n",
    "Ca48 = (48, 20)\n",
    "\n",
    "# n + IAS\n",
    "Sc48 = (48, 21)\n",
    "\n",
    "# lab bombarding energy\n",
    "E_lab = 35  # MeV\n",
    "\n",
    "# excitation energy to isobaric analog state\n",
    "E_IAS = 6.67  # MeV"
   ]
  },
  {
   "cell_type": "code",
   "execution_count": 8,
   "id": "424e4724-1c68-403e-a155-a839bf7695b9",
   "metadata": {},
   "outputs": [],
   "source": [
    "# we have 416 samples from the KDUQ posterior\n",
    "num_samples_kduq = 415\n",
    "param_files = [\n",
    "    Path(f\"./../../src/data/KDUQFederal/{i}/parameters.json\") for i in range(0, num_samples_kduq)\n",
    "]\n",
    "kdomps_p = [\n",
    "    jitr.reactions.kduq.KDGlobal(proton, Path(param_file)) for param_file in param_files\n",
    "]\n",
    "kd_default_p = jitr.reactions.kduq.KDGlobal(\n",
    "    proton, Path(\"../../src/data/KD_default.json\")\n",
    ")\n",
    "kdomps_n = [\n",
    "    jitr.reactions.kduq.KDGlobal(neutron, Path(param_file))\n",
    "    for param_file in param_files\n",
    "]\n",
    "kd_default_n = jitr.reactions.kduq.KDGlobal(\n",
    "    neutron, Path(\"../../src/data/KD_default.json\")\n",
    ")"
   ]
  },
  {
   "cell_type": "code",
   "execution_count": 9,
   "id": "82c9a137",
   "metadata": {},
   "outputs": [],
   "source": [
    "theta = np.linspace(0.01, np.pi, 200)"
   ]
  },
  {
   "cell_type": "code",
   "execution_count": 10,
   "id": "565e9d3b-b347-4eaf-a82c-ecf67973087f",
   "metadata": {},
   "outputs": [],
   "source": [
    "kinp, kinn, Elab_n, Q, CDE = jitr.xs.quasielastic_pn.kinematics(\n",
    "    Ca48,\n",
    "    Sc48,\n",
    "    E_lab,\n",
    "    E_IAS,\n",
    ")"
   ]
  },
  {
   "cell_type": "code",
   "execution_count": 26,
   "id": "2cb7d849-d73c-45d0-b02a-969522ad861c",
   "metadata": {},
   "outputs": [],
   "source": [
    "# CHEX vals - for apples-apples kinematics comparison\n",
    "#kinp.k = 1.2675352751652653\n",
    "#kinp.mu = 912.483918367347\n",
    "#kinn.mu = 912.48391836734697\n",
    "#kinn.k = 1.1271427724913177"
   ]
  },
  {
   "cell_type": "code",
   "execution_count": 12,
   "id": "4cd8e42a-f1eb-46f4-84d3-01fc309455a7",
   "metadata": {},
   "outputs": [],
   "source": [
    "l = np.array([0])"
   ]
  },
  {
   "cell_type": "code",
   "execution_count": 13,
   "id": "143ea4f8-9b66-4eb3-bbcf-22f8b3f1e1b4",
   "metadata": {},
   "outputs": [],
   "source": [
    "a = 16 # fm"
   ]
  },
  {
   "cell_type": "code",
   "execution_count": 14,
   "id": "af4644ae-80d6-4b4a-8afb-ea9e467ddd51",
   "metadata": {},
   "outputs": [],
   "source": [
    "core_solver = jitr.rmatrix.Solver(nbasis=30)"
   ]
  },
  {
   "cell_type": "code",
   "execution_count": 19,
   "id": "dc19976d-76f7-4401-925e-dd4a8d3a6d50",
   "metadata": {},
   "outputs": [],
   "source": [
    "sys = jitr.xs.quasielastic_pn.System(\n",
    "    channel_radius_fm=a,\n",
    "    lmax=20,\n",
    "    target=Ca48,\n",
    "    analog=Sc48,\n",
    "    mass_target=jitr.utils.kinematics.mass(*Ca48),\n",
    "    mass_analog=jitr.utils.kinematics.mass(*Sc48),\n",
    "    kp=kinp.k,\n",
    "    kn=kinn.k\n",
    ")\n",
    "workspace = jitr.xs.quasielastic_pn.Workspace(\n",
    "    sys,\n",
    "    kinp,\n",
    "    kinn,\n",
    "    E_lab,\n",
    "    Elab_n,\n",
    "    core_solver,\n",
    "    angles=np.linspace(0,np.pi,200),\n",
    "    tmatrix_abs_tol=1.0E-16,\n",
    ")"
   ]
  },
  {
   "cell_type": "code",
   "execution_count": 21,
   "id": "44c2b2fa-3420-4081-b3dc-6f46c1e98fe4",
   "metadata": {},
   "outputs": [],
   "source": [
    "# get parameters\n",
    "coul_n, scalar_params_n, spin_orbit_params_n = kd_default_n.get_params(\n",
    "    *Sc48, kinn.mu, Elab_n, kinn.k\n",
    ")\n",
    "coul_p, scalar_params_p, spin_orbit_params_p = kd_default_p.get_params(\n",
    "    *Ca48, kinp.mu, E_lab, kinp.k\n",
    ")"
   ]
  },
  {
   "cell_type": "code",
   "execution_count": 22,
   "id": "cd68ff12-8ff4-4c20-82ca-8072885e56a9",
   "metadata": {},
   "outputs": [],
   "source": [
    "xs = workspace.xs(\n",
    "    jitr.reactions.coulomb_charged_sphere,\n",
    "    jitr.reactions.KD_scalar,\n",
    "    jitr.reactions.KD_spin_orbit,\n",
    "    jitr.reactions.KD_scalar,\n",
    "    jitr.reactions.KD_spin_orbit,\n",
    "    args_p_coulomb=coul_p,\n",
    "    args_p_scalar=scalar_params_p,\n",
    "    args_p_spin_orbit=spin_orbit_params_p,\n",
    "    args_n_scalar=scalar_params_n,\n",
    "    args_n_spin_orbit=spin_orbit_params_n,\n",
    ")"
   ]
  },
  {
   "cell_type": "code",
   "execution_count": 23,
   "id": "26813ce5-298e-4e6e-a767-391df2590723",
   "metadata": {},
   "outputs": [],
   "source": [
    "xspn = pd.read_csv(\n",
    "    \"./chex_qepn_xs.txt\",\n",
    "    names=[\"theta\", \"dxs\", \"err\"],\n",
    "    sep=\"\\s+\",\n",
    ")"
   ]
  },
  {
   "cell_type": "code",
   "execution_count": 24,
   "id": "e07a8f8d-b8d5-48d5-a085-03dadb12fba2",
   "metadata": {},
   "outputs": [],
   "source": [
    "ca48_pn_ias = np.array(\n",
    "    [\n",
    "        [0.0000, 0.70000, 0.035000],\n",
    "        [3.0700, 0.61300, 0.047000],\n",
    "        [10.240, 0.68200, 0.050000],\n",
    "        [15.360, 1.1800, 0.061000],\n",
    "        [20.480, 2.5452, 0.073000],\n",
    "        [25.590, 3.4110, 0.090000],\n",
    "        [30.700, 2.9580, 0.084000],\n",
    "        [35.800, 1.7724, 0.063000],\n",
    "        [40.900, 1.1964, 0.053000],\n",
    "        [51.070, 1.0356, 0.040000],\n",
    "        [61.210, 1.0536, 0.035000],\n",
    "        [81.380, 0.23300, 0.020000],\n",
    "        [91.400, 0.22600, 0.017000],\n",
    "        [101.37, 0.15000, 0.016000],\n",
    "        [111.31, 0.064000, 0.0100000],\n",
    "        [121.21, 0.094000, 0.012000],\n",
    "        [131.07, 0.053000, 0.011000],\n",
    "    ]\n",
    ")"
   ]
  },
  {
   "cell_type": "code",
   "execution_count": 25,
   "id": "a2b503d1-5468-46bf-a884-ff5d0c8a719d",
   "metadata": {},
   "outputs": [
    {
     "data": {
      "text/plain": [
       "<matplotlib.legend.Legend at 0x7dea18a2d710>"
      ]
     },
     "execution_count": 25,
     "metadata": {},
     "output_type": "execute_result"
    },
    {
     "data": {
      "image/png": "[encoded data removed]",
      "text/plain": [
       "<Figure size 640x480 with 1 Axes>"
      ]
     },
     "metadata": {},
     "output_type": "display_data"
    }
   ],
   "source": [
    "plt.errorbar(\n",
    "    ca48_pn_ias[:, 0],\n",
    "    ca48_pn_ias[:, 1],\n",
    "    yerr=ca48_pn_ias[:, 2],\n",
    "    label=\"Jon et al., \",\n",
    "    linestyle=\"none\",\n",
    "    marker=\".\",\n",
    ")\n",
    "\n",
    "plt.plot(workspace.angles*180 / np.pi, xs, label=\"JITR\")\n",
    "plt.plot(xspn[\"theta\"], xspn[\"dxs\"], label=\"CHEX\", alpha=0.7)\n",
    "plt.xlabel(r\"$\\theta$ [deg]\")\n",
    "plt.ylabel(r\" $d \\sigma / \\Omega$ [mb/Sr]\")\n",
    "plt.legend()"
   ]
  }
 ],
 "metadata": {
  "kernelspec": {
   "display_name": "Python 3 (ipykernel)",
   "language": "python",
   "name": "python3"
  },
  "language_info": {
   "codemirror_mode": {
    "name": "ipython",
    "version": 3
   },
   "file_extension": ".py",
   "mimetype": "text/x-python",
   "name": "python",
   "nbconvert_exporter": "python",
   "pygments_lexer": "ipython3",
   "version": "3.11.9"
  }
 },
 "nbformat": 4,
 "nbformat_minor": 5
}
