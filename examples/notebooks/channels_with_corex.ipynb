{
 "cells": [
  {
   "cell_type": "markdown",
   "id": "0e4f3471-a3cd-447d-8f24-fea346e9a98e",
   "metadata": {},
   "source": [
    "## Demonsration of `jitr.reaction.channels`, building the channels for collision of a projectile on a target, including coupling to excited states."
   ]
  },
  {
   "cell_type": "code",
   "execution_count": 18,
   "id": "fcbaec9f-06bc-4cc3-8f41-48401e29e038",
   "metadata": {},
   "outputs": [],
   "source": [
    "from fractions import Fraction\n",
    "import numpy as np\n",
    "from IPython.display import Latex, Math, display"
   ]
  },
  {
   "cell_type": "code",
   "execution_count": 2,
   "id": "f28e2eb9-5f29-4572-991e-536503dbf58c",
   "metadata": {},
   "outputs": [],
   "source": [
    "import jitr.reactions.channels as ch\n",
    "from jitr.structure import Level, Parity\n",
    "from jitr.utils.angular_momentum import (\n",
    "    format_jbasis_channel_latex,\n",
    "    format_sbasis_channel_latex,\n",
    "    triangle_rule,\n",
    ")"
   ]
  },
  {
   "cell_type": "markdown",
   "id": "51bf7529-c858-4d71-9ca6-db8891f30746",
   "metadata": {},
   "source": [
    "## Set up the system\n",
    "We can set the spin and parity of the projectile and target ground and excited states like so:"
   ]
  },
  {
   "cell_type": "code",
   "execution_count": 3,
   "id": "ebb4ea12-fc87-4e4d-9fb8-f048e1a07f6a",
   "metadata": {},
   "outputs": [],
   "source": [
    "# add some excited states to the target\n",
    "target = [\n",
    "    Level(E=0, I=0, pi=Parity.positive),\n",
    "    Level(E=1, I=2, pi=Parity.positive),\n",
    "    Level(E=2, I=4, pi=Parity.positive),\n",
    "]\n",
    "# just the ground state for the projectile\n",
    "projectile = [\n",
    "    Level(E=0, I=Fraction(1, 2), pi=Parity.positive),\n",
    "]"
   ]
  },
  {
   "cell_type": "code",
   "execution_count": 4,
   "id": "45fbbc2c-9928-449d-b7bb-009fbd485dd3",
   "metadata": {},
   "outputs": [
    {
     "name": "stdout",
     "output_type": "stream",
     "text": [
      "14\n"
     ]
    }
   ],
   "source": [
    "lmax = 10\n",
    "\n",
    "Jtot_max = lmax + projectile[0].I + target[2].I  # highest total angular momentum\n",
    "Jtot_min = abs(projectile[0].I - target[0].I)  # lowest (lmin = 0)\n",
    "n_partial_waves = int(Jtot_max - Jtot_min)\n",
    "print(n_partial_waves)"
   ]
  },
  {
   "cell_type": "code",
   "execution_count": 5,
   "id": "2edf6aad-7732-466c-b128-6e4faeb6e332",
   "metadata": {},
   "outputs": [
    {
     "name": "stdout",
     "output_type": "stream",
     "text": [
      "1/2\n"
     ]
    }
   ],
   "source": [
    "print(Jtot_min)"
   ]
  },
  {
   "cell_type": "code",
   "execution_count": 6,
   "id": "0337a3ba-f40e-4d30-9420-ea16d54a64ad",
   "metadata": {},
   "outputs": [
    {
     "name": "stdout",
     "output_type": "stream",
     "text": [
      "29/2\n"
     ]
    }
   ],
   "source": [
    "print(Jtot_max)"
   ]
  },
  {
   "cell_type": "markdown",
   "id": "b36b19e2-f33d-48a8-a29a-cb19eacb5297",
   "metadata": {},
   "source": [
    "## Construct all $J$, $\\pi$ states\n",
    "Each of these $J$, $\\pi$ pairs represents a system of coupled partial waves"
   ]
  },
  {
   "cell_type": "code",
   "execution_count": 7,
   "id": "b9c3167a-c18b-4753-a546-3f0f50a4f0ae",
   "metadata": {},
   "outputs": [],
   "source": [
    "Jpi = [\n",
    "    [(Jtot_min + n, Parity.positive) for n in range(n_partial_waves)],\n",
    "    [(Jtot_min + n, Parity.negative) for n in range(n_partial_waves)],\n",
    "]"
   ]
  },
  {
   "cell_type": "markdown",
   "id": "1d382864-e209-482e-bfa5-90cd325023e9",
   "metadata": {},
   "source": [
    "## Look at the systems for a few  $J$, $\\pi$ pairs in the $J = L + I_p$ basis\n"
   ]
  },
  {
   "cell_type": "code",
   "execution_count": 8,
   "id": "ad167d58-d1f1-40a2-987e-b6cc351ed59b",
   "metadata": {},
   "outputs": [
    {
     "data": {
      "text/latex": [
       "$\\displaystyle J=1/2$"
      ],
      "text/plain": [
       "<IPython.core.display.Math object>"
      ]
     },
     "metadata": {},
     "output_type": "display_data"
    },
    {
     "data": {
      "text/latex": [
       "$\\displaystyle (^{2} s _{1/2}, \\,^{4} d _{1/2}, \\,^{6} d _{1/2}, \\,^{8} g _{1/2}, \\,^{10} g _{1/2})$"
      ],
      "text/plain": [
       "<IPython.core.display.Math object>"
      ]
     },
     "metadata": {},
     "output_type": "display_data"
    },
    {
     "data": {
      "text/latex": [
       "$\\displaystyle < l \\cdot s > = (0, \\,-3, \\,2, \\,-5, \\,4)$"
      ],
      "text/plain": [
       "<IPython.core.display.Math object>"
      ]
     },
     "metadata": {},
     "output_type": "display_data"
    },
    {
     "data": {
      "text/latex": [
       "$\\displaystyle J=3/2$"
      ],
      "text/plain": [
       "<IPython.core.display.Math object>"
      ]
     },
     "metadata": {},
     "output_type": "display_data"
    },
    {
     "data": {
      "text/latex": [
       "$\\displaystyle (^{4} d _{3/2}, \\,^{2} s _{3/2}, \\,^{4} d _{3/2}, \\,^{6} d _{3/2}, \\,^{8} g _{3/2}, \\,^{6} d _{3/2}, \\,^{8} g _{3/2}, \\,^{10} g _{3/2}, \\,^{12} i _{3/2})$"
      ],
      "text/plain": [
       "<IPython.core.display.Math object>"
      ]
     },
     "metadata": {},
     "output_type": "display_data"
    },
    {
     "data": {
      "text/latex": [
       "$\\displaystyle < l \\cdot s > = (-3, \\,0, \\,-3, \\,2, \\,-5, \\,2, \\,-5, \\,4, \\,-7)$"
      ],
      "text/plain": [
       "<IPython.core.display.Math object>"
      ]
     },
     "metadata": {},
     "output_type": "display_data"
    },
    {
     "data": {
      "text/latex": [
       "$\\displaystyle J=5/2$"
      ],
      "text/plain": [
       "<IPython.core.display.Math object>"
      ]
     },
     "metadata": {},
     "output_type": "display_data"
    },
    {
     "data": {
      "text/latex": [
       "$\\displaystyle (^{6} d _{5/2}, \\,^{2} s _{5/2}, \\,^{4} d _{5/2}, \\,^{6} d _{5/2}, \\,^{8} g _{5/2}, \\,^{10} g _{5/2}, \\,^{4} d _{5/2}, \\,^{6} d _{5/2}, \\,^{8} g _{5/2}, \\,^{10} g _{5/2}, \\,^{12} i _{5/2}, \\,^{14} i _{5/2})$"
      ],
      "text/plain": [
       "<IPython.core.display.Math object>"
      ]
     },
     "metadata": {},
     "output_type": "display_data"
    },
    {
     "data": {
      "text/latex": [
       "$\\displaystyle < l \\cdot s > = (2, \\,0, \\,-3, \\,2, \\,-5, \\,4, \\,-3, \\,2, \\,-5, \\,4, \\,-7, \\,6)$"
      ],
      "text/plain": [
       "<IPython.core.display.Math object>"
      ]
     },
     "metadata": {},
     "output_type": "display_data"
    },
    {
     "data": {
      "text/latex": [
       "$\\displaystyle J=7/2$"
      ],
      "text/plain": [
       "<IPython.core.display.Math object>"
      ]
     },
     "metadata": {},
     "output_type": "display_data"
    },
    {
     "data": {
      "text/latex": [
       "$\\displaystyle (^{8} g _{7/2}, \\,^{4} d _{7/2}, \\,^{6} d _{7/2}, \\,^{8} g _{7/2}, \\,^{10} g _{7/2}, \\,^{12} i _{7/2}, \\,^{2} s _{7/2}, \\,^{4} d _{7/2}, \\,^{6} d _{7/2}, \\,^{8} g _{7/2}, \\,^{10} g _{7/2}, \\,^{12} i _{7/2}, \\,^{14} i _{7/2}, \\,^{16} k _{7/2})$"
      ],
      "text/plain": [
       "<IPython.core.display.Math object>"
      ]
     },
     "metadata": {},
     "output_type": "display_data"
    },
    {
     "data": {
      "text/latex": [
       "$\\displaystyle < l \\cdot s > = (-5, \\,-3, \\,2, \\,-5, \\,4, \\,-7, \\,0, \\,-3, \\,2, \\,-5, \\,4, \\,-7, \\,6, \\,-9)$"
      ],
      "text/plain": [
       "<IPython.core.display.Math object>"
      ]
     },
     "metadata": {},
     "output_type": "display_data"
    }
   ],
   "source": [
    "# positive total parity states\n",
    "for J, pi in Jpi[0][0:4]:\n",
    "    display(Math(f\"J={J}\"))\n",
    "    channels = ch.build_all_channels(\n",
    "        J, pi, projectile, target, build_channels=ch.build_channels_2body_jbasis\n",
    "    )\n",
    "    coupled_channel_strings = []\n",
    "    for channel in channels:\n",
    "        j = channel[\"j\"]\n",
    "        l = channel[\"l\"]\n",
    "        coupled_channel_strings.append(f\"{format_jbasis_channel_latex(l,J,j)}\")\n",
    "    lds = [f\"{int(x)}\" for x in ch.spin_orbit_coupling(channels)]\n",
    "    display(Math(\"(\" + \", \\,\".join(coupled_channel_strings) + \")\"))\n",
    "    display(Math(\"< l \\cdot s > = (\" + \", \\,\".join(lds) + \")\"))"
   ]
  },
  {
   "cell_type": "code",
   "execution_count": 9,
   "id": "520124f4-fa05-47e7-93e2-28462558f26e",
   "metadata": {},
   "outputs": [
    {
     "data": {
      "text/latex": [
       "$\\displaystyle J=1/2$"
      ],
      "text/plain": [
       "<IPython.core.display.Math object>"
      ]
     },
     "metadata": {},
     "output_type": "display_data"
    },
    {
     "data": {
      "text/latex": [
       "$\\displaystyle (^{2} p _{1/2}, \\,^{4} p _{1/2}, \\,^{6} f _{1/2}, \\,^{8} f _{1/2}, \\,^{10} h _{1/2})$"
      ],
      "text/plain": [
       "<IPython.core.display.Math object>"
      ]
     },
     "metadata": {},
     "output_type": "display_data"
    },
    {
     "data": {
      "text/latex": [
       "$\\displaystyle < l \\cdot s > = (-2, \\,1, \\,-4, \\,3, \\,-6)$"
      ],
      "text/plain": [
       "<IPython.core.display.Math object>"
      ]
     },
     "metadata": {},
     "output_type": "display_data"
    },
    {
     "data": {
      "text/latex": [
       "$\\displaystyle J=3/2$"
      ],
      "text/plain": [
       "<IPython.core.display.Math object>"
      ]
     },
     "metadata": {},
     "output_type": "display_data"
    },
    {
     "data": {
      "text/latex": [
       "$\\displaystyle (^{4} p _{3/2}, \\,^{2} p _{3/2}, \\,^{4} p _{3/2}, \\,^{6} f _{3/2}, \\,^{8} f _{3/2}, \\,^{6} f _{3/2}, \\,^{8} f _{3/2}, \\,^{10} h _{3/2}, \\,^{12} h _{3/2})$"
      ],
      "text/plain": [
       "<IPython.core.display.Math object>"
      ]
     },
     "metadata": {},
     "output_type": "display_data"
    },
    {
     "data": {
      "text/latex": [
       "$\\displaystyle < l \\cdot s > = (1, \\,-2, \\,1, \\,-4, \\,3, \\,-4, \\,3, \\,-6, \\,5)$"
      ],
      "text/plain": [
       "<IPython.core.display.Math object>"
      ]
     },
     "metadata": {},
     "output_type": "display_data"
    },
    {
     "data": {
      "text/latex": [
       "$\\displaystyle J=5/2$"
      ],
      "text/plain": [
       "<IPython.core.display.Math object>"
      ]
     },
     "metadata": {},
     "output_type": "display_data"
    },
    {
     "data": {
      "text/latex": [
       "$\\displaystyle (^{6} f _{5/2}, \\,^{2} p _{5/2}, \\,^{4} p _{5/2}, \\,^{6} f _{5/2}, \\,^{8} f _{5/2}, \\,^{10} h _{5/2}, \\,^{4} p _{5/2}, \\,^{6} f _{5/2}, \\,^{8} f _{5/2}, \\,^{10} h _{5/2}, \\,^{12} h _{5/2}, \\,^{14} j _{5/2})$"
      ],
      "text/plain": [
       "<IPython.core.display.Math object>"
      ]
     },
     "metadata": {},
     "output_type": "display_data"
    },
    {
     "data": {
      "text/latex": [
       "$\\displaystyle < l \\cdot s > = (-4, \\,-2, \\,1, \\,-4, \\,3, \\,-6, \\,1, \\,-4, \\,3, \\,-6, \\,5, \\,-8)$"
      ],
      "text/plain": [
       "<IPython.core.display.Math object>"
      ]
     },
     "metadata": {},
     "output_type": "display_data"
    },
    {
     "data": {
      "text/latex": [
       "$\\displaystyle J=7/2$"
      ],
      "text/plain": [
       "<IPython.core.display.Math object>"
      ]
     },
     "metadata": {},
     "output_type": "display_data"
    },
    {
     "data": {
      "text/latex": [
       "$\\displaystyle (^{8} f _{7/2}, \\,^{4} p _{7/2}, \\,^{6} f _{7/2}, \\,^{8} f _{7/2}, \\,^{10} h _{7/2}, \\,^{12} h _{7/2}, \\,^{2} p _{7/2}, \\,^{4} p _{7/2}, \\,^{6} f _{7/2}, \\,^{8} f _{7/2}, \\,^{10} h _{7/2}, \\,^{12} h _{7/2}, \\,^{14} j _{7/2}, \\,^{16} j _{7/2})$"
      ],
      "text/plain": [
       "<IPython.core.display.Math object>"
      ]
     },
     "metadata": {},
     "output_type": "display_data"
    },
    {
     "data": {
      "text/latex": [
       "$\\displaystyle < l \\cdot s > = (3, \\,1, \\,-4, \\,3, \\,-6, \\,5, \\,-2, \\,1, \\,-4, \\,3, \\,-6, \\,5, \\,-8, \\,7)$"
      ],
      "text/plain": [
       "<IPython.core.display.Math object>"
      ]
     },
     "metadata": {},
     "output_type": "display_data"
    }
   ],
   "source": [
    "# negative total parity states\n",
    "for J, pi in Jpi[1][0:4]:\n",
    "    display(Math(f\"J={J}\"))\n",
    "    channels = ch.build_all_channels(\n",
    "        J, pi, projectile, target, build_channels=ch.build_channels_2body_jbasis\n",
    "    )\n",
    "    coupled_channel_strings = []\n",
    "    for channel in channels:\n",
    "        j = channel[\"j\"]\n",
    "        l = channel[\"l\"]\n",
    "        coupled_channel_strings.append(f\"{format_jbasis_channel_latex(l,J,j)}\")\n",
    "    lds = [f\"{int(x)}\" for x in ch.spin_orbit_coupling(channels)]\n",
    "    display(Math(\"(\" + \", \\,\".join(coupled_channel_strings) + \")\"))\n",
    "    display(Math(\"< l \\cdot s > = (\" + \", \\,\".join(lds) + \")\"))"
   ]
  },
  {
   "cell_type": "markdown",
   "id": "b2653830-6b8b-44b7-a9c4-47600b01b198",
   "metadata": {},
   "source": [
    "# How about the $S = I_p + I_t$ basis?\n",
    "We won't calculate the spin-orbit because it is not diagonal in the $S$ basis"
   ]
  },
  {
   "cell_type": "code",
   "execution_count": 48,
   "id": "9affa48a-e9b1-4738-a979-edd292e34ad5",
   "metadata": {},
   "outputs": [
    {
     "data": {
      "text/latex": [
       "$\\displaystyle J=1/2$"
      ],
      "text/plain": [
       "<IPython.core.display.Math object>"
      ]
     },
     "metadata": {},
     "output_type": "display_data"
    },
    {
     "data": {
      "text/latex": [
       "$\\displaystyle (^{2} s _{1/2}, \\,^{4} d _{1/2}, \\,^{6} d _{1/2}, \\,^{8} g _{1/2}, \\,^{10} g _{1/2})$"
      ],
      "text/plain": [
       "<IPython.core.display.Math object>"
      ]
     },
     "metadata": {},
     "output_type": "display_data"
    },
    {
     "data": {
      "text/latex": [
       "$\\displaystyle J=3/2$"
      ],
      "text/plain": [
       "<IPython.core.display.Math object>"
      ]
     },
     "metadata": {},
     "output_type": "display_data"
    },
    {
     "data": {
      "text/latex": [
       "$\\displaystyle (^{2} d _{3/2}, \\,^{4} s _{3/2}, \\,^{4} d _{3/2}, \\,^{6} d _{3/2}, \\,^{6} g _{3/2}, \\,^{8} d _{3/2}, \\,^{8} g _{3/2}, \\,^{10} g _{3/2}, \\,^{10} i _{3/2})$"
      ],
      "text/plain": [
       "<IPython.core.display.Math object>"
      ]
     },
     "metadata": {},
     "output_type": "display_data"
    },
    {
     "data": {
      "text/latex": [
       "$\\displaystyle J=5/2$"
      ],
      "text/plain": [
       "<IPython.core.display.Math object>"
      ]
     },
     "metadata": {},
     "output_type": "display_data"
    },
    {
     "data": {
      "text/latex": [
       "$\\displaystyle (^{2} d _{5/2}, \\,^{4} d _{5/2}, \\,^{4} g _{5/2}, \\,^{6} s _{5/2}, \\,^{6} d _{5/2}, \\,^{6} g _{5/2}, \\,^{8} d _{5/2}, \\,^{8} g _{5/2}, \\,^{8} i _{5/2}, \\,^{10} d _{5/2}, \\,^{10} g _{5/2}, \\,^{10} i _{5/2})$"
      ],
      "text/plain": [
       "<IPython.core.display.Math object>"
      ]
     },
     "metadata": {},
     "output_type": "display_data"
    },
    {
     "data": {
      "text/latex": [
       "$\\displaystyle J=7/2$"
      ],
      "text/plain": [
       "<IPython.core.display.Math object>"
      ]
     },
     "metadata": {},
     "output_type": "display_data"
    },
    {
     "data": {
      "text/latex": [
       "$\\displaystyle (^{2} g _{7/2}, \\,^{4} d _{7/2}, \\,^{4} g _{7/2}, \\,^{6} d _{7/2}, \\,^{6} g _{7/2}, \\,^{6} i _{7/2}, \\,^{8} s _{7/2}, \\,^{8} d _{7/2}, \\,^{8} g _{7/2}, \\,^{8} i _{7/2}, \\,^{10} d _{7/2}, \\,^{10} g _{7/2}, \\,^{10} i _{7/2}, \\,^{10} k _{7/2})$"
      ],
      "text/plain": [
       "<IPython.core.display.Math object>"
      ]
     },
     "metadata": {},
     "output_type": "display_data"
    }
   ],
   "source": [
    "# positive total parity states\n",
    "for J, pi in Jpi[0][0:4]:\n",
    "    display(Math(f\"J={J}\"))\n",
    "    channels = ch.build_all_channels(\n",
    "        J, pi, projectile, target, build_channels=ch.build_channels_2body_sbasis\n",
    "    )\n",
    "    coupled_channel_strings = []\n",
    "    for channel in channels:\n",
    "        s = channel[\"s\"]\n",
    "        l = channel[\"l\"]\n",
    "        coupled_channel_strings.append(f\"{format_sbasis_channel_latex(l,J,s)}\")\n",
    "    display(Math(\"(\" + \", \\,\".join(coupled_channel_strings) + \")\"))"
   ]
  },
  {
   "cell_type": "code",
   "execution_count": 49,
   "id": "f4371742-56be-46ce-81d4-17233a2a8b42",
   "metadata": {},
   "outputs": [
    {
     "data": {
      "text/latex": [
       "$\\displaystyle J=1/2$"
      ],
      "text/plain": [
       "<IPython.core.display.Math object>"
      ]
     },
     "metadata": {},
     "output_type": "display_data"
    },
    {
     "data": {
      "text/latex": [
       "$\\displaystyle (^{2} p _{1/2}, \\,^{4} p _{1/2}, \\,^{6} f _{1/2}, \\,^{8} f _{1/2}, \\,^{10} h _{1/2})$"
      ],
      "text/plain": [
       "<IPython.core.display.Math object>"
      ]
     },
     "metadata": {},
     "output_type": "display_data"
    },
    {
     "data": {
      "text/latex": [
       "$\\displaystyle J=3/2$"
      ],
      "text/plain": [
       "<IPython.core.display.Math object>"
      ]
     },
     "metadata": {},
     "output_type": "display_data"
    },
    {
     "data": {
      "text/latex": [
       "$\\displaystyle (^{2} p _{3/2}, \\,^{4} p _{3/2}, \\,^{4} f _{3/2}, \\,^{6} p _{3/2}, \\,^{6} f _{3/2}, \\,^{8} f _{3/2}, \\,^{8} h _{3/2}, \\,^{10} f _{3/2}, \\,^{10} h _{3/2})$"
      ],
      "text/plain": [
       "<IPython.core.display.Math object>"
      ]
     },
     "metadata": {},
     "output_type": "display_data"
    },
    {
     "data": {
      "text/latex": [
       "$\\displaystyle J=5/2$"
      ],
      "text/plain": [
       "<IPython.core.display.Math object>"
      ]
     },
     "metadata": {},
     "output_type": "display_data"
    },
    {
     "data": {
      "text/latex": [
       "$\\displaystyle (^{2} f _{5/2}, \\,^{4} p _{5/2}, \\,^{4} f _{5/2}, \\,^{6} p _{5/2}, \\,^{6} f _{5/2}, \\,^{6} h _{5/2}, \\,^{8} p _{5/2}, \\,^{8} f _{5/2}, \\,^{8} h _{5/2}, \\,^{10} f _{5/2}, \\,^{10} h _{5/2}, \\,^{10} j _{5/2})$"
      ],
      "text/plain": [
       "<IPython.core.display.Math object>"
      ]
     },
     "metadata": {},
     "output_type": "display_data"
    },
    {
     "data": {
      "text/latex": [
       "$\\displaystyle J=7/2$"
      ],
      "text/plain": [
       "<IPython.core.display.Math object>"
      ]
     },
     "metadata": {},
     "output_type": "display_data"
    },
    {
     "data": {
      "text/latex": [
       "$\\displaystyle (^{2} f _{7/2}, \\,^{4} f _{7/2}, \\,^{4} h _{7/2}, \\,^{6} p _{7/2}, \\,^{6} f _{7/2}, \\,^{6} h _{7/2}, \\,^{8} p _{7/2}, \\,^{8} f _{7/2}, \\,^{8} h _{7/2}, \\,^{8} j _{7/2}, \\,^{10} p _{7/2}, \\,^{10} f _{7/2}, \\,^{10} h _{7/2}, \\,^{10} j _{7/2})$"
      ],
      "text/plain": [
       "<IPython.core.display.Math object>"
      ]
     },
     "metadata": {},
     "output_type": "display_data"
    }
   ],
   "source": [
    "# negative total parity states\n",
    "for J, pi in Jpi[1][0:4]:\n",
    "    display(Math(f\"J={J}\"))\n",
    "    channels = ch.build_all_channels(\n",
    "        J, pi, projectile, target, build_channels=ch.build_channels_2body_sbasis\n",
    "    )\n",
    "    coupled_channel_strings = []\n",
    "    for channel in channels:\n",
    "        s = channel[\"s\"]\n",
    "        l = channel[\"l\"]\n",
    "        coupled_channel_strings.append(f\"{format_sbasis_channel_latex(l,J,s)}\")\n",
    "    display(Math(\"(\" + \", \\,\".join(coupled_channel_strings) + \")\"))"
   ]
  },
  {
   "cell_type": "markdown",
   "id": "59b8843b-b928-49ed-8f41-77618f3aad7a",
   "metadata": {},
   "source": [
    "## Converting between $J$ and $S$ bases\n",
    "Let's take the channels making up the $J=1/2, \\pi=+1$ system and demonstrate the unitary transformation between bases"
   ]
  },
  {
   "cell_type": "code",
   "execution_count": 88,
   "id": "ad37a54f-6477-4f42-9ead-4e83280a6482",
   "metadata": {},
   "outputs": [],
   "source": [
    "Jtot = Fraction(1,2)\n",
    "pi = Parity.positive\n",
    "ch_jbasis = channels = ch.build_all_channels(\n",
    "    Jtot,\n",
    "    pi,\n",
    "    projectile,\n",
    "    target,\n",
    "    build_channels=ch.build_channels_2body_jbasis,\n",
    ")\n",
    "ch_sbasis = channels = ch.build_all_channels(\n",
    "    Jtot,\n",
    "    pi,\n",
    "    projectile,\n",
    "    target,\n",
    "    build_channels=ch.build_channels_2body_sbasis,\n",
    ")"
   ]
  },
  {
   "cell_type": "code",
   "execution_count": 105,
   "id": "71ff2ba3-1399-491e-80a5-5e8bc12f0d3d",
   "metadata": {},
   "outputs": [
    {
     "data": {
      "text/plain": [
       "array([(0, Fraction(1, 2), 0., Fraction(1, 2), <Parity.positive: True>, 0., 0, <Parity.positive: True>),\n",
       "       (2, Fraction(3, 2), 0., Fraction(1, 2), <Parity.positive: True>, 1., 2, <Parity.positive: True>),\n",
       "       (2, Fraction(5, 2), 0., Fraction(1, 2), <Parity.positive: True>, 1., 2, <Parity.positive: True>),\n",
       "       (4, Fraction(7, 2), 0., Fraction(1, 2), <Parity.positive: True>, 2., 4, <Parity.positive: True>),\n",
       "       (4, Fraction(9, 2), 0., Fraction(1, 2), <Parity.positive: True>, 2., 4, <Parity.positive: True>)],\n",
       "      dtype=[('l', '<i8'), ('j', 'O'), ('Ex_p', '<f8'), ('Ip', 'O'), ('pi_p', 'O'), ('Ex_t', '<f8'), ('It', 'O'), ('pi_t', 'O')])"
      ]
     },
     "execution_count": 105,
     "metadata": {},
     "output_type": "execute_result"
    }
   ],
   "source": [
    "ch_jbasis"
   ]
  },
  {
   "cell_type": "code",
   "execution_count": 106,
   "id": "cbacecb3-3423-4e09-ba89-2589fc7d0580",
   "metadata": {},
   "outputs": [
    {
     "data": {
      "text/plain": [
       "array([(0, Fraction(1, 2), 0., Fraction(1, 2), <Parity.positive: True>, 0., 0, <Parity.positive: True>),\n",
       "       (2, Fraction(3, 2), 0., Fraction(1, 2), <Parity.positive: True>, 1., 2, <Parity.positive: True>),\n",
       "       (2, Fraction(5, 2), 0., Fraction(1, 2), <Parity.positive: True>, 1., 2, <Parity.positive: True>),\n",
       "       (4, Fraction(7, 2), 0., Fraction(1, 2), <Parity.positive: True>, 2., 4, <Parity.positive: True>),\n",
       "       (4, Fraction(9, 2), 0., Fraction(1, 2), <Parity.positive: True>, 2., 4, <Parity.positive: True>)],\n",
       "      dtype=[('l', '<i8'), ('s', 'O'), ('Ex_p', '<f8'), ('Ip', 'O'), ('pi_p', 'O'), ('Ex_t', '<f8'), ('It', 'O'), ('pi_t', 'O')])"
      ]
     },
     "execution_count": 106,
     "metadata": {},
     "output_type": "execute_result"
    }
   ],
   "source": [
    "ch_sbasis"
   ]
  },
  {
   "cell_type": "code",
   "execution_count": 107,
   "id": "7e132104-3bfa-459d-b0c9-58bca2f361c8",
   "metadata": {},
   "outputs": [],
   "source": [
    "U_s2j = ch.sbasis_to_jbasis_conversion_matrix(Jtot, ch_sbasis, ch_jbasis)"
   ]
  },
  {
   "cell_type": "code",
   "execution_count": 108,
   "id": "619b5e6a-2839-469f-9d94-d92ed774994b",
   "metadata": {},
   "outputs": [
    {
     "data": {
      "text/plain": [
       "(5, 5)"
      ]
     },
     "execution_count": 108,
     "metadata": {},
     "output_type": "execute_result"
    }
   ],
   "source": [
    "U_s2j.shape"
   ]
  },
  {
   "cell_type": "code",
   "execution_count": 109,
   "id": "dbfb8f7e-9bbf-4be8-82cf-df2cce11ee6b",
   "metadata": {},
   "outputs": [
    {
     "data": {
      "text/plain": [
       "array([[ 1.        +0.j,  0.        +0.j,  0.        +0.j,\n",
       "         0.        +0.j,  0.        +0.j],\n",
       "       [ 0.        +0.j,  0.68      +0.j, -0.08      +0.j,\n",
       "         0.        +0.j,  0.        +0.j],\n",
       "       [ 0.        +0.j, -0.08      +0.j,  1.48      +0.j,\n",
       "         0.        +0.j,  0.        +0.j],\n",
       "       [ 0.        +0.j,  0.        +0.j,  0.        +0.j,\n",
       "         0.80246914+0.j, -0.02469136+0.j],\n",
       "       [ 0.        +0.j,  0.        +0.j,  0.        +0.j,\n",
       "        -0.02469136+0.j,  1.24691358+0.j]])"
      ]
     },
     "execution_count": 109,
     "metadata": {},
     "output_type": "execute_result"
    }
   ],
   "source": [
    "U_s2j.conj().T @ U_s2j"
   ]
  },
  {
   "cell_type": "markdown",
   "id": "390411c5-5e14-4a11-99d0-52ce1bf35a80",
   "metadata": {},
   "source": [
    "This unitary matrix converts between states in the J and S-bases. We can represent such a state as 1D np array of complex numbers of the same size as the channel arrays, representing the coefficient for the radial wavefunction in each channel."
   ]
  },
  {
   "cell_type": "code",
   "execution_count": 92,
   "id": "b9045745-cf32-4781-a91f-6846f0c71b21",
   "metadata": {},
   "outputs": [
    {
     "data": {
      "text/plain": [
       "array([0.+0.j, 0.+0.j, 0.+0.j, 0.+0.j, 0.+0.j])"
      ]
     },
     "execution_count": 92,
     "metadata": {},
     "output_type": "execute_result"
    }
   ],
   "source": [
    "state_sbasis = np.zeros_like(ch_sbasis, dtype=complex)\n",
    "state_sbasis"
   ]
  },
  {
   "cell_type": "markdown",
   "id": "13aba0cf-a1bb-48d5-929e-41ba5862b85b",
   "metadata": {},
   "source": [
    "Let's set one particular channel to have some wavefunction in it, and see what our resulting $s$-basis wavefunction is:"
   ]
  },
  {
   "cell_type": "code",
   "execution_count": 93,
   "id": "5c14050a-3f32-4f73-82e0-11290191a90f",
   "metadata": {},
   "outputs": [
    {
     "data": {
      "text/plain": [
       "(1+0j)"
      ]
     },
     "execution_count": 93,
     "metadata": {},
     "output_type": "execute_result"
    }
   ],
   "source": [
    "state_sbasis[1] = 1\n",
    "np.dot( state_sbasis.conj() , state_sbasis ) # should be 1 to be normalizable quantum state"
   ]
  },
  {
   "cell_type": "code",
   "execution_count": 94,
   "id": "5cfeb330-0002-44a3-bf4a-d1bde12d19d4",
   "metadata": {},
   "outputs": [
    {
     "data": {
      "text/plain": [
       "array([ 0. +0.j, -0.2+0.j,  0.8+0.j,  0. +0.j,  0. +0.j])"
      ]
     },
     "execution_count": 94,
     "metadata": {},
     "output_type": "execute_result"
    }
   ],
   "source": [
    "U_s2j @ state_sbasis"
   ]
  },
  {
   "cell_type": "code",
   "execution_count": 99,
   "id": "1d8aab52-814e-4dda-a2db-b382b8919d03",
   "metadata": {},
   "outputs": [],
   "source": [
    "U_j2s = np.linalg.inv(U_s2j)"
   ]
  },
  {
   "cell_type": "code",
   "execution_count": 100,
   "id": "30075093-a400-4c14-b775-28929c66cde1",
   "metadata": {},
   "outputs": [
    {
     "data": {
      "text/plain": [
       "array([0.+0.j, 0.+0.j, 0.+0.j, 0.+0.j, 0.+1.j])"
      ]
     },
     "execution_count": 100,
     "metadata": {},
     "output_type": "execute_result"
    }
   ],
   "source": [
    "state_jbasis = np.zeros_like(ch_jbasis, dtype=complex)\n",
    "state_jbasis[4] = 1j\n",
    "state_jbasis"
   ]
  },
  {
   "cell_type": "code",
   "execution_count": 101,
   "id": "818c6ca8-4748-4285-944a-231f706bcc9a",
   "metadata": {},
   "outputs": [
    {
     "data": {
      "text/plain": [
       "array([0.+0.j        , 0.+0.j        , 0.+0.j        , 0.+1.11111111j,\n",
       "       0.+0.11111111j])"
      ]
     },
     "execution_count": 101,
     "metadata": {},
     "output_type": "execute_result"
    }
   ],
   "source": [
    "state_sbasis =  U_j2s @ state_jbasis\n",
    "state_sbasis"
   ]
  },
  {
   "cell_type": "code",
   "execution_count": 102,
   "id": "889c332e-220a-4baf-af18-c430e2c5f313",
   "metadata": {},
   "outputs": [
    {
     "data": {
      "text/plain": [
       "array([0.+0.j, 0.+0.j, 0.+0.j, 0.+0.j, 0.+1.j])"
      ]
     },
     "execution_count": 102,
     "metadata": {},
     "output_type": "execute_result"
    }
   ],
   "source": [
    "U_s2j @ state_sbasis"
   ]
  }
 ],
 "metadata": {
  "kernelspec": {
   "display_name": "Python 3 (ipykernel)",
   "language": "python",
   "name": "python3"
  },
  "language_info": {
   "codemirror_mode": {
    "name": "ipython",
    "version": 3
   },
   "file_extension": ".py",
   "mimetype": "text/x-python",
   "name": "python",
   "nbconvert_exporter": "python",
   "pygments_lexer": "ipython3",
   "version": "3.11.9"
  }
 },
 "nbformat": 4,
 "nbformat_minor": 5
}
