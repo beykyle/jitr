{
 "cells": [
  {
   "cell_type": "code",
   "execution_count": 1,
   "metadata": {},
   "outputs": [],
   "source": [
    "import numpy as np\n",
    "from matplotlib import pyplot as plt\n",
    "from scipy.integrate import solve_ivp\n",
    "from scipy.stats import bootstrap\n",
    "from numba import njit\n",
    "from jitr import (\n",
    "    ProjectileTargetSystem,\n",
    "    InteractionMatrix,\n",
    "    RMatrixSolver,\n",
    "    woods_saxon_potential,\n",
    "    woods_saxon_prime,\n",
    "    coulomb_charged_sphere,\n",
    ")\n",
    "import corner"
   ]
  },
  {
   "cell_type": "markdown",
   "metadata": {},
   "source": [
    "## Set up model\n",
    "We would like to calibrate the East Lansing model. The East Lansing Model (ELM) is defined in the standard way:\n",
    "\n",
    "\\begin{align}\n",
    "    U(r,E,A) &= \n",
    "    -\\bigg( V(E) + i W(E)  \\bigg) f(r,R,a)  - 4 i a W_D(E) \\frac{d}{dr} f(r,R,a) \\\\\n",
    "    & + \\bigg( V_{so}(E) + i W_{so}(E)  \\bigg)  \\bigg( \\frac{\\hbar}{m_\\pi c}\\bigg)^2 \\frac{1}{r} \\frac{d}{dr}  f(r,R,a)  + V_C(r).\n",
    "\\end{align}\n",
    "\n",
    "Here, $V_C$ is the standard Coulomb charged sphere form (see \\cite{koning2003local} Eq. 4), and $f(r,R,a)$ is the Woods-Saxon form factor. Note that all terms shared the same geometry. The radius of the potential $R$ and the diffuseness are parameterized as without any $A$ dependence aside from the typical volume term. The free parameters $r_0$, $r_A$ and $a$ are in units of fm.\n",
    "\n",
    "\\begin{align}\n",
    "    R &= r_0 + r_A A^{1/3} \\\\\n",
    "    a &= a_0.\n",
    "\\end{align}\n",
    "\n",
    "The depths of each term have an isoscalar and isovector component which share energy dependencies. They are parameterized as a function of $E- E_F$, the difference between the center-of-mass frame energy between the projectile and target, and the Fermi energy of the target, the latter of which is not treated as a free parameter but is instead taken from experiment. The depths terms are\n",
    "\n",
    "\\begin{align}\n",
    "    V(E) &= V \\big( 1 +  \\frac{T_z}{2 A}  \\eta_V \\big) \\big( 1 + \\alpha (E - E_f) + \\beta (E- E_F)^2 \\big) \\\\\n",
    "    W(E) &= W \\big( 1 +  \\frac{T_z}{2 A}  \\eta_W \\big) \\frac{(E - E_f)^2}{(E-E_F)^2 + \\gamma_W^2} \\\\\n",
    "    W_D(E) &= W_D \\big( 1 +  \\frac{T_z}{2 A}  \\eta_D  \\big) \\frac{(E - E_f)^2}{(E-E_F)^2 + \\gamma_D^2} \\\\\n",
    "    V_{so}(E) &= V_{so} \\big(1  +  \\frac{T_z}{2 A} \\eta_{so}  \\big)  \\\\\n",
    "    W_{so}(E) &= W_{so} \\big(1  +  \\frac{T_z}{2 A} \\eta_{so} \\big) \\frac{(E - E_f)^2}{(E-E_F)^2 + \\gamma_{so}^2}.\n",
    "\\end{align}\n",
    "\n",
    "Each depth $i$ is parameterized with a ratio between the isovector and isoscalar strengths, $\\eta_i$. Note the neglect of any $A$ dependence of the depths aside from the isovector factors. This was chosen due to recent uncertainty quantified calibration of global optical potentials to elastic scattering observables indicating that the correction terms linear in $A$ typically are at least an order of magnitude smaller than corresponding $A$ independent terms, and have uncertainties on the order of their magnitudes. Also note that the spin-orbit terms share a common ratio between isovector and isoscalar strengths, $\\eta_{so}$.\n",
    "\n",
    "In total, the depths have 14 free parameters; 5 magnitudes $V$, $W$, $W_D$, $V_{so}$ and $W_{so}$, 4 isovector to isoscalar ratios $\\eta_V$, $\\eta_W$, $\\eta_D$, $\\eta_{so}$, 2 terms for the polynomial energy dependence of $V(E)$; $\\alpha$ and $\\beta$, and 3 terms for the energy dependence of the imaginary strengths; $\\gamma_W$, $\\gamma_D$ and $\\gamma_{so}$. Including the 3 free geometric parameters, there are 17 free parameters total. \n"
   ]
  },
  {
   "cell_type": "code",
   "execution_count": 2,
   "metadata": {},
   "outputs": [],
   "source": [
    "class Parameter:\n",
    "    def __init__(self, name, dtype, fancy_label=None, bounds=None, note=None):\n",
    "        self.name = name\n",
    "        self.dtype = dtype\n",
    "        self.fancy_label = fancy_label if fancy_label is not None else name\n",
    "        self.bounds = bounds\n",
    "        self.note = note"
   ]
  },
  {
   "cell_type": "code",
   "execution_count": 3,
   "metadata": {},
   "outputs": [],
   "source": [
    "elm_params = [\n",
    "    Parameter(\"V\", np.float64, r\"$V$ [MeV]\"),\n",
    "    Parameter(\"W\", np.float64, r\"$W$ [MeV]\"),\n",
    "    Parameter(\"alpha\", np.float64, r\"$\\alpha$\"),\n",
    "    Parameter(\"beta\", np.float64, r\"\\beta\"),\n",
    "    Parameter(\"Wd\", np.float64, r\"$W_D$ [MeV]\"),\n",
    "    Parameter(\"Vso\", np.float64, r\"$V_{so}$ [MeV]\"),\n",
    "    Parameter(\"Wso\", np.float64, r\"$W_{so}$ [MeV]\"),\n",
    "    Parameter(\"gamma_w\", np.float64, r\"$\\gamma_W$ [MeV]\"),\n",
    "    Parameter(\"gamma_d\", np.float64, r\"$\\gamma_D$ [MeV]\"),\n",
    "    Parameter(\"gamma_so\", np.float64, r\"$\\gamma_{SO}$ [MeV]\"),\n",
    "    Parameter(\"eta_v\", np.float64, r\"$\\eta_V$ [MeV]\"),\n",
    "    Parameter(\"eta_w\", np.float64, r\"$\\eta_W$ [MeV]\"),\n",
    "    Parameter(\"eta_d\", np.float64, r\"$\\eta_D$ [MeV]\"),\n",
    "    Parameter(\"eta_so\", np.float64, r\"$\\eta_{so}$ [MeV]\"),\n",
    "    Parameter(\"r0\", np.float64, r\"$r_0$ [fm]\", bounds=[0, np.inf]),\n",
    "    Parameter(\"rA\", np.float64, r\"$r_A$ [fm]\", bounds=[0, np.inf]),\n",
    "    Parameter(\"a\", np.float64, r\"$a$ [fm]\", bounds=[0, np.inf]),\n",
    "    Parameter(\"Ef\", np.float64, r\"$E_f$ [MeV]\", note=\"Fermi energy\"),\n",
    "    Parameter(\"Z\", np.float64, r\"$Z$\"),\n",
    "    Parameter(\"A\", np.int32, r\"$A$\"),\n",
    "    Parameter(\"l\", np.int32, r\"$\\ell$ [$\\hbar$]\"),\n",
    "    Parameter(\"j\", np.int32, r\"$j$ [$\\hbar$]\"),\n",
    "    Parameter(\"E\", np.float64, r\"$E$ [MeV]\"),\n",
    "]\n",
    "elm_params_dtype = [(p.name, p.dtype) for p in elm_params]\n",
    "elm_fancy_labels = dict([(p.name, p.fancy_label) for p in elm_params])"
   ]
  },
  {
   "cell_type": "markdown",
   "metadata": {},
   "source": [
    "Only a subset of the actual model params are of interest in a statistical calibration. In this case, we ignore $E_f$, $Z$, $A$, $l$, $j$ and $E$ in the statistical calibration, as they are determined by the target, reaction and partial wave."
   ]
  },
  {
   "cell_type": "code",
   "execution_count": 4,
   "metadata": {},
   "outputs": [
    {
     "data": {
      "text/plain": [
       "17"
      ]
     },
     "execution_count": 4,
     "metadata": {},
     "output_type": "execute_result"
    }
   ],
   "source": [
    "elm_statistical_params = elm_params[:-6]\n",
    "elm_stat_params_dtype = [(p.name, p.dtype) for p in elm_statistical_params]\n",
    "N_params = len(elm_statistical_params)\n",
    "N_params"
   ]
  },
  {
   "cell_type": "code",
   "execution_count": 5,
   "metadata": {},
   "outputs": [],
   "source": [
    "MASS_PION = np.sqrt(1 / 2)  # 2.0 per Thomspon&Nuñes below Eq. (4.3.10) 1/fm\n",
    "\n",
    "\n",
    "def coulomb(r: np.array, p: np.array):\n",
    "    r\"\"\"\n",
    "    Coulomb charged sphere in vectorized and JIT-ed form\n",
    "    Params:\n",
    "        r (np.array) : a 1D array of radii in fm of dtype=float and of size Nr\n",
    "        p (np.array): a 1D array of the parameters of dtype=elm_params_dtype and of size Np\n",
    "    Returns:\n",
    "        U(r;params): a 2D array of shape (Np,Nr), with rows describing the radial Coulomb\n",
    "        potential and each column corresponding to a set of params in p\n",
    "    \"\"\"\n",
    "    assert params.dtype == elm_params_dtype\n",
    "    assert p.shape == (p.size,)\n",
    "\n",
    "    # coulomb radius same as nuclear\n",
    "    R = p[\"r_0\"] + p[\"r_A\"] * p[\"A\"] ** (1.0 / 3.0)\n",
    "\n",
    "    # generate r grid for each parameter\n",
    "    r = np.tile(r, (p.size, 1))\n",
    "\n",
    "    return coulomb_charged_sphere(r, p[\"Z\"], R)\n",
    "\n",
    "\n",
    "def elm_interaction(r: np.array, p: np.array):\n",
    "    r\"\"\"\n",
    "    Vectorized and JIT-ed implementation of the elm interaction. Default case\n",
    "    Params:\n",
    "        r (np.array) : a 1D array of radii in fm of dtype=float and of size Nr\n",
    "        p (np.array): a 1D array of the parameters of dtype=elm_params_dtype and of size Np\n",
    "    Returns:\n",
    "        U(r;params): a 2D array of shape (Np,Nr), with rows describing the radial potential\n",
    "            and each column corresponding to a set of params in p\n",
    "    \"\"\"\n",
    "\n",
    "    # we can guard against bugs by making sure we are passing in the\n",
    "    # correct parameter format. Note if we execute this python code with -O,\n",
    "    # the assert statements will be eliminated\n",
    "    assert params.dtype == elm_params_dtype\n",
    "    assert p.shape == (p.size,)\n",
    "\n",
    "    # generate r grid for each parameter\n",
    "    r = np.tile(r, (p.size, 1))\n",
    "\n",
    "    # spin orbit\n",
    "    j = p[\"j\"]\n",
    "    l = p[\"l\"]\n",
    "    lds = j * (j + 1) - l * (l + 1) - 0.5 * (0.5 + 1)\n",
    "\n",
    "    # geometry\n",
    "    R = p[\"r0\"] + p[\"rA\"] * p[\"A\"] ** (1.0 / 3.0)\n",
    "    a = p[\"a\"]\n",
    "\n",
    "    # depths\n",
    "    deltaE = p[\"E\"] - p[\"Ef\"]\n",
    "    asym = (p[\"A\"] - 2 * p[\"Z\"]) / (2 * p[\"A\"])\n",
    "    V = (\n",
    "        p[\"V\"]\n",
    "        * (1 + asym * p[\"eta_v\"])\n",
    "        * (1 + p[\"alpha\"] * deltaE + p[\"beta\"] * deltaE**2)\n",
    "    )\n",
    "    W = (\n",
    "        p[\"W\"]\n",
    "        * (1 + asym * p[\"eta_w\"])\n",
    "        * deltaE**2\n",
    "        / (deltaE**2 + p[\"gamma_w\"] ** 2)\n",
    "    )\n",
    "    Wd = (\n",
    "        p[\"Wd\"]\n",
    "        * (1 + asym * p[\"eta_d\"])\n",
    "        * deltaE**2\n",
    "        / (deltaE**2 + p[\"gamma_d\"] ** 2)\n",
    "    )\n",
    "    Vso = p[\"Vso\"] * (1 + asym * p[\"eta_so\"])\n",
    "    Wso = (\n",
    "        p[\"Wso\"]\n",
    "        * (1 + asym * p[\"eta_so\"])\n",
    "        * deltaE**2\n",
    "        / (deltaE**2 + p[\"gamma_so\"] ** 2)\n",
    "    )\n",
    "\n",
    "    central = woods_saxon_potential(\n",
    "        r, V[:, np.newaxis], W[:, np.newaxis], R[:, np.newaxis], a[:, np.newaxis]\n",
    "    )\n",
    "    surf = (\n",
    "        woods_saxon_prime(r, 0, Wd[:, np.newaxis], R[:, np.newaxis], a[:, np.newaxis])\n",
    "        * 4\n",
    "        * a[:, np.newaxis]\n",
    "    )\n",
    "    spin_orb = (\n",
    "        (lds[:, np.newaxis] / MASS_PION**2)\n",
    "        * woods_saxon_prime(\n",
    "            r,\n",
    "            Vso[:, np.newaxis],\n",
    "            Wso[:, np.newaxis],\n",
    "            R[:, np.newaxis],\n",
    "            a[:, np.newaxis],\n",
    "        )\n",
    "        / r\n",
    "    )\n",
    "\n",
    "    return -central + surf + spin_orb"
   ]
  },
  {
   "cell_type": "markdown",
   "metadata": {},
   "source": [
    "### visualize an ensemble of potential realizations\n",
    "Let's demonstrate how to generate an ensemble of potentials according to an ensemble of parameters, and visualize the corresponding radial confidence intervals of the interaction"
   ]
  },
  {
   "cell_type": "code",
   "execution_count": 9,
   "metadata": {},
   "outputs": [],
   "source": [
    "def sample_params(mu, cov, N):\n",
    "    # sample\n",
    "    X = np.random.multivariate_normal(mu, cov, N)\n",
    "    # convert to our param type and sanitize negative radii and diffusenesses\n",
    "    samples = np.array(\n",
    "        [tuple(x) for x in X if np.all(x[-2:] > 0)], dtype=my_model_statistical_params\n",
    "    )\n",
    "    return samples"
   ]
  },
  {
   "cell_type": "code",
   "execution_count": 31,
   "metadata": {},
   "outputs": [],
   "source": [
    "def generate_intervals(U, intervals=[0.95, 0.68], **kwargs):\n",
    "    cis = {}\n",
    "    for inter in intervals:\n",
    "        cis[inter] = (\n",
    "            bootstrap(\n",
    "                (U.real,), np.mean, confidence_level=inter, **kwargs\n",
    "            ).confidence_interval,\n",
    "            bootstrap(\n",
    "                (U.imag,), np.mean, confidence_level=inter, **kwargs\n",
    "            ).confidence_interval,\n",
    "        )\n",
    "    return cis"
   ]
  },
  {
   "cell_type": "code",
   "execution_count": 34,
   "metadata": {},
   "outputs": [
    {
     "name": "stdout",
     "output_type": "stream",
     "text": [
      "(100, 1000)\n"
     ]
    }
   ],
   "source": [
    "r = np.linspace(0.01, 10, 1000)\n",
    "# TODO replace below with a multivariate gaussian sample\n",
    "# let's hand roll an ensemble of parameters for visualization purposes\n",
    "params = np.zeros((100,), dtype=elm_params_dtype)\n",
    "params[\"V\"] = np.linspace(10, 50, 100)\n",
    "params[\"W\"] = np.linspace(2, 16, 100)\n",
    "params[\"Wd\"] = np.linspace(2, 16, 100)\n",
    "# params[\"Vso\"] = params[\"Wso\"] = 4\n",
    "params[\"r0\"] = np.linspace(0.3, 4, 100)\n",
    "params[\"rA\"] = 1\n",
    "params[\"a\"] = np.linspace(0.1, 2, 100)\n",
    "params[\"Ef\"] = -16\n",
    "params[\"E\"] = 230\n",
    "params[\"A\"] = 12\n",
    "params[\"Z\"] = 6\n",
    "U = elm_interaction(r, params)\n",
    "print(U.shape)  # num params x num radial points"
   ]
  },
  {
   "cell_type": "markdown",
   "metadata": {},
   "source": [
    "Let's use bootstrapping to generate a confidence interval so we can visualize this interaction as bands"
   ]
  },
  {
   "cell_type": "code",
   "execution_count": 32,
   "metadata": {},
   "outputs": [],
   "source": [
    "cis = generate_intervals(U)"
   ]
  },
  {
   "cell_type": "code",
   "execution_count": 33,
   "metadata": {},
   "outputs": [
    {
     "data": {
      "image/png": "[encoded data removed]",
      "text/plain": [
       "<Figure size 640x480 with 1 Axes>"
      ]
     },
     "metadata": {},
     "output_type": "display_data"
    }
   ],
   "source": [
    "# plot 95% CI with light band and 68% CI with darker band\n",
    "pr = plt.fill_between(\n",
    "    r, cis[0.95][0].low, cis[0.95][0].high, label=r\"$\\mathfrak{Re} U$\", alpha=0.3\n",
    ")\n",
    "pi = plt.fill_between(\n",
    "    r, cis[0.95][1].low, cis[0.95][1].high, label=r\"$\\mathfrak{Im} U$\", alpha=0.3\n",
    ")\n",
    "plt.fill_between(\n",
    "    r, cis[0.68][0].low, cis[0.68][0].high, alpha=0.3, color=pr.get_facecolor()\n",
    ")\n",
    "plt.fill_between(\n",
    "    r, cis[0.68][1].low, cis[0.68][1].high, alpha=0.3, color=pi.get_facecolor()\n",
    ")\n",
    "\n",
    "plt.xlabel(r\"$r$ [fm]\")\n",
    "plt.ylabel(r\"$U(r)$ [MeV]\")\n",
    "plt.legend(loc=\"lower right\")\n",
    "plt.tight_layout()"
   ]
  },
  {
   "cell_type": "markdown",
   "metadata": {},
   "source": [
    "## Making a prior\n",
    "let's assume our model prior can be described by a multivariate normal distribution of parameters and make up some mean and covariance that is consisten with Koning-Delaroche"
   ]
  },
  {
   "cell_type": "code",
   "execution_count": 10,
   "metadata": {},
   "outputs": [
    {
     "ename": "ValueError",
     "evalue": "operands could not be broadcast together with shapes (17,17) (6,6) (17,17) ",
     "output_type": "error",
     "traceback": [
      "\u001b[0;31m---------------------------------------------------------------------------\u001b[0m",
      "\u001b[0;31mValueError\u001b[0m                                Traceback (most recent call last)",
      "Cell \u001b[0;32mIn[10], line 3\u001b[0m\n\u001b[1;32m      1\u001b[0m mu \u001b[38;5;241m=\u001b[39m np\u001b[38;5;241m.\u001b[39marray([\u001b[38;5;241m40.2\u001b[39m, \u001b[38;5;241m10.0\u001b[39m, \u001b[38;5;241m5.1\u001b[39m, \u001b[38;5;241m0.3\u001b[39m, \u001b[38;5;241m3.6\u001b[39m, \u001b[38;5;241m1.8\u001b[39m])\n\u001b[1;32m      2\u001b[0m cov \u001b[38;5;241m=\u001b[39m np\u001b[38;5;241m.\u001b[39mzeros((N_params, N_params))\n\u001b[0;32m----> 3\u001b[0m cov \u001b[38;5;241m+\u001b[39m\u001b[38;5;241m=\u001b[39m np\u001b[38;5;241m.\u001b[39mdiag([\u001b[38;5;241m10.1\u001b[39m, \u001b[38;5;241m6.8\u001b[39m, \u001b[38;5;241m3.1\u001b[39m, \u001b[38;5;241m2.9\u001b[39m, \u001b[38;5;241m3.1\u001b[39m, \u001b[38;5;241m1.5\u001b[39m]) \u001b[38;5;241m*\u001b[39m\u001b[38;5;241m*\u001b[39m \u001b[38;5;241m2\u001b[39m\n",
      "\u001b[0;31mValueError\u001b[0m: operands could not be broadcast together with shapes (17,17) (6,6) (17,17) "
     ]
    }
   ],
   "source": [
    "# TODO fit parameters in ELM to KDUQ as prior\n",
    "mu = np.array([40.2, 10.0, 5.1, 0.3, 3.6, 1.8])\n",
    "cov = np.zeros((N_params, N_params))\n",
    "cov += np.diag([10.1, 6.8, 3.1, 2.9, 3.1, 1.5]) ** 2"
   ]
  },
  {
   "cell_type": "code",
   "execution_count": null,
   "metadata": {},
   "outputs": [],
   "source": [
    "samples = sample_params(mu, cov, 10000)"
   ]
  },
  {
   "cell_type": "code",
   "execution_count": null,
   "metadata": {},
   "outputs": [],
   "source": [
    "# notice the shape is only the number of samples\n",
    "samples.shape"
   ]
  },
  {
   "cell_type": "code",
   "execution_count": null,
   "metadata": {},
   "outputs": [],
   "source": [
    "# looking at the first 3 samples, we see each one contains all 6 parameters\n",
    "samples[:3]"
   ]
  },
  {
   "cell_type": "markdown",
   "metadata": {},
   "source": [
    "### Visualize prior"
   ]
  },
  {
   "cell_type": "code",
   "execution_count": null,
   "metadata": {},
   "outputs": [],
   "source": [
    "# we can take a look at just one parameter if we want\n",
    "plt.hist(samples[\"V\"])\n",
    "plt.xlabel(my_model_fancy_labels[\"V\"])"
   ]
  },
  {
   "cell_type": "code",
   "execution_count": null,
   "metadata": {},
   "outputs": [],
   "source": [
    "fig = corner.corner(\n",
    "    # to use corner, we need to view this array as a simple (num samples , num params) shaped array\n",
    "    samples.view((np.float64, len(my_model_statistical_params))),\n",
    "    labels=list(my_model_fancy_labels.values()),\n",
    "    show_titles=True,\n",
    "    title_kwargs={\"fontsize\": 12},\n",
    ")\n",
    "fig.tight_layout()"
   ]
  },
  {
   "cell_type": "markdown",
   "metadata": {},
   "source": [
    "## get data to calibrate to"
   ]
  },
  {
   "cell_type": "markdown",
   "metadata": {},
   "source": [
    "Let's grab some data from Exfor. We will calibrate an energy dependent local optical potential.\n",
    "\n",
    "### $d\\sigma/d\\Omega$\n",
    "- [Mueller et al., 2011 $(n,n)$ at $11.9 \\pm 0.207$ MeV](https://www-nds.iaea.org/exfor/servlet/X4sGetSubent?reqx=15364&subID=14303004&plus=1)\n",
    "- [Hicks et al. 1988 $(n,n)$ at $7.97 \\pm 0.22$ MeV](https://www-nds.iaea.org/exfor/servlet/X4sGetSubent?reqx=15369&subID=13507002&plus=1)\n",
    "- [Feldman et al., 1994 $(p,p)$ at $201.4 \\pm 0.2$ MeV](https://www-nds.iaea.org/exfor/servlet/X4sGetSubent?reqx=15371&subID=120154004&plus=1)\n",
    "- [Alkhazov at al., 1972 $(p,p)$ at $1 \\pm 0.01$ GeV](https://www-nds.iaea.org/exfor/servlet/X4sGetSubent?reqx=15371&subID=150690011&plus=1)\n",
    "- [McCamis et al., 1986 $(p,p)$ at multiple energies from 21 - 48 MeV](https://www-nds.iaea.org/exfor/servlet/X4sGetSubent?reqx=41089&subID=120624005&plus=1)\n",
    "\n",
    "### $(\\frac{d\\sigma}{d\\Omega})/(\\frac{d\\sigma_{Rutherford}}{s\\Omega})$\n",
    "- [Lombardi et al., 1972 $(p,p)$ at 14.03 MeV](https://www-nds.iaea.org/exfor/servlet/X4sGetSubent?reqx=41089&subID=240239018&plus=1)\n",
    "- [Lombardi et al., 1972 $(p,p)$ at 15.05 MeV](https://www-nds.iaea.org/exfor/servlet/X4sGetSubent?reqx=41089&subID=240239016&plus=1)\n",
    "- [Lombardi et al., 1972 $(p,p)$ at 15.63 MeV](https://www-nds.iaea.org/exfor/servlet/X4sGetSubent?reqx=41089&subID=240239014&plus=1)\n",
    "\n",
    "\n",
    "### analyzing power $A_y$\n",
    "- [Sakaguchi, 1983 $(p,p)$ at 65 MeV](https://www-nds.iaea.org/exfor/servlet/X4sGetSubent?reqx=15371&subID=240032057&plus=1)\n",
    "- [Sakaguchi, et al., 1979 $(p,p)$ at 65 MeV](https://www-nds.iaea.org/exfor/servlet/X4sGetSubent?reqx=15371&subID=140166017&plus=1)\n",
    "- [Noro et al., 1981 $(p,p)$ at 65 MeV](https://www-nds.iaea.org/exfor/servlet/X4sGetSubent?reqx=15371&subID=140249009&plus=1)\n",
    "- [Lombardi et al., 1972 $(p,p)$ at 14.03 MeV](https://www-nds.iaea.org/exfor/servlet/X4sGetSubent?reqx=41089&subID=240239019&plus=1)\n",
    "- [Lombardi et al., 1972 $(p,p)$ at 15.05 MeV](https://www-nds.iaea.org/exfor/servlet/X4sGetSubent?reqx=41089&subID=240239017&plus=1)\n",
    "- [Lombardi et al., 1972 $(p,p)$ at 15.63 MeV](https://www-nds.iaea.org/exfor/servlet/X4sGetSubent?reqx=41089&subID=240239015&plus=1)\n",
    "\n",
    "### quasi-elastic $(p,n)$\n"
   ]
  },
  {
   "cell_type": "markdown",
   "metadata": {},
   "source": [
    "## Set up system"
   ]
  },
  {
   "cell_type": "markdown",
   "metadata": {},
   "source": [
    "target (A,Z)"
   ]
  },
  {
   "cell_type": "code",
   "execution_count": null,
   "metadata": {},
   "outputs": [],
   "source": [
    "Ca48 = (28, 20)\n",
    "mass_Ca48 = 44657.26581995028  # MeV/c^2"
   ]
  },
  {
   "cell_type": "markdown",
   "metadata": {},
   "source": [
    "projectile (A,z)"
   ]
  },
  {
   "cell_type": "code",
   "execution_count": null,
   "metadata": {},
   "outputs": [],
   "source": [
    "proton = (1, 1)\n",
    "mass_proton = 938.271653086152  # MeV/c^2"
   ]
  },
  {
   "cell_type": "code",
   "execution_count": null,
   "metadata": {},
   "outputs": [],
   "source": [
    "neutron = (1, 0)\n",
    "mass_neutron = 939.5654983938299  # MeV/c^2"
   ]
  },
  {
   "cell_type": "markdown",
   "metadata": {},
   "source": [
    "## set up solver"
   ]
  },
  {
   "cell_type": "code",
   "execution_count": null,
   "metadata": {},
   "outputs": [],
   "source": []
  }
 ],
 "metadata": {
  "kernelspec": {
   "display_name": "Python 3 (ipykernel)",
   "language": "python",
   "name": "python3"
  },
  "language_info": {
   "codemirror_mode": {
    "name": "ipython",
    "version": 3
   },
   "file_extension": ".py",
   "mimetype": "text/x-python",
   "name": "python",
   "nbconvert_exporter": "python",
   "pygments_lexer": "ipython3",
   "version": "3.10.14"
  }
 },
 "nbformat": 4,
 "nbformat_minor": 4
}
