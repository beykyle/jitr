{
 "cells": [
  {
   "cell_type": "code",
   "execution_count": 1,
   "metadata": {},
   "outputs": [],
   "source": [
    "import numpy as np\n",
    "from jitr import reactions, rmatrix\n",
    "from jitr.reactions.potentials import woods_saxon_potential, coulomb_charged_sphere\n",
    "from jitr.utils import kinematics, delta"
   ]
  },
  {
   "cell_type": "markdown",
   "metadata": {},
   "source": [
    "define interaction"
   ]
  },
  {
   "cell_type": "code",
   "execution_count": 2,
   "metadata": {},
   "outputs": [],
   "source": [
    "def interaction_local(r, V0, W0, R0, a0, Zz):\n",
    "    nuclear = woods_saxon_potential(r, V0, W0, R0, a0)\n",
    "    coulomb = coulomb_charged_sphere(r, Zz, R0)\n",
    "    return nuclear + coulomb"
   ]
  },
  {
   "cell_type": "code",
   "execution_count": 3,
   "metadata": {},
   "outputs": [],
   "source": [
    "def interaction_nonlocal(r, rp, V0, W0, R0, a0, Zz):\n",
    "    return woods_saxon_potential(r, V0, W0, R0, a0) * np.exp(-((r - rp) ** 2))"
   ]
  },
  {
   "cell_type": "code",
   "execution_count": 4,
   "metadata": {},
   "outputs": [],
   "source": [
    "def interaction_2level(r, V0, W0, V1, W1, g, R0, a0, Zz):\n",
    "    nuclear0 = woods_saxon_potential(r, V0, W0, R0, a0)\n",
    "    nuclear1 = woods_saxon_potential(r, V1, W1, R0, a0)\n",
    "    coupling = woods_saxon_potential(r, g, 0, R0, a0)\n",
    "    coulomb = coulomb_charged_sphere(r, Zz, R0)\n",
    "    return np.array([[nuclear0 + coulomb, coupling], [coupling, nuclear1 + coulomb]])"
   ]
  },
  {
   "cell_type": "code",
   "execution_count": 5,
   "metadata": {},
   "outputs": [],
   "source": [
    "def interaction_2level_nonlocal(r, rp, V0, W0, V1, W1, g, R0, a0, Zz):\n",
    "    nuclear0 = woods_saxon_potential(r, V0, W0, R0, a0) * np.exp(-((r - rp) ** 2))\n",
    "    nuclear1 = woods_saxon_potential(r, V1, W1, R0, a0) * np.exp(-((r - rp) ** 2))\n",
    "    coupling = woods_saxon_potential(r, g, 0, R0, a0) * np.exp(-((r - rp) ** 2))\n",
    "    return np.array([[nuclear0 + coulomb, coupling], [coupling, nuclear1 + coulomb]])"
   ]
  },
  {
   "cell_type": "markdown",
   "metadata": {},
   "source": [
    "define system"
   ]
  },
  {
   "cell_type": "code",
   "execution_count": 6,
   "metadata": {},
   "outputs": [],
   "source": [
    "Elab = 35  # MeV\n",
    "Ca48 = (28, 20)\n",
    "proton = (1, 1)"
   ]
  },
  {
   "cell_type": "code",
   "execution_count": 7,
   "metadata": {},
   "outputs": [],
   "source": [
    "sys = reactions.ProjectileTargetSystem(\n",
    "    channel_radii=np.array([5 * np.pi]),\n",
    "    l=np.array([0]),\n",
    "    mass_target=kinematics.mass(*Ca48),\n",
    "    mass_projectile=kinematics.mass(*proton),\n",
    "    Ztarget=Ca48[1],\n",
    "    Zproj=proton[1],\n",
    ")\n",
    "Ecm, mu, k, eta = kinematics.classical_kinematics(\n",
    "    sys.mass_target,\n",
    "    sys.mass_projectile,\n",
    "    Elab,\n",
    "    sys.Ztarget * sys.Zproj,\n",
    ")\n",
    "channels, asymptotics = sys.build_channels(Ecm, mu, k, eta)"
   ]
  },
  {
   "cell_type": "markdown",
   "metadata": {},
   "source": [
    "set up solver"
   ]
  },
  {
   "cell_type": "code",
   "execution_count": 8,
   "metadata": {},
   "outputs": [],
   "source": [
    "solver = rmatrix.Solver(nbasis=40)"
   ]
  },
  {
   "cell_type": "markdown",
   "metadata": {},
   "source": [
    "solve for a set of parameters"
   ]
  },
  {
   "cell_type": "code",
   "execution_count": 9,
   "metadata": {},
   "outputs": [
    {
     "name": "stderr",
     "output_type": "stream",
     "text": [
      "/home/beyerk/Projects/jitr/src/jitr/rmatrix/rmatrix_solver.py:44: NumbaPerformanceWarning: \u001b[1m\u001b[1m\u001b[1m'@' is faster on contiguous arrays, called on (Array(complex128, 1, 'C', False, aligned=True), Array(complex128, 2, 'A', False, aligned=True))\u001b[0m\u001b[0m\u001b[0m\n",
      "  R, Ainv = rmatrix_with_inverse(A, b, nchannels, nbasis, a)\n"
     ]
    }
   ],
   "source": [
    "params = (42.0, 18.1, 4.8, 0.7, sys.Zproj * sys.Ztarget)\n",
    "R, S, uext_boundary = solver.solve(\n",
    "    channels, asymptotics, interaction_local, args_local=params\n",
    ")"
   ]
  },
  {
   "cell_type": "markdown",
   "metadata": {},
   "source": [
    "get phase shift in degrees"
   ]
  },
  {
   "cell_type": "code",
   "execution_count": 10,
   "metadata": {},
   "outputs": [
    {
     "name": "stdout",
     "output_type": "stream",
     "text": [
      "phase shift: -70.751 + i (-3.439) [degrees]\n"
     ]
    }
   ],
   "source": [
    "phase_shift, phase_attenuation = delta(S[0, 0])\n",
    "print(f\"phase shift: {phase_shift:1.3f} + i ({phase_attenuation:1.3f}) [degrees]\")"
   ]
  },
  {
   "cell_type": "code",
   "execution_count": 11,
   "metadata": {
    "scrolled": true
   },
   "outputs": [
    {
     "data": {
      "text/plain": [
       "array([[0.+0.j, 0.+0.j, 0.+0.j, ..., 0.+0.j, 0.+0.j, 0.+0.j],\n",
       "       [0.+0.j, 0.+0.j, 0.+0.j, ..., 0.+0.j, 0.+0.j, 0.+0.j],\n",
       "       [0.+0.j, 0.+0.j, 0.+0.j, ..., 0.+0.j, 0.+0.j, 0.+0.j],\n",
       "       ...,\n",
       "       [0.+0.j, 0.+0.j, 0.+0.j, ..., 0.+0.j, 0.+0.j, 0.+0.j],\n",
       "       [0.+0.j, 0.+0.j, 0.+0.j, ..., 0.+0.j, 0.+0.j, 0.+0.j],\n",
       "       [0.+0.j, 0.+0.j, 0.+0.j, ..., 0.+0.j, 0.+0.j, 0.+0.j]])"
      ]
     },
     "execution_count": 11,
     "metadata": {},
     "output_type": "execute_result"
    }
   ],
   "source": [
    "V = np.diag(solver.kernel.matrix_local(interaction_local, 5 * np.pi, params))\n",
    "V.reshape(1, 1, 40, 40).swapaxes(1, 2).reshape(40, 40) - V"
   ]
  }
 ],
 "metadata": {
  "kernelspec": {
   "display_name": "Python 3 (ipykernel)",
   "language": "python",
   "name": "python3"
  },
  "language_info": {
   "codemirror_mode": {
    "name": "ipython",
    "version": 3
   },
   "file_extension": ".py",
   "mimetype": "text/x-python",
   "name": "python",
   "nbconvert_exporter": "python",
   "pygments_lexer": "ipython3",
   "version": "3.11.8"
  }
 },
 "nbformat": 4,
 "nbformat_minor": 4
}
